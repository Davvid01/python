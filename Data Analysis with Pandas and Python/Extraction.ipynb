{
 "cells": [
  {
   "cell_type": "raw",
   "source": [],
   "metadata": {
    "collapsed": false
   },
   "id": "deba154074138b2c"
  },
  {
   "cell_type": "code",
   "execution_count": 74,
   "outputs": [
    {
     "name": "stderr",
     "output_type": "stream",
     "text": [
      "<>:2: SyntaxWarning: invalid escape sequence '\\D'\n",
      "<>:2: SyntaxWarning: invalid escape sequence '\\D'\n",
      "C:\\Users\\deber\\AppData\\Local\\Temp\\ipykernel_12064\\625729550.py:2: SyntaxWarning: invalid escape sequence '\\D'\n",
      "  bond=pd.read_csv(\"C:\\Dawid\\Szkola\\studia\\ostatni_rozdzial\\Github\\python\\Data Analysis with Pandas and Python\\pandas\\pandas\\Incomplete\\jamesbond.csv\", index_col=\"Film\").sort_index() #good for data efficiency\n"
     ]
    }
   ],
   "source": [
    "import pandas as pd\n",
    "bond=pd.read_csv(\"C:\\Dawid\\Szkola\\studia\\ostatni_rozdzial\\Github\\python\\Data Analysis with Pandas and Python\\pandas\\pandas\\Incomplete\\jamesbond.csv\", index_col=\"Film\").sort_index() #good for data efficiency"
   ],
   "metadata": {
    "collapsed": false,
    "ExecuteTime": {
     "end_time": "2025-04-18T11:25:07.193182900Z",
     "start_time": "2025-04-18T11:25:07.182382900Z"
    }
   },
   "id": "6d942448c24e4465"
  },
  {
   "cell_type": "code",
   "execution_count": 4,
   "outputs": [
    {
     "data": {
      "text/plain": "                    Film  Year         Actor       Director  Box Office  \\\n0                 Dr. No  1962  Sean Connery  Terence Young       448.8   \n1  From Russia with Love  1963  Sean Connery  Terence Young       543.8   \n2             Goldfinger  1964  Sean Connery   Guy Hamilton       820.4   \n3            Thunderball  1965  Sean Connery  Terence Young       848.1   \n4          Casino Royale  1967   David Niven     Ken Hughes       315.0   \n\n   Budget  Bond Actor Salary  \n0     7.0                0.6  \n1    12.6                1.6  \n2    18.6                3.2  \n3    41.9                4.7  \n4    85.0                NaN  ",
      "text/html": "<div>\n<style scoped>\n    .dataframe tbody tr th:only-of-type {\n        vertical-align: middle;\n    }\n\n    .dataframe tbody tr th {\n        vertical-align: top;\n    }\n\n    .dataframe thead th {\n        text-align: right;\n    }\n</style>\n<table border=\"1\" class=\"dataframe\">\n  <thead>\n    <tr style=\"text-align: right;\">\n      <th></th>\n      <th>Film</th>\n      <th>Year</th>\n      <th>Actor</th>\n      <th>Director</th>\n      <th>Box Office</th>\n      <th>Budget</th>\n      <th>Bond Actor Salary</th>\n    </tr>\n  </thead>\n  <tbody>\n    <tr>\n      <th>0</th>\n      <td>Dr. No</td>\n      <td>1962</td>\n      <td>Sean Connery</td>\n      <td>Terence Young</td>\n      <td>448.8</td>\n      <td>7.0</td>\n      <td>0.6</td>\n    </tr>\n    <tr>\n      <th>1</th>\n      <td>From Russia with Love</td>\n      <td>1963</td>\n      <td>Sean Connery</td>\n      <td>Terence Young</td>\n      <td>543.8</td>\n      <td>12.6</td>\n      <td>1.6</td>\n    </tr>\n    <tr>\n      <th>2</th>\n      <td>Goldfinger</td>\n      <td>1964</td>\n      <td>Sean Connery</td>\n      <td>Guy Hamilton</td>\n      <td>820.4</td>\n      <td>18.6</td>\n      <td>3.2</td>\n    </tr>\n    <tr>\n      <th>3</th>\n      <td>Thunderball</td>\n      <td>1965</td>\n      <td>Sean Connery</td>\n      <td>Terence Young</td>\n      <td>848.1</td>\n      <td>41.9</td>\n      <td>4.7</td>\n    </tr>\n    <tr>\n      <th>4</th>\n      <td>Casino Royale</td>\n      <td>1967</td>\n      <td>David Niven</td>\n      <td>Ken Hughes</td>\n      <td>315.0</td>\n      <td>85.0</td>\n      <td>NaN</td>\n    </tr>\n  </tbody>\n</table>\n</div>"
     },
     "execution_count": 4,
     "metadata": {},
     "output_type": "execute_result"
    }
   ],
   "source": [
    "bond.head()"
   ],
   "metadata": {
    "collapsed": false,
    "ExecuteTime": {
     "end_time": "2025-04-17T21:18:13.283061100Z",
     "start_time": "2025-04-17T21:18:13.263586300Z"
    }
   },
   "id": "cc7f23ce809ddf7a"
  },
  {
   "cell_type": "code",
   "execution_count": 6,
   "outputs": [
    {
     "data": {
      "text/plain": "                       Year         Actor       Director  Box Office  Budget  \\\nFilm                                                                           \nDr. No                 1962  Sean Connery  Terence Young       448.8     7.0   \nFrom Russia with Love  1963  Sean Connery  Terence Young       543.8    12.6   \nGoldfinger             1964  Sean Connery   Guy Hamilton       820.4    18.6   \nThunderball            1965  Sean Connery  Terence Young       848.1    41.9   \nCasino Royale          1967   David Niven     Ken Hughes       315.0    85.0   \n\n                       Bond Actor Salary  \nFilm                                      \nDr. No                               0.6  \nFrom Russia with Love                1.6  \nGoldfinger                           3.2  \nThunderball                          4.7  \nCasino Royale                        NaN  ",
      "text/html": "<div>\n<style scoped>\n    .dataframe tbody tr th:only-of-type {\n        vertical-align: middle;\n    }\n\n    .dataframe tbody tr th {\n        vertical-align: top;\n    }\n\n    .dataframe thead th {\n        text-align: right;\n    }\n</style>\n<table border=\"1\" class=\"dataframe\">\n  <thead>\n    <tr style=\"text-align: right;\">\n      <th></th>\n      <th>Year</th>\n      <th>Actor</th>\n      <th>Director</th>\n      <th>Box Office</th>\n      <th>Budget</th>\n      <th>Bond Actor Salary</th>\n    </tr>\n    <tr>\n      <th>Film</th>\n      <th></th>\n      <th></th>\n      <th></th>\n      <th></th>\n      <th></th>\n      <th></th>\n    </tr>\n  </thead>\n  <tbody>\n    <tr>\n      <th>Dr. No</th>\n      <td>1962</td>\n      <td>Sean Connery</td>\n      <td>Terence Young</td>\n      <td>448.8</td>\n      <td>7.0</td>\n      <td>0.6</td>\n    </tr>\n    <tr>\n      <th>From Russia with Love</th>\n      <td>1963</td>\n      <td>Sean Connery</td>\n      <td>Terence Young</td>\n      <td>543.8</td>\n      <td>12.6</td>\n      <td>1.6</td>\n    </tr>\n    <tr>\n      <th>Goldfinger</th>\n      <td>1964</td>\n      <td>Sean Connery</td>\n      <td>Guy Hamilton</td>\n      <td>820.4</td>\n      <td>18.6</td>\n      <td>3.2</td>\n    </tr>\n    <tr>\n      <th>Thunderball</th>\n      <td>1965</td>\n      <td>Sean Connery</td>\n      <td>Terence Young</td>\n      <td>848.1</td>\n      <td>41.9</td>\n      <td>4.7</td>\n    </tr>\n    <tr>\n      <th>Casino Royale</th>\n      <td>1967</td>\n      <td>David Niven</td>\n      <td>Ken Hughes</td>\n      <td>315.0</td>\n      <td>85.0</td>\n      <td>NaN</td>\n    </tr>\n  </tbody>\n</table>\n</div>"
     },
     "execution_count": 6,
     "metadata": {},
     "output_type": "execute_result"
    }
   ],
   "source": [
    "bond=bond.set_index(\"Film\") #we have to overwrite\n",
    "bond.head()"
   ],
   "metadata": {
    "collapsed": false,
    "ExecuteTime": {
     "end_time": "2025-04-17T21:24:12.248731300Z",
     "start_time": "2025-04-17T21:24:12.229275500Z"
    }
   },
   "id": "69325155b71ec83c"
  },
  {
   "cell_type": "code",
   "execution_count": 12,
   "outputs": [],
   "source": [
    "bond=bond.reset_index().set_index(\"Year\") #all operaions are nonmutational, they are not goona chagne the existing data"
   ],
   "metadata": {
    "collapsed": false,
    "ExecuteTime": {
     "end_time": "2025-04-17T21:28:02.169954600Z",
     "start_time": "2025-04-17T21:28:02.153990100Z"
    }
   },
   "id": "956ca53dc793fb7b"
  },
  {
   "cell_type": "code",
   "execution_count": 13,
   "outputs": [],
   "source": [
    "bond=bond.reset_index()"
   ],
   "metadata": {
    "collapsed": false,
    "ExecuteTime": {
     "end_time": "2025-04-17T21:29:22.662651Z",
     "start_time": "2025-04-17T21:29:22.650813400Z"
    }
   },
   "id": "d863dabb17235320"
  },
  {
   "cell_type": "code",
   "execution_count": 15,
   "outputs": [
    {
     "data": {
      "text/plain": "   Year                             Film           Actor       Director  \\\n0  1962                           Dr. No    Sean Connery  Terence Young   \n1  1963            From Russia with Love    Sean Connery  Terence Young   \n2  1964                       Goldfinger    Sean Connery   Guy Hamilton   \n3  1965                      Thunderball    Sean Connery  Terence Young   \n4  1967                    Casino Royale     David Niven     Ken Hughes   \n5  1967              You Only Live Twice    Sean Connery  Lewis Gilbert   \n6  1969  On Her Majesty's Secret Service  George Lazenby  Peter R. Hunt   \n7  1971             Diamonds Are Forever    Sean Connery   Guy Hamilton   \n8  1973                 Live and Let Die     Roger Moore   Guy Hamilton   \n9  1974      The Man with the Golden Gun     Roger Moore   Guy Hamilton   \n\n   Box Office  Budget  Bond Actor Salary  \n0       448.8     7.0                0.6  \n1       543.8    12.6                1.6  \n2       820.4    18.6                3.2  \n3       848.1    41.9                4.7  \n4       315.0    85.0                NaN  \n5       514.2    59.9                4.4  \n6       291.5    37.3                0.6  \n7       442.5    34.7                5.8  \n8       460.3    30.8                NaN  \n9       334.0    27.7                NaN  ",
      "text/html": "<div>\n<style scoped>\n    .dataframe tbody tr th:only-of-type {\n        vertical-align: middle;\n    }\n\n    .dataframe tbody tr th {\n        vertical-align: top;\n    }\n\n    .dataframe thead th {\n        text-align: right;\n    }\n</style>\n<table border=\"1\" class=\"dataframe\">\n  <thead>\n    <tr style=\"text-align: right;\">\n      <th></th>\n      <th>Year</th>\n      <th>Film</th>\n      <th>Actor</th>\n      <th>Director</th>\n      <th>Box Office</th>\n      <th>Budget</th>\n      <th>Bond Actor Salary</th>\n    </tr>\n  </thead>\n  <tbody>\n    <tr>\n      <th>0</th>\n      <td>1962</td>\n      <td>Dr. No</td>\n      <td>Sean Connery</td>\n      <td>Terence Young</td>\n      <td>448.8</td>\n      <td>7.0</td>\n      <td>0.6</td>\n    </tr>\n    <tr>\n      <th>1</th>\n      <td>1963</td>\n      <td>From Russia with Love</td>\n      <td>Sean Connery</td>\n      <td>Terence Young</td>\n      <td>543.8</td>\n      <td>12.6</td>\n      <td>1.6</td>\n    </tr>\n    <tr>\n      <th>2</th>\n      <td>1964</td>\n      <td>Goldfinger</td>\n      <td>Sean Connery</td>\n      <td>Guy Hamilton</td>\n      <td>820.4</td>\n      <td>18.6</td>\n      <td>3.2</td>\n    </tr>\n    <tr>\n      <th>3</th>\n      <td>1965</td>\n      <td>Thunderball</td>\n      <td>Sean Connery</td>\n      <td>Terence Young</td>\n      <td>848.1</td>\n      <td>41.9</td>\n      <td>4.7</td>\n    </tr>\n    <tr>\n      <th>4</th>\n      <td>1967</td>\n      <td>Casino Royale</td>\n      <td>David Niven</td>\n      <td>Ken Hughes</td>\n      <td>315.0</td>\n      <td>85.0</td>\n      <td>NaN</td>\n    </tr>\n    <tr>\n      <th>5</th>\n      <td>1967</td>\n      <td>You Only Live Twice</td>\n      <td>Sean Connery</td>\n      <td>Lewis Gilbert</td>\n      <td>514.2</td>\n      <td>59.9</td>\n      <td>4.4</td>\n    </tr>\n    <tr>\n      <th>6</th>\n      <td>1969</td>\n      <td>On Her Majesty's Secret Service</td>\n      <td>George Lazenby</td>\n      <td>Peter R. Hunt</td>\n      <td>291.5</td>\n      <td>37.3</td>\n      <td>0.6</td>\n    </tr>\n    <tr>\n      <th>7</th>\n      <td>1971</td>\n      <td>Diamonds Are Forever</td>\n      <td>Sean Connery</td>\n      <td>Guy Hamilton</td>\n      <td>442.5</td>\n      <td>34.7</td>\n      <td>5.8</td>\n    </tr>\n    <tr>\n      <th>8</th>\n      <td>1973</td>\n      <td>Live and Let Die</td>\n      <td>Roger Moore</td>\n      <td>Guy Hamilton</td>\n      <td>460.3</td>\n      <td>30.8</td>\n      <td>NaN</td>\n    </tr>\n    <tr>\n      <th>9</th>\n      <td>1974</td>\n      <td>The Man with the Golden Gun</td>\n      <td>Roger Moore</td>\n      <td>Guy Hamilton</td>\n      <td>334.0</td>\n      <td>27.7</td>\n      <td>NaN</td>\n    </tr>\n  </tbody>\n</table>\n</div>"
     },
     "execution_count": 15,
     "metadata": {},
     "output_type": "execute_result"
    }
   ],
   "source": [
    "bond.iloc[5] #technically its not method. 6th row\n",
    "bond.head(10)"
   ],
   "metadata": {
    "collapsed": false,
    "ExecuteTime": {
     "end_time": "2025-04-17T21:30:55.262674400Z",
     "start_time": "2025-04-17T21:30:55.231084100Z"
    }
   },
   "id": "b7e170fc4771c716"
  },
  {
   "cell_type": "code",
   "execution_count": 19,
   "outputs": [
    {
     "data": {
      "text/plain": "   Year                   Film         Actor       Director  Box Office  \\\n0  1962                 Dr. No  Sean Connery  Terence Young       448.8   \n1  1963  From Russia with Love  Sean Connery  Terence Young       543.8   \n2  1964             Goldfinger  Sean Connery   Guy Hamilton       820.4   \n3  1965            Thunderball  Sean Connery  Terence Young       848.1   \n4  1967          Casino Royale   David Niven     Ken Hughes       315.0   \n5  1967    You Only Live Twice  Sean Connery  Lewis Gilbert       514.2   \n\n   Budget  Bond Actor Salary  \n0     7.0                0.6  \n1    12.6                1.6  \n2    18.6                3.2  \n3    41.9                4.7  \n4    85.0                NaN  \n5    59.9                4.4  ",
      "text/html": "<div>\n<style scoped>\n    .dataframe tbody tr th:only-of-type {\n        vertical-align: middle;\n    }\n\n    .dataframe tbody tr th {\n        vertical-align: top;\n    }\n\n    .dataframe thead th {\n        text-align: right;\n    }\n</style>\n<table border=\"1\" class=\"dataframe\">\n  <thead>\n    <tr style=\"text-align: right;\">\n      <th></th>\n      <th>Year</th>\n      <th>Film</th>\n      <th>Actor</th>\n      <th>Director</th>\n      <th>Box Office</th>\n      <th>Budget</th>\n      <th>Bond Actor Salary</th>\n    </tr>\n  </thead>\n  <tbody>\n    <tr>\n      <th>0</th>\n      <td>1962</td>\n      <td>Dr. No</td>\n      <td>Sean Connery</td>\n      <td>Terence Young</td>\n      <td>448.8</td>\n      <td>7.0</td>\n      <td>0.6</td>\n    </tr>\n    <tr>\n      <th>1</th>\n      <td>1963</td>\n      <td>From Russia with Love</td>\n      <td>Sean Connery</td>\n      <td>Terence Young</td>\n      <td>543.8</td>\n      <td>12.6</td>\n      <td>1.6</td>\n    </tr>\n    <tr>\n      <th>2</th>\n      <td>1964</td>\n      <td>Goldfinger</td>\n      <td>Sean Connery</td>\n      <td>Guy Hamilton</td>\n      <td>820.4</td>\n      <td>18.6</td>\n      <td>3.2</td>\n    </tr>\n    <tr>\n      <th>3</th>\n      <td>1965</td>\n      <td>Thunderball</td>\n      <td>Sean Connery</td>\n      <td>Terence Young</td>\n      <td>848.1</td>\n      <td>41.9</td>\n      <td>4.7</td>\n    </tr>\n    <tr>\n      <th>4</th>\n      <td>1967</td>\n      <td>Casino Royale</td>\n      <td>David Niven</td>\n      <td>Ken Hughes</td>\n      <td>315.0</td>\n      <td>85.0</td>\n      <td>NaN</td>\n    </tr>\n    <tr>\n      <th>5</th>\n      <td>1967</td>\n      <td>You Only Live Twice</td>\n      <td>Sean Connery</td>\n      <td>Lewis Gilbert</td>\n      <td>514.2</td>\n      <td>59.9</td>\n      <td>4.4</td>\n    </tr>\n  </tbody>\n</table>\n</div>"
     },
     "execution_count": 19,
     "metadata": {},
     "output_type": "execute_result"
    }
   ],
   "source": [
    "bond.iloc[[15,20]] #15th and 20th row\n",
    "bond.iloc[4:8] #second value is exclusive from 4th to 7th row\n",
    "bond.iloc[0:6]\n",
    "bond.iloc[:6] #from beginnig to 5th row\n",
    "\n",
    "bond.iloc[20:] #from 20th to the end"
   ],
   "metadata": {
    "collapsed": false,
    "ExecuteTime": {
     "end_time": "2025-04-17T21:34:04.225911900Z",
     "start_time": "2025-04-17T21:34:04.211398700Z"
    }
   },
   "id": "4477d064b6f9029c"
  },
  {
   "cell_type": "code",
   "execution_count": 36,
   "outputs": [
    {
     "ename": "KeyError",
     "evalue": "'Casion Royale'",
     "output_type": "error",
     "traceback": [
      "\u001B[31m---------------------------------------------------------------------------\u001B[39m",
      "\u001B[31mKeyError\u001B[39m                                  Traceback (most recent call last)",
      "\u001B[36mFile \u001B[39m\u001B[32mC:\\Dawid\\Szkola\\studia\\ostatni_rozdzial\\Github\\python\\Data Analysis with Pandas and Python\\venv\\Lib\\site-packages\\pandas\\core\\indexes\\base.py:3805\u001B[39m, in \u001B[36mIndex.get_loc\u001B[39m\u001B[34m(self, key)\u001B[39m\n\u001B[32m   3804\u001B[39m \u001B[38;5;28;01mtry\u001B[39;00m:\n\u001B[32m-> \u001B[39m\u001B[32m3805\u001B[39m     \u001B[38;5;28;01mreturn\u001B[39;00m \u001B[38;5;28;43mself\u001B[39;49m\u001B[43m.\u001B[49m\u001B[43m_engine\u001B[49m\u001B[43m.\u001B[49m\u001B[43mget_loc\u001B[49m\u001B[43m(\u001B[49m\u001B[43mcasted_key\u001B[49m\u001B[43m)\u001B[49m\n\u001B[32m   3806\u001B[39m \u001B[38;5;28;01mexcept\u001B[39;00m \u001B[38;5;167;01mKeyError\u001B[39;00m \u001B[38;5;28;01mas\u001B[39;00m err:\n",
      "\u001B[36mFile \u001B[39m\u001B[32mindex.pyx:167\u001B[39m, in \u001B[36mpandas._libs.index.IndexEngine.get_loc\u001B[39m\u001B[34m()\u001B[39m\n",
      "\u001B[36mFile \u001B[39m\u001B[32mindex.pyx:191\u001B[39m, in \u001B[36mpandas._libs.index.IndexEngine.get_loc\u001B[39m\u001B[34m()\u001B[39m\n",
      "\u001B[36mFile \u001B[39m\u001B[32mindex.pyx:234\u001B[39m, in \u001B[36mpandas._libs.index.IndexEngine._get_loc_duplicates\u001B[39m\u001B[34m()\u001B[39m\n",
      "\u001B[36mFile \u001B[39m\u001B[32mindex.pyx:242\u001B[39m, in \u001B[36mpandas._libs.index.IndexEngine._maybe_get_bool_indexer\u001B[39m\u001B[34m()\u001B[39m\n",
      "\u001B[36mFile \u001B[39m\u001B[32mindex.pyx:134\u001B[39m, in \u001B[36mpandas._libs.index._unpack_bool_indexer\u001B[39m\u001B[34m()\u001B[39m\n",
      "\u001B[31mKeyError\u001B[39m: 'Casion Royale'",
      "\nThe above exception was the direct cause of the following exception:\n",
      "\u001B[31mKeyError\u001B[39m                                  Traceback (most recent call last)",
      "\u001B[36mCell\u001B[39m\u001B[36m \u001B[39m\u001B[32mIn[36]\u001B[39m\u001B[32m, line 12\u001B[39m\n\u001B[32m      9\u001B[39m bond.loc[\u001B[33m\"\u001B[39m\u001B[33mGoldenEye\u001B[39m\u001B[33m\"\u001B[39m:] \u001B[38;5;66;03m#untill the last row\u001B[39;00m\n\u001B[32m     10\u001B[39m bond.loc[:\u001B[33m\"\u001B[39m\u001B[33mSkyfall\u001B[39m\u001B[33m\"\u001B[39m]\n\u001B[32m---> \u001B[39m\u001B[32m12\u001B[39m \u001B[43mbond\u001B[49m\u001B[43m.\u001B[49m\u001B[43mloc\u001B[49m\u001B[43m[\u001B[49m\u001B[43m:\u001B[49m\u001B[33;43m\"\u001B[39;49m\u001B[33;43mCasion Royale\u001B[39;49m\u001B[33;43m\"\u001B[39;49m\u001B[43m]\u001B[49m\n",
      "\u001B[36mFile \u001B[39m\u001B[32mC:\\Dawid\\Szkola\\studia\\ostatni_rozdzial\\Github\\python\\Data Analysis with Pandas and Python\\venv\\Lib\\site-packages\\pandas\\core\\indexing.py:1191\u001B[39m, in \u001B[36m_LocationIndexer.__getitem__\u001B[39m\u001B[34m(self, key)\u001B[39m\n\u001B[32m   1189\u001B[39m maybe_callable = com.apply_if_callable(key, \u001B[38;5;28mself\u001B[39m.obj)\n\u001B[32m   1190\u001B[39m maybe_callable = \u001B[38;5;28mself\u001B[39m._check_deprecated_callable_usage(key, maybe_callable)\n\u001B[32m-> \u001B[39m\u001B[32m1191\u001B[39m \u001B[38;5;28;01mreturn\u001B[39;00m \u001B[38;5;28;43mself\u001B[39;49m\u001B[43m.\u001B[49m\u001B[43m_getitem_axis\u001B[49m\u001B[43m(\u001B[49m\u001B[43mmaybe_callable\u001B[49m\u001B[43m,\u001B[49m\u001B[43m \u001B[49m\u001B[43maxis\u001B[49m\u001B[43m=\u001B[49m\u001B[43maxis\u001B[49m\u001B[43m)\u001B[49m\n",
      "\u001B[36mFile \u001B[39m\u001B[32mC:\\Dawid\\Szkola\\studia\\ostatni_rozdzial\\Github\\python\\Data Analysis with Pandas and Python\\venv\\Lib\\site-packages\\pandas\\core\\indexing.py:1411\u001B[39m, in \u001B[36m_LocIndexer._getitem_axis\u001B[39m\u001B[34m(self, key, axis)\u001B[39m\n\u001B[32m   1409\u001B[39m \u001B[38;5;28;01mif\u001B[39;00m \u001B[38;5;28misinstance\u001B[39m(key, \u001B[38;5;28mslice\u001B[39m):\n\u001B[32m   1410\u001B[39m     \u001B[38;5;28mself\u001B[39m._validate_key(key, axis)\n\u001B[32m-> \u001B[39m\u001B[32m1411\u001B[39m     \u001B[38;5;28;01mreturn\u001B[39;00m \u001B[38;5;28;43mself\u001B[39;49m\u001B[43m.\u001B[49m\u001B[43m_get_slice_axis\u001B[49m\u001B[43m(\u001B[49m\u001B[43mkey\u001B[49m\u001B[43m,\u001B[49m\u001B[43m \u001B[49m\u001B[43maxis\u001B[49m\u001B[43m=\u001B[49m\u001B[43maxis\u001B[49m\u001B[43m)\u001B[49m\n\u001B[32m   1412\u001B[39m \u001B[38;5;28;01melif\u001B[39;00m com.is_bool_indexer(key):\n\u001B[32m   1413\u001B[39m     \u001B[38;5;28;01mreturn\u001B[39;00m \u001B[38;5;28mself\u001B[39m._getbool_axis(key, axis=axis)\n",
      "\u001B[36mFile \u001B[39m\u001B[32mC:\\Dawid\\Szkola\\studia\\ostatni_rozdzial\\Github\\python\\Data Analysis with Pandas and Python\\venv\\Lib\\site-packages\\pandas\\core\\indexing.py:1443\u001B[39m, in \u001B[36m_LocIndexer._get_slice_axis\u001B[39m\u001B[34m(self, slice_obj, axis)\u001B[39m\n\u001B[32m   1440\u001B[39m     \u001B[38;5;28;01mreturn\u001B[39;00m obj.copy(deep=\u001B[38;5;28;01mFalse\u001B[39;00m)\n\u001B[32m   1442\u001B[39m labels = obj._get_axis(axis)\n\u001B[32m-> \u001B[39m\u001B[32m1443\u001B[39m indexer = \u001B[43mlabels\u001B[49m\u001B[43m.\u001B[49m\u001B[43mslice_indexer\u001B[49m\u001B[43m(\u001B[49m\u001B[43mslice_obj\u001B[49m\u001B[43m.\u001B[49m\u001B[43mstart\u001B[49m\u001B[43m,\u001B[49m\u001B[43m \u001B[49m\u001B[43mslice_obj\u001B[49m\u001B[43m.\u001B[49m\u001B[43mstop\u001B[49m\u001B[43m,\u001B[49m\u001B[43m \u001B[49m\u001B[43mslice_obj\u001B[49m\u001B[43m.\u001B[49m\u001B[43mstep\u001B[49m\u001B[43m)\u001B[49m\n\u001B[32m   1445\u001B[39m \u001B[38;5;28;01mif\u001B[39;00m \u001B[38;5;28misinstance\u001B[39m(indexer, \u001B[38;5;28mslice\u001B[39m):\n\u001B[32m   1446\u001B[39m     \u001B[38;5;28;01mreturn\u001B[39;00m \u001B[38;5;28mself\u001B[39m.obj._slice(indexer, axis=axis)\n",
      "\u001B[36mFile \u001B[39m\u001B[32mC:\\Dawid\\Szkola\\studia\\ostatni_rozdzial\\Github\\python\\Data Analysis with Pandas and Python\\venv\\Lib\\site-packages\\pandas\\core\\indexes\\base.py:6662\u001B[39m, in \u001B[36mIndex.slice_indexer\u001B[39m\u001B[34m(self, start, end, step)\u001B[39m\n\u001B[32m   6618\u001B[39m \u001B[38;5;28;01mdef\u001B[39;00m\u001B[38;5;250m \u001B[39m\u001B[34mslice_indexer\u001B[39m(\n\u001B[32m   6619\u001B[39m     \u001B[38;5;28mself\u001B[39m,\n\u001B[32m   6620\u001B[39m     start: Hashable | \u001B[38;5;28;01mNone\u001B[39;00m = \u001B[38;5;28;01mNone\u001B[39;00m,\n\u001B[32m   6621\u001B[39m     end: Hashable | \u001B[38;5;28;01mNone\u001B[39;00m = \u001B[38;5;28;01mNone\u001B[39;00m,\n\u001B[32m   6622\u001B[39m     step: \u001B[38;5;28mint\u001B[39m | \u001B[38;5;28;01mNone\u001B[39;00m = \u001B[38;5;28;01mNone\u001B[39;00m,\n\u001B[32m   6623\u001B[39m ) -> \u001B[38;5;28mslice\u001B[39m:\n\u001B[32m   6624\u001B[39m \u001B[38;5;250m    \u001B[39m\u001B[33;03m\"\"\"\u001B[39;00m\n\u001B[32m   6625\u001B[39m \u001B[33;03m    Compute the slice indexer for input labels and step.\u001B[39;00m\n\u001B[32m   6626\u001B[39m \n\u001B[32m   (...)\u001B[39m\u001B[32m   6660\u001B[39m \u001B[33;03m    slice(1, 3, None)\u001B[39;00m\n\u001B[32m   6661\u001B[39m \u001B[33;03m    \"\"\"\u001B[39;00m\n\u001B[32m-> \u001B[39m\u001B[32m6662\u001B[39m     start_slice, end_slice = \u001B[38;5;28;43mself\u001B[39;49m\u001B[43m.\u001B[49m\u001B[43mslice_locs\u001B[49m\u001B[43m(\u001B[49m\u001B[43mstart\u001B[49m\u001B[43m,\u001B[49m\u001B[43m \u001B[49m\u001B[43mend\u001B[49m\u001B[43m,\u001B[49m\u001B[43m \u001B[49m\u001B[43mstep\u001B[49m\u001B[43m=\u001B[49m\u001B[43mstep\u001B[49m\u001B[43m)\u001B[49m\n\u001B[32m   6664\u001B[39m     \u001B[38;5;66;03m# return a slice\u001B[39;00m\n\u001B[32m   6665\u001B[39m     \u001B[38;5;28;01mif\u001B[39;00m \u001B[38;5;129;01mnot\u001B[39;00m is_scalar(start_slice):\n",
      "\u001B[36mFile \u001B[39m\u001B[32mC:\\Dawid\\Szkola\\studia\\ostatni_rozdzial\\Github\\python\\Data Analysis with Pandas and Python\\venv\\Lib\\site-packages\\pandas\\core\\indexes\\base.py:6885\u001B[39m, in \u001B[36mIndex.slice_locs\u001B[39m\u001B[34m(self, start, end, step)\u001B[39m\n\u001B[32m   6883\u001B[39m end_slice = \u001B[38;5;28;01mNone\u001B[39;00m\n\u001B[32m   6884\u001B[39m \u001B[38;5;28;01mif\u001B[39;00m end \u001B[38;5;129;01mis\u001B[39;00m \u001B[38;5;129;01mnot\u001B[39;00m \u001B[38;5;28;01mNone\u001B[39;00m:\n\u001B[32m-> \u001B[39m\u001B[32m6885\u001B[39m     end_slice = \u001B[38;5;28;43mself\u001B[39;49m\u001B[43m.\u001B[49m\u001B[43mget_slice_bound\u001B[49m\u001B[43m(\u001B[49m\u001B[43mend\u001B[49m\u001B[43m,\u001B[49m\u001B[43m \u001B[49m\u001B[33;43m\"\u001B[39;49m\u001B[33;43mright\u001B[39;49m\u001B[33;43m\"\u001B[39;49m\u001B[43m)\u001B[49m\n\u001B[32m   6886\u001B[39m \u001B[38;5;28;01mif\u001B[39;00m end_slice \u001B[38;5;129;01mis\u001B[39;00m \u001B[38;5;28;01mNone\u001B[39;00m:\n\u001B[32m   6887\u001B[39m     end_slice = \u001B[38;5;28mlen\u001B[39m(\u001B[38;5;28mself\u001B[39m)\n",
      "\u001B[36mFile \u001B[39m\u001B[32mC:\\Dawid\\Szkola\\studia\\ostatni_rozdzial\\Github\\python\\Data Analysis with Pandas and Python\\venv\\Lib\\site-packages\\pandas\\core\\indexes\\base.py:6804\u001B[39m, in \u001B[36mIndex.get_slice_bound\u001B[39m\u001B[34m(self, label, side)\u001B[39m\n\u001B[32m   6801\u001B[39m         \u001B[38;5;28;01mreturn\u001B[39;00m \u001B[38;5;28mself\u001B[39m._searchsorted_monotonic(label, side)\n\u001B[32m   6802\u001B[39m     \u001B[38;5;28;01mexcept\u001B[39;00m \u001B[38;5;167;01mValueError\u001B[39;00m:\n\u001B[32m   6803\u001B[39m         \u001B[38;5;66;03m# raise the original KeyError\u001B[39;00m\n\u001B[32m-> \u001B[39m\u001B[32m6804\u001B[39m         \u001B[38;5;28;01mraise\u001B[39;00m err\n\u001B[32m   6806\u001B[39m \u001B[38;5;28;01mif\u001B[39;00m \u001B[38;5;28misinstance\u001B[39m(slc, np.ndarray):\n\u001B[32m   6807\u001B[39m     \u001B[38;5;66;03m# get_loc may return a boolean array, which\u001B[39;00m\n\u001B[32m   6808\u001B[39m     \u001B[38;5;66;03m# is OK as long as they are representable by a slice.\u001B[39;00m\n\u001B[32m   6809\u001B[39m     \u001B[38;5;28;01massert\u001B[39;00m is_bool_dtype(slc.dtype)\n",
      "\u001B[36mFile \u001B[39m\u001B[32mC:\\Dawid\\Szkola\\studia\\ostatni_rozdzial\\Github\\python\\Data Analysis with Pandas and Python\\venv\\Lib\\site-packages\\pandas\\core\\indexes\\base.py:6798\u001B[39m, in \u001B[36mIndex.get_slice_bound\u001B[39m\u001B[34m(self, label, side)\u001B[39m\n\u001B[32m   6796\u001B[39m \u001B[38;5;66;03m# we need to look up the label\u001B[39;00m\n\u001B[32m   6797\u001B[39m \u001B[38;5;28;01mtry\u001B[39;00m:\n\u001B[32m-> \u001B[39m\u001B[32m6798\u001B[39m     slc = \u001B[38;5;28;43mself\u001B[39;49m\u001B[43m.\u001B[49m\u001B[43mget_loc\u001B[49m\u001B[43m(\u001B[49m\u001B[43mlabel\u001B[49m\u001B[43m)\u001B[49m\n\u001B[32m   6799\u001B[39m \u001B[38;5;28;01mexcept\u001B[39;00m \u001B[38;5;167;01mKeyError\u001B[39;00m \u001B[38;5;28;01mas\u001B[39;00m err:\n\u001B[32m   6800\u001B[39m     \u001B[38;5;28;01mtry\u001B[39;00m:\n",
      "\u001B[36mFile \u001B[39m\u001B[32mC:\\Dawid\\Szkola\\studia\\ostatni_rozdzial\\Github\\python\\Data Analysis with Pandas and Python\\venv\\Lib\\site-packages\\pandas\\core\\indexes\\base.py:3812\u001B[39m, in \u001B[36mIndex.get_loc\u001B[39m\u001B[34m(self, key)\u001B[39m\n\u001B[32m   3807\u001B[39m     \u001B[38;5;28;01mif\u001B[39;00m \u001B[38;5;28misinstance\u001B[39m(casted_key, \u001B[38;5;28mslice\u001B[39m) \u001B[38;5;129;01mor\u001B[39;00m (\n\u001B[32m   3808\u001B[39m         \u001B[38;5;28misinstance\u001B[39m(casted_key, abc.Iterable)\n\u001B[32m   3809\u001B[39m         \u001B[38;5;129;01mand\u001B[39;00m \u001B[38;5;28many\u001B[39m(\u001B[38;5;28misinstance\u001B[39m(x, \u001B[38;5;28mslice\u001B[39m) \u001B[38;5;28;01mfor\u001B[39;00m x \u001B[38;5;129;01min\u001B[39;00m casted_key)\n\u001B[32m   3810\u001B[39m     ):\n\u001B[32m   3811\u001B[39m         \u001B[38;5;28;01mraise\u001B[39;00m InvalidIndexError(key)\n\u001B[32m-> \u001B[39m\u001B[32m3812\u001B[39m     \u001B[38;5;28;01mraise\u001B[39;00m \u001B[38;5;167;01mKeyError\u001B[39;00m(key) \u001B[38;5;28;01mfrom\u001B[39;00m\u001B[38;5;250m \u001B[39m\u001B[34;01merr\u001B[39;00m\n\u001B[32m   3813\u001B[39m \u001B[38;5;28;01mexcept\u001B[39;00m \u001B[38;5;167;01mTypeError\u001B[39;00m:\n\u001B[32m   3814\u001B[39m     \u001B[38;5;66;03m# If we have a listlike key, _check_indexing_error will raise\u001B[39;00m\n\u001B[32m   3815\u001B[39m     \u001B[38;5;66;03m#  InvalidIndexError. Otherwise we fall through and re-raise\u001B[39;00m\n\u001B[32m   3816\u001B[39m     \u001B[38;5;66;03m#  the TypeError.\u001B[39;00m\n\u001B[32m   3817\u001B[39m     \u001B[38;5;28mself\u001B[39m._check_indexing_error(key)\n",
      "\u001B[31mKeyError\u001B[39m: 'Casion Royale'"
     ]
    }
   ],
   "source": [
    "#bond=bond.set_index(\"Film\")\n",
    "bond.loc[\"Goldfinger\"] # I must have set Film as index\n",
    "bond.loc[\"Casino Royale\"] # 2 rows\n",
    "#bond.loc[\"Sacred Bond\"] # does not exist so Key error\n",
    "\n",
    "bond.loc[[\"Octopussy\",\"Moonraker\"]]\n",
    "bond.loc[[\"Moonraker\",\"Octopussy\"]] #order is importnatn\n",
    "bond.loc[\"Diamonds Are Forever\":\"Moonraker\"] #THE SECOND VALUE IS INCLUSIVE\n",
    "bond.loc[\"GoldenEye\":] #untill the last row\n",
    "bond.loc[:\"Skyfall\"]\n",
    "\n",
    "bond.loc[:\"Casion Royale\"] #we have 2 values so we have to precise which one"
   ],
   "metadata": {
    "collapsed": false,
    "ExecuteTime": {
     "end_time": "2025-04-17T21:46:15.426949500Z",
     "start_time": "2025-04-17T21:46:15.283420200Z"
    }
   },
   "id": "1a6a4f8b12cbf7e8"
  },
  {
   "cell_type": "code",
   "execution_count": 26,
   "outputs": [],
   "source": [
    "\"\"\"PICKING ROWS AND COLUMNS\"\"\""
   ],
   "metadata": {
    "collapsed": false,
    "ExecuteTime": {
     "end_time": "2025-04-17T21:40:00.363643900Z",
     "start_time": "2025-04-17T21:40:00.339286800Z"
    }
   },
   "id": "905f744deafd0983"
  },
  {
   "cell_type": "code",
   "execution_count": 37,
   "outputs": [
    {
     "data": {
      "text/plain": "'Guy Hamilton'"
     },
     "execution_count": 37,
     "metadata": {},
     "output_type": "execute_result"
    }
   ],
   "source": [
    "bond.loc[\"Diamonds Are Forever\", \"Director\"] #intersection of these rays"
   ],
   "metadata": {
    "collapsed": false,
    "ExecuteTime": {
     "end_time": "2025-04-17T21:52:20.810895900Z",
     "start_time": "2025-04-17T21:52:20.802215500Z"
    }
   },
   "id": "c6ae5e31c20620b7"
  },
  {
   "cell_type": "code",
   "execution_count": 39,
   "outputs": [
    {
     "data": {
      "text/plain": "                  Director  Box Office  Budget\nFilm                                          \nOctopussy        John Glen       373.8    53.9\nGoldenEye  Martin Campbell       518.5    76.9",
      "text/html": "<div>\n<style scoped>\n    .dataframe tbody tr th:only-of-type {\n        vertical-align: middle;\n    }\n\n    .dataframe tbody tr th {\n        vertical-align: top;\n    }\n\n    .dataframe thead th {\n        text-align: right;\n    }\n</style>\n<table border=\"1\" class=\"dataframe\">\n  <thead>\n    <tr style=\"text-align: right;\">\n      <th></th>\n      <th>Director</th>\n      <th>Box Office</th>\n      <th>Budget</th>\n    </tr>\n    <tr>\n      <th>Film</th>\n      <th></th>\n      <th></th>\n      <th></th>\n    </tr>\n  </thead>\n  <tbody>\n    <tr>\n      <th>Octopussy</th>\n      <td>John Glen</td>\n      <td>373.8</td>\n      <td>53.9</td>\n    </tr>\n    <tr>\n      <th>GoldenEye</th>\n      <td>Martin Campbell</td>\n      <td>518.5</td>\n      <td>76.9</td>\n    </tr>\n  </tbody>\n</table>\n</div>"
     },
     "execution_count": 39,
     "metadata": {},
     "output_type": "execute_result"
    }
   ],
   "source": [
    "bond.loc[[\"Octopussy\", \"GoldenEye\"],\"Director\":\"Budget\"]"
   ],
   "metadata": {
    "collapsed": false,
    "ExecuteTime": {
     "end_time": "2025-04-17T21:54:43.961495100Z",
     "start_time": "2025-04-17T21:54:43.937767400Z"
    }
   },
   "id": "70195d66e8bb9e46"
  },
  {
   "cell_type": "code",
   "execution_count": 46,
   "outputs": [
    {
     "data": {
      "text/plain": "                                 Director  Box Office  Budget\nFilm                                                         \nGoldenEye                 Martin Campbell       518.5    76.9\nGoldfinger                   Guy Hamilton       820.4    18.6\nLicence to Kill                 John Glen       250.9    56.7\nLive and Let Die             Guy Hamilton       460.3    30.8\nMoonraker                   Lewis Gilbert       535.0    91.5\nNever Say Never Again      Irvin Kershner       380.0    86.0\nNo Time to Die         Cary Joji Fukunaga       774.2   301.0\nOctopussy                       John Glen       373.8    53.9",
      "text/html": "<div>\n<style scoped>\n    .dataframe tbody tr th:only-of-type {\n        vertical-align: middle;\n    }\n\n    .dataframe tbody tr th {\n        vertical-align: top;\n    }\n\n    .dataframe thead th {\n        text-align: right;\n    }\n</style>\n<table border=\"1\" class=\"dataframe\">\n  <thead>\n    <tr style=\"text-align: right;\">\n      <th></th>\n      <th>Director</th>\n      <th>Box Office</th>\n      <th>Budget</th>\n    </tr>\n    <tr>\n      <th>Film</th>\n      <th></th>\n      <th></th>\n      <th></th>\n    </tr>\n  </thead>\n  <tbody>\n    <tr>\n      <th>GoldenEye</th>\n      <td>Martin Campbell</td>\n      <td>518.5</td>\n      <td>76.9</td>\n    </tr>\n    <tr>\n      <th>Goldfinger</th>\n      <td>Guy Hamilton</td>\n      <td>820.4</td>\n      <td>18.6</td>\n    </tr>\n    <tr>\n      <th>Licence to Kill</th>\n      <td>John Glen</td>\n      <td>250.9</td>\n      <td>56.7</td>\n    </tr>\n    <tr>\n      <th>Live and Let Die</th>\n      <td>Guy Hamilton</td>\n      <td>460.3</td>\n      <td>30.8</td>\n    </tr>\n    <tr>\n      <th>Moonraker</th>\n      <td>Lewis Gilbert</td>\n      <td>535.0</td>\n      <td>91.5</td>\n    </tr>\n    <tr>\n      <th>Never Say Never Again</th>\n      <td>Irvin Kershner</td>\n      <td>380.0</td>\n      <td>86.0</td>\n    </tr>\n    <tr>\n      <th>No Time to Die</th>\n      <td>Cary Joji Fukunaga</td>\n      <td>774.2</td>\n      <td>301.0</td>\n    </tr>\n    <tr>\n      <th>Octopussy</th>\n      <td>John Glen</td>\n      <td>373.8</td>\n      <td>53.9</td>\n    </tr>\n  </tbody>\n</table>\n</div>"
     },
     "execution_count": 46,
     "metadata": {},
     "output_type": "execute_result"
    }
   ],
   "source": [
    "bond.loc[\"GoldenEye\":\"Octopussy\",\"Director\":\"Budget\"] #i had to srot_index DF in order to get proper sequence alphabetical"
   ],
   "metadata": {
    "collapsed": false,
    "ExecuteTime": {
     "end_time": "2025-04-17T21:56:25.933011400Z",
     "start_time": "2025-04-17T21:56:25.916474500Z"
    }
   },
   "id": "97340e1a938905d0"
  },
  {
   "cell_type": "code",
   "execution_count": 47,
   "outputs": [
    {
     "data": {
      "text/plain": "                                Actor            Director  Budget\nFilm                                                             \nGoldenEye              Pierce Brosnan     Martin Campbell    76.9\nGoldfinger               Sean Connery        Guy Hamilton    18.6\nLicence to Kill        Timothy Dalton           John Glen    56.7\nLive and Let Die          Roger Moore        Guy Hamilton    30.8\nMoonraker                 Roger Moore       Lewis Gilbert    91.5\nNever Say Never Again    Sean Connery      Irvin Kershner    86.0\nNo Time to Die           Daniel Craig  Cary Joji Fukunaga   301.0\nOctopussy                 Roger Moore           John Glen    53.9",
      "text/html": "<div>\n<style scoped>\n    .dataframe tbody tr th:only-of-type {\n        vertical-align: middle;\n    }\n\n    .dataframe tbody tr th {\n        vertical-align: top;\n    }\n\n    .dataframe thead th {\n        text-align: right;\n    }\n</style>\n<table border=\"1\" class=\"dataframe\">\n  <thead>\n    <tr style=\"text-align: right;\">\n      <th></th>\n      <th>Actor</th>\n      <th>Director</th>\n      <th>Budget</th>\n    </tr>\n    <tr>\n      <th>Film</th>\n      <th></th>\n      <th></th>\n      <th></th>\n    </tr>\n  </thead>\n  <tbody>\n    <tr>\n      <th>GoldenEye</th>\n      <td>Pierce Brosnan</td>\n      <td>Martin Campbell</td>\n      <td>76.9</td>\n    </tr>\n    <tr>\n      <th>Goldfinger</th>\n      <td>Sean Connery</td>\n      <td>Guy Hamilton</td>\n      <td>18.6</td>\n    </tr>\n    <tr>\n      <th>Licence to Kill</th>\n      <td>Timothy Dalton</td>\n      <td>John Glen</td>\n      <td>56.7</td>\n    </tr>\n    <tr>\n      <th>Live and Let Die</th>\n      <td>Roger Moore</td>\n      <td>Guy Hamilton</td>\n      <td>30.8</td>\n    </tr>\n    <tr>\n      <th>Moonraker</th>\n      <td>Roger Moore</td>\n      <td>Lewis Gilbert</td>\n      <td>91.5</td>\n    </tr>\n    <tr>\n      <th>Never Say Never Again</th>\n      <td>Sean Connery</td>\n      <td>Irvin Kershner</td>\n      <td>86.0</td>\n    </tr>\n    <tr>\n      <th>No Time to Die</th>\n      <td>Daniel Craig</td>\n      <td>Cary Joji Fukunaga</td>\n      <td>301.0</td>\n    </tr>\n    <tr>\n      <th>Octopussy</th>\n      <td>Roger Moore</td>\n      <td>John Glen</td>\n      <td>53.9</td>\n    </tr>\n  </tbody>\n</table>\n</div>"
     },
     "execution_count": 47,
     "metadata": {},
     "output_type": "execute_result"
    }
   ],
   "source": [
    "bond.loc[\"GoldenEye\":\"Octopussy\",[\"Actor\",\"Director\",\"Budget\"]] #i had to sort_index DF in order to get proper sequence alphabetical\n"
   ],
   "metadata": {
    "collapsed": false,
    "ExecuteTime": {
     "end_time": "2025-04-17T21:58:35.159012900Z",
     "start_time": "2025-04-17T21:58:35.131504600Z"
    }
   },
   "id": "7831e2adf054700c"
  },
  {
   "cell_type": "code",
   "execution_count": 48,
   "outputs": [
    {
     "data": {
      "text/plain": "                                 Year           Actor            Director  \\\nFilm                                                                        \nA View to a Kill                 1985     Roger Moore           John Glen   \nCasino Royale                    2006    Daniel Craig     Martin Campbell   \nCasino Royale                    1967     David Niven          Ken Hughes   \nDiamonds Are Forever             1971    Sean Connery        Guy Hamilton   \nDie Another Day                  2002  Pierce Brosnan        Lee Tamahori   \nDr. No                           1962    Sean Connery       Terence Young   \nFor Your Eyes Only               1981     Roger Moore           John Glen   \nFrom Russia with Love            1963    Sean Connery       Terence Young   \nGoldenEye                        1995  Pierce Brosnan     Martin Campbell   \nGoldfinger                       1964    Sean Connery        Guy Hamilton   \nLicence to Kill                  1989  Timothy Dalton           John Glen   \nLive and Let Die                 1973     Roger Moore        Guy Hamilton   \nMoonraker                        1979     Roger Moore       Lewis Gilbert   \nNever Say Never Again            1983    Sean Connery      Irvin Kershner   \nNo Time to Die                   2021    Daniel Craig  Cary Joji Fukunaga   \nOctopussy                        1983     Roger Moore           John Glen   \nOn Her Majesty's Secret Service  1969  George Lazenby       Peter R. Hunt   \nQuantum of Solace                2008    Daniel Craig        Marc Forster   \nSkyfall                          2012    Daniel Craig          Sam Mendes   \nSpectre                          2015    Daniel Craig          Sam Mendes   \nThe Living Daylights             1987  Timothy Dalton           John Glen   \nThe Man with the Golden Gun      1974     Roger Moore        Guy Hamilton   \nThe Spy Who Loved Me             1977     Roger Moore       Lewis Gilbert   \nThe World Is Not Enough          1999  Pierce Brosnan       Michael Apted   \nThunderball                      1965    Sean Connery       Terence Young   \nTomorrow Never Dies              1997  Pierce Brosnan  Roger Spottiswoode   \nYou Only Live Twice              1967    Sean Connery       Lewis Gilbert   \n\n                                 Box Office  Budget  Bond Actor Salary  \nFilm                                                                    \nA View to a Kill                      275.2    54.5                9.1  \nCasino Royale                         581.5   145.3                3.3  \nCasino Royale                         315.0    85.0                NaN  \nDiamonds Are Forever                  442.5    34.7                5.8  \nDie Another Day                       465.4   154.2               17.9  \nDr. No                                448.8     7.0                0.6  \nFor Your Eyes Only                    449.4    60.2                NaN  \nFrom Russia with Love                 543.8    12.6                1.6  \nGoldenEye                             518.5    76.9                5.1  \nGoldfinger                            820.4    18.6                3.2  \nLicence to Kill                       250.9    56.7                7.9  \nLive and Let Die                      460.3    30.8                NaN  \nMoonraker                             535.0    91.5                NaN  \nNever Say Never Again                 380.0    86.0                NaN  \nNo Time to Die                        774.2   301.0               25.0  \nOctopussy                             373.8    53.9                7.8  \nOn Her Majesty's Secret Service       291.5    37.3                0.6  \nQuantum of Solace                     514.2   181.4                8.1  \nSkyfall                               943.5   170.2               14.5  \nSpectre                               726.7   206.3               30.0  \nThe Living Daylights                  313.5    68.8                5.2  \nThe Man with the Golden Gun           334.0    27.7                NaN  \nThe Spy Who Loved Me                  533.0    45.1                NaN  \nThe World Is Not Enough               439.5   158.3               13.5  \nThunderball                           848.1    41.9                4.7  \nTomorrow Never Dies                   463.2   133.9               10.0  \nYou Only Live Twice                   514.2    59.9                4.4  ",
      "text/html": "<div>\n<style scoped>\n    .dataframe tbody tr th:only-of-type {\n        vertical-align: middle;\n    }\n\n    .dataframe tbody tr th {\n        vertical-align: top;\n    }\n\n    .dataframe thead th {\n        text-align: right;\n    }\n</style>\n<table border=\"1\" class=\"dataframe\">\n  <thead>\n    <tr style=\"text-align: right;\">\n      <th></th>\n      <th>Year</th>\n      <th>Actor</th>\n      <th>Director</th>\n      <th>Box Office</th>\n      <th>Budget</th>\n      <th>Bond Actor Salary</th>\n    </tr>\n    <tr>\n      <th>Film</th>\n      <th></th>\n      <th></th>\n      <th></th>\n      <th></th>\n      <th></th>\n      <th></th>\n    </tr>\n  </thead>\n  <tbody>\n    <tr>\n      <th>A View to a Kill</th>\n      <td>1985</td>\n      <td>Roger Moore</td>\n      <td>John Glen</td>\n      <td>275.2</td>\n      <td>54.5</td>\n      <td>9.1</td>\n    </tr>\n    <tr>\n      <th>Casino Royale</th>\n      <td>2006</td>\n      <td>Daniel Craig</td>\n      <td>Martin Campbell</td>\n      <td>581.5</td>\n      <td>145.3</td>\n      <td>3.3</td>\n    </tr>\n    <tr>\n      <th>Casino Royale</th>\n      <td>1967</td>\n      <td>David Niven</td>\n      <td>Ken Hughes</td>\n      <td>315.0</td>\n      <td>85.0</td>\n      <td>NaN</td>\n    </tr>\n    <tr>\n      <th>Diamonds Are Forever</th>\n      <td>1971</td>\n      <td>Sean Connery</td>\n      <td>Guy Hamilton</td>\n      <td>442.5</td>\n      <td>34.7</td>\n      <td>5.8</td>\n    </tr>\n    <tr>\n      <th>Die Another Day</th>\n      <td>2002</td>\n      <td>Pierce Brosnan</td>\n      <td>Lee Tamahori</td>\n      <td>465.4</td>\n      <td>154.2</td>\n      <td>17.9</td>\n    </tr>\n    <tr>\n      <th>Dr. No</th>\n      <td>1962</td>\n      <td>Sean Connery</td>\n      <td>Terence Young</td>\n      <td>448.8</td>\n      <td>7.0</td>\n      <td>0.6</td>\n    </tr>\n    <tr>\n      <th>For Your Eyes Only</th>\n      <td>1981</td>\n      <td>Roger Moore</td>\n      <td>John Glen</td>\n      <td>449.4</td>\n      <td>60.2</td>\n      <td>NaN</td>\n    </tr>\n    <tr>\n      <th>From Russia with Love</th>\n      <td>1963</td>\n      <td>Sean Connery</td>\n      <td>Terence Young</td>\n      <td>543.8</td>\n      <td>12.6</td>\n      <td>1.6</td>\n    </tr>\n    <tr>\n      <th>GoldenEye</th>\n      <td>1995</td>\n      <td>Pierce Brosnan</td>\n      <td>Martin Campbell</td>\n      <td>518.5</td>\n      <td>76.9</td>\n      <td>5.1</td>\n    </tr>\n    <tr>\n      <th>Goldfinger</th>\n      <td>1964</td>\n      <td>Sean Connery</td>\n      <td>Guy Hamilton</td>\n      <td>820.4</td>\n      <td>18.6</td>\n      <td>3.2</td>\n    </tr>\n    <tr>\n      <th>Licence to Kill</th>\n      <td>1989</td>\n      <td>Timothy Dalton</td>\n      <td>John Glen</td>\n      <td>250.9</td>\n      <td>56.7</td>\n      <td>7.9</td>\n    </tr>\n    <tr>\n      <th>Live and Let Die</th>\n      <td>1973</td>\n      <td>Roger Moore</td>\n      <td>Guy Hamilton</td>\n      <td>460.3</td>\n      <td>30.8</td>\n      <td>NaN</td>\n    </tr>\n    <tr>\n      <th>Moonraker</th>\n      <td>1979</td>\n      <td>Roger Moore</td>\n      <td>Lewis Gilbert</td>\n      <td>535.0</td>\n      <td>91.5</td>\n      <td>NaN</td>\n    </tr>\n    <tr>\n      <th>Never Say Never Again</th>\n      <td>1983</td>\n      <td>Sean Connery</td>\n      <td>Irvin Kershner</td>\n      <td>380.0</td>\n      <td>86.0</td>\n      <td>NaN</td>\n    </tr>\n    <tr>\n      <th>No Time to Die</th>\n      <td>2021</td>\n      <td>Daniel Craig</td>\n      <td>Cary Joji Fukunaga</td>\n      <td>774.2</td>\n      <td>301.0</td>\n      <td>25.0</td>\n    </tr>\n    <tr>\n      <th>Octopussy</th>\n      <td>1983</td>\n      <td>Roger Moore</td>\n      <td>John Glen</td>\n      <td>373.8</td>\n      <td>53.9</td>\n      <td>7.8</td>\n    </tr>\n    <tr>\n      <th>On Her Majesty's Secret Service</th>\n      <td>1969</td>\n      <td>George Lazenby</td>\n      <td>Peter R. Hunt</td>\n      <td>291.5</td>\n      <td>37.3</td>\n      <td>0.6</td>\n    </tr>\n    <tr>\n      <th>Quantum of Solace</th>\n      <td>2008</td>\n      <td>Daniel Craig</td>\n      <td>Marc Forster</td>\n      <td>514.2</td>\n      <td>181.4</td>\n      <td>8.1</td>\n    </tr>\n    <tr>\n      <th>Skyfall</th>\n      <td>2012</td>\n      <td>Daniel Craig</td>\n      <td>Sam Mendes</td>\n      <td>943.5</td>\n      <td>170.2</td>\n      <td>14.5</td>\n    </tr>\n    <tr>\n      <th>Spectre</th>\n      <td>2015</td>\n      <td>Daniel Craig</td>\n      <td>Sam Mendes</td>\n      <td>726.7</td>\n      <td>206.3</td>\n      <td>30.0</td>\n    </tr>\n    <tr>\n      <th>The Living Daylights</th>\n      <td>1987</td>\n      <td>Timothy Dalton</td>\n      <td>John Glen</td>\n      <td>313.5</td>\n      <td>68.8</td>\n      <td>5.2</td>\n    </tr>\n    <tr>\n      <th>The Man with the Golden Gun</th>\n      <td>1974</td>\n      <td>Roger Moore</td>\n      <td>Guy Hamilton</td>\n      <td>334.0</td>\n      <td>27.7</td>\n      <td>NaN</td>\n    </tr>\n    <tr>\n      <th>The Spy Who Loved Me</th>\n      <td>1977</td>\n      <td>Roger Moore</td>\n      <td>Lewis Gilbert</td>\n      <td>533.0</td>\n      <td>45.1</td>\n      <td>NaN</td>\n    </tr>\n    <tr>\n      <th>The World Is Not Enough</th>\n      <td>1999</td>\n      <td>Pierce Brosnan</td>\n      <td>Michael Apted</td>\n      <td>439.5</td>\n      <td>158.3</td>\n      <td>13.5</td>\n    </tr>\n    <tr>\n      <th>Thunderball</th>\n      <td>1965</td>\n      <td>Sean Connery</td>\n      <td>Terence Young</td>\n      <td>848.1</td>\n      <td>41.9</td>\n      <td>4.7</td>\n    </tr>\n    <tr>\n      <th>Tomorrow Never Dies</th>\n      <td>1997</td>\n      <td>Pierce Brosnan</td>\n      <td>Roger Spottiswoode</td>\n      <td>463.2</td>\n      <td>133.9</td>\n      <td>10.0</td>\n    </tr>\n    <tr>\n      <th>You Only Live Twice</th>\n      <td>1967</td>\n      <td>Sean Connery</td>\n      <td>Lewis Gilbert</td>\n      <td>514.2</td>\n      <td>59.9</td>\n      <td>4.4</td>\n    </tr>\n  </tbody>\n</table>\n</div>"
     },
     "execution_count": 48,
     "metadata": {},
     "output_type": "execute_result"
    }
   ],
   "source": [
    "bond"
   ],
   "metadata": {
    "collapsed": false,
    "ExecuteTime": {
     "end_time": "2025-04-17T21:59:04.357939400Z",
     "start_time": "2025-04-17T21:59:04.310675100Z"
    }
   },
   "id": "c814023b2e1c49f5"
  },
  {
   "cell_type": "code",
   "execution_count": 49,
   "outputs": [
    {
     "data": {
      "text/plain": "'John Glen'"
     },
     "execution_count": 49,
     "metadata": {},
     "output_type": "execute_result"
    }
   ],
   "source": [
    "bond.iloc[0,2] "
   ],
   "metadata": {
    "collapsed": false,
    "ExecuteTime": {
     "end_time": "2025-04-17T22:00:23.351130600Z",
     "start_time": "2025-04-17T22:00:23.329752400Z"
    }
   },
   "id": "43273cc6e09313e8"
  },
  {
   "cell_type": "code",
   "execution_count": 50,
   "outputs": [
    {
     "data": {
      "text/plain": "np.float64(5.8)"
     },
     "execution_count": 50,
     "metadata": {},
     "output_type": "execute_result"
    }
   ],
   "source": [
    "bond.iloc[3,5] #zaczyna liczenie od 0 ,1,2,3 i kolumn od year 0 , 1 \n"
   ],
   "metadata": {
    "collapsed": false,
    "ExecuteTime": {
     "end_time": "2025-04-17T22:00:43.881243300Z",
     "start_time": "2025-04-17T22:00:43.842305600Z"
    }
   },
   "id": "69346f72dd026fd1"
  },
  {
   "cell_type": "code",
   "execution_count": 58,
   "outputs": [
    {
     "data": {
      "text/plain": "                             Director  Box Office  Budget  Bond Actor Salary\nFilm                                                                        \nA View to a Kill            John Glen       275.2    54.5                9.1\nCasino Royale         Martin Campbell       581.5   145.3                3.3\nCasino Royale              Ken Hughes       315.0    85.0                NaN\nDiamonds Are Forever     Guy Hamilton       442.5    34.7                5.8",
      "text/html": "<div>\n<style scoped>\n    .dataframe tbody tr th:only-of-type {\n        vertical-align: middle;\n    }\n\n    .dataframe tbody tr th {\n        vertical-align: top;\n    }\n\n    .dataframe thead th {\n        text-align: right;\n    }\n</style>\n<table border=\"1\" class=\"dataframe\">\n  <thead>\n    <tr style=\"text-align: right;\">\n      <th></th>\n      <th>Director</th>\n      <th>Box Office</th>\n      <th>Budget</th>\n      <th>Bond Actor Salary</th>\n    </tr>\n    <tr>\n      <th>Film</th>\n      <th></th>\n      <th></th>\n      <th></th>\n      <th></th>\n    </tr>\n  </thead>\n  <tbody>\n    <tr>\n      <th>A View to a Kill</th>\n      <td>John Glen</td>\n      <td>275.2</td>\n      <td>54.5</td>\n      <td>9.1</td>\n    </tr>\n    <tr>\n      <th>Casino Royale</th>\n      <td>Martin Campbell</td>\n      <td>581.5</td>\n      <td>145.3</td>\n      <td>3.3</td>\n    </tr>\n    <tr>\n      <th>Casino Royale</th>\n      <td>Ken Hughes</td>\n      <td>315.0</td>\n      <td>85.0</td>\n      <td>NaN</td>\n    </tr>\n    <tr>\n      <th>Diamonds Are Forever</th>\n      <td>Guy Hamilton</td>\n      <td>442.5</td>\n      <td>34.7</td>\n      <td>5.8</td>\n    </tr>\n  </tbody>\n</table>\n</div>"
     },
     "execution_count": 58,
     "metadata": {},
     "output_type": "execute_result"
    }
   ],
   "source": [
    "bond.iloc[[0,1,2,3],2:6]\n",
    "bond.iloc[[0,1,2,3],[2,3,4,5]]"
   ],
   "metadata": {
    "collapsed": false,
    "ExecuteTime": {
     "end_time": "2025-04-17T22:05:52.881911Z",
     "start_time": "2025-04-17T22:05:52.864796300Z"
    }
   },
   "id": "7648d1394983754f"
  },
  {
   "cell_type": "code",
   "execution_count": 21,
   "outputs": [
    {
     "ename": "KeyError",
     "evalue": "'Sean Connery'",
     "output_type": "error",
     "traceback": [
      "\u001B[31m---------------------------------------------------------------------------\u001B[39m",
      "\u001B[31mKeyError\u001B[39m                                  Traceback (most recent call last)",
      "\u001B[36mFile \u001B[39m\u001B[32mC:\\Dawid\\Szkola\\studia\\ostatni_rozdzial\\Github\\python\\Data Analysis with Pandas and Python\\venv\\Lib\\site-packages\\pandas\\core\\indexes\\base.py:3805\u001B[39m, in \u001B[36mIndex.get_loc\u001B[39m\u001B[34m(self, key)\u001B[39m\n\u001B[32m   3804\u001B[39m \u001B[38;5;28;01mtry\u001B[39;00m:\n\u001B[32m-> \u001B[39m\u001B[32m3805\u001B[39m     \u001B[38;5;28;01mreturn\u001B[39;00m \u001B[38;5;28;43mself\u001B[39;49m\u001B[43m.\u001B[49m\u001B[43m_engine\u001B[49m\u001B[43m.\u001B[49m\u001B[43mget_loc\u001B[49m\u001B[43m(\u001B[49m\u001B[43mcasted_key\u001B[49m\u001B[43m)\u001B[49m\n\u001B[32m   3806\u001B[39m \u001B[38;5;28;01mexcept\u001B[39;00m \u001B[38;5;167;01mKeyError\u001B[39;00m \u001B[38;5;28;01mas\u001B[39;00m err:\n",
      "\u001B[36mFile \u001B[39m\u001B[32mindex.pyx:167\u001B[39m, in \u001B[36mpandas._libs.index.IndexEngine.get_loc\u001B[39m\u001B[34m()\u001B[39m\n",
      "\u001B[36mFile \u001B[39m\u001B[32mindex.pyx:191\u001B[39m, in \u001B[36mpandas._libs.index.IndexEngine.get_loc\u001B[39m\u001B[34m()\u001B[39m\n",
      "\u001B[36mFile \u001B[39m\u001B[32mindex.pyx:228\u001B[39m, in \u001B[36mpandas._libs.index.IndexEngine._get_loc_duplicates\u001B[39m\u001B[34m()\u001B[39m\n",
      "\u001B[31mKeyError\u001B[39m: 'Sean Connery'",
      "\nThe above exception was the direct cause of the following exception:\n",
      "\u001B[31mKeyError\u001B[39m                                  Traceback (most recent call last)",
      "\u001B[36mCell\u001B[39m\u001B[36m \u001B[39m\u001B[32mIn[21]\u001B[39m\u001B[32m, line 1\u001B[39m\n\u001B[32m----> \u001B[39m\u001B[32m1\u001B[39m \u001B[43mbond\u001B[49m\u001B[43m.\u001B[49m\u001B[43mloc\u001B[49m\u001B[43m[\u001B[49m\u001B[33;43m\"\u001B[39;49m\u001B[33;43mSean Connery\u001B[39;49m\u001B[33;43m\"\u001B[39;49m\u001B[43m,\u001B[49m\u001B[33;43m\"\u001B[39;49m\u001B[33;43mActor\u001B[39;49m\u001B[33;43m\"\u001B[39;49m\u001B[43m]\u001B[49m \u001B[38;5;66;03m#nie moge wyszkoiwac po wartosci, jedynie po Film bo jest indexem #=[\"Sir Sean Connary\"]\u001B[39;00m\n",
      "\u001B[36mFile \u001B[39m\u001B[32mC:\\Dawid\\Szkola\\studia\\ostatni_rozdzial\\Github\\python\\Data Analysis with Pandas and Python\\venv\\Lib\\site-packages\\pandas\\core\\indexing.py:1184\u001B[39m, in \u001B[36m_LocationIndexer.__getitem__\u001B[39m\u001B[34m(self, key)\u001B[39m\n\u001B[32m   1182\u001B[39m     \u001B[38;5;28;01mif\u001B[39;00m \u001B[38;5;28mself\u001B[39m._is_scalar_access(key):\n\u001B[32m   1183\u001B[39m         \u001B[38;5;28;01mreturn\u001B[39;00m \u001B[38;5;28mself\u001B[39m.obj._get_value(*key, takeable=\u001B[38;5;28mself\u001B[39m._takeable)\n\u001B[32m-> \u001B[39m\u001B[32m1184\u001B[39m     \u001B[38;5;28;01mreturn\u001B[39;00m \u001B[38;5;28;43mself\u001B[39;49m\u001B[43m.\u001B[49m\u001B[43m_getitem_tuple\u001B[49m\u001B[43m(\u001B[49m\u001B[43mkey\u001B[49m\u001B[43m)\u001B[49m\n\u001B[32m   1185\u001B[39m \u001B[38;5;28;01melse\u001B[39;00m:\n\u001B[32m   1186\u001B[39m     \u001B[38;5;66;03m# we by definition only have the 0th axis\u001B[39;00m\n\u001B[32m   1187\u001B[39m     axis = \u001B[38;5;28mself\u001B[39m.axis \u001B[38;5;129;01mor\u001B[39;00m \u001B[32m0\u001B[39m\n",
      "\u001B[36mFile \u001B[39m\u001B[32mC:\\Dawid\\Szkola\\studia\\ostatni_rozdzial\\Github\\python\\Data Analysis with Pandas and Python\\venv\\Lib\\site-packages\\pandas\\core\\indexing.py:1368\u001B[39m, in \u001B[36m_LocIndexer._getitem_tuple\u001B[39m\u001B[34m(self, tup)\u001B[39m\n\u001B[32m   1366\u001B[39m \u001B[38;5;28;01mwith\u001B[39;00m suppress(IndexingError):\n\u001B[32m   1367\u001B[39m     tup = \u001B[38;5;28mself\u001B[39m._expand_ellipsis(tup)\n\u001B[32m-> \u001B[39m\u001B[32m1368\u001B[39m     \u001B[38;5;28;01mreturn\u001B[39;00m \u001B[38;5;28;43mself\u001B[39;49m\u001B[43m.\u001B[49m\u001B[43m_getitem_lowerdim\u001B[49m\u001B[43m(\u001B[49m\u001B[43mtup\u001B[49m\u001B[43m)\u001B[49m\n\u001B[32m   1370\u001B[39m \u001B[38;5;66;03m# no multi-index, so validate all of the indexers\u001B[39;00m\n\u001B[32m   1371\u001B[39m tup = \u001B[38;5;28mself\u001B[39m._validate_tuple_indexer(tup)\n",
      "\u001B[36mFile \u001B[39m\u001B[32mC:\\Dawid\\Szkola\\studia\\ostatni_rozdzial\\Github\\python\\Data Analysis with Pandas and Python\\venv\\Lib\\site-packages\\pandas\\core\\indexing.py:1065\u001B[39m, in \u001B[36m_LocationIndexer._getitem_lowerdim\u001B[39m\u001B[34m(self, tup)\u001B[39m\n\u001B[32m   1061\u001B[39m \u001B[38;5;28;01mfor\u001B[39;00m i, key \u001B[38;5;129;01min\u001B[39;00m \u001B[38;5;28menumerate\u001B[39m(tup):\n\u001B[32m   1062\u001B[39m     \u001B[38;5;28;01mif\u001B[39;00m is_label_like(key):\n\u001B[32m   1063\u001B[39m         \u001B[38;5;66;03m# We don't need to check for tuples here because those are\u001B[39;00m\n\u001B[32m   1064\u001B[39m         \u001B[38;5;66;03m#  caught by the _is_nested_tuple_indexer check above.\u001B[39;00m\n\u001B[32m-> \u001B[39m\u001B[32m1065\u001B[39m         section = \u001B[38;5;28;43mself\u001B[39;49m\u001B[43m.\u001B[49m\u001B[43m_getitem_axis\u001B[49m\u001B[43m(\u001B[49m\u001B[43mkey\u001B[49m\u001B[43m,\u001B[49m\u001B[43m \u001B[49m\u001B[43maxis\u001B[49m\u001B[43m=\u001B[49m\u001B[43mi\u001B[49m\u001B[43m)\u001B[49m\n\u001B[32m   1067\u001B[39m         \u001B[38;5;66;03m# We should never have a scalar section here, because\u001B[39;00m\n\u001B[32m   1068\u001B[39m         \u001B[38;5;66;03m#  _getitem_lowerdim is only called after a check for\u001B[39;00m\n\u001B[32m   1069\u001B[39m         \u001B[38;5;66;03m#  is_scalar_access, which that would be.\u001B[39;00m\n\u001B[32m   1070\u001B[39m         \u001B[38;5;28;01mif\u001B[39;00m section.ndim == \u001B[38;5;28mself\u001B[39m.ndim:\n\u001B[32m   1071\u001B[39m             \u001B[38;5;66;03m# we're in the middle of slicing through a MultiIndex\u001B[39;00m\n\u001B[32m   1072\u001B[39m             \u001B[38;5;66;03m# revise the key wrt to `section` by inserting an _NS\u001B[39;00m\n",
      "\u001B[36mFile \u001B[39m\u001B[32mC:\\Dawid\\Szkola\\studia\\ostatni_rozdzial\\Github\\python\\Data Analysis with Pandas and Python\\venv\\Lib\\site-packages\\pandas\\core\\indexing.py:1431\u001B[39m, in \u001B[36m_LocIndexer._getitem_axis\u001B[39m\u001B[34m(self, key, axis)\u001B[39m\n\u001B[32m   1429\u001B[39m \u001B[38;5;66;03m# fall thru to straight lookup\u001B[39;00m\n\u001B[32m   1430\u001B[39m \u001B[38;5;28mself\u001B[39m._validate_key(key, axis)\n\u001B[32m-> \u001B[39m\u001B[32m1431\u001B[39m \u001B[38;5;28;01mreturn\u001B[39;00m \u001B[38;5;28;43mself\u001B[39;49m\u001B[43m.\u001B[49m\u001B[43m_get_label\u001B[49m\u001B[43m(\u001B[49m\u001B[43mkey\u001B[49m\u001B[43m,\u001B[49m\u001B[43m \u001B[49m\u001B[43maxis\u001B[49m\u001B[43m=\u001B[49m\u001B[43maxis\u001B[49m\u001B[43m)\u001B[49m\n",
      "\u001B[36mFile \u001B[39m\u001B[32mC:\\Dawid\\Szkola\\studia\\ostatni_rozdzial\\Github\\python\\Data Analysis with Pandas and Python\\venv\\Lib\\site-packages\\pandas\\core\\indexing.py:1381\u001B[39m, in \u001B[36m_LocIndexer._get_label\u001B[39m\u001B[34m(self, label, axis)\u001B[39m\n\u001B[32m   1379\u001B[39m \u001B[38;5;28;01mdef\u001B[39;00m\u001B[38;5;250m \u001B[39m\u001B[34m_get_label\u001B[39m(\u001B[38;5;28mself\u001B[39m, label, axis: AxisInt):\n\u001B[32m   1380\u001B[39m     \u001B[38;5;66;03m# GH#5567 this will fail if the label is not present in the axis.\u001B[39;00m\n\u001B[32m-> \u001B[39m\u001B[32m1381\u001B[39m     \u001B[38;5;28;01mreturn\u001B[39;00m \u001B[38;5;28;43mself\u001B[39;49m\u001B[43m.\u001B[49m\u001B[43mobj\u001B[49m\u001B[43m.\u001B[49m\u001B[43mxs\u001B[49m\u001B[43m(\u001B[49m\u001B[43mlabel\u001B[49m\u001B[43m,\u001B[49m\u001B[43m \u001B[49m\u001B[43maxis\u001B[49m\u001B[43m=\u001B[49m\u001B[43maxis\u001B[49m\u001B[43m)\u001B[49m\n",
      "\u001B[36mFile \u001B[39m\u001B[32mC:\\Dawid\\Szkola\\studia\\ostatni_rozdzial\\Github\\python\\Data Analysis with Pandas and Python\\venv\\Lib\\site-packages\\pandas\\core\\generic.py:4301\u001B[39m, in \u001B[36mNDFrame.xs\u001B[39m\u001B[34m(self, key, axis, level, drop_level)\u001B[39m\n\u001B[32m   4299\u001B[39m             new_index = index[loc]\n\u001B[32m   4300\u001B[39m \u001B[38;5;28;01melse\u001B[39;00m:\n\u001B[32m-> \u001B[39m\u001B[32m4301\u001B[39m     loc = \u001B[43mindex\u001B[49m\u001B[43m.\u001B[49m\u001B[43mget_loc\u001B[49m\u001B[43m(\u001B[49m\u001B[43mkey\u001B[49m\u001B[43m)\u001B[49m\n\u001B[32m   4303\u001B[39m     \u001B[38;5;28;01mif\u001B[39;00m \u001B[38;5;28misinstance\u001B[39m(loc, np.ndarray):\n\u001B[32m   4304\u001B[39m         \u001B[38;5;28;01mif\u001B[39;00m loc.dtype == np.bool_:\n",
      "\u001B[36mFile \u001B[39m\u001B[32mC:\\Dawid\\Szkola\\studia\\ostatni_rozdzial\\Github\\python\\Data Analysis with Pandas and Python\\venv\\Lib\\site-packages\\pandas\\core\\indexes\\base.py:3812\u001B[39m, in \u001B[36mIndex.get_loc\u001B[39m\u001B[34m(self, key)\u001B[39m\n\u001B[32m   3807\u001B[39m     \u001B[38;5;28;01mif\u001B[39;00m \u001B[38;5;28misinstance\u001B[39m(casted_key, \u001B[38;5;28mslice\u001B[39m) \u001B[38;5;129;01mor\u001B[39;00m (\n\u001B[32m   3808\u001B[39m         \u001B[38;5;28misinstance\u001B[39m(casted_key, abc.Iterable)\n\u001B[32m   3809\u001B[39m         \u001B[38;5;129;01mand\u001B[39;00m \u001B[38;5;28many\u001B[39m(\u001B[38;5;28misinstance\u001B[39m(x, \u001B[38;5;28mslice\u001B[39m) \u001B[38;5;28;01mfor\u001B[39;00m x \u001B[38;5;129;01min\u001B[39;00m casted_key)\n\u001B[32m   3810\u001B[39m     ):\n\u001B[32m   3811\u001B[39m         \u001B[38;5;28;01mraise\u001B[39;00m InvalidIndexError(key)\n\u001B[32m-> \u001B[39m\u001B[32m3812\u001B[39m     \u001B[38;5;28;01mraise\u001B[39;00m \u001B[38;5;167;01mKeyError\u001B[39;00m(key) \u001B[38;5;28;01mfrom\u001B[39;00m\u001B[38;5;250m \u001B[39m\u001B[34;01merr\u001B[39;00m\n\u001B[32m   3813\u001B[39m \u001B[38;5;28;01mexcept\u001B[39;00m \u001B[38;5;167;01mTypeError\u001B[39;00m:\n\u001B[32m   3814\u001B[39m     \u001B[38;5;66;03m# If we have a listlike key, _check_indexing_error will raise\u001B[39;00m\n\u001B[32m   3815\u001B[39m     \u001B[38;5;66;03m#  InvalidIndexError. Otherwise we fall through and re-raise\u001B[39;00m\n\u001B[32m   3816\u001B[39m     \u001B[38;5;66;03m#  the TypeError.\u001B[39;00m\n\u001B[32m   3817\u001B[39m     \u001B[38;5;28mself\u001B[39m._check_indexing_error(key)\n",
      "\u001B[31mKeyError\u001B[39m: 'Sean Connery'"
     ]
    }
   ],
   "source": [
    "bond.loc[\"Sean Connery\",\"Actor\"] #nie moge wyszkoiwac po wartosci, jedynie po Film bo jest indexem #=[\"Sir Sean Connary\"]\n"
   ],
   "metadata": {
    "collapsed": false,
    "ExecuteTime": {
     "end_time": "2025-04-18T09:25:11.386081700Z",
     "start_time": "2025-04-18T09:25:11.243032900Z"
    }
   },
   "id": "1aafd3a0f7da109c"
  },
  {
   "cell_type": "code",
   "execution_count": 24,
   "outputs": [
    {
     "name": "stderr",
     "output_type": "stream",
     "text": [
      "C:\\Users\\deber\\AppData\\Local\\Temp\\ipykernel_12064\\1389070386.py:1: SettingWithCopyWarning: \n",
      "A value is trying to be set on a copy of a slice from a DataFrame\n",
      "\n",
      "See the caveats in the documentation: https://pandas.pydata.org/pandas-docs/stable/user_guide/indexing.html#returning-a-view-versus-a-copy\n",
      "  bond[\"Actor\"].loc[\"Diamonds Are Forever\"]=[\"Sir Sean Connery\"]\n"
     ]
    }
   ],
   "source": [
    "bond[\"Actor\"].loc[\"Diamonds Are Forever\"]=[\"Sir Sean Connery\"]\n",
    "\"\"\"the infromation says athat dont use loc on an extracted subsection or smaller component of the larger object.\n",
    "In fact its not a copy bcs we changed main DF. Rather pick loc on larger object\"\"\""
   ],
   "metadata": {
    "collapsed": false,
    "ExecuteTime": {
     "end_time": "2025-04-18T09:26:33.455135800Z",
     "start_time": "2025-04-18T09:26:33.448625600Z"
    }
   },
   "id": "10c06292ebfd3094"
  },
  {
   "cell_type": "code",
   "execution_count": 25,
   "outputs": [
    {
     "data": {
      "text/plain": "['Sir Sean Connery']"
     },
     "execution_count": 25,
     "metadata": {},
     "output_type": "execute_result"
    }
   ],
   "source": [
    "bond[\"Actor\"].loc[\"Diamonds Are Forever\"]"
   ],
   "metadata": {
    "collapsed": false,
    "ExecuteTime": {
     "end_time": "2025-04-18T09:26:48.924736700Z",
     "start_time": "2025-04-18T09:26:48.912237Z"
    }
   },
   "id": "31bbe24b36e0adfa"
  },
  {
   "cell_type": "code",
   "execution_count": 29,
   "outputs": [
    {
     "data": {
      "text/plain": "'Sean Connery'"
     },
     "execution_count": 29,
     "metadata": {},
     "output_type": "execute_result"
    }
   ],
   "source": [
    "\"\"\"now we will use loc on top level df\"\"\"\n",
    "bond.loc[\"Diamonds Are Forever\",\"Actor\"]=\"Sean Connery\"\n",
    "bond.loc[\"Diamonds Are Forever\",\"Actor\"]\n",
    "\"\"\"Use loc on top level DF. not on the slice\"\"\""
   ],
   "metadata": {
    "collapsed": false,
    "ExecuteTime": {
     "end_time": "2025-04-18T09:32:02.225168900Z",
     "start_time": "2025-04-18T09:32:02.209785900Z"
    }
   },
   "id": "2f8aa1fcbdcd1e14"
  },
  {
   "cell_type": "code",
   "execution_count": 33,
   "outputs": [
    {
     "data": {
      "text/plain": "                                 Year             Actor            Director  \\\nFilm                                                                          \nA View to a Kill                 1985       Roger Moore           John Glen   \nCasino Royale                    2006      Daniel Craig     Martin Campbell   \nCasino Royale                    1967       David Niven          Ken Hughes   \nDiamonds Are Forever             1971  Sir Sean Connery        Guy Hamilton   \nDie Another Day                  2002    Pierce Brosnan        Lee Tamahori   \nDr. No                           1962  Sir Sean Connery       Terence Young   \nFor Your Eyes Only               1981       Roger Moore           John Glen   \nFrom Russia with Love            1963  Sir Sean Connery       Terence Young   \nGoldenEye                        1995    Pierce Brosnan     Martin Campbell   \nGoldfinger                       1964  Sir Sean Connery        Guy Hamilton   \nLicence to Kill                  1989    Timothy Dalton           John Glen   \nLive and Let Die                 1973       Roger Moore        Guy Hamilton   \nMoonraker                        1979       Roger Moore       Lewis Gilbert   \nNever Say Never Again            1983  Sir Sean Connery      Irvin Kershner   \nNo Time to Die                   2021      Daniel Craig  Cary Joji Fukunaga   \nOctopussy                        1983       Roger Moore           John Glen   \nOn Her Majesty's Secret Service  1969    George Lazenby       Peter R. Hunt   \nQuantum of Solace                2008      Daniel Craig        Marc Forster   \nSkyfall                          2012      Daniel Craig          Sam Mendes   \nSpectre                          2015      Daniel Craig          Sam Mendes   \nThe Living Daylights             1987    Timothy Dalton           John Glen   \nThe Man with the Golden Gun      1974       Roger Moore        Guy Hamilton   \nThe Spy Who Loved Me             1977       Roger Moore       Lewis Gilbert   \nThe World Is Not Enough          1999    Pierce Brosnan       Michael Apted   \nThunderball                      1965  Sir Sean Connery       Terence Young   \nTomorrow Never Dies              1997    Pierce Brosnan  Roger Spottiswoode   \nYou Only Live Twice              1967  Sir Sean Connery       Lewis Gilbert   \n\n                                 Box Office  Budget  Bond Actor Salary  \nFilm                                                                    \nA View to a Kill                      275.2    54.5                9.1  \nCasino Royale                         581.5   145.3                3.3  \nCasino Royale                         315.0    85.0                NaN  \nDiamonds Are Forever                  442.5    34.7                5.8  \nDie Another Day                       465.4   154.2               17.9  \nDr. No                                448.8     7.0                0.6  \nFor Your Eyes Only                    449.4    60.2                NaN  \nFrom Russia with Love                 543.8    12.6                1.6  \nGoldenEye                             518.5    76.9                5.1  \nGoldfinger                            820.4    18.6                3.2  \nLicence to Kill                       250.9    56.7                7.9  \nLive and Let Die                      460.3    30.8                NaN  \nMoonraker                             535.0    91.5                NaN  \nNever Say Never Again                 380.0    86.0                NaN  \nNo Time to Die                        774.2   301.0               25.0  \nOctopussy                             373.8    53.9                7.8  \nOn Her Majesty's Secret Service       291.5    37.3                0.6  \nQuantum of Solace                     514.2   181.4                8.1  \nSkyfall                               943.5   170.2               14.5  \nSpectre                               726.7   206.3               30.0  \nThe Living Daylights                  313.5    68.8                5.2  \nThe Man with the Golden Gun           334.0    27.7                NaN  \nThe Spy Who Loved Me                  533.0    45.1                NaN  \nThe World Is Not Enough               439.5   158.3               13.5  \nThunderball                           848.1    41.9                4.7  \nTomorrow Never Dies                   463.2   133.9               10.0  \nYou Only Live Twice                   514.2    59.9                4.4  ",
      "text/html": "<div>\n<style scoped>\n    .dataframe tbody tr th:only-of-type {\n        vertical-align: middle;\n    }\n\n    .dataframe tbody tr th {\n        vertical-align: top;\n    }\n\n    .dataframe thead th {\n        text-align: right;\n    }\n</style>\n<table border=\"1\" class=\"dataframe\">\n  <thead>\n    <tr style=\"text-align: right;\">\n      <th></th>\n      <th>Year</th>\n      <th>Actor</th>\n      <th>Director</th>\n      <th>Box Office</th>\n      <th>Budget</th>\n      <th>Bond Actor Salary</th>\n    </tr>\n    <tr>\n      <th>Film</th>\n      <th></th>\n      <th></th>\n      <th></th>\n      <th></th>\n      <th></th>\n      <th></th>\n    </tr>\n  </thead>\n  <tbody>\n    <tr>\n      <th>A View to a Kill</th>\n      <td>1985</td>\n      <td>Roger Moore</td>\n      <td>John Glen</td>\n      <td>275.2</td>\n      <td>54.5</td>\n      <td>9.1</td>\n    </tr>\n    <tr>\n      <th>Casino Royale</th>\n      <td>2006</td>\n      <td>Daniel Craig</td>\n      <td>Martin Campbell</td>\n      <td>581.5</td>\n      <td>145.3</td>\n      <td>3.3</td>\n    </tr>\n    <tr>\n      <th>Casino Royale</th>\n      <td>1967</td>\n      <td>David Niven</td>\n      <td>Ken Hughes</td>\n      <td>315.0</td>\n      <td>85.0</td>\n      <td>NaN</td>\n    </tr>\n    <tr>\n      <th>Diamonds Are Forever</th>\n      <td>1971</td>\n      <td>Sir Sean Connery</td>\n      <td>Guy Hamilton</td>\n      <td>442.5</td>\n      <td>34.7</td>\n      <td>5.8</td>\n    </tr>\n    <tr>\n      <th>Die Another Day</th>\n      <td>2002</td>\n      <td>Pierce Brosnan</td>\n      <td>Lee Tamahori</td>\n      <td>465.4</td>\n      <td>154.2</td>\n      <td>17.9</td>\n    </tr>\n    <tr>\n      <th>Dr. No</th>\n      <td>1962</td>\n      <td>Sir Sean Connery</td>\n      <td>Terence Young</td>\n      <td>448.8</td>\n      <td>7.0</td>\n      <td>0.6</td>\n    </tr>\n    <tr>\n      <th>For Your Eyes Only</th>\n      <td>1981</td>\n      <td>Roger Moore</td>\n      <td>John Glen</td>\n      <td>449.4</td>\n      <td>60.2</td>\n      <td>NaN</td>\n    </tr>\n    <tr>\n      <th>From Russia with Love</th>\n      <td>1963</td>\n      <td>Sir Sean Connery</td>\n      <td>Terence Young</td>\n      <td>543.8</td>\n      <td>12.6</td>\n      <td>1.6</td>\n    </tr>\n    <tr>\n      <th>GoldenEye</th>\n      <td>1995</td>\n      <td>Pierce Brosnan</td>\n      <td>Martin Campbell</td>\n      <td>518.5</td>\n      <td>76.9</td>\n      <td>5.1</td>\n    </tr>\n    <tr>\n      <th>Goldfinger</th>\n      <td>1964</td>\n      <td>Sir Sean Connery</td>\n      <td>Guy Hamilton</td>\n      <td>820.4</td>\n      <td>18.6</td>\n      <td>3.2</td>\n    </tr>\n    <tr>\n      <th>Licence to Kill</th>\n      <td>1989</td>\n      <td>Timothy Dalton</td>\n      <td>John Glen</td>\n      <td>250.9</td>\n      <td>56.7</td>\n      <td>7.9</td>\n    </tr>\n    <tr>\n      <th>Live and Let Die</th>\n      <td>1973</td>\n      <td>Roger Moore</td>\n      <td>Guy Hamilton</td>\n      <td>460.3</td>\n      <td>30.8</td>\n      <td>NaN</td>\n    </tr>\n    <tr>\n      <th>Moonraker</th>\n      <td>1979</td>\n      <td>Roger Moore</td>\n      <td>Lewis Gilbert</td>\n      <td>535.0</td>\n      <td>91.5</td>\n      <td>NaN</td>\n    </tr>\n    <tr>\n      <th>Never Say Never Again</th>\n      <td>1983</td>\n      <td>Sir Sean Connery</td>\n      <td>Irvin Kershner</td>\n      <td>380.0</td>\n      <td>86.0</td>\n      <td>NaN</td>\n    </tr>\n    <tr>\n      <th>No Time to Die</th>\n      <td>2021</td>\n      <td>Daniel Craig</td>\n      <td>Cary Joji Fukunaga</td>\n      <td>774.2</td>\n      <td>301.0</td>\n      <td>25.0</td>\n    </tr>\n    <tr>\n      <th>Octopussy</th>\n      <td>1983</td>\n      <td>Roger Moore</td>\n      <td>John Glen</td>\n      <td>373.8</td>\n      <td>53.9</td>\n      <td>7.8</td>\n    </tr>\n    <tr>\n      <th>On Her Majesty's Secret Service</th>\n      <td>1969</td>\n      <td>George Lazenby</td>\n      <td>Peter R. Hunt</td>\n      <td>291.5</td>\n      <td>37.3</td>\n      <td>0.6</td>\n    </tr>\n    <tr>\n      <th>Quantum of Solace</th>\n      <td>2008</td>\n      <td>Daniel Craig</td>\n      <td>Marc Forster</td>\n      <td>514.2</td>\n      <td>181.4</td>\n      <td>8.1</td>\n    </tr>\n    <tr>\n      <th>Skyfall</th>\n      <td>2012</td>\n      <td>Daniel Craig</td>\n      <td>Sam Mendes</td>\n      <td>943.5</td>\n      <td>170.2</td>\n      <td>14.5</td>\n    </tr>\n    <tr>\n      <th>Spectre</th>\n      <td>2015</td>\n      <td>Daniel Craig</td>\n      <td>Sam Mendes</td>\n      <td>726.7</td>\n      <td>206.3</td>\n      <td>30.0</td>\n    </tr>\n    <tr>\n      <th>The Living Daylights</th>\n      <td>1987</td>\n      <td>Timothy Dalton</td>\n      <td>John Glen</td>\n      <td>313.5</td>\n      <td>68.8</td>\n      <td>5.2</td>\n    </tr>\n    <tr>\n      <th>The Man with the Golden Gun</th>\n      <td>1974</td>\n      <td>Roger Moore</td>\n      <td>Guy Hamilton</td>\n      <td>334.0</td>\n      <td>27.7</td>\n      <td>NaN</td>\n    </tr>\n    <tr>\n      <th>The Spy Who Loved Me</th>\n      <td>1977</td>\n      <td>Roger Moore</td>\n      <td>Lewis Gilbert</td>\n      <td>533.0</td>\n      <td>45.1</td>\n      <td>NaN</td>\n    </tr>\n    <tr>\n      <th>The World Is Not Enough</th>\n      <td>1999</td>\n      <td>Pierce Brosnan</td>\n      <td>Michael Apted</td>\n      <td>439.5</td>\n      <td>158.3</td>\n      <td>13.5</td>\n    </tr>\n    <tr>\n      <th>Thunderball</th>\n      <td>1965</td>\n      <td>Sir Sean Connery</td>\n      <td>Terence Young</td>\n      <td>848.1</td>\n      <td>41.9</td>\n      <td>4.7</td>\n    </tr>\n    <tr>\n      <th>Tomorrow Never Dies</th>\n      <td>1997</td>\n      <td>Pierce Brosnan</td>\n      <td>Roger Spottiswoode</td>\n      <td>463.2</td>\n      <td>133.9</td>\n      <td>10.0</td>\n    </tr>\n    <tr>\n      <th>You Only Live Twice</th>\n      <td>1967</td>\n      <td>Sir Sean Connery</td>\n      <td>Lewis Gilbert</td>\n      <td>514.2</td>\n      <td>59.9</td>\n      <td>4.4</td>\n    </tr>\n  </tbody>\n</table>\n</div>"
     },
     "execution_count": 33,
     "metadata": {},
     "output_type": "execute_result"
    }
   ],
   "source": [
    "\"\"\"overriting multiple values\"\"\"\n",
    "bond[\"Actor\"]=bond[\"Actor\"].replace(\"Sean Connery\", \"Sir Sean Connery\")\n",
    "bond"
   ],
   "metadata": {
    "collapsed": false,
    "ExecuteTime": {
     "end_time": "2025-04-18T09:46:08.805908900Z",
     "start_time": "2025-04-18T09:46:08.789463900Z"
    }
   },
   "id": "6da9e0732e68ac4f"
  },
  {
   "cell_type": "code",
   "execution_count": 36,
   "outputs": [
    {
     "data": {
      "text/plain": "                       Year             Actor        Director  Box Office  \\\nFilm                                                                        \nDiamonds Are Forever   1971  Sir Sean Connery    Guy Hamilton       442.5   \nDr. No                 1962  Sir Sean Connery   Terence Young       448.8   \nFrom Russia with Love  1963  Sir Sean Connery   Terence Young       543.8   \nGoldfinger             1964  Sir Sean Connery    Guy Hamilton       820.4   \nNever Say Never Again  1983  Sir Sean Connery  Irvin Kershner       380.0   \nThunderball            1965  Sir Sean Connery   Terence Young       848.1   \nYou Only Live Twice    1967  Sir Sean Connery   Lewis Gilbert       514.2   \n\n                       Budget  Bond Actor Salary  \nFilm                                              \nDiamonds Are Forever     34.7                5.8  \nDr. No                    7.0                0.6  \nFrom Russia with Love    12.6                1.6  \nGoldfinger               18.6                3.2  \nNever Say Never Again    86.0                NaN  \nThunderball              41.9                4.7  \nYou Only Live Twice      59.9                4.4  ",
      "text/html": "<div>\n<style scoped>\n    .dataframe tbody tr th:only-of-type {\n        vertical-align: middle;\n    }\n\n    .dataframe tbody tr th {\n        vertical-align: top;\n    }\n\n    .dataframe thead th {\n        text-align: right;\n    }\n</style>\n<table border=\"1\" class=\"dataframe\">\n  <thead>\n    <tr style=\"text-align: right;\">\n      <th></th>\n      <th>Year</th>\n      <th>Actor</th>\n      <th>Director</th>\n      <th>Box Office</th>\n      <th>Budget</th>\n      <th>Bond Actor Salary</th>\n    </tr>\n    <tr>\n      <th>Film</th>\n      <th></th>\n      <th></th>\n      <th></th>\n      <th></th>\n      <th></th>\n      <th></th>\n    </tr>\n  </thead>\n  <tbody>\n    <tr>\n      <th>Diamonds Are Forever</th>\n      <td>1971</td>\n      <td>Sir Sean Connery</td>\n      <td>Guy Hamilton</td>\n      <td>442.5</td>\n      <td>34.7</td>\n      <td>5.8</td>\n    </tr>\n    <tr>\n      <th>Dr. No</th>\n      <td>1962</td>\n      <td>Sir Sean Connery</td>\n      <td>Terence Young</td>\n      <td>448.8</td>\n      <td>7.0</td>\n      <td>0.6</td>\n    </tr>\n    <tr>\n      <th>From Russia with Love</th>\n      <td>1963</td>\n      <td>Sir Sean Connery</td>\n      <td>Terence Young</td>\n      <td>543.8</td>\n      <td>12.6</td>\n      <td>1.6</td>\n    </tr>\n    <tr>\n      <th>Goldfinger</th>\n      <td>1964</td>\n      <td>Sir Sean Connery</td>\n      <td>Guy Hamilton</td>\n      <td>820.4</td>\n      <td>18.6</td>\n      <td>3.2</td>\n    </tr>\n    <tr>\n      <th>Never Say Never Again</th>\n      <td>1983</td>\n      <td>Sir Sean Connery</td>\n      <td>Irvin Kershner</td>\n      <td>380.0</td>\n      <td>86.0</td>\n      <td>NaN</td>\n    </tr>\n    <tr>\n      <th>Thunderball</th>\n      <td>1965</td>\n      <td>Sir Sean Connery</td>\n      <td>Terence Young</td>\n      <td>848.1</td>\n      <td>41.9</td>\n      <td>4.7</td>\n    </tr>\n    <tr>\n      <th>You Only Live Twice</th>\n      <td>1967</td>\n      <td>Sir Sean Connery</td>\n      <td>Lewis Gilbert</td>\n      <td>514.2</td>\n      <td>59.9</td>\n      <td>4.4</td>\n    </tr>\n  </tbody>\n</table>\n</div>"
     },
     "execution_count": 36,
     "metadata": {},
     "output_type": "execute_result"
    }
   ],
   "source": [
    "bond[bond[\"Actor\"]==\"Sean Connery\"].loc[:,\"Actor\"]=\"Sir Sean Connery\"\n",
    "#this is totally distinct object\n",
    "# again we used .loc not on bond but on subset"
   ],
   "metadata": {
    "collapsed": false,
    "ExecuteTime": {
     "end_time": "2025-04-18T09:48:15.055542400Z",
     "start_time": "2025-04-18T09:48:15.039222200Z"
    }
   },
   "id": "d232f05e693784e4"
  },
  {
   "cell_type": "code",
   "execution_count": 43,
   "outputs": [],
   "source": [
    "is_sean_connery=bond[\"Actor\"]==\"Sean Connery\"\n",
    "bond.loc[is_sean_connery, \"Actor\"]=\"Sir Sean Connery\"\n",
    "#now we are working on original ona view, not a copy\n",
    "#relpace is better option,"
   ],
   "metadata": {
    "collapsed": false,
    "ExecuteTime": {
     "end_time": "2025-04-18T09:55:24.598477100Z",
     "start_time": "2025-04-18T09:55:24.584599700Z"
    }
   },
   "id": "b6f7ca210e786de4"
  },
  {
   "cell_type": "code",
   "execution_count": 40,
   "outputs": [
    {
     "data": {
      "text/plain": "                                 Year           Actor            Director  \\\nFilm                                                                        \nA View to a Kill                 1985     Roger Moore           John Glen   \nCasino Royale                    2006    Daniel Craig     Martin Campbell   \nCasino Royale                    1967     David Niven          Ken Hughes   \nDiamonds Are Forever             1971    Sean Connery        Guy Hamilton   \nDie Another Day                  2002  Pierce Brosnan        Lee Tamahori   \nDr. No                           1962    Sean Connery       Terence Young   \nFor Your Eyes Only               1981     Roger Moore           John Glen   \nFrom Russia with Love            1963    Sean Connery       Terence Young   \nGoldenEye                        1995  Pierce Brosnan     Martin Campbell   \nGoldfinger                       1964    Sean Connery        Guy Hamilton   \nLicence to Kill                  1989  Timothy Dalton           John Glen   \nLive and Let Die                 1973     Roger Moore        Guy Hamilton   \nMoonraker                        1979     Roger Moore       Lewis Gilbert   \nNever Say Never Again            1983    Sean Connery      Irvin Kershner   \nNo Time to Die                   2021    Daniel Craig  Cary Joji Fukunaga   \nOctopussy                        1983     Roger Moore           John Glen   \nOn Her Majesty's Secret Service  1969  George Lazenby       Peter R. Hunt   \nQuantum of Solace                2008    Daniel Craig        Marc Forster   \nSkyfall                          2012    Daniel Craig          Sam Mendes   \nSpectre                          2015    Daniel Craig          Sam Mendes   \nThe Living Daylights             1987  Timothy Dalton           John Glen   \nThe Man with the Golden Gun      1974     Roger Moore        Guy Hamilton   \nThe Spy Who Loved Me             1977     Roger Moore       Lewis Gilbert   \nThe World Is Not Enough          1999  Pierce Brosnan       Michael Apted   \nThunderball                      1965    Sean Connery       Terence Young   \nTomorrow Never Dies              1997  Pierce Brosnan  Roger Spottiswoode   \nYou Only Live Twice              1967    Sean Connery       Lewis Gilbert   \n\n                                 Box Office  Budget  Bond Actor Salary  \nFilm                                                                    \nA View to a Kill                      275.2    54.5                9.1  \nCasino Royale                         581.5   145.3                3.3  \nCasino Royale                         315.0    85.0                NaN  \nDiamonds Are Forever                  442.5    34.7                5.8  \nDie Another Day                       465.4   154.2               17.9  \nDr. No                                448.8     7.0                0.6  \nFor Your Eyes Only                    449.4    60.2                NaN  \nFrom Russia with Love                 543.8    12.6                1.6  \nGoldenEye                             518.5    76.9                5.1  \nGoldfinger                            820.4    18.6                3.2  \nLicence to Kill                       250.9    56.7                7.9  \nLive and Let Die                      460.3    30.8                NaN  \nMoonraker                             535.0    91.5                NaN  \nNever Say Never Again                 380.0    86.0                NaN  \nNo Time to Die                        774.2   301.0               25.0  \nOctopussy                             373.8    53.9                7.8  \nOn Her Majesty's Secret Service       291.5    37.3                0.6  \nQuantum of Solace                     514.2   181.4                8.1  \nSkyfall                               943.5   170.2               14.5  \nSpectre                               726.7   206.3               30.0  \nThe Living Daylights                  313.5    68.8                5.2  \nThe Man with the Golden Gun           334.0    27.7                NaN  \nThe Spy Who Loved Me                  533.0    45.1                NaN  \nThe World Is Not Enough               439.5   158.3               13.5  \nThunderball                           848.1    41.9                4.7  \nTomorrow Never Dies                   463.2   133.9               10.0  \nYou Only Live Twice                   514.2    59.9                4.4  ",
      "text/html": "<div>\n<style scoped>\n    .dataframe tbody tr th:only-of-type {\n        vertical-align: middle;\n    }\n\n    .dataframe tbody tr th {\n        vertical-align: top;\n    }\n\n    .dataframe thead th {\n        text-align: right;\n    }\n</style>\n<table border=\"1\" class=\"dataframe\">\n  <thead>\n    <tr style=\"text-align: right;\">\n      <th></th>\n      <th>Year</th>\n      <th>Actor</th>\n      <th>Director</th>\n      <th>Box Office</th>\n      <th>Budget</th>\n      <th>Bond Actor Salary</th>\n    </tr>\n    <tr>\n      <th>Film</th>\n      <th></th>\n      <th></th>\n      <th></th>\n      <th></th>\n      <th></th>\n      <th></th>\n    </tr>\n  </thead>\n  <tbody>\n    <tr>\n      <th>A View to a Kill</th>\n      <td>1985</td>\n      <td>Roger Moore</td>\n      <td>John Glen</td>\n      <td>275.2</td>\n      <td>54.5</td>\n      <td>9.1</td>\n    </tr>\n    <tr>\n      <th>Casino Royale</th>\n      <td>2006</td>\n      <td>Daniel Craig</td>\n      <td>Martin Campbell</td>\n      <td>581.5</td>\n      <td>145.3</td>\n      <td>3.3</td>\n    </tr>\n    <tr>\n      <th>Casino Royale</th>\n      <td>1967</td>\n      <td>David Niven</td>\n      <td>Ken Hughes</td>\n      <td>315.0</td>\n      <td>85.0</td>\n      <td>NaN</td>\n    </tr>\n    <tr>\n      <th>Diamonds Are Forever</th>\n      <td>1971</td>\n      <td>Sean Connery</td>\n      <td>Guy Hamilton</td>\n      <td>442.5</td>\n      <td>34.7</td>\n      <td>5.8</td>\n    </tr>\n    <tr>\n      <th>Die Another Day</th>\n      <td>2002</td>\n      <td>Pierce Brosnan</td>\n      <td>Lee Tamahori</td>\n      <td>465.4</td>\n      <td>154.2</td>\n      <td>17.9</td>\n    </tr>\n    <tr>\n      <th>Dr. No</th>\n      <td>1962</td>\n      <td>Sean Connery</td>\n      <td>Terence Young</td>\n      <td>448.8</td>\n      <td>7.0</td>\n      <td>0.6</td>\n    </tr>\n    <tr>\n      <th>For Your Eyes Only</th>\n      <td>1981</td>\n      <td>Roger Moore</td>\n      <td>John Glen</td>\n      <td>449.4</td>\n      <td>60.2</td>\n      <td>NaN</td>\n    </tr>\n    <tr>\n      <th>From Russia with Love</th>\n      <td>1963</td>\n      <td>Sean Connery</td>\n      <td>Terence Young</td>\n      <td>543.8</td>\n      <td>12.6</td>\n      <td>1.6</td>\n    </tr>\n    <tr>\n      <th>GoldenEye</th>\n      <td>1995</td>\n      <td>Pierce Brosnan</td>\n      <td>Martin Campbell</td>\n      <td>518.5</td>\n      <td>76.9</td>\n      <td>5.1</td>\n    </tr>\n    <tr>\n      <th>Goldfinger</th>\n      <td>1964</td>\n      <td>Sean Connery</td>\n      <td>Guy Hamilton</td>\n      <td>820.4</td>\n      <td>18.6</td>\n      <td>3.2</td>\n    </tr>\n    <tr>\n      <th>Licence to Kill</th>\n      <td>1989</td>\n      <td>Timothy Dalton</td>\n      <td>John Glen</td>\n      <td>250.9</td>\n      <td>56.7</td>\n      <td>7.9</td>\n    </tr>\n    <tr>\n      <th>Live and Let Die</th>\n      <td>1973</td>\n      <td>Roger Moore</td>\n      <td>Guy Hamilton</td>\n      <td>460.3</td>\n      <td>30.8</td>\n      <td>NaN</td>\n    </tr>\n    <tr>\n      <th>Moonraker</th>\n      <td>1979</td>\n      <td>Roger Moore</td>\n      <td>Lewis Gilbert</td>\n      <td>535.0</td>\n      <td>91.5</td>\n      <td>NaN</td>\n    </tr>\n    <tr>\n      <th>Never Say Never Again</th>\n      <td>1983</td>\n      <td>Sean Connery</td>\n      <td>Irvin Kershner</td>\n      <td>380.0</td>\n      <td>86.0</td>\n      <td>NaN</td>\n    </tr>\n    <tr>\n      <th>No Time to Die</th>\n      <td>2021</td>\n      <td>Daniel Craig</td>\n      <td>Cary Joji Fukunaga</td>\n      <td>774.2</td>\n      <td>301.0</td>\n      <td>25.0</td>\n    </tr>\n    <tr>\n      <th>Octopussy</th>\n      <td>1983</td>\n      <td>Roger Moore</td>\n      <td>John Glen</td>\n      <td>373.8</td>\n      <td>53.9</td>\n      <td>7.8</td>\n    </tr>\n    <tr>\n      <th>On Her Majesty's Secret Service</th>\n      <td>1969</td>\n      <td>George Lazenby</td>\n      <td>Peter R. Hunt</td>\n      <td>291.5</td>\n      <td>37.3</td>\n      <td>0.6</td>\n    </tr>\n    <tr>\n      <th>Quantum of Solace</th>\n      <td>2008</td>\n      <td>Daniel Craig</td>\n      <td>Marc Forster</td>\n      <td>514.2</td>\n      <td>181.4</td>\n      <td>8.1</td>\n    </tr>\n    <tr>\n      <th>Skyfall</th>\n      <td>2012</td>\n      <td>Daniel Craig</td>\n      <td>Sam Mendes</td>\n      <td>943.5</td>\n      <td>170.2</td>\n      <td>14.5</td>\n    </tr>\n    <tr>\n      <th>Spectre</th>\n      <td>2015</td>\n      <td>Daniel Craig</td>\n      <td>Sam Mendes</td>\n      <td>726.7</td>\n      <td>206.3</td>\n      <td>30.0</td>\n    </tr>\n    <tr>\n      <th>The Living Daylights</th>\n      <td>1987</td>\n      <td>Timothy Dalton</td>\n      <td>John Glen</td>\n      <td>313.5</td>\n      <td>68.8</td>\n      <td>5.2</td>\n    </tr>\n    <tr>\n      <th>The Man with the Golden Gun</th>\n      <td>1974</td>\n      <td>Roger Moore</td>\n      <td>Guy Hamilton</td>\n      <td>334.0</td>\n      <td>27.7</td>\n      <td>NaN</td>\n    </tr>\n    <tr>\n      <th>The Spy Who Loved Me</th>\n      <td>1977</td>\n      <td>Roger Moore</td>\n      <td>Lewis Gilbert</td>\n      <td>533.0</td>\n      <td>45.1</td>\n      <td>NaN</td>\n    </tr>\n    <tr>\n      <th>The World Is Not Enough</th>\n      <td>1999</td>\n      <td>Pierce Brosnan</td>\n      <td>Michael Apted</td>\n      <td>439.5</td>\n      <td>158.3</td>\n      <td>13.5</td>\n    </tr>\n    <tr>\n      <th>Thunderball</th>\n      <td>1965</td>\n      <td>Sean Connery</td>\n      <td>Terence Young</td>\n      <td>848.1</td>\n      <td>41.9</td>\n      <td>4.7</td>\n    </tr>\n    <tr>\n      <th>Tomorrow Never Dies</th>\n      <td>1997</td>\n      <td>Pierce Brosnan</td>\n      <td>Roger Spottiswoode</td>\n      <td>463.2</td>\n      <td>133.9</td>\n      <td>10.0</td>\n    </tr>\n    <tr>\n      <th>You Only Live Twice</th>\n      <td>1967</td>\n      <td>Sean Connery</td>\n      <td>Lewis Gilbert</td>\n      <td>514.2</td>\n      <td>59.9</td>\n      <td>4.4</td>\n    </tr>\n  </tbody>\n</table>\n</div>"
     },
     "execution_count": 40,
     "metadata": {},
     "output_type": "execute_result"
    }
   ],
   "source": [
    "bond"
   ],
   "metadata": {
    "collapsed": false,
    "ExecuteTime": {
     "end_time": "2025-04-18T09:51:34.263160400Z",
     "start_time": "2025-04-18T09:51:34.235632100Z"
    }
   },
   "id": "b6e952efcd1c18bb"
  },
  {
   "cell_type": "code",
   "execution_count": 45,
   "outputs": [],
   "source": [
    "\"\"\"rename column indexes\"\"\"\n",
    "bond.rename(columns={\"Year\": \"Year of Release\", \"Box Office\":\"Revenue\"}) #its a copy\n",
    "bond=bond.rename(columns={\"Year\": \"Year of Release\", \"Box Office\":\"Revenue\"})"
   ],
   "metadata": {
    "collapsed": false,
    "ExecuteTime": {
     "end_time": "2025-04-18T10:06:08.901262300Z",
     "start_time": "2025-04-18T10:06:08.878943900Z"
    }
   },
   "id": "cd1ebfd4ad15cf94"
  },
  {
   "cell_type": "code",
   "execution_count": 46,
   "outputs": [
    {
     "data": {
      "text/plain": "                                 Year of Release             Actor  \\\nFilm                                                                 \nA View to a Kill                            1985       Roger Moore   \nCasino Royale                               2006      Daniel Craig   \nCasino Royale                               1967       David Niven   \nDiamonds Are Forever                        1971  Sir Sean Connery   \nDie Another Day                             2002    Pierce Brosnan   \nDr No                                       1962  Sir Sean Connery   \nFor Your Eyes Only                          1981       Roger Moore   \nFrom Russia with Love                       1963  Sir Sean Connery   \nGoldenEye                                   1995    Pierce Brosnan   \nGoldfinger                                  1964  Sir Sean Connery   \nLicence to Kill                             1989    Timothy Dalton   \nLive and Let Die                            1973       Roger Moore   \nMoonraker                                   1979       Roger Moore   \nNever Say Never Again                       1983  Sir Sean Connery   \nNo Time to Die                              2021      Daniel Craig   \nOctopussy                                   1983       Roger Moore   \nOn Her Majesty's Secret Service             1969    George Lazenby   \nQuantum of Solace                           2008      Daniel Craig   \nSkyfall                                     2012      Daniel Craig   \nSpectre                                     2015      Daniel Craig   \nThe Living Daylights                        1987    Timothy Dalton   \nThe Man with the Golden Gun                 1974       Roger Moore   \nThe Spy Who Loved Me                        1977       Roger Moore   \nThe World Is Not Enough                     1999    Pierce Brosnan   \nThunderball                                 1965  Sir Sean Connery   \nTomorrow Never Dies                         1997    Pierce Brosnan   \nYou Only Live Twice                         1967  Sir Sean Connery   \n\n                                           Director  Revenue  Budget  \\\nFilm                                                                   \nA View to a Kill                          John Glen    275.2    54.5   \nCasino Royale                       Martin Campbell    581.5   145.3   \nCasino Royale                            Ken Hughes    315.0    85.0   \nDiamonds Are Forever                   Guy Hamilton    442.5    34.7   \nDie Another Day                        Lee Tamahori    465.4   154.2   \nDr No                                 Terence Young    448.8     7.0   \nFor Your Eyes Only                        John Glen    449.4    60.2   \nFrom Russia with Love                 Terence Young    543.8    12.6   \nGoldenEye                           Martin Campbell    518.5    76.9   \nGoldfinger                             Guy Hamilton    820.4    18.6   \nLicence to Kill                           John Glen    250.9    56.7   \nLive and Let Die                       Guy Hamilton    460.3    30.8   \nMoonraker                             Lewis Gilbert    535.0    91.5   \nNever Say Never Again                Irvin Kershner    380.0    86.0   \nNo Time to Die                   Cary Joji Fukunaga    774.2   301.0   \nOctopussy                                 John Glen    373.8    53.9   \nOn Her Majesty's Secret Service       Peter R. Hunt    291.5    37.3   \nQuantum of Solace                      Marc Forster    514.2   181.4   \nSkyfall                                  Sam Mendes    943.5   170.2   \nSpectre                                  Sam Mendes    726.7   206.3   \nThe Living Daylights                      John Glen    313.5    68.8   \nThe Man with the Golden Gun            Guy Hamilton    334.0    27.7   \nThe Spy Who Loved Me                  Lewis Gilbert    533.0    45.1   \nThe World Is Not Enough               Michael Apted    439.5   158.3   \nThunderball                           Terence Young    848.1    41.9   \nTomorrow Never Dies              Roger Spottiswoode    463.2   133.9   \nYou Only Live Twice                   Lewis Gilbert    514.2    59.9   \n\n                                 Bond Actor Salary  \nFilm                                                \nA View to a Kill                               9.1  \nCasino Royale                                  3.3  \nCasino Royale                                  NaN  \nDiamonds Are Forever                           5.8  \nDie Another Day                               17.9  \nDr No                                          0.6  \nFor Your Eyes Only                             NaN  \nFrom Russia with Love                          1.6  \nGoldenEye                                      5.1  \nGoldfinger                                     3.2  \nLicence to Kill                                7.9  \nLive and Let Die                               NaN  \nMoonraker                                      NaN  \nNever Say Never Again                          NaN  \nNo Time to Die                                25.0  \nOctopussy                                      7.8  \nOn Her Majesty's Secret Service                0.6  \nQuantum of Solace                              8.1  \nSkyfall                                       14.5  \nSpectre                                       30.0  \nThe Living Daylights                           5.2  \nThe Man with the Golden Gun                    NaN  \nThe Spy Who Loved Me                           NaN  \nThe World Is Not Enough                       13.5  \nThunderball                                    4.7  \nTomorrow Never Dies                           10.0  \nYou Only Live Twice                            4.4  ",
      "text/html": "<div>\n<style scoped>\n    .dataframe tbody tr th:only-of-type {\n        vertical-align: middle;\n    }\n\n    .dataframe tbody tr th {\n        vertical-align: top;\n    }\n\n    .dataframe thead th {\n        text-align: right;\n    }\n</style>\n<table border=\"1\" class=\"dataframe\">\n  <thead>\n    <tr style=\"text-align: right;\">\n      <th></th>\n      <th>Year of Release</th>\n      <th>Actor</th>\n      <th>Director</th>\n      <th>Revenue</th>\n      <th>Budget</th>\n      <th>Bond Actor Salary</th>\n    </tr>\n    <tr>\n      <th>Film</th>\n      <th></th>\n      <th></th>\n      <th></th>\n      <th></th>\n      <th></th>\n      <th></th>\n    </tr>\n  </thead>\n  <tbody>\n    <tr>\n      <th>A View to a Kill</th>\n      <td>1985</td>\n      <td>Roger Moore</td>\n      <td>John Glen</td>\n      <td>275.2</td>\n      <td>54.5</td>\n      <td>9.1</td>\n    </tr>\n    <tr>\n      <th>Casino Royale</th>\n      <td>2006</td>\n      <td>Daniel Craig</td>\n      <td>Martin Campbell</td>\n      <td>581.5</td>\n      <td>145.3</td>\n      <td>3.3</td>\n    </tr>\n    <tr>\n      <th>Casino Royale</th>\n      <td>1967</td>\n      <td>David Niven</td>\n      <td>Ken Hughes</td>\n      <td>315.0</td>\n      <td>85.0</td>\n      <td>NaN</td>\n    </tr>\n    <tr>\n      <th>Diamonds Are Forever</th>\n      <td>1971</td>\n      <td>Sir Sean Connery</td>\n      <td>Guy Hamilton</td>\n      <td>442.5</td>\n      <td>34.7</td>\n      <td>5.8</td>\n    </tr>\n    <tr>\n      <th>Die Another Day</th>\n      <td>2002</td>\n      <td>Pierce Brosnan</td>\n      <td>Lee Tamahori</td>\n      <td>465.4</td>\n      <td>154.2</td>\n      <td>17.9</td>\n    </tr>\n    <tr>\n      <th>Dr No</th>\n      <td>1962</td>\n      <td>Sir Sean Connery</td>\n      <td>Terence Young</td>\n      <td>448.8</td>\n      <td>7.0</td>\n      <td>0.6</td>\n    </tr>\n    <tr>\n      <th>For Your Eyes Only</th>\n      <td>1981</td>\n      <td>Roger Moore</td>\n      <td>John Glen</td>\n      <td>449.4</td>\n      <td>60.2</td>\n      <td>NaN</td>\n    </tr>\n    <tr>\n      <th>From Russia with Love</th>\n      <td>1963</td>\n      <td>Sir Sean Connery</td>\n      <td>Terence Young</td>\n      <td>543.8</td>\n      <td>12.6</td>\n      <td>1.6</td>\n    </tr>\n    <tr>\n      <th>GoldenEye</th>\n      <td>1995</td>\n      <td>Pierce Brosnan</td>\n      <td>Martin Campbell</td>\n      <td>518.5</td>\n      <td>76.9</td>\n      <td>5.1</td>\n    </tr>\n    <tr>\n      <th>Goldfinger</th>\n      <td>1964</td>\n      <td>Sir Sean Connery</td>\n      <td>Guy Hamilton</td>\n      <td>820.4</td>\n      <td>18.6</td>\n      <td>3.2</td>\n    </tr>\n    <tr>\n      <th>Licence to Kill</th>\n      <td>1989</td>\n      <td>Timothy Dalton</td>\n      <td>John Glen</td>\n      <td>250.9</td>\n      <td>56.7</td>\n      <td>7.9</td>\n    </tr>\n    <tr>\n      <th>Live and Let Die</th>\n      <td>1973</td>\n      <td>Roger Moore</td>\n      <td>Guy Hamilton</td>\n      <td>460.3</td>\n      <td>30.8</td>\n      <td>NaN</td>\n    </tr>\n    <tr>\n      <th>Moonraker</th>\n      <td>1979</td>\n      <td>Roger Moore</td>\n      <td>Lewis Gilbert</td>\n      <td>535.0</td>\n      <td>91.5</td>\n      <td>NaN</td>\n    </tr>\n    <tr>\n      <th>Never Say Never Again</th>\n      <td>1983</td>\n      <td>Sir Sean Connery</td>\n      <td>Irvin Kershner</td>\n      <td>380.0</td>\n      <td>86.0</td>\n      <td>NaN</td>\n    </tr>\n    <tr>\n      <th>No Time to Die</th>\n      <td>2021</td>\n      <td>Daniel Craig</td>\n      <td>Cary Joji Fukunaga</td>\n      <td>774.2</td>\n      <td>301.0</td>\n      <td>25.0</td>\n    </tr>\n    <tr>\n      <th>Octopussy</th>\n      <td>1983</td>\n      <td>Roger Moore</td>\n      <td>John Glen</td>\n      <td>373.8</td>\n      <td>53.9</td>\n      <td>7.8</td>\n    </tr>\n    <tr>\n      <th>On Her Majesty's Secret Service</th>\n      <td>1969</td>\n      <td>George Lazenby</td>\n      <td>Peter R. Hunt</td>\n      <td>291.5</td>\n      <td>37.3</td>\n      <td>0.6</td>\n    </tr>\n    <tr>\n      <th>Quantum of Solace</th>\n      <td>2008</td>\n      <td>Daniel Craig</td>\n      <td>Marc Forster</td>\n      <td>514.2</td>\n      <td>181.4</td>\n      <td>8.1</td>\n    </tr>\n    <tr>\n      <th>Skyfall</th>\n      <td>2012</td>\n      <td>Daniel Craig</td>\n      <td>Sam Mendes</td>\n      <td>943.5</td>\n      <td>170.2</td>\n      <td>14.5</td>\n    </tr>\n    <tr>\n      <th>Spectre</th>\n      <td>2015</td>\n      <td>Daniel Craig</td>\n      <td>Sam Mendes</td>\n      <td>726.7</td>\n      <td>206.3</td>\n      <td>30.0</td>\n    </tr>\n    <tr>\n      <th>The Living Daylights</th>\n      <td>1987</td>\n      <td>Timothy Dalton</td>\n      <td>John Glen</td>\n      <td>313.5</td>\n      <td>68.8</td>\n      <td>5.2</td>\n    </tr>\n    <tr>\n      <th>The Man with the Golden Gun</th>\n      <td>1974</td>\n      <td>Roger Moore</td>\n      <td>Guy Hamilton</td>\n      <td>334.0</td>\n      <td>27.7</td>\n      <td>NaN</td>\n    </tr>\n    <tr>\n      <th>The Spy Who Loved Me</th>\n      <td>1977</td>\n      <td>Roger Moore</td>\n      <td>Lewis Gilbert</td>\n      <td>533.0</td>\n      <td>45.1</td>\n      <td>NaN</td>\n    </tr>\n    <tr>\n      <th>The World Is Not Enough</th>\n      <td>1999</td>\n      <td>Pierce Brosnan</td>\n      <td>Michael Apted</td>\n      <td>439.5</td>\n      <td>158.3</td>\n      <td>13.5</td>\n    </tr>\n    <tr>\n      <th>Thunderball</th>\n      <td>1965</td>\n      <td>Sir Sean Connery</td>\n      <td>Terence Young</td>\n      <td>848.1</td>\n      <td>41.9</td>\n      <td>4.7</td>\n    </tr>\n    <tr>\n      <th>Tomorrow Never Dies</th>\n      <td>1997</td>\n      <td>Pierce Brosnan</td>\n      <td>Roger Spottiswoode</td>\n      <td>463.2</td>\n      <td>133.9</td>\n      <td>10.0</td>\n    </tr>\n    <tr>\n      <th>You Only Live Twice</th>\n      <td>1967</td>\n      <td>Sir Sean Connery</td>\n      <td>Lewis Gilbert</td>\n      <td>514.2</td>\n      <td>59.9</td>\n      <td>4.4</td>\n    </tr>\n  </tbody>\n</table>\n</div>"
     },
     "execution_count": 46,
     "metadata": {},
     "output_type": "execute_result"
    }
   ],
   "source": [
    "\"\"\"now chaanging row indexes\"\"\"\n",
    "swaps={\n",
    "    \"Dr. No\":\"Dr No\",\n",
    "    \"Goldeneye\":\"Golden Eye\"\n",
    "}\n",
    "bond.rename(index=swaps)"
   ],
   "metadata": {
    "collapsed": false,
    "ExecuteTime": {
     "end_time": "2025-04-18T10:21:47.873841300Z",
     "start_time": "2025-04-18T10:21:47.834182200Z"
    }
   },
   "id": "ab4ce903667bd832"
  },
  {
   "cell_type": "code",
   "execution_count": 49,
   "outputs": [],
   "source": [
    "type(bond.columns)\n",
    "bond.columns = [\"Year\", \"Bond Guy\", \"Camere Dude\", \"Revenues\", \"Cost\", \"Salary\"]\n",
    "#its goona be valid only if are changing all data collection"
   ],
   "metadata": {
    "collapsed": false,
    "ExecuteTime": {
     "end_time": "2025-04-18T10:24:25.540324800Z",
     "start_time": "2025-04-18T10:24:25.517183500Z"
    }
   },
   "id": "b39d23b35ce9b80e"
  },
  {
   "cell_type": "markdown",
   "source": [],
   "metadata": {
    "collapsed": false
   },
   "id": "edc4e37f9bc190e5"
  },
  {
   "cell_type": "code",
   "execution_count": 52,
   "outputs": [
    {
     "data": {
      "text/plain": "                                 Year           Actor            Director  \\\nFilm                                                                        \nA View to a Kill                 1985     Roger Moore           John Glen   \nCasino Royale                    2006    Daniel Craig     Martin Campbell   \nCasino Royale                    1967     David Niven          Ken Hughes   \nDiamonds Are Forever             1971    Sean Connery        Guy Hamilton   \nDie Another Day                  2002  Pierce Brosnan        Lee Tamahori   \nDr. No                           1962    Sean Connery       Terence Young   \nFor Your Eyes Only               1981     Roger Moore           John Glen   \nFrom Russia with Love            1963    Sean Connery       Terence Young   \nGoldenEye                        1995  Pierce Brosnan     Martin Campbell   \nGoldfinger                       1964    Sean Connery        Guy Hamilton   \nLicence to Kill                  1989  Timothy Dalton           John Glen   \nLive and Let Die                 1973     Roger Moore        Guy Hamilton   \nMoonraker                        1979     Roger Moore       Lewis Gilbert   \nNever Say Never Again            1983    Sean Connery      Irvin Kershner   \nNo Time to Die                   2021    Daniel Craig  Cary Joji Fukunaga   \nOctopussy                        1983     Roger Moore           John Glen   \nOn Her Majesty's Secret Service  1969  George Lazenby       Peter R. Hunt   \nQuantum of Solace                2008    Daniel Craig        Marc Forster   \nSkyfall                          2012    Daniel Craig          Sam Mendes   \nSpectre                          2015    Daniel Craig          Sam Mendes   \nThe Living Daylights             1987  Timothy Dalton           John Glen   \nThe Man with the Golden Gun      1974     Roger Moore        Guy Hamilton   \nThe Spy Who Loved Me             1977     Roger Moore       Lewis Gilbert   \nThe World Is Not Enough          1999  Pierce Brosnan       Michael Apted   \nThunderball                      1965    Sean Connery       Terence Young   \nTomorrow Never Dies              1997  Pierce Brosnan  Roger Spottiswoode   \nYou Only Live Twice              1967    Sean Connery       Lewis Gilbert   \n\n                                 Bond Actor Salary  \nFilm                                                \nA View to a Kill                               9.1  \nCasino Royale                                  3.3  \nCasino Royale                                  NaN  \nDiamonds Are Forever                           5.8  \nDie Another Day                               17.9  \nDr. No                                         0.6  \nFor Your Eyes Only                             NaN  \nFrom Russia with Love                          1.6  \nGoldenEye                                      5.1  \nGoldfinger                                     3.2  \nLicence to Kill                                7.9  \nLive and Let Die                               NaN  \nMoonraker                                      NaN  \nNever Say Never Again                          NaN  \nNo Time to Die                                25.0  \nOctopussy                                      7.8  \nOn Her Majesty's Secret Service                0.6  \nQuantum of Solace                              8.1  \nSkyfall                                       14.5  \nSpectre                                       30.0  \nThe Living Daylights                           5.2  \nThe Man with the Golden Gun                    NaN  \nThe Spy Who Loved Me                           NaN  \nThe World Is Not Enough                       13.5  \nThunderball                                    4.7  \nTomorrow Never Dies                           10.0  \nYou Only Live Twice                            4.4  ",
      "text/html": "<div>\n<style scoped>\n    .dataframe tbody tr th:only-of-type {\n        vertical-align: middle;\n    }\n\n    .dataframe tbody tr th {\n        vertical-align: top;\n    }\n\n    .dataframe thead th {\n        text-align: right;\n    }\n</style>\n<table border=\"1\" class=\"dataframe\">\n  <thead>\n    <tr style=\"text-align: right;\">\n      <th></th>\n      <th>Year</th>\n      <th>Actor</th>\n      <th>Director</th>\n      <th>Bond Actor Salary</th>\n    </tr>\n    <tr>\n      <th>Film</th>\n      <th></th>\n      <th></th>\n      <th></th>\n      <th></th>\n    </tr>\n  </thead>\n  <tbody>\n    <tr>\n      <th>A View to a Kill</th>\n      <td>1985</td>\n      <td>Roger Moore</td>\n      <td>John Glen</td>\n      <td>9.1</td>\n    </tr>\n    <tr>\n      <th>Casino Royale</th>\n      <td>2006</td>\n      <td>Daniel Craig</td>\n      <td>Martin Campbell</td>\n      <td>3.3</td>\n    </tr>\n    <tr>\n      <th>Casino Royale</th>\n      <td>1967</td>\n      <td>David Niven</td>\n      <td>Ken Hughes</td>\n      <td>NaN</td>\n    </tr>\n    <tr>\n      <th>Diamonds Are Forever</th>\n      <td>1971</td>\n      <td>Sean Connery</td>\n      <td>Guy Hamilton</td>\n      <td>5.8</td>\n    </tr>\n    <tr>\n      <th>Die Another Day</th>\n      <td>2002</td>\n      <td>Pierce Brosnan</td>\n      <td>Lee Tamahori</td>\n      <td>17.9</td>\n    </tr>\n    <tr>\n      <th>Dr. No</th>\n      <td>1962</td>\n      <td>Sean Connery</td>\n      <td>Terence Young</td>\n      <td>0.6</td>\n    </tr>\n    <tr>\n      <th>For Your Eyes Only</th>\n      <td>1981</td>\n      <td>Roger Moore</td>\n      <td>John Glen</td>\n      <td>NaN</td>\n    </tr>\n    <tr>\n      <th>From Russia with Love</th>\n      <td>1963</td>\n      <td>Sean Connery</td>\n      <td>Terence Young</td>\n      <td>1.6</td>\n    </tr>\n    <tr>\n      <th>GoldenEye</th>\n      <td>1995</td>\n      <td>Pierce Brosnan</td>\n      <td>Martin Campbell</td>\n      <td>5.1</td>\n    </tr>\n    <tr>\n      <th>Goldfinger</th>\n      <td>1964</td>\n      <td>Sean Connery</td>\n      <td>Guy Hamilton</td>\n      <td>3.2</td>\n    </tr>\n    <tr>\n      <th>Licence to Kill</th>\n      <td>1989</td>\n      <td>Timothy Dalton</td>\n      <td>John Glen</td>\n      <td>7.9</td>\n    </tr>\n    <tr>\n      <th>Live and Let Die</th>\n      <td>1973</td>\n      <td>Roger Moore</td>\n      <td>Guy Hamilton</td>\n      <td>NaN</td>\n    </tr>\n    <tr>\n      <th>Moonraker</th>\n      <td>1979</td>\n      <td>Roger Moore</td>\n      <td>Lewis Gilbert</td>\n      <td>NaN</td>\n    </tr>\n    <tr>\n      <th>Never Say Never Again</th>\n      <td>1983</td>\n      <td>Sean Connery</td>\n      <td>Irvin Kershner</td>\n      <td>NaN</td>\n    </tr>\n    <tr>\n      <th>No Time to Die</th>\n      <td>2021</td>\n      <td>Daniel Craig</td>\n      <td>Cary Joji Fukunaga</td>\n      <td>25.0</td>\n    </tr>\n    <tr>\n      <th>Octopussy</th>\n      <td>1983</td>\n      <td>Roger Moore</td>\n      <td>John Glen</td>\n      <td>7.8</td>\n    </tr>\n    <tr>\n      <th>On Her Majesty's Secret Service</th>\n      <td>1969</td>\n      <td>George Lazenby</td>\n      <td>Peter R. Hunt</td>\n      <td>0.6</td>\n    </tr>\n    <tr>\n      <th>Quantum of Solace</th>\n      <td>2008</td>\n      <td>Daniel Craig</td>\n      <td>Marc Forster</td>\n      <td>8.1</td>\n    </tr>\n    <tr>\n      <th>Skyfall</th>\n      <td>2012</td>\n      <td>Daniel Craig</td>\n      <td>Sam Mendes</td>\n      <td>14.5</td>\n    </tr>\n    <tr>\n      <th>Spectre</th>\n      <td>2015</td>\n      <td>Daniel Craig</td>\n      <td>Sam Mendes</td>\n      <td>30.0</td>\n    </tr>\n    <tr>\n      <th>The Living Daylights</th>\n      <td>1987</td>\n      <td>Timothy Dalton</td>\n      <td>John Glen</td>\n      <td>5.2</td>\n    </tr>\n    <tr>\n      <th>The Man with the Golden Gun</th>\n      <td>1974</td>\n      <td>Roger Moore</td>\n      <td>Guy Hamilton</td>\n      <td>NaN</td>\n    </tr>\n    <tr>\n      <th>The Spy Who Loved Me</th>\n      <td>1977</td>\n      <td>Roger Moore</td>\n      <td>Lewis Gilbert</td>\n      <td>NaN</td>\n    </tr>\n    <tr>\n      <th>The World Is Not Enough</th>\n      <td>1999</td>\n      <td>Pierce Brosnan</td>\n      <td>Michael Apted</td>\n      <td>13.5</td>\n    </tr>\n    <tr>\n      <th>Thunderball</th>\n      <td>1965</td>\n      <td>Sean Connery</td>\n      <td>Terence Young</td>\n      <td>4.7</td>\n    </tr>\n    <tr>\n      <th>Tomorrow Never Dies</th>\n      <td>1997</td>\n      <td>Pierce Brosnan</td>\n      <td>Roger Spottiswoode</td>\n      <td>10.0</td>\n    </tr>\n    <tr>\n      <th>You Only Live Twice</th>\n      <td>1967</td>\n      <td>Sean Connery</td>\n      <td>Lewis Gilbert</td>\n      <td>4.4</td>\n    </tr>\n  </tbody>\n</table>\n</div>"
     },
     "execution_count": 52,
     "metadata": {},
     "output_type": "execute_result"
    }
   ],
   "source": [
    "\"\"\"DELETEING COLUMNS\"\"\"\n",
    "bond.drop(columns=[\"Box Office\", \"Budget\"]) #on a copy"
   ],
   "metadata": {
    "collapsed": false,
    "ExecuteTime": {
     "end_time": "2025-04-18T10:29:19.533365400Z",
     "start_time": "2025-04-18T10:29:19.518435200Z"
    }
   },
   "id": "5942bdeb8af41261"
  },
  {
   "cell_type": "code",
   "execution_count": 53,
   "outputs": [
    {
     "data": {
      "text/plain": "                                          Actor            Director  \\\nFilm                                                                  \nA View to a Kill                    Roger Moore           John Glen   \nDiamonds Are Forever               Sean Connery        Guy Hamilton   \nDie Another Day                  Pierce Brosnan        Lee Tamahori   \nDr. No                             Sean Connery       Terence Young   \nFor Your Eyes Only                  Roger Moore           John Glen   \nFrom Russia with Love              Sean Connery       Terence Young   \nGoldenEye                        Pierce Brosnan     Martin Campbell   \nGoldfinger                         Sean Connery        Guy Hamilton   \nLicence to Kill                  Timothy Dalton           John Glen   \nLive and Let Die                    Roger Moore        Guy Hamilton   \nMoonraker                           Roger Moore       Lewis Gilbert   \nNever Say Never Again              Sean Connery      Irvin Kershner   \nOctopussy                           Roger Moore           John Glen   \nOn Her Majesty's Secret Service  George Lazenby       Peter R. Hunt   \nQuantum of Solace                  Daniel Craig        Marc Forster   \nSkyfall                            Daniel Craig          Sam Mendes   \nSpectre                            Daniel Craig          Sam Mendes   \nThe Living Daylights             Timothy Dalton           John Glen   \nThe Man with the Golden Gun         Roger Moore        Guy Hamilton   \nThe Spy Who Loved Me                Roger Moore       Lewis Gilbert   \nThe World Is Not Enough          Pierce Brosnan       Michael Apted   \nThunderball                        Sean Connery       Terence Young   \nTomorrow Never Dies              Pierce Brosnan  Roger Spottiswoode   \nYou Only Live Twice                Sean Connery       Lewis Gilbert   \n\n                                 Box Office  Budget  Bond Actor Salary  \nFilm                                                                    \nA View to a Kill                      275.2    54.5                9.1  \nDiamonds Are Forever                  442.5    34.7                5.8  \nDie Another Day                       465.4   154.2               17.9  \nDr. No                                448.8     7.0                0.6  \nFor Your Eyes Only                    449.4    60.2                NaN  \nFrom Russia with Love                 543.8    12.6                1.6  \nGoldenEye                             518.5    76.9                5.1  \nGoldfinger                            820.4    18.6                3.2  \nLicence to Kill                       250.9    56.7                7.9  \nLive and Let Die                      460.3    30.8                NaN  \nMoonraker                             535.0    91.5                NaN  \nNever Say Never Again                 380.0    86.0                NaN  \nOctopussy                             373.8    53.9                7.8  \nOn Her Majesty's Secret Service       291.5    37.3                0.6  \nQuantum of Solace                     514.2   181.4                8.1  \nSkyfall                               943.5   170.2               14.5  \nSpectre                               726.7   206.3               30.0  \nThe Living Daylights                  313.5    68.8                5.2  \nThe Man with the Golden Gun           334.0    27.7                NaN  \nThe Spy Who Loved Me                  533.0    45.1                NaN  \nThe World Is Not Enough               439.5   158.3               13.5  \nThunderball                           848.1    41.9                4.7  \nTomorrow Never Dies                   463.2   133.9               10.0  \nYou Only Live Twice                   514.2    59.9                4.4  ",
      "text/html": "<div>\n<style scoped>\n    .dataframe tbody tr th:only-of-type {\n        vertical-align: middle;\n    }\n\n    .dataframe tbody tr th {\n        vertical-align: top;\n    }\n\n    .dataframe thead th {\n        text-align: right;\n    }\n</style>\n<table border=\"1\" class=\"dataframe\">\n  <thead>\n    <tr style=\"text-align: right;\">\n      <th></th>\n      <th>Actor</th>\n      <th>Director</th>\n      <th>Box Office</th>\n      <th>Budget</th>\n      <th>Bond Actor Salary</th>\n    </tr>\n    <tr>\n      <th>Film</th>\n      <th></th>\n      <th></th>\n      <th></th>\n      <th></th>\n      <th></th>\n    </tr>\n  </thead>\n  <tbody>\n    <tr>\n      <th>A View to a Kill</th>\n      <td>Roger Moore</td>\n      <td>John Glen</td>\n      <td>275.2</td>\n      <td>54.5</td>\n      <td>9.1</td>\n    </tr>\n    <tr>\n      <th>Diamonds Are Forever</th>\n      <td>Sean Connery</td>\n      <td>Guy Hamilton</td>\n      <td>442.5</td>\n      <td>34.7</td>\n      <td>5.8</td>\n    </tr>\n    <tr>\n      <th>Die Another Day</th>\n      <td>Pierce Brosnan</td>\n      <td>Lee Tamahori</td>\n      <td>465.4</td>\n      <td>154.2</td>\n      <td>17.9</td>\n    </tr>\n    <tr>\n      <th>Dr. No</th>\n      <td>Sean Connery</td>\n      <td>Terence Young</td>\n      <td>448.8</td>\n      <td>7.0</td>\n      <td>0.6</td>\n    </tr>\n    <tr>\n      <th>For Your Eyes Only</th>\n      <td>Roger Moore</td>\n      <td>John Glen</td>\n      <td>449.4</td>\n      <td>60.2</td>\n      <td>NaN</td>\n    </tr>\n    <tr>\n      <th>From Russia with Love</th>\n      <td>Sean Connery</td>\n      <td>Terence Young</td>\n      <td>543.8</td>\n      <td>12.6</td>\n      <td>1.6</td>\n    </tr>\n    <tr>\n      <th>GoldenEye</th>\n      <td>Pierce Brosnan</td>\n      <td>Martin Campbell</td>\n      <td>518.5</td>\n      <td>76.9</td>\n      <td>5.1</td>\n    </tr>\n    <tr>\n      <th>Goldfinger</th>\n      <td>Sean Connery</td>\n      <td>Guy Hamilton</td>\n      <td>820.4</td>\n      <td>18.6</td>\n      <td>3.2</td>\n    </tr>\n    <tr>\n      <th>Licence to Kill</th>\n      <td>Timothy Dalton</td>\n      <td>John Glen</td>\n      <td>250.9</td>\n      <td>56.7</td>\n      <td>7.9</td>\n    </tr>\n    <tr>\n      <th>Live and Let Die</th>\n      <td>Roger Moore</td>\n      <td>Guy Hamilton</td>\n      <td>460.3</td>\n      <td>30.8</td>\n      <td>NaN</td>\n    </tr>\n    <tr>\n      <th>Moonraker</th>\n      <td>Roger Moore</td>\n      <td>Lewis Gilbert</td>\n      <td>535.0</td>\n      <td>91.5</td>\n      <td>NaN</td>\n    </tr>\n    <tr>\n      <th>Never Say Never Again</th>\n      <td>Sean Connery</td>\n      <td>Irvin Kershner</td>\n      <td>380.0</td>\n      <td>86.0</td>\n      <td>NaN</td>\n    </tr>\n    <tr>\n      <th>Octopussy</th>\n      <td>Roger Moore</td>\n      <td>John Glen</td>\n      <td>373.8</td>\n      <td>53.9</td>\n      <td>7.8</td>\n    </tr>\n    <tr>\n      <th>On Her Majesty's Secret Service</th>\n      <td>George Lazenby</td>\n      <td>Peter R. Hunt</td>\n      <td>291.5</td>\n      <td>37.3</td>\n      <td>0.6</td>\n    </tr>\n    <tr>\n      <th>Quantum of Solace</th>\n      <td>Daniel Craig</td>\n      <td>Marc Forster</td>\n      <td>514.2</td>\n      <td>181.4</td>\n      <td>8.1</td>\n    </tr>\n    <tr>\n      <th>Skyfall</th>\n      <td>Daniel Craig</td>\n      <td>Sam Mendes</td>\n      <td>943.5</td>\n      <td>170.2</td>\n      <td>14.5</td>\n    </tr>\n    <tr>\n      <th>Spectre</th>\n      <td>Daniel Craig</td>\n      <td>Sam Mendes</td>\n      <td>726.7</td>\n      <td>206.3</td>\n      <td>30.0</td>\n    </tr>\n    <tr>\n      <th>The Living Daylights</th>\n      <td>Timothy Dalton</td>\n      <td>John Glen</td>\n      <td>313.5</td>\n      <td>68.8</td>\n      <td>5.2</td>\n    </tr>\n    <tr>\n      <th>The Man with the Golden Gun</th>\n      <td>Roger Moore</td>\n      <td>Guy Hamilton</td>\n      <td>334.0</td>\n      <td>27.7</td>\n      <td>NaN</td>\n    </tr>\n    <tr>\n      <th>The Spy Who Loved Me</th>\n      <td>Roger Moore</td>\n      <td>Lewis Gilbert</td>\n      <td>533.0</td>\n      <td>45.1</td>\n      <td>NaN</td>\n    </tr>\n    <tr>\n      <th>The World Is Not Enough</th>\n      <td>Pierce Brosnan</td>\n      <td>Michael Apted</td>\n      <td>439.5</td>\n      <td>158.3</td>\n      <td>13.5</td>\n    </tr>\n    <tr>\n      <th>Thunderball</th>\n      <td>Sean Connery</td>\n      <td>Terence Young</td>\n      <td>848.1</td>\n      <td>41.9</td>\n      <td>4.7</td>\n    </tr>\n    <tr>\n      <th>Tomorrow Never Dies</th>\n      <td>Pierce Brosnan</td>\n      <td>Roger Spottiswoode</td>\n      <td>463.2</td>\n      <td>133.9</td>\n      <td>10.0</td>\n    </tr>\n    <tr>\n      <th>You Only Live Twice</th>\n      <td>Sean Connery</td>\n      <td>Lewis Gilbert</td>\n      <td>514.2</td>\n      <td>59.9</td>\n      <td>4.4</td>\n    </tr>\n  </tbody>\n</table>\n</div>"
     },
     "execution_count": 53,
     "metadata": {},
     "output_type": "execute_result"
    }
   ],
   "source": [
    "\"\"\"deleting row indexes\"\"\"\n",
    "bond.drop(index=[\"No Time to Die\", \"Casino Royale\"], columns=[\"Year\"])"
   ],
   "metadata": {
    "collapsed": false,
    "ExecuteTime": {
     "end_time": "2025-04-18T10:30:42.559032700Z",
     "start_time": "2025-04-18T10:30:42.523446100Z"
    }
   },
   "id": "3f6a03c9779696ae"
  },
  {
   "cell_type": "code",
   "execution_count": 55,
   "outputs": [
    {
     "data": {
      "text/plain": "Film\nA View to a Kill                      Roger Moore\nCasino Royale                        Daniel Craig\nCasino Royale                         David Niven\nDiamonds Are Forever                 Sean Connery\nDie Another Day                    Pierce Brosnan\nDr. No                               Sean Connery\nFor Your Eyes Only                    Roger Moore\nFrom Russia with Love                Sean Connery\nGoldenEye                          Pierce Brosnan\nGoldfinger                           Sean Connery\nLicence to Kill                    Timothy Dalton\nLive and Let Die                      Roger Moore\nMoonraker                             Roger Moore\nNever Say Never Again                Sean Connery\nNo Time to Die                       Daniel Craig\nOctopussy                             Roger Moore\nOn Her Majesty's Secret Service    George Lazenby\nQuantum of Solace                    Daniel Craig\nSkyfall                              Daniel Craig\nSpectre                              Daniel Craig\nThe Living Daylights               Timothy Dalton\nThe Man with the Golden Gun           Roger Moore\nThe Spy Who Loved Me                  Roger Moore\nThe World Is Not Enough            Pierce Brosnan\nThunderball                          Sean Connery\nTomorrow Never Dies                Pierce Brosnan\nYou Only Live Twice                  Sean Connery\nName: Actor, dtype: object"
     },
     "execution_count": 55,
     "metadata": {},
     "output_type": "execute_result"
    }
   ],
   "source": [
    "\"\"\"WARNING .POP IS MUTATIONAL METHOD SO IT WILL CHANGE ORIGINAL DF IDK WHY inconsistency\"\"\"\n",
    "bond.pop(\"Actor\")"
   ],
   "metadata": {
    "collapsed": false,
    "ExecuteTime": {
     "end_time": "2025-04-18T10:32:32.963263900Z",
     "start_time": "2025-04-18T10:32:32.932911600Z"
    }
   },
   "id": "15dbc11ce5094b99"
  },
  {
   "cell_type": "code",
   "execution_count": 56,
   "outputs": [
    {
     "data": {
      "text/plain": "                                 Year            Director  Box Office  Budget  \\\nFilm                                                                            \nA View to a Kill                 1985           John Glen       275.2    54.5   \nCasino Royale                    2006     Martin Campbell       581.5   145.3   \nCasino Royale                    1967          Ken Hughes       315.0    85.0   \nDiamonds Are Forever             1971        Guy Hamilton       442.5    34.7   \nDie Another Day                  2002        Lee Tamahori       465.4   154.2   \nDr. No                           1962       Terence Young       448.8     7.0   \nFor Your Eyes Only               1981           John Glen       449.4    60.2   \nFrom Russia with Love            1963       Terence Young       543.8    12.6   \nGoldenEye                        1995     Martin Campbell       518.5    76.9   \nGoldfinger                       1964        Guy Hamilton       820.4    18.6   \nLicence to Kill                  1989           John Glen       250.9    56.7   \nLive and Let Die                 1973        Guy Hamilton       460.3    30.8   \nMoonraker                        1979       Lewis Gilbert       535.0    91.5   \nNever Say Never Again            1983      Irvin Kershner       380.0    86.0   \nNo Time to Die                   2021  Cary Joji Fukunaga       774.2   301.0   \nOctopussy                        1983           John Glen       373.8    53.9   \nOn Her Majesty's Secret Service  1969       Peter R. Hunt       291.5    37.3   \nQuantum of Solace                2008        Marc Forster       514.2   181.4   \nSkyfall                          2012          Sam Mendes       943.5   170.2   \nSpectre                          2015          Sam Mendes       726.7   206.3   \nThe Living Daylights             1987           John Glen       313.5    68.8   \nThe Man with the Golden Gun      1974        Guy Hamilton       334.0    27.7   \nThe Spy Who Loved Me             1977       Lewis Gilbert       533.0    45.1   \nThe World Is Not Enough          1999       Michael Apted       439.5   158.3   \nThunderball                      1965       Terence Young       848.1    41.9   \nTomorrow Never Dies              1997  Roger Spottiswoode       463.2   133.9   \nYou Only Live Twice              1967       Lewis Gilbert       514.2    59.9   \n\n                                 Bond Actor Salary  \nFilm                                                \nA View to a Kill                               9.1  \nCasino Royale                                  3.3  \nCasino Royale                                  NaN  \nDiamonds Are Forever                           5.8  \nDie Another Day                               17.9  \nDr. No                                         0.6  \nFor Your Eyes Only                             NaN  \nFrom Russia with Love                          1.6  \nGoldenEye                                      5.1  \nGoldfinger                                     3.2  \nLicence to Kill                                7.9  \nLive and Let Die                               NaN  \nMoonraker                                      NaN  \nNever Say Never Again                          NaN  \nNo Time to Die                                25.0  \nOctopussy                                      7.8  \nOn Her Majesty's Secret Service                0.6  \nQuantum of Solace                              8.1  \nSkyfall                                       14.5  \nSpectre                                       30.0  \nThe Living Daylights                           5.2  \nThe Man with the Golden Gun                    NaN  \nThe Spy Who Loved Me                           NaN  \nThe World Is Not Enough                       13.5  \nThunderball                                    4.7  \nTomorrow Never Dies                           10.0  \nYou Only Live Twice                            4.4  ",
      "text/html": "<div>\n<style scoped>\n    .dataframe tbody tr th:only-of-type {\n        vertical-align: middle;\n    }\n\n    .dataframe tbody tr th {\n        vertical-align: top;\n    }\n\n    .dataframe thead th {\n        text-align: right;\n    }\n</style>\n<table border=\"1\" class=\"dataframe\">\n  <thead>\n    <tr style=\"text-align: right;\">\n      <th></th>\n      <th>Year</th>\n      <th>Director</th>\n      <th>Box Office</th>\n      <th>Budget</th>\n      <th>Bond Actor Salary</th>\n    </tr>\n    <tr>\n      <th>Film</th>\n      <th></th>\n      <th></th>\n      <th></th>\n      <th></th>\n      <th></th>\n    </tr>\n  </thead>\n  <tbody>\n    <tr>\n      <th>A View to a Kill</th>\n      <td>1985</td>\n      <td>John Glen</td>\n      <td>275.2</td>\n      <td>54.5</td>\n      <td>9.1</td>\n    </tr>\n    <tr>\n      <th>Casino Royale</th>\n      <td>2006</td>\n      <td>Martin Campbell</td>\n      <td>581.5</td>\n      <td>145.3</td>\n      <td>3.3</td>\n    </tr>\n    <tr>\n      <th>Casino Royale</th>\n      <td>1967</td>\n      <td>Ken Hughes</td>\n      <td>315.0</td>\n      <td>85.0</td>\n      <td>NaN</td>\n    </tr>\n    <tr>\n      <th>Diamonds Are Forever</th>\n      <td>1971</td>\n      <td>Guy Hamilton</td>\n      <td>442.5</td>\n      <td>34.7</td>\n      <td>5.8</td>\n    </tr>\n    <tr>\n      <th>Die Another Day</th>\n      <td>2002</td>\n      <td>Lee Tamahori</td>\n      <td>465.4</td>\n      <td>154.2</td>\n      <td>17.9</td>\n    </tr>\n    <tr>\n      <th>Dr. No</th>\n      <td>1962</td>\n      <td>Terence Young</td>\n      <td>448.8</td>\n      <td>7.0</td>\n      <td>0.6</td>\n    </tr>\n    <tr>\n      <th>For Your Eyes Only</th>\n      <td>1981</td>\n      <td>John Glen</td>\n      <td>449.4</td>\n      <td>60.2</td>\n      <td>NaN</td>\n    </tr>\n    <tr>\n      <th>From Russia with Love</th>\n      <td>1963</td>\n      <td>Terence Young</td>\n      <td>543.8</td>\n      <td>12.6</td>\n      <td>1.6</td>\n    </tr>\n    <tr>\n      <th>GoldenEye</th>\n      <td>1995</td>\n      <td>Martin Campbell</td>\n      <td>518.5</td>\n      <td>76.9</td>\n      <td>5.1</td>\n    </tr>\n    <tr>\n      <th>Goldfinger</th>\n      <td>1964</td>\n      <td>Guy Hamilton</td>\n      <td>820.4</td>\n      <td>18.6</td>\n      <td>3.2</td>\n    </tr>\n    <tr>\n      <th>Licence to Kill</th>\n      <td>1989</td>\n      <td>John Glen</td>\n      <td>250.9</td>\n      <td>56.7</td>\n      <td>7.9</td>\n    </tr>\n    <tr>\n      <th>Live and Let Die</th>\n      <td>1973</td>\n      <td>Guy Hamilton</td>\n      <td>460.3</td>\n      <td>30.8</td>\n      <td>NaN</td>\n    </tr>\n    <tr>\n      <th>Moonraker</th>\n      <td>1979</td>\n      <td>Lewis Gilbert</td>\n      <td>535.0</td>\n      <td>91.5</td>\n      <td>NaN</td>\n    </tr>\n    <tr>\n      <th>Never Say Never Again</th>\n      <td>1983</td>\n      <td>Irvin Kershner</td>\n      <td>380.0</td>\n      <td>86.0</td>\n      <td>NaN</td>\n    </tr>\n    <tr>\n      <th>No Time to Die</th>\n      <td>2021</td>\n      <td>Cary Joji Fukunaga</td>\n      <td>774.2</td>\n      <td>301.0</td>\n      <td>25.0</td>\n    </tr>\n    <tr>\n      <th>Octopussy</th>\n      <td>1983</td>\n      <td>John Glen</td>\n      <td>373.8</td>\n      <td>53.9</td>\n      <td>7.8</td>\n    </tr>\n    <tr>\n      <th>On Her Majesty's Secret Service</th>\n      <td>1969</td>\n      <td>Peter R. Hunt</td>\n      <td>291.5</td>\n      <td>37.3</td>\n      <td>0.6</td>\n    </tr>\n    <tr>\n      <th>Quantum of Solace</th>\n      <td>2008</td>\n      <td>Marc Forster</td>\n      <td>514.2</td>\n      <td>181.4</td>\n      <td>8.1</td>\n    </tr>\n    <tr>\n      <th>Skyfall</th>\n      <td>2012</td>\n      <td>Sam Mendes</td>\n      <td>943.5</td>\n      <td>170.2</td>\n      <td>14.5</td>\n    </tr>\n    <tr>\n      <th>Spectre</th>\n      <td>2015</td>\n      <td>Sam Mendes</td>\n      <td>726.7</td>\n      <td>206.3</td>\n      <td>30.0</td>\n    </tr>\n    <tr>\n      <th>The Living Daylights</th>\n      <td>1987</td>\n      <td>John Glen</td>\n      <td>313.5</td>\n      <td>68.8</td>\n      <td>5.2</td>\n    </tr>\n    <tr>\n      <th>The Man with the Golden Gun</th>\n      <td>1974</td>\n      <td>Guy Hamilton</td>\n      <td>334.0</td>\n      <td>27.7</td>\n      <td>NaN</td>\n    </tr>\n    <tr>\n      <th>The Spy Who Loved Me</th>\n      <td>1977</td>\n      <td>Lewis Gilbert</td>\n      <td>533.0</td>\n      <td>45.1</td>\n      <td>NaN</td>\n    </tr>\n    <tr>\n      <th>The World Is Not Enough</th>\n      <td>1999</td>\n      <td>Michael Apted</td>\n      <td>439.5</td>\n      <td>158.3</td>\n      <td>13.5</td>\n    </tr>\n    <tr>\n      <th>Thunderball</th>\n      <td>1965</td>\n      <td>Terence Young</td>\n      <td>848.1</td>\n      <td>41.9</td>\n      <td>4.7</td>\n    </tr>\n    <tr>\n      <th>Tomorrow Never Dies</th>\n      <td>1997</td>\n      <td>Roger Spottiswoode</td>\n      <td>463.2</td>\n      <td>133.9</td>\n      <td>10.0</td>\n    </tr>\n    <tr>\n      <th>You Only Live Twice</th>\n      <td>1967</td>\n      <td>Lewis Gilbert</td>\n      <td>514.2</td>\n      <td>59.9</td>\n      <td>4.4</td>\n    </tr>\n  </tbody>\n</table>\n</div>"
     },
     "execution_count": 56,
     "metadata": {},
     "output_type": "execute_result"
    }
   ],
   "source": [
    "bond #no .pop Actor column"
   ],
   "metadata": {
    "collapsed": false,
    "ExecuteTime": {
     "end_time": "2025-04-18T10:33:46.525353800Z",
     "start_time": "2025-04-18T10:33:46.489653200Z"
    }
   },
   "id": "70fe544f03f3a856"
  },
  {
   "cell_type": "code",
   "execution_count": 59,
   "outputs": [
    {
     "data": {
      "text/plain": "Film\nA View to a Kill           Roger Moore\nCasino Royale             Daniel Craig\nCasino Royale              David Niven\nDiamonds Are Forever      Sean Connery\nDie Another Day         Pierce Brosnan\nName: Actor, dtype: object"
     },
     "execution_count": 59,
     "metadata": {},
     "output_type": "execute_result"
    }
   ],
   "source": [
    "actors=bond.pop(\"Actor\") #it takes from bond and convey to actors\n",
    "actors.head()"
   ],
   "metadata": {
    "collapsed": false,
    "ExecuteTime": {
     "end_time": "2025-04-18T10:34:52.701586Z",
     "start_time": "2025-04-18T10:34:52.681092100Z"
    }
   },
   "id": "2913c5423007c170"
  },
  {
   "cell_type": "code",
   "execution_count": 61,
   "outputs": [
    {
     "data": {
      "text/plain": "                                           Director  Box Office  Budget  \\\nFilm                                                                      \nA View to a Kill                          John Glen       275.2    54.5   \nCasino Royale                       Martin Campbell       581.5   145.3   \nCasino Royale                            Ken Hughes       315.0    85.0   \nDiamonds Are Forever                   Guy Hamilton       442.5    34.7   \nDie Another Day                        Lee Tamahori       465.4   154.2   \nDr. No                                Terence Young       448.8     7.0   \nFor Your Eyes Only                        John Glen       449.4    60.2   \nFrom Russia with Love                 Terence Young       543.8    12.6   \nGoldenEye                           Martin Campbell       518.5    76.9   \nGoldfinger                             Guy Hamilton       820.4    18.6   \nLicence to Kill                           John Glen       250.9    56.7   \nLive and Let Die                       Guy Hamilton       460.3    30.8   \nMoonraker                             Lewis Gilbert       535.0    91.5   \nNever Say Never Again                Irvin Kershner       380.0    86.0   \nNo Time to Die                   Cary Joji Fukunaga       774.2   301.0   \nOctopussy                                 John Glen       373.8    53.9   \nOn Her Majesty's Secret Service       Peter R. Hunt       291.5    37.3   \nQuantum of Solace                      Marc Forster       514.2   181.4   \nSkyfall                                  Sam Mendes       943.5   170.2   \nSpectre                                  Sam Mendes       726.7   206.3   \nThe Living Daylights                      John Glen       313.5    68.8   \nThe Man with the Golden Gun            Guy Hamilton       334.0    27.7   \nThe Spy Who Loved Me                  Lewis Gilbert       533.0    45.1   \nThe World Is Not Enough               Michael Apted       439.5   158.3   \nThunderball                           Terence Young       848.1    41.9   \nTomorrow Never Dies              Roger Spottiswoode       463.2   133.9   \nYou Only Live Twice                   Lewis Gilbert       514.2    59.9   \n\n                                 Bond Actor Salary  \nFilm                                                \nA View to a Kill                               9.1  \nCasino Royale                                  3.3  \nCasino Royale                                  NaN  \nDiamonds Are Forever                           5.8  \nDie Another Day                               17.9  \nDr. No                                         0.6  \nFor Your Eyes Only                             NaN  \nFrom Russia with Love                          1.6  \nGoldenEye                                      5.1  \nGoldfinger                                     3.2  \nLicence to Kill                                7.9  \nLive and Let Die                               NaN  \nMoonraker                                      NaN  \nNever Say Never Again                          NaN  \nNo Time to Die                                25.0  \nOctopussy                                      7.8  \nOn Her Majesty's Secret Service                0.6  \nQuantum of Solace                              8.1  \nSkyfall                                       14.5  \nSpectre                                       30.0  \nThe Living Daylights                           5.2  \nThe Man with the Golden Gun                    NaN  \nThe Spy Who Loved Me                           NaN  \nThe World Is Not Enough                       13.5  \nThunderball                                    4.7  \nTomorrow Never Dies                           10.0  \nYou Only Live Twice                            4.4  ",
      "text/html": "<div>\n<style scoped>\n    .dataframe tbody tr th:only-of-type {\n        vertical-align: middle;\n    }\n\n    .dataframe tbody tr th {\n        vertical-align: top;\n    }\n\n    .dataframe thead th {\n        text-align: right;\n    }\n</style>\n<table border=\"1\" class=\"dataframe\">\n  <thead>\n    <tr style=\"text-align: right;\">\n      <th></th>\n      <th>Director</th>\n      <th>Box Office</th>\n      <th>Budget</th>\n      <th>Bond Actor Salary</th>\n    </tr>\n    <tr>\n      <th>Film</th>\n      <th></th>\n      <th></th>\n      <th></th>\n      <th></th>\n    </tr>\n  </thead>\n  <tbody>\n    <tr>\n      <th>A View to a Kill</th>\n      <td>John Glen</td>\n      <td>275.2</td>\n      <td>54.5</td>\n      <td>9.1</td>\n    </tr>\n    <tr>\n      <th>Casino Royale</th>\n      <td>Martin Campbell</td>\n      <td>581.5</td>\n      <td>145.3</td>\n      <td>3.3</td>\n    </tr>\n    <tr>\n      <th>Casino Royale</th>\n      <td>Ken Hughes</td>\n      <td>315.0</td>\n      <td>85.0</td>\n      <td>NaN</td>\n    </tr>\n    <tr>\n      <th>Diamonds Are Forever</th>\n      <td>Guy Hamilton</td>\n      <td>442.5</td>\n      <td>34.7</td>\n      <td>5.8</td>\n    </tr>\n    <tr>\n      <th>Die Another Day</th>\n      <td>Lee Tamahori</td>\n      <td>465.4</td>\n      <td>154.2</td>\n      <td>17.9</td>\n    </tr>\n    <tr>\n      <th>Dr. No</th>\n      <td>Terence Young</td>\n      <td>448.8</td>\n      <td>7.0</td>\n      <td>0.6</td>\n    </tr>\n    <tr>\n      <th>For Your Eyes Only</th>\n      <td>John Glen</td>\n      <td>449.4</td>\n      <td>60.2</td>\n      <td>NaN</td>\n    </tr>\n    <tr>\n      <th>From Russia with Love</th>\n      <td>Terence Young</td>\n      <td>543.8</td>\n      <td>12.6</td>\n      <td>1.6</td>\n    </tr>\n    <tr>\n      <th>GoldenEye</th>\n      <td>Martin Campbell</td>\n      <td>518.5</td>\n      <td>76.9</td>\n      <td>5.1</td>\n    </tr>\n    <tr>\n      <th>Goldfinger</th>\n      <td>Guy Hamilton</td>\n      <td>820.4</td>\n      <td>18.6</td>\n      <td>3.2</td>\n    </tr>\n    <tr>\n      <th>Licence to Kill</th>\n      <td>John Glen</td>\n      <td>250.9</td>\n      <td>56.7</td>\n      <td>7.9</td>\n    </tr>\n    <tr>\n      <th>Live and Let Die</th>\n      <td>Guy Hamilton</td>\n      <td>460.3</td>\n      <td>30.8</td>\n      <td>NaN</td>\n    </tr>\n    <tr>\n      <th>Moonraker</th>\n      <td>Lewis Gilbert</td>\n      <td>535.0</td>\n      <td>91.5</td>\n      <td>NaN</td>\n    </tr>\n    <tr>\n      <th>Never Say Never Again</th>\n      <td>Irvin Kershner</td>\n      <td>380.0</td>\n      <td>86.0</td>\n      <td>NaN</td>\n    </tr>\n    <tr>\n      <th>No Time to Die</th>\n      <td>Cary Joji Fukunaga</td>\n      <td>774.2</td>\n      <td>301.0</td>\n      <td>25.0</td>\n    </tr>\n    <tr>\n      <th>Octopussy</th>\n      <td>John Glen</td>\n      <td>373.8</td>\n      <td>53.9</td>\n      <td>7.8</td>\n    </tr>\n    <tr>\n      <th>On Her Majesty's Secret Service</th>\n      <td>Peter R. Hunt</td>\n      <td>291.5</td>\n      <td>37.3</td>\n      <td>0.6</td>\n    </tr>\n    <tr>\n      <th>Quantum of Solace</th>\n      <td>Marc Forster</td>\n      <td>514.2</td>\n      <td>181.4</td>\n      <td>8.1</td>\n    </tr>\n    <tr>\n      <th>Skyfall</th>\n      <td>Sam Mendes</td>\n      <td>943.5</td>\n      <td>170.2</td>\n      <td>14.5</td>\n    </tr>\n    <tr>\n      <th>Spectre</th>\n      <td>Sam Mendes</td>\n      <td>726.7</td>\n      <td>206.3</td>\n      <td>30.0</td>\n    </tr>\n    <tr>\n      <th>The Living Daylights</th>\n      <td>John Glen</td>\n      <td>313.5</td>\n      <td>68.8</td>\n      <td>5.2</td>\n    </tr>\n    <tr>\n      <th>The Man with the Golden Gun</th>\n      <td>Guy Hamilton</td>\n      <td>334.0</td>\n      <td>27.7</td>\n      <td>NaN</td>\n    </tr>\n    <tr>\n      <th>The Spy Who Loved Me</th>\n      <td>Lewis Gilbert</td>\n      <td>533.0</td>\n      <td>45.1</td>\n      <td>NaN</td>\n    </tr>\n    <tr>\n      <th>The World Is Not Enough</th>\n      <td>Michael Apted</td>\n      <td>439.5</td>\n      <td>158.3</td>\n      <td>13.5</td>\n    </tr>\n    <tr>\n      <th>Thunderball</th>\n      <td>Terence Young</td>\n      <td>848.1</td>\n      <td>41.9</td>\n      <td>4.7</td>\n    </tr>\n    <tr>\n      <th>Tomorrow Never Dies</th>\n      <td>Roger Spottiswoode</td>\n      <td>463.2</td>\n      <td>133.9</td>\n      <td>10.0</td>\n    </tr>\n    <tr>\n      <th>You Only Live Twice</th>\n      <td>Lewis Gilbert</td>\n      <td>514.2</td>\n      <td>59.9</td>\n      <td>4.4</td>\n    </tr>\n  </tbody>\n</table>\n</div>"
     },
     "execution_count": 61,
     "metadata": {},
     "output_type": "execute_result"
    }
   ],
   "source": [
    "del bond[\"Year\"]\n",
    "bond"
   ],
   "metadata": {
    "collapsed": false,
    "ExecuteTime": {
     "end_time": "2025-04-18T10:35:53.781787700Z",
     "start_time": "2025-04-18T10:35:53.753617200Z"
    }
   },
   "id": "37153c490bec32f7"
  },
  {
   "cell_type": "code",
   "execution_count": 63,
   "outputs": [
    {
     "data": {
      "text/plain": "                             Director  Box Office  Budget  Bond Actor Salary\nFilm                                                                        \nGoldenEye             Martin Campbell       518.5    76.9                5.1\nYou Only Live Twice     Lewis Gilbert       514.2    59.9                4.4\nSkyfall                    Sam Mendes       943.5   170.2               14.5\nThe Spy Who Loved Me    Lewis Gilbert       533.0    45.1                NaN\nLicence to Kill             John Glen       250.9    56.7                7.9",
      "text/html": "<div>\n<style scoped>\n    .dataframe tbody tr th:only-of-type {\n        vertical-align: middle;\n    }\n\n    .dataframe tbody tr th {\n        vertical-align: top;\n    }\n\n    .dataframe thead th {\n        text-align: right;\n    }\n</style>\n<table border=\"1\" class=\"dataframe\">\n  <thead>\n    <tr style=\"text-align: right;\">\n      <th></th>\n      <th>Director</th>\n      <th>Box Office</th>\n      <th>Budget</th>\n      <th>Bond Actor Salary</th>\n    </tr>\n    <tr>\n      <th>Film</th>\n      <th></th>\n      <th></th>\n      <th></th>\n      <th></th>\n    </tr>\n  </thead>\n  <tbody>\n    <tr>\n      <th>GoldenEye</th>\n      <td>Martin Campbell</td>\n      <td>518.5</td>\n      <td>76.9</td>\n      <td>5.1</td>\n    </tr>\n    <tr>\n      <th>You Only Live Twice</th>\n      <td>Lewis Gilbert</td>\n      <td>514.2</td>\n      <td>59.9</td>\n      <td>4.4</td>\n    </tr>\n    <tr>\n      <th>Skyfall</th>\n      <td>Sam Mendes</td>\n      <td>943.5</td>\n      <td>170.2</td>\n      <td>14.5</td>\n    </tr>\n    <tr>\n      <th>The Spy Who Loved Me</th>\n      <td>Lewis Gilbert</td>\n      <td>533.0</td>\n      <td>45.1</td>\n      <td>NaN</td>\n    </tr>\n    <tr>\n      <th>Licence to Kill</th>\n      <td>John Glen</td>\n      <td>250.9</td>\n      <td>56.7</td>\n      <td>7.9</td>\n    </tr>\n  </tbody>\n</table>\n</div>"
     },
     "execution_count": 63,
     "metadata": {},
     "output_type": "execute_result"
    }
   ],
   "source": [
    "\"\"\"create random sample\"\"\"\n",
    "bond.sample(n=5, axis=\"rows\")"
   ],
   "metadata": {
    "collapsed": false,
    "ExecuteTime": {
     "end_time": "2025-04-18T10:47:12.723833600Z",
     "start_time": "2025-04-18T10:47:12.709967700Z"
    }
   },
   "id": "f488618069af7624"
  },
  {
   "cell_type": "code",
   "execution_count": 64,
   "outputs": [
    {
     "data": {
      "text/plain": "                                 Budget  Box Office            Director\nFilm                                                                   \nA View to a Kill                   54.5       275.2           John Glen\nCasino Royale                     145.3       581.5     Martin Campbell\nCasino Royale                      85.0       315.0          Ken Hughes\nDiamonds Are Forever               34.7       442.5        Guy Hamilton\nDie Another Day                   154.2       465.4        Lee Tamahori\nDr. No                              7.0       448.8       Terence Young\nFor Your Eyes Only                 60.2       449.4           John Glen\nFrom Russia with Love              12.6       543.8       Terence Young\nGoldenEye                          76.9       518.5     Martin Campbell\nGoldfinger                         18.6       820.4        Guy Hamilton\nLicence to Kill                    56.7       250.9           John Glen\nLive and Let Die                   30.8       460.3        Guy Hamilton\nMoonraker                          91.5       535.0       Lewis Gilbert\nNever Say Never Again              86.0       380.0      Irvin Kershner\nNo Time to Die                    301.0       774.2  Cary Joji Fukunaga\nOctopussy                          53.9       373.8           John Glen\nOn Her Majesty's Secret Service    37.3       291.5       Peter R. Hunt\nQuantum of Solace                 181.4       514.2        Marc Forster\nSkyfall                           170.2       943.5          Sam Mendes\nSpectre                           206.3       726.7          Sam Mendes\nThe Living Daylights               68.8       313.5           John Glen\nThe Man with the Golden Gun        27.7       334.0        Guy Hamilton\nThe Spy Who Loved Me               45.1       533.0       Lewis Gilbert\nThe World Is Not Enough           158.3       439.5       Michael Apted\nThunderball                        41.9       848.1       Terence Young\nTomorrow Never Dies               133.9       463.2  Roger Spottiswoode\nYou Only Live Twice                59.9       514.2       Lewis Gilbert",
      "text/html": "<div>\n<style scoped>\n    .dataframe tbody tr th:only-of-type {\n        vertical-align: middle;\n    }\n\n    .dataframe tbody tr th {\n        vertical-align: top;\n    }\n\n    .dataframe thead th {\n        text-align: right;\n    }\n</style>\n<table border=\"1\" class=\"dataframe\">\n  <thead>\n    <tr style=\"text-align: right;\">\n      <th></th>\n      <th>Budget</th>\n      <th>Box Office</th>\n      <th>Director</th>\n    </tr>\n    <tr>\n      <th>Film</th>\n      <th></th>\n      <th></th>\n      <th></th>\n    </tr>\n  </thead>\n  <tbody>\n    <tr>\n      <th>A View to a Kill</th>\n      <td>54.5</td>\n      <td>275.2</td>\n      <td>John Glen</td>\n    </tr>\n    <tr>\n      <th>Casino Royale</th>\n      <td>145.3</td>\n      <td>581.5</td>\n      <td>Martin Campbell</td>\n    </tr>\n    <tr>\n      <th>Casino Royale</th>\n      <td>85.0</td>\n      <td>315.0</td>\n      <td>Ken Hughes</td>\n    </tr>\n    <tr>\n      <th>Diamonds Are Forever</th>\n      <td>34.7</td>\n      <td>442.5</td>\n      <td>Guy Hamilton</td>\n    </tr>\n    <tr>\n      <th>Die Another Day</th>\n      <td>154.2</td>\n      <td>465.4</td>\n      <td>Lee Tamahori</td>\n    </tr>\n    <tr>\n      <th>Dr. No</th>\n      <td>7.0</td>\n      <td>448.8</td>\n      <td>Terence Young</td>\n    </tr>\n    <tr>\n      <th>For Your Eyes Only</th>\n      <td>60.2</td>\n      <td>449.4</td>\n      <td>John Glen</td>\n    </tr>\n    <tr>\n      <th>From Russia with Love</th>\n      <td>12.6</td>\n      <td>543.8</td>\n      <td>Terence Young</td>\n    </tr>\n    <tr>\n      <th>GoldenEye</th>\n      <td>76.9</td>\n      <td>518.5</td>\n      <td>Martin Campbell</td>\n    </tr>\n    <tr>\n      <th>Goldfinger</th>\n      <td>18.6</td>\n      <td>820.4</td>\n      <td>Guy Hamilton</td>\n    </tr>\n    <tr>\n      <th>Licence to Kill</th>\n      <td>56.7</td>\n      <td>250.9</td>\n      <td>John Glen</td>\n    </tr>\n    <tr>\n      <th>Live and Let Die</th>\n      <td>30.8</td>\n      <td>460.3</td>\n      <td>Guy Hamilton</td>\n    </tr>\n    <tr>\n      <th>Moonraker</th>\n      <td>91.5</td>\n      <td>535.0</td>\n      <td>Lewis Gilbert</td>\n    </tr>\n    <tr>\n      <th>Never Say Never Again</th>\n      <td>86.0</td>\n      <td>380.0</td>\n      <td>Irvin Kershner</td>\n    </tr>\n    <tr>\n      <th>No Time to Die</th>\n      <td>301.0</td>\n      <td>774.2</td>\n      <td>Cary Joji Fukunaga</td>\n    </tr>\n    <tr>\n      <th>Octopussy</th>\n      <td>53.9</td>\n      <td>373.8</td>\n      <td>John Glen</td>\n    </tr>\n    <tr>\n      <th>On Her Majesty's Secret Service</th>\n      <td>37.3</td>\n      <td>291.5</td>\n      <td>Peter R. Hunt</td>\n    </tr>\n    <tr>\n      <th>Quantum of Solace</th>\n      <td>181.4</td>\n      <td>514.2</td>\n      <td>Marc Forster</td>\n    </tr>\n    <tr>\n      <th>Skyfall</th>\n      <td>170.2</td>\n      <td>943.5</td>\n      <td>Sam Mendes</td>\n    </tr>\n    <tr>\n      <th>Spectre</th>\n      <td>206.3</td>\n      <td>726.7</td>\n      <td>Sam Mendes</td>\n    </tr>\n    <tr>\n      <th>The Living Daylights</th>\n      <td>68.8</td>\n      <td>313.5</td>\n      <td>John Glen</td>\n    </tr>\n    <tr>\n      <th>The Man with the Golden Gun</th>\n      <td>27.7</td>\n      <td>334.0</td>\n      <td>Guy Hamilton</td>\n    </tr>\n    <tr>\n      <th>The Spy Who Loved Me</th>\n      <td>45.1</td>\n      <td>533.0</td>\n      <td>Lewis Gilbert</td>\n    </tr>\n    <tr>\n      <th>The World Is Not Enough</th>\n      <td>158.3</td>\n      <td>439.5</td>\n      <td>Michael Apted</td>\n    </tr>\n    <tr>\n      <th>Thunderball</th>\n      <td>41.9</td>\n      <td>848.1</td>\n      <td>Terence Young</td>\n    </tr>\n    <tr>\n      <th>Tomorrow Never Dies</th>\n      <td>133.9</td>\n      <td>463.2</td>\n      <td>Roger Spottiswoode</td>\n    </tr>\n    <tr>\n      <th>You Only Live Twice</th>\n      <td>59.9</td>\n      <td>514.2</td>\n      <td>Lewis Gilbert</td>\n    </tr>\n  </tbody>\n</table>\n</div>"
     },
     "execution_count": 64,
     "metadata": {},
     "output_type": "execute_result"
    }
   ],
   "source": [
    "bond.sample(n=3, axis=\"columns\") #3 random columns"
   ],
   "metadata": {
    "collapsed": false,
    "ExecuteTime": {
     "end_time": "2025-04-18T10:47:34.682553800Z",
     "start_time": "2025-04-18T10:47:34.647059800Z"
    }
   },
   "id": "e440b12047f54745"
  },
  {
   "cell_type": "code",
   "execution_count": 67,
   "outputs": [
    {
     "data": {
      "text/plain": "                          Director  Box Office  Budget  Bond Actor Salary\nFilm                                                                     \nSkyfall                 Sam Mendes       943.5   170.2               14.5\nThunderball          Terence Young       848.1    41.9                4.7\nGoldfinger            Guy Hamilton       820.4    18.6                3.2\nNo Time to Die  Cary Joji Fukunaga       774.2   301.0               25.0",
      "text/html": "<div>\n<style scoped>\n    .dataframe tbody tr th:only-of-type {\n        vertical-align: middle;\n    }\n\n    .dataframe tbody tr th {\n        vertical-align: top;\n    }\n\n    .dataframe thead th {\n        text-align: right;\n    }\n</style>\n<table border=\"1\" class=\"dataframe\">\n  <thead>\n    <tr style=\"text-align: right;\">\n      <th></th>\n      <th>Director</th>\n      <th>Box Office</th>\n      <th>Budget</th>\n      <th>Bond Actor Salary</th>\n    </tr>\n    <tr>\n      <th>Film</th>\n      <th></th>\n      <th></th>\n      <th></th>\n      <th></th>\n    </tr>\n  </thead>\n  <tbody>\n    <tr>\n      <th>Skyfall</th>\n      <td>Sam Mendes</td>\n      <td>943.5</td>\n      <td>170.2</td>\n      <td>14.5</td>\n    </tr>\n    <tr>\n      <th>Thunderball</th>\n      <td>Terence Young</td>\n      <td>848.1</td>\n      <td>41.9</td>\n      <td>4.7</td>\n    </tr>\n    <tr>\n      <th>Goldfinger</th>\n      <td>Guy Hamilton</td>\n      <td>820.4</td>\n      <td>18.6</td>\n      <td>3.2</td>\n    </tr>\n    <tr>\n      <th>No Time to Die</th>\n      <td>Cary Joji Fukunaga</td>\n      <td>774.2</td>\n      <td>301.0</td>\n      <td>25.0</td>\n    </tr>\n  </tbody>\n</table>\n</div>"
     },
     "execution_count": 67,
     "metadata": {},
     "output_type": "execute_result"
    }
   ],
   "source": [
    "#n smallest value\n",
    "#retrieve the 4 films with the higetst box office\n",
    "bond.sort_values(\"Box Office\", ascending=False).iloc[0:4]"
   ],
   "metadata": {
    "collapsed": false,
    "ExecuteTime": {
     "end_time": "2025-04-18T10:56:29.390429600Z",
     "start_time": "2025-04-18T10:56:29.361904Z"
    }
   },
   "id": "18acdc76eb542c64"
  },
  {
   "cell_type": "code",
   "execution_count": 68,
   "outputs": [
    {
     "data": {
      "text/plain": "                          Director  Box Office  Budget  Bond Actor Salary\nFilm                                                                     \nSkyfall                 Sam Mendes       943.5   170.2               14.5\nThunderball          Terence Young       848.1    41.9                4.7\nGoldfinger            Guy Hamilton       820.4    18.6                3.2\nNo Time to Die  Cary Joji Fukunaga       774.2   301.0               25.0",
      "text/html": "<div>\n<style scoped>\n    .dataframe tbody tr th:only-of-type {\n        vertical-align: middle;\n    }\n\n    .dataframe tbody tr th {\n        vertical-align: top;\n    }\n\n    .dataframe thead th {\n        text-align: right;\n    }\n</style>\n<table border=\"1\" class=\"dataframe\">\n  <thead>\n    <tr style=\"text-align: right;\">\n      <th></th>\n      <th>Director</th>\n      <th>Box Office</th>\n      <th>Budget</th>\n      <th>Bond Actor Salary</th>\n    </tr>\n    <tr>\n      <th>Film</th>\n      <th></th>\n      <th></th>\n      <th></th>\n      <th></th>\n    </tr>\n  </thead>\n  <tbody>\n    <tr>\n      <th>Skyfall</th>\n      <td>Sam Mendes</td>\n      <td>943.5</td>\n      <td>170.2</td>\n      <td>14.5</td>\n    </tr>\n    <tr>\n      <th>Thunderball</th>\n      <td>Terence Young</td>\n      <td>848.1</td>\n      <td>41.9</td>\n      <td>4.7</td>\n    </tr>\n    <tr>\n      <th>Goldfinger</th>\n      <td>Guy Hamilton</td>\n      <td>820.4</td>\n      <td>18.6</td>\n      <td>3.2</td>\n    </tr>\n    <tr>\n      <th>No Time to Die</th>\n      <td>Cary Joji Fukunaga</td>\n      <td>774.2</td>\n      <td>301.0</td>\n      <td>25.0</td>\n    </tr>\n  </tbody>\n</table>\n</div>"
     },
     "execution_count": 68,
     "metadata": {},
     "output_type": "execute_result"
    }
   ],
   "source": [
    "\"\"\"nlargest moethod will make it faster\"\"\"\n",
    "bond.nlargest(n=4,columns=\"Box Office\")"
   ],
   "metadata": {
    "collapsed": false,
    "ExecuteTime": {
     "end_time": "2025-04-18T10:57:47.786653200Z",
     "start_time": "2025-04-18T10:57:47.732057200Z"
    }
   },
   "id": "e77b962267239841"
  },
  {
   "cell_type": "code",
   "execution_count": 70,
   "outputs": [
    {
     "data": {
      "text/plain": "Film\nSkyfall           943.5\nThunderball       848.1\nGoldfinger        820.4\nNo Time to Die    774.2\nName: Box Office, dtype: float64"
     },
     "execution_count": 70,
     "metadata": {},
     "output_type": "execute_result"
    }
   ],
   "source": [
    "bond[\"Box Office\"].nlargest(4)"
   ],
   "metadata": {
    "collapsed": false,
    "ExecuteTime": {
     "end_time": "2025-04-18T10:59:02.252345700Z",
     "start_time": "2025-04-18T10:59:02.238792Z"
    }
   },
   "id": "fa7f94207f2fb973"
  },
  {
   "cell_type": "code",
   "execution_count": 72,
   "outputs": [
    {
     "data": {
      "text/plain": "Film\nDr. No                             0.6\nOn Her Majesty's Secret Service    0.6\nFrom Russia with Love              1.6\nName: Bond Actor Salary, dtype: float64"
     },
     "execution_count": 72,
     "metadata": {},
     "output_type": "execute_result"
    }
   ],
   "source": [
    "bond.nsmallest(3, columns=\"Bond Actor Salary\")\n",
    "bond[\"Bond Actor Salary\"].nsmallest(3)"
   ],
   "metadata": {
    "collapsed": false,
    "ExecuteTime": {
     "end_time": "2025-04-18T11:00:52.102729600Z",
     "start_time": "2025-04-18T11:00:52.078110400Z"
    }
   },
   "id": "40bd2251a75a521a"
  },
  {
   "cell_type": "code",
   "execution_count": 76,
   "outputs": [
    {
     "data": {
      "text/plain": "                                   Year         Actor        Director  \\\nFilm                                                                    \nA View to a Kill                    NaN           NaN             NaN   \nCasino Royale                       NaN           NaN             NaN   \nCasino Royale                       NaN           NaN             NaN   \nDiamonds Are Forever             1971.0  Sean Connery    Guy Hamilton   \nDie Another Day                     NaN           NaN             NaN   \nDr. No                           1962.0  Sean Connery   Terence Young   \nFor Your Eyes Only                  NaN           NaN             NaN   \nFrom Russia with Love            1963.0  Sean Connery   Terence Young   \nGoldenEye                           NaN           NaN             NaN   \nGoldfinger                       1964.0  Sean Connery    Guy Hamilton   \nLicence to Kill                     NaN           NaN             NaN   \nLive and Let Die                    NaN           NaN             NaN   \nMoonraker                           NaN           NaN             NaN   \nNever Say Never Again            1983.0  Sean Connery  Irvin Kershner   \nNo Time to Die                      NaN           NaN             NaN   \nOctopussy                           NaN           NaN             NaN   \nOn Her Majesty's Secret Service     NaN           NaN             NaN   \nQuantum of Solace                   NaN           NaN             NaN   \nSkyfall                             NaN           NaN             NaN   \nSpectre                             NaN           NaN             NaN   \nThe Living Daylights                NaN           NaN             NaN   \nThe Man with the Golden Gun         NaN           NaN             NaN   \nThe Spy Who Loved Me                NaN           NaN             NaN   \nThe World Is Not Enough             NaN           NaN             NaN   \nThunderball                      1965.0  Sean Connery   Terence Young   \nTomorrow Never Dies                 NaN           NaN             NaN   \nYou Only Live Twice              1967.0  Sean Connery   Lewis Gilbert   \n\n                                 Box Office  Budget  Bond Actor Salary  \nFilm                                                                    \nA View to a Kill                        NaN     NaN                NaN  \nCasino Royale                           NaN     NaN                NaN  \nCasino Royale                           NaN     NaN                NaN  \nDiamonds Are Forever                  442.5    34.7                5.8  \nDie Another Day                         NaN     NaN                NaN  \nDr. No                                448.8     7.0                0.6  \nFor Your Eyes Only                      NaN     NaN                NaN  \nFrom Russia with Love                 543.8    12.6                1.6  \nGoldenEye                               NaN     NaN                NaN  \nGoldfinger                            820.4    18.6                3.2  \nLicence to Kill                         NaN     NaN                NaN  \nLive and Let Die                        NaN     NaN                NaN  \nMoonraker                               NaN     NaN                NaN  \nNever Say Never Again                 380.0    86.0                NaN  \nNo Time to Die                          NaN     NaN                NaN  \nOctopussy                               NaN     NaN                NaN  \nOn Her Majesty's Secret Service         NaN     NaN                NaN  \nQuantum of Solace                       NaN     NaN                NaN  \nSkyfall                                 NaN     NaN                NaN  \nSpectre                                 NaN     NaN                NaN  \nThe Living Daylights                    NaN     NaN                NaN  \nThe Man with the Golden Gun             NaN     NaN                NaN  \nThe Spy Who Loved Me                    NaN     NaN                NaN  \nThe World Is Not Enough                 NaN     NaN                NaN  \nThunderball                           848.1    41.9                4.7  \nTomorrow Never Dies                     NaN     NaN                NaN  \nYou Only Live Twice                   514.2    59.9                4.4  ",
      "text/html": "<div>\n<style scoped>\n    .dataframe tbody tr th:only-of-type {\n        vertical-align: middle;\n    }\n\n    .dataframe tbody tr th {\n        vertical-align: top;\n    }\n\n    .dataframe thead th {\n        text-align: right;\n    }\n</style>\n<table border=\"1\" class=\"dataframe\">\n  <thead>\n    <tr style=\"text-align: right;\">\n      <th></th>\n      <th>Year</th>\n      <th>Actor</th>\n      <th>Director</th>\n      <th>Box Office</th>\n      <th>Budget</th>\n      <th>Bond Actor Salary</th>\n    </tr>\n    <tr>\n      <th>Film</th>\n      <th></th>\n      <th></th>\n      <th></th>\n      <th></th>\n      <th></th>\n      <th></th>\n    </tr>\n  </thead>\n  <tbody>\n    <tr>\n      <th>A View to a Kill</th>\n      <td>NaN</td>\n      <td>NaN</td>\n      <td>NaN</td>\n      <td>NaN</td>\n      <td>NaN</td>\n      <td>NaN</td>\n    </tr>\n    <tr>\n      <th>Casino Royale</th>\n      <td>NaN</td>\n      <td>NaN</td>\n      <td>NaN</td>\n      <td>NaN</td>\n      <td>NaN</td>\n      <td>NaN</td>\n    </tr>\n    <tr>\n      <th>Casino Royale</th>\n      <td>NaN</td>\n      <td>NaN</td>\n      <td>NaN</td>\n      <td>NaN</td>\n      <td>NaN</td>\n      <td>NaN</td>\n    </tr>\n    <tr>\n      <th>Diamonds Are Forever</th>\n      <td>1971.0</td>\n      <td>Sean Connery</td>\n      <td>Guy Hamilton</td>\n      <td>442.5</td>\n      <td>34.7</td>\n      <td>5.8</td>\n    </tr>\n    <tr>\n      <th>Die Another Day</th>\n      <td>NaN</td>\n      <td>NaN</td>\n      <td>NaN</td>\n      <td>NaN</td>\n      <td>NaN</td>\n      <td>NaN</td>\n    </tr>\n    <tr>\n      <th>Dr. No</th>\n      <td>1962.0</td>\n      <td>Sean Connery</td>\n      <td>Terence Young</td>\n      <td>448.8</td>\n      <td>7.0</td>\n      <td>0.6</td>\n    </tr>\n    <tr>\n      <th>For Your Eyes Only</th>\n      <td>NaN</td>\n      <td>NaN</td>\n      <td>NaN</td>\n      <td>NaN</td>\n      <td>NaN</td>\n      <td>NaN</td>\n    </tr>\n    <tr>\n      <th>From Russia with Love</th>\n      <td>1963.0</td>\n      <td>Sean Connery</td>\n      <td>Terence Young</td>\n      <td>543.8</td>\n      <td>12.6</td>\n      <td>1.6</td>\n    </tr>\n    <tr>\n      <th>GoldenEye</th>\n      <td>NaN</td>\n      <td>NaN</td>\n      <td>NaN</td>\n      <td>NaN</td>\n      <td>NaN</td>\n      <td>NaN</td>\n    </tr>\n    <tr>\n      <th>Goldfinger</th>\n      <td>1964.0</td>\n      <td>Sean Connery</td>\n      <td>Guy Hamilton</td>\n      <td>820.4</td>\n      <td>18.6</td>\n      <td>3.2</td>\n    </tr>\n    <tr>\n      <th>Licence to Kill</th>\n      <td>NaN</td>\n      <td>NaN</td>\n      <td>NaN</td>\n      <td>NaN</td>\n      <td>NaN</td>\n      <td>NaN</td>\n    </tr>\n    <tr>\n      <th>Live and Let Die</th>\n      <td>NaN</td>\n      <td>NaN</td>\n      <td>NaN</td>\n      <td>NaN</td>\n      <td>NaN</td>\n      <td>NaN</td>\n    </tr>\n    <tr>\n      <th>Moonraker</th>\n      <td>NaN</td>\n      <td>NaN</td>\n      <td>NaN</td>\n      <td>NaN</td>\n      <td>NaN</td>\n      <td>NaN</td>\n    </tr>\n    <tr>\n      <th>Never Say Never Again</th>\n      <td>1983.0</td>\n      <td>Sean Connery</td>\n      <td>Irvin Kershner</td>\n      <td>380.0</td>\n      <td>86.0</td>\n      <td>NaN</td>\n    </tr>\n    <tr>\n      <th>No Time to Die</th>\n      <td>NaN</td>\n      <td>NaN</td>\n      <td>NaN</td>\n      <td>NaN</td>\n      <td>NaN</td>\n      <td>NaN</td>\n    </tr>\n    <tr>\n      <th>Octopussy</th>\n      <td>NaN</td>\n      <td>NaN</td>\n      <td>NaN</td>\n      <td>NaN</td>\n      <td>NaN</td>\n      <td>NaN</td>\n    </tr>\n    <tr>\n      <th>On Her Majesty's Secret Service</th>\n      <td>NaN</td>\n      <td>NaN</td>\n      <td>NaN</td>\n      <td>NaN</td>\n      <td>NaN</td>\n      <td>NaN</td>\n    </tr>\n    <tr>\n      <th>Quantum of Solace</th>\n      <td>NaN</td>\n      <td>NaN</td>\n      <td>NaN</td>\n      <td>NaN</td>\n      <td>NaN</td>\n      <td>NaN</td>\n    </tr>\n    <tr>\n      <th>Skyfall</th>\n      <td>NaN</td>\n      <td>NaN</td>\n      <td>NaN</td>\n      <td>NaN</td>\n      <td>NaN</td>\n      <td>NaN</td>\n    </tr>\n    <tr>\n      <th>Spectre</th>\n      <td>NaN</td>\n      <td>NaN</td>\n      <td>NaN</td>\n      <td>NaN</td>\n      <td>NaN</td>\n      <td>NaN</td>\n    </tr>\n    <tr>\n      <th>The Living Daylights</th>\n      <td>NaN</td>\n      <td>NaN</td>\n      <td>NaN</td>\n      <td>NaN</td>\n      <td>NaN</td>\n      <td>NaN</td>\n    </tr>\n    <tr>\n      <th>The Man with the Golden Gun</th>\n      <td>NaN</td>\n      <td>NaN</td>\n      <td>NaN</td>\n      <td>NaN</td>\n      <td>NaN</td>\n      <td>NaN</td>\n    </tr>\n    <tr>\n      <th>The Spy Who Loved Me</th>\n      <td>NaN</td>\n      <td>NaN</td>\n      <td>NaN</td>\n      <td>NaN</td>\n      <td>NaN</td>\n      <td>NaN</td>\n    </tr>\n    <tr>\n      <th>The World Is Not Enough</th>\n      <td>NaN</td>\n      <td>NaN</td>\n      <td>NaN</td>\n      <td>NaN</td>\n      <td>NaN</td>\n      <td>NaN</td>\n    </tr>\n    <tr>\n      <th>Thunderball</th>\n      <td>1965.0</td>\n      <td>Sean Connery</td>\n      <td>Terence Young</td>\n      <td>848.1</td>\n      <td>41.9</td>\n      <td>4.7</td>\n    </tr>\n    <tr>\n      <th>Tomorrow Never Dies</th>\n      <td>NaN</td>\n      <td>NaN</td>\n      <td>NaN</td>\n      <td>NaN</td>\n      <td>NaN</td>\n      <td>NaN</td>\n    </tr>\n    <tr>\n      <th>You Only Live Twice</th>\n      <td>1967.0</td>\n      <td>Sean Connery</td>\n      <td>Lewis Gilbert</td>\n      <td>514.2</td>\n      <td>59.9</td>\n      <td>4.4</td>\n    </tr>\n  </tbody>\n</table>\n</div>"
     },
     "execution_count": 76,
     "metadata": {},
     "output_type": "execute_result"
    }
   ],
   "source": [
    "\"\"\"FILTERING WHERE\"\"\"\n",
    "actor_id_john=bond[\"Actor\"]==\"Sean Connery\"\n",
    "bond[actor_id_john] \n",
    "bond.where(actor_id_john) #if value boolen is False then NaN"
   ],
   "metadata": {
    "collapsed": false,
    "ExecuteTime": {
     "end_time": "2025-04-18T11:25:28.893908600Z",
     "start_time": "2025-04-18T11:25:28.872754200Z"
    }
   },
   "id": "317a738134551de9"
  },
  {
   "cell_type": "code",
   "execution_count": 77,
   "outputs": [
    {
     "data": {
      "text/plain": "Film\nA View to a Kill                   11\nCasino Royale                      12\nCasino Royale                      11\nDiamonds Are Forever               12\nDie Another Day                    14\nDr. No                             12\nFor Your Eyes Only                 11\nFrom Russia with Love              12\nGoldenEye                          14\nGoldfinger                         12\nLicence to Kill                    14\nLive and Let Die                   11\nMoonraker                          11\nNever Say Never Again              12\nNo Time to Die                     12\nOctopussy                          11\nOn Her Majesty's Secret Service    14\nQuantum of Solace                  12\nSkyfall                            12\nSpectre                            12\nThe Living Daylights               14\nThe Man with the Golden Gun        11\nThe Spy Who Loved Me               11\nThe World Is Not Enough            14\nThunderball                        12\nTomorrow Never Dies                14\nYou Only Live Twice                12\nName: Actor, dtype: int64"
     },
     "execution_count": 77,
     "metadata": {},
     "output_type": "execute_result"
    }
   ],
   "source": [
    "\"\"\"APPLY METHOD\"\"\"\n",
    "bond[\"Actor\"].apply(len) #it will pass trhough all values and collect in a new Series\n"
   ],
   "metadata": {
    "collapsed": false,
    "ExecuteTime": {
     "end_time": "2025-04-18T11:28:32.881525Z",
     "start_time": "2025-04-18T11:28:32.848849100Z"
    }
   },
   "id": "c266aee4b6730e3a"
  },
  {
   "cell_type": "code",
   "execution_count": 85,
   "outputs": [
    {
     "name": "stdout",
     "output_type": "stream",
     "text": [
      "Year                        1985\n",
      "Actor                Roger Moore\n",
      "Director               John Glen\n",
      "Box Office                 275.2\n",
      "Budget                      54.5\n",
      "Bond Actor Salary            9.1\n",
      "Name: A View to a Kill, dtype: object\n",
      "Year                        1981\n",
      "Actor                Roger Moore\n",
      "Director               John Glen\n",
      "Box Office                 449.4\n",
      "Budget                      60.2\n",
      "Bond Actor Salary            NaN\n",
      "Name: For Your Eyes Only, dtype: object\n",
      "Year                           1989\n",
      "Actor                Timothy Dalton\n",
      "Director                  John Glen\n",
      "Box Office                    250.9\n",
      "Budget                         56.7\n",
      "Bond Actor Salary               7.9\n",
      "Name: Licence to Kill, dtype: object\n",
      "Year                           1983\n",
      "Actor                  Sean Connery\n",
      "Director             Irvin Kershner\n",
      "Box Office                    380.0\n",
      "Budget                         86.0\n",
      "Bond Actor Salary               NaN\n",
      "Name: Never Say Never Again, dtype: object\n",
      "Year                        1983\n",
      "Actor                Roger Moore\n",
      "Director               John Glen\n",
      "Box Office                 373.8\n",
      "Budget                      53.9\n",
      "Bond Actor Salary            7.8\n",
      "Name: Octopussy, dtype: object\n",
      "Year                           1987\n",
      "Actor                Timothy Dalton\n",
      "Director                  John Glen\n",
      "Box Office                    313.5\n",
      "Budget                         68.8\n",
      "Bond Actor Salary               5.2\n",
      "Name: The Living Daylights, dtype: object\n"
     ]
    },
    {
     "data": {
      "text/plain": "Film\nA View to a Kill                   None\nCasino Royale                      None\nCasino Royale                      None\nDiamonds Are Forever               None\nDie Another Day                    None\nDr. No                             None\nFor Your Eyes Only                 None\nFrom Russia with Love              None\nGoldenEye                          None\nGoldfinger                         None\nLicence to Kill                    None\nLive and Let Die                   None\nMoonraker                          None\nNever Say Never Again              None\nNo Time to Die                     None\nOctopussy                          None\nOn Her Majesty's Secret Service    None\nQuantum of Solace                  None\nSkyfall                            None\nSpectre                            None\nThe Living Daylights               None\nThe Man with the Golden Gun        None\nThe Spy Who Loved Me               None\nThe World Is Not Enough            None\nThunderball                        None\nTomorrow Never Dies                None\nYou Only Live Twice                None\ndtype: object"
     },
     "execution_count": 85,
     "metadata": {},
     "output_type": "execute_result"
    }
   ],
   "source": [
    "#polecenie z filmu\n",
    "def ranking(row):\n",
    "    if row[\"Year\"]>1980 and row[\"Year\"]<1990:\n",
    "        print(row) #by defalut apply will invoke it by every column\n",
    "    \n",
    "        \n",
    "bond.apply(ranking, axis='columns') #so we have to chagne it to do accross columns its a bit confusing"
   ],
   "metadata": {
    "collapsed": false,
    "ExecuteTime": {
     "end_time": "2025-04-18T11:43:33.202222900Z",
     "start_time": "2025-04-18T11:43:33.186638100Z"
    }
   },
   "id": "9ddb8399a08dc3c5"
  },
  {
   "cell_type": "code",
   "execution_count": 91,
   "outputs": [
    {
     "data": {
      "text/plain": "Film\nA View to a Kill                     Great 80's flick\nCasino Royale                                Expenses\nCasino Royale                              No comment\nDiamonds Are Forever                       No comment\nDie Another Day                    The best bond ever\nDr. No                                     No comment\nFor Your Eyes Only                   Great 80's flick\nFrom Russia with Love                      No comment\nGoldenEye                          The best bond ever\nGoldfinger                                 No comment\nLicence to Kill                      Great 80's flick\nLive and Let Die                           No comment\nMoonraker                                  No comment\nNever Say Never Again                Great 80's flick\nNo Time to Die                               Expenses\nOctopussy                            Great 80's flick\nOn Her Majesty's Secret Service            No comment\nQuantum of Solace                            Expenses\nSkyfall                                      Expenses\nSpectre                                      Expenses\nThe Living Daylights                 Great 80's flick\nThe Man with the Golden Gun                No comment\nThe Spy Who Loved Me                       No comment\nThe World Is Not Enough            The best bond ever\nThunderball                                No comment\nTomorrow Never Dies                The best bond ever\nYou Only Live Twice                        No comment\ndtype: object"
     },
     "execution_count": 91,
     "metadata": {},
     "output_type": "execute_result"
    }
   ],
   "source": [
    "def ranking(row):\n",
    "    year= row[\"Year\"]\n",
    "    budget=row[\"Budget\"]\n",
    "    actor=row[\"Actor\"]\n",
    "    if year >1980 and year <1990:\n",
    "        return \"Great 80's flick\"\n",
    "    if actor==\"Pierce Brosnan\":\n",
    "        return \"The best bond ever\"\n",
    "    if budget>100:\n",
    "        return \"Expenses\"\n",
    "    return \"No comment\"\n",
    "        \n",
    "bond.apply(ranking, axis='columns') #so we have to chagne it to do accross columns its a bit confusing"
   ],
   "metadata": {
    "collapsed": false,
    "ExecuteTime": {
     "end_time": "2025-04-18T11:49:24.772438300Z",
     "start_time": "2025-04-18T11:49:24.758904400Z"
    }
   },
   "id": "c62d1d404a26b1f6"
  },
  {
   "cell_type": "code",
   "execution_count": null,
   "outputs": [],
   "source": [],
   "metadata": {
    "collapsed": false
   },
   "id": "8c6b2a11045c27f3"
  }
 ],
 "metadata": {
  "kernelspec": {
   "display_name": "Python 3",
   "language": "python",
   "name": "python3"
  },
  "language_info": {
   "codemirror_mode": {
    "name": "ipython",
    "version": 2
   },
   "file_extension": ".py",
   "mimetype": "text/x-python",
   "name": "python",
   "nbconvert_exporter": "python",
   "pygments_lexer": "ipython2",
   "version": "2.7.6"
  }
 },
 "nbformat": 4,
 "nbformat_minor": 5
}
