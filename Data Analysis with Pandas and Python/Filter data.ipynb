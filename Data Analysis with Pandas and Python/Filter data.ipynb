{
 "cells": [
  {
   "cell_type": "code",
   "execution_count": 13,
   "id": "initial_id",
   "metadata": {
    "collapsed": true,
    "ExecuteTime": {
     "end_time": "2025-04-15T07:00:37.208359800Z",
     "start_time": "2025-04-15T07:00:37.202209400Z"
    }
   },
   "outputs": [],
   "source": [
    "import pandas as pd\n",
    "import datetime as dt\n",
    "employees=pd.read_csv(\"./pandas/pandas/Incomplete/employees.csv\")"
   ]
  },
  {
   "cell_type": "code",
   "execution_count": 30,
   "outputs": [
    {
     "name": "stdout",
     "output_type": "stream",
     "text": [
      "<class 'pandas.core.frame.DataFrame'>\n",
      "RangeIndex: 1000 entries, 0 to 999\n",
      "Data columns (total 8 columns):\n",
      " #   Column             Non-Null Count  Dtype         \n",
      "---  ------             --------------  -----         \n",
      " 0   First Name         933 non-null    object        \n",
      " 1   Gender             855 non-null    category      \n",
      " 2   Start Date         1000 non-null   datetime64[ns]\n",
      " 3   Last Login Time    1000 non-null   object        \n",
      " 4   Salary             1000 non-null   int64         \n",
      " 5   Bonus %            1000 non-null   float64       \n",
      " 6   Senior Management  1000 non-null   bool          \n",
      " 7   Team               957 non-null    object        \n",
      "dtypes: bool(1), category(1), datetime64[ns](1), float64(1), int64(1), object(3)\n",
      "memory usage: 49.1+ KB\n"
     ]
    },
    {
     "data": {
      "text/plain": "    First Name  Gender Start Date Last Login Time  Salary  Bonus %  \\\n0      Douglas    Male 1993-08-06        12:42:00   97308    6.945   \n1       Thomas    Male 1996-03-31        06:53:00   61933    4.170   \n2        Maria  Female 1993-04-23        11:17:00  130590   11.858   \n3        Jerry    Male 2005-03-04        01:00:00  138705    9.340   \n4        Larry    Male 1998-01-24        04:47:00  101004    1.389   \n..         ...     ...        ...             ...     ...      ...   \n995      Henry     NaN 2014-11-23        06:09:00  132483   16.655   \n996    Phillip    Male 1984-01-31        06:30:00   42392   19.675   \n997    Russell    Male 2013-05-20        12:39:00   96914    1.421   \n998      Larry    Male 2013-04-20        04:45:00   60500   11.985   \n999     Albert    Male 2012-05-15        06:24:00  129949   10.169   \n\n     Senior Management                  Team  \n0                 True             Marketing  \n1                 True                   NaN  \n2                False               Finance  \n3                 True               Finance  \n4                 True       Client Services  \n..                 ...                   ...  \n995              False          Distribution  \n996              False               Finance  \n997              False               Product  \n998              False  Business Development  \n999               True                 Sales  \n\n[1000 rows x 8 columns]",
      "text/html": "<div>\n<style scoped>\n    .dataframe tbody tr th:only-of-type {\n        vertical-align: middle;\n    }\n\n    .dataframe tbody tr th {\n        vertical-align: top;\n    }\n\n    .dataframe thead th {\n        text-align: right;\n    }\n</style>\n<table border=\"1\" class=\"dataframe\">\n  <thead>\n    <tr style=\"text-align: right;\">\n      <th></th>\n      <th>First Name</th>\n      <th>Gender</th>\n      <th>Start Date</th>\n      <th>Last Login Time</th>\n      <th>Salary</th>\n      <th>Bonus %</th>\n      <th>Senior Management</th>\n      <th>Team</th>\n    </tr>\n  </thead>\n  <tbody>\n    <tr>\n      <th>0</th>\n      <td>Douglas</td>\n      <td>Male</td>\n      <td>1993-08-06</td>\n      <td>12:42:00</td>\n      <td>97308</td>\n      <td>6.945</td>\n      <td>True</td>\n      <td>Marketing</td>\n    </tr>\n    <tr>\n      <th>1</th>\n      <td>Thomas</td>\n      <td>Male</td>\n      <td>1996-03-31</td>\n      <td>06:53:00</td>\n      <td>61933</td>\n      <td>4.170</td>\n      <td>True</td>\n      <td>NaN</td>\n    </tr>\n    <tr>\n      <th>2</th>\n      <td>Maria</td>\n      <td>Female</td>\n      <td>1993-04-23</td>\n      <td>11:17:00</td>\n      <td>130590</td>\n      <td>11.858</td>\n      <td>False</td>\n      <td>Finance</td>\n    </tr>\n    <tr>\n      <th>3</th>\n      <td>Jerry</td>\n      <td>Male</td>\n      <td>2005-03-04</td>\n      <td>01:00:00</td>\n      <td>138705</td>\n      <td>9.340</td>\n      <td>True</td>\n      <td>Finance</td>\n    </tr>\n    <tr>\n      <th>4</th>\n      <td>Larry</td>\n      <td>Male</td>\n      <td>1998-01-24</td>\n      <td>04:47:00</td>\n      <td>101004</td>\n      <td>1.389</td>\n      <td>True</td>\n      <td>Client Services</td>\n    </tr>\n    <tr>\n      <th>...</th>\n      <td>...</td>\n      <td>...</td>\n      <td>...</td>\n      <td>...</td>\n      <td>...</td>\n      <td>...</td>\n      <td>...</td>\n      <td>...</td>\n    </tr>\n    <tr>\n      <th>995</th>\n      <td>Henry</td>\n      <td>NaN</td>\n      <td>2014-11-23</td>\n      <td>06:09:00</td>\n      <td>132483</td>\n      <td>16.655</td>\n      <td>False</td>\n      <td>Distribution</td>\n    </tr>\n    <tr>\n      <th>996</th>\n      <td>Phillip</td>\n      <td>Male</td>\n      <td>1984-01-31</td>\n      <td>06:30:00</td>\n      <td>42392</td>\n      <td>19.675</td>\n      <td>False</td>\n      <td>Finance</td>\n    </tr>\n    <tr>\n      <th>997</th>\n      <td>Russell</td>\n      <td>Male</td>\n      <td>2013-05-20</td>\n      <td>12:39:00</td>\n      <td>96914</td>\n      <td>1.421</td>\n      <td>False</td>\n      <td>Product</td>\n    </tr>\n    <tr>\n      <th>998</th>\n      <td>Larry</td>\n      <td>Male</td>\n      <td>2013-04-20</td>\n      <td>04:45:00</td>\n      <td>60500</td>\n      <td>11.985</td>\n      <td>False</td>\n      <td>Business Development</td>\n    </tr>\n    <tr>\n      <th>999</th>\n      <td>Albert</td>\n      <td>Male</td>\n      <td>2012-05-15</td>\n      <td>06:24:00</td>\n      <td>129949</td>\n      <td>10.169</td>\n      <td>True</td>\n      <td>Sales</td>\n    </tr>\n  </tbody>\n</table>\n<p>1000 rows × 8 columns</p>\n</div>"
     },
     "execution_count": 30,
     "metadata": {},
     "output_type": "execute_result"
    }
   ],
   "source": [
    "employees.info()\n",
    "employees"
   ],
   "metadata": {
    "collapsed": false,
    "ExecuteTime": {
     "end_time": "2025-04-14T10:06:47.386887600Z",
     "start_time": "2025-04-14T10:06:47.370572800Z"
    }
   },
   "id": "cabc7f81f04382a1"
  },
  {
   "cell_type": "code",
   "execution_count": 20,
   "outputs": [],
   "source": [
    "employees[\"Start Date\"]=pd.to_datetime(employees[\"Start Date\"], format=\"%m/%d/%Y\") #opisuje jaki format jest podany domyslnie, pomaga wnioskowac"
   ],
   "metadata": {
    "collapsed": false,
    "ExecuteTime": {
     "end_time": "2025-04-14T09:48:39.110144900Z",
     "start_time": "2025-04-14T09:48:39.078927100Z"
    }
   },
   "id": "fab6d5f694e01a79"
  },
  {
   "cell_type": "code",
   "execution_count": 29,
   "outputs": [
    {
     "data": {
      "text/plain": "    First Name  Gender Start Date Last Login Time  Salary  Bonus %  \\\n0      Douglas    Male 1993-08-06        12:42:00   97308    6.945   \n1       Thomas    Male 1996-03-31        06:53:00   61933    4.170   \n2        Maria  Female 1993-04-23        11:17:00  130590   11.858   \n3        Jerry    Male 2005-03-04        01:00:00  138705    9.340   \n4        Larry    Male 1998-01-24        04:47:00  101004    1.389   \n..         ...     ...        ...             ...     ...      ...   \n995      Henry     NaN 2014-11-23        06:09:00  132483   16.655   \n996    Phillip    Male 1984-01-31        06:30:00   42392   19.675   \n997    Russell    Male 2013-05-20        12:39:00   96914    1.421   \n998      Larry    Male 2013-04-20        04:45:00   60500   11.985   \n999     Albert    Male 2012-05-15        06:24:00  129949   10.169   \n\n     Senior Management                  Team  \n0                 True             Marketing  \n1                 True                   NaN  \n2                False               Finance  \n3                 True               Finance  \n4                 True       Client Services  \n..                 ...                   ...  \n995              False          Distribution  \n996              False               Finance  \n997              False               Product  \n998              False  Business Development  \n999               True                 Sales  \n\n[1000 rows x 8 columns]",
      "text/html": "<div>\n<style scoped>\n    .dataframe tbody tr th:only-of-type {\n        vertical-align: middle;\n    }\n\n    .dataframe tbody tr th {\n        vertical-align: top;\n    }\n\n    .dataframe thead th {\n        text-align: right;\n    }\n</style>\n<table border=\"1\" class=\"dataframe\">\n  <thead>\n    <tr style=\"text-align: right;\">\n      <th></th>\n      <th>First Name</th>\n      <th>Gender</th>\n      <th>Start Date</th>\n      <th>Last Login Time</th>\n      <th>Salary</th>\n      <th>Bonus %</th>\n      <th>Senior Management</th>\n      <th>Team</th>\n    </tr>\n  </thead>\n  <tbody>\n    <tr>\n      <th>0</th>\n      <td>Douglas</td>\n      <td>Male</td>\n      <td>1993-08-06</td>\n      <td>12:42:00</td>\n      <td>97308</td>\n      <td>6.945</td>\n      <td>True</td>\n      <td>Marketing</td>\n    </tr>\n    <tr>\n      <th>1</th>\n      <td>Thomas</td>\n      <td>Male</td>\n      <td>1996-03-31</td>\n      <td>06:53:00</td>\n      <td>61933</td>\n      <td>4.170</td>\n      <td>True</td>\n      <td>NaN</td>\n    </tr>\n    <tr>\n      <th>2</th>\n      <td>Maria</td>\n      <td>Female</td>\n      <td>1993-04-23</td>\n      <td>11:17:00</td>\n      <td>130590</td>\n      <td>11.858</td>\n      <td>False</td>\n      <td>Finance</td>\n    </tr>\n    <tr>\n      <th>3</th>\n      <td>Jerry</td>\n      <td>Male</td>\n      <td>2005-03-04</td>\n      <td>01:00:00</td>\n      <td>138705</td>\n      <td>9.340</td>\n      <td>True</td>\n      <td>Finance</td>\n    </tr>\n    <tr>\n      <th>4</th>\n      <td>Larry</td>\n      <td>Male</td>\n      <td>1998-01-24</td>\n      <td>04:47:00</td>\n      <td>101004</td>\n      <td>1.389</td>\n      <td>True</td>\n      <td>Client Services</td>\n    </tr>\n    <tr>\n      <th>...</th>\n      <td>...</td>\n      <td>...</td>\n      <td>...</td>\n      <td>...</td>\n      <td>...</td>\n      <td>...</td>\n      <td>...</td>\n      <td>...</td>\n    </tr>\n    <tr>\n      <th>995</th>\n      <td>Henry</td>\n      <td>NaN</td>\n      <td>2014-11-23</td>\n      <td>06:09:00</td>\n      <td>132483</td>\n      <td>16.655</td>\n      <td>False</td>\n      <td>Distribution</td>\n    </tr>\n    <tr>\n      <th>996</th>\n      <td>Phillip</td>\n      <td>Male</td>\n      <td>1984-01-31</td>\n      <td>06:30:00</td>\n      <td>42392</td>\n      <td>19.675</td>\n      <td>False</td>\n      <td>Finance</td>\n    </tr>\n    <tr>\n      <th>997</th>\n      <td>Russell</td>\n      <td>Male</td>\n      <td>2013-05-20</td>\n      <td>12:39:00</td>\n      <td>96914</td>\n      <td>1.421</td>\n      <td>False</td>\n      <td>Product</td>\n    </tr>\n    <tr>\n      <th>998</th>\n      <td>Larry</td>\n      <td>Male</td>\n      <td>2013-04-20</td>\n      <td>04:45:00</td>\n      <td>60500</td>\n      <td>11.985</td>\n      <td>False</td>\n      <td>Business Development</td>\n    </tr>\n    <tr>\n      <th>999</th>\n      <td>Albert</td>\n      <td>Male</td>\n      <td>2012-05-15</td>\n      <td>06:24:00</td>\n      <td>129949</td>\n      <td>10.169</td>\n      <td>True</td>\n      <td>Sales</td>\n    </tr>\n  </tbody>\n</table>\n<p>1000 rows × 8 columns</p>\n</div>"
     },
     "execution_count": 29,
     "metadata": {},
     "output_type": "execute_result"
    }
   ],
   "source": [
    "employees"
   ],
   "metadata": {
    "collapsed": false,
    "ExecuteTime": {
     "end_time": "2025-04-14T10:06:40.668236700Z",
     "start_time": "2025-04-14T10:06:40.658520800Z"
    }
   },
   "id": "226c4e1fe9a6ec23"
  },
  {
   "cell_type": "code",
   "execution_count": 26,
   "outputs": [],
   "source": [
    "employees[\"Last Login Time\"]=pd.to_datetime(employees[\"Last Login Time\"], format=\"%H:%M %p\").dt.time #automatycznie tworzy time w odpowiednim formacie"
   ],
   "metadata": {
    "collapsed": false,
    "ExecuteTime": {
     "end_time": "2025-04-14T09:52:50.136996700Z",
     "start_time": "2025-04-14T09:52:49.765657200Z"
    }
   },
   "id": "3830b79de3a0c7a4"
  },
  {
   "cell_type": "code",
   "execution_count": 27,
   "outputs": [],
   "source": [
    "employees[\"Senior Management\"]=employees[\"Senior Management\"].astype(bool)"
   ],
   "metadata": {
    "collapsed": false,
    "ExecuteTime": {
     "end_time": "2025-04-14T09:54:12.691739700Z",
     "start_time": "2025-04-14T09:54:11.558423Z"
    }
   },
   "id": "838b85ee3a43fe0"
  },
  {
   "cell_type": "code",
   "execution_count": 27,
   "outputs": [],
   "source": [],
   "metadata": {
    "collapsed": false,
    "ExecuteTime": {
     "end_time": "2025-04-14T09:54:12.998496100Z",
     "start_time": "2025-04-14T09:54:11.897235200Z"
    }
   },
   "id": "9db198dbacbd7fbc"
  },
  {
   "cell_type": "code",
   "execution_count": 28,
   "outputs": [],
   "source": [
    "employees[\"Gender\"]=employees[\"Gender\"].astype(\"category\")"
   ],
   "metadata": {
    "collapsed": false,
    "ExecuteTime": {
     "end_time": "2025-04-14T10:06:33.706306700Z",
     "start_time": "2025-04-14T10:06:33.688969300Z"
    }
   },
   "id": "a370520353dc6a58"
  },
  {
   "cell_type": "code",
   "execution_count": 2,
   "outputs": [
    {
     "ename": "NameError",
     "evalue": "name 'pd' is not defined",
     "output_type": "error",
     "traceback": [
      "\u001B[31m---------------------------------------------------------------------------\u001B[39m",
      "\u001B[31mNameError\u001B[39m                                 Traceback (most recent call last)",
      "\u001B[36mCell\u001B[39m\u001B[36m \u001B[39m\u001B[32mIn[2]\u001B[39m\u001B[32m, line 1\u001B[39m\n\u001B[32m----> \u001B[39m\u001B[32m1\u001B[39m employees=\u001B[43mpd\u001B[49m.read_csv(\u001B[33m\"\u001B[39m\u001B[33m./pandas/pandas/Incomplete/employees.csv\u001B[39m\u001B[33m\"\u001B[39m, parse_dates=[\u001B[33m\"\u001B[39m\u001B[33mStart Date\u001B[39m\u001B[33m\"\u001B[39m], date_format=\u001B[33m\"\u001B[39m\u001B[33m%\u001B[39m\u001B[33mm/\u001B[39m\u001B[38;5;132;01m%d\u001B[39;00m\u001B[33m/\u001B[39m\u001B[33m%\u001B[39m\u001B[33mY\u001B[39m\u001B[33m\"\u001B[39m) \u001B[38;5;66;03m#parametr który przetwarza od razu podana kolumne\u001B[39;00m\n\u001B[32m      2\u001B[39m employees[\u001B[33m\"\u001B[39m\u001B[33mLast Login Time\u001B[39m\u001B[33m\"\u001B[39m]=pd.to_datetime(employees[\u001B[33m\"\u001B[39m\u001B[33mLast Login Time\u001B[39m\u001B[33m\"\u001B[39m], \u001B[38;5;28mformat\u001B[39m=\u001B[33m\"\u001B[39m\u001B[33m%\u001B[39m\u001B[33mH:\u001B[39m\u001B[33m%\u001B[39m\u001B[33mM \u001B[39m\u001B[33m%\u001B[39m\u001B[33mp\u001B[39m\u001B[33m\"\u001B[39m).dt.time\n\u001B[32m      3\u001B[39m employees[\u001B[33m\"\u001B[39m\u001B[33mSenior Management\u001B[39m\u001B[33m\"\u001B[39m]=employees[\u001B[33m\"\u001B[39m\u001B[33mSenior Management\u001B[39m\u001B[33m\"\u001B[39m].astype(\u001B[38;5;28mbool\u001B[39m)\n",
      "\u001B[31mNameError\u001B[39m: name 'pd' is not defined"
     ]
    }
   ],
   "source": [
    "employees=pd.read_csv(\"./pandas/pandas/Incomplete/employees.csv\", parse_dates=[\"Start Date\"], date_format=\"%m/%d/%Y\") #parametr który przetwarza od razu podana kolumne\n",
    "employees[\"Last Login Time\"]=pd.to_datetime(employees[\"Last Login Time\"], format=\"%H:%M %p\").dt.time\n",
    "employees[\"Senior Management\"]=employees[\"Senior Management\"].astype(bool)\n",
    "employees[\"Gender\"]=employees[\"Gender\"].astype(\"category\")\n",
    "employees.head()\n",
    "employees.info()"
   ],
   "metadata": {
    "collapsed": false,
    "ExecuteTime": {
     "end_time": "2025-04-15T06:47:16.849311300Z",
     "start_time": "2025-04-15T06:47:16.762072500Z"
    }
   },
   "id": "6b794a123f3a1a32"
  },
  {
   "cell_type": "code",
   "execution_count": 41,
   "outputs": [
    {
     "name": "stderr",
     "output_type": "stream",
     "text": [
      "C:\\Dawid\\Szkola\\studia\\ostatni_rozdzial\\Github\\python\\Data Analysis with Pandas and Python\\venv\\Lib\\site-packages\\openpyxl\\worksheet\\_reader.py:332: UserWarning: Unknown extension is not supported and will be removed\n",
      "  warn(msg)\n",
      "C:\\Dawid\\Szkola\\studia\\ostatni_rozdzial\\Github\\python\\Data Analysis with Pandas and Python\\venv\\Lib\\site-packages\\openpyxl\\worksheet\\_reader.py:332: UserWarning: Conditional Formatting extension is not supported and will be removed\n",
      "  warn(msg)\n"
     ]
    }
   ],
   "source": [
    "enea=pd.read_excel(r\"C:\\Users\\deber\\Downloads\\Zadanie_rekrutacyjne.xlsx\",sheet_name=2,parse_dates=[\"Data\"],date_format=\"%d/%m/%Y\")"
   ],
   "metadata": {
    "collapsed": false,
    "ExecuteTime": {
     "end_time": "2025-04-14T10:28:24.739432100Z",
     "start_time": "2025-04-14T10:28:24.702019600Z"
    }
   },
   "id": "32e38f6a63af765a"
  },
  {
   "cell_type": "markdown",
   "source": [],
   "metadata": {
    "collapsed": false
   },
   "id": "92a4a9c9746fea1f"
  },
  {
   "cell_type": "code",
   "execution_count": 43,
   "outputs": [
    {
     "data": {
      "text/plain": "                    Data  Cena BASE-Y 24  Wolumen BASE Y-24\n0    2021-01-08 00:00:00          266.25                  2\n1    2021-01-11 00:00:00          269.50                  0\n2    2021-01-12 00:00:00          269.00                  0\n3    2021-01-13 00:00:00          263.00                  1\n4    2021-01-14 00:00:00          262.00                  1\n..                   ...             ...                ...\n749  2023-12-21 00:00:00          500.65                 20\n750  2023-12-22 00:00:00          501.67                  3\n751  2023-12-27 00:00:00          503.50                  2\n752  2023-12-28 00:00:00          493.80                  5\n753  2023-12-29 00:00:00          489.00                  6\n\n[754 rows x 3 columns]",
      "text/html": "<div>\n<style scoped>\n    .dataframe tbody tr th:only-of-type {\n        vertical-align: middle;\n    }\n\n    .dataframe tbody tr th {\n        vertical-align: top;\n    }\n\n    .dataframe thead th {\n        text-align: right;\n    }\n</style>\n<table border=\"1\" class=\"dataframe\">\n  <thead>\n    <tr style=\"text-align: right;\">\n      <th></th>\n      <th>Data</th>\n      <th>Cena BASE-Y 24</th>\n      <th>Wolumen BASE Y-24</th>\n    </tr>\n  </thead>\n  <tbody>\n    <tr>\n      <th>0</th>\n      <td>2021-01-08 00:00:00</td>\n      <td>266.25</td>\n      <td>2</td>\n    </tr>\n    <tr>\n      <th>1</th>\n      <td>2021-01-11 00:00:00</td>\n      <td>269.50</td>\n      <td>0</td>\n    </tr>\n    <tr>\n      <th>2</th>\n      <td>2021-01-12 00:00:00</td>\n      <td>269.00</td>\n      <td>0</td>\n    </tr>\n    <tr>\n      <th>3</th>\n      <td>2021-01-13 00:00:00</td>\n      <td>263.00</td>\n      <td>1</td>\n    </tr>\n    <tr>\n      <th>4</th>\n      <td>2021-01-14 00:00:00</td>\n      <td>262.00</td>\n      <td>1</td>\n    </tr>\n    <tr>\n      <th>...</th>\n      <td>...</td>\n      <td>...</td>\n      <td>...</td>\n    </tr>\n    <tr>\n      <th>749</th>\n      <td>2023-12-21 00:00:00</td>\n      <td>500.65</td>\n      <td>20</td>\n    </tr>\n    <tr>\n      <th>750</th>\n      <td>2023-12-22 00:00:00</td>\n      <td>501.67</td>\n      <td>3</td>\n    </tr>\n    <tr>\n      <th>751</th>\n      <td>2023-12-27 00:00:00</td>\n      <td>503.50</td>\n      <td>2</td>\n    </tr>\n    <tr>\n      <th>752</th>\n      <td>2023-12-28 00:00:00</td>\n      <td>493.80</td>\n      <td>5</td>\n    </tr>\n    <tr>\n      <th>753</th>\n      <td>2023-12-29 00:00:00</td>\n      <td>489.00</td>\n      <td>6</td>\n    </tr>\n  </tbody>\n</table>\n<p>754 rows × 3 columns</p>\n</div>"
     },
     "execution_count": 43,
     "metadata": {},
     "output_type": "execute_result"
    }
   ],
   "source": [
    "enea"
   ],
   "metadata": {
    "collapsed": false,
    "ExecuteTime": {
     "end_time": "2025-04-14T10:29:36.481972100Z",
     "start_time": "2025-04-14T10:29:36.468854900Z"
    }
   },
   "id": "9ac89dd158717a77"
  },
  {
   "cell_type": "code",
   "execution_count": 45,
   "outputs": [
    {
     "name": "stdout",
     "output_type": "stream",
     "text": [
      "<class 'pandas.core.frame.DataFrame'>\n",
      "RangeIndex: 754 entries, 0 to 753\n",
      "Data columns (total 3 columns):\n",
      " #   Column             Non-Null Count  Dtype  \n",
      "---  ------             --------------  -----  \n",
      " 0   Data               754 non-null    object \n",
      " 1   Cena BASE-Y 24     754 non-null    float64\n",
      " 2   Wolumen BASE Y-24  754 non-null    int64  \n",
      "dtypes: float64(1), int64(1), object(1)\n",
      "memory usage: 17.8+ KB\n"
     ]
    }
   ],
   "source": [
    "enea.info()"
   ],
   "metadata": {
    "collapsed": false,
    "ExecuteTime": {
     "end_time": "2025-04-14T10:31:38.838699Z",
     "start_time": "2025-04-14T10:31:38.825324500Z"
    }
   },
   "id": "2a61504e0c4521fa"
  },
  {
   "cell_type": "code",
   "execution_count": 54,
   "outputs": [
    {
     "data": {
      "text/plain": "0      False\n1      False\n2      False\n3      False\n4      False\n       ...  \n749    False\n750    False\n751    False\n752    False\n753    False\nName: Data, Length: 754, dtype: bool"
     },
     "execution_count": 54,
     "metadata": {},
     "output_type": "execute_result"
    }
   ],
   "source": [
    "#enea.dropna(how='')\n",
    "sprzedaz=enea[\"Cena BASE-Y 24\"]*enea['Wolumen BASE Y-24']\n",
    "enea[\"Sprzedaż\"]=sprzedaz\n",
    "enea[\"Data\"]==\"%2022%\""
   ],
   "metadata": {
    "collapsed": false,
    "ExecuteTime": {
     "end_time": "2025-04-14T11:46:04.704700300Z",
     "start_time": "2025-04-14T11:46:04.695650300Z"
    }
   },
   "id": "4fb508c0be689342"
  },
  {
   "cell_type": "code",
   "execution_count": 70,
   "outputs": [
    {
     "data": {
      "text/plain": "    First Name  Gender Start Date Last Login Time  Salary  Bonus %  \\\n1       Thomas    Male 1996-03-31        06:53:00   61933    4.170   \n2        Maria  Female 1993-04-23        11:17:00  130590   11.858   \n3        Jerry    Male 2005-03-04        01:00:00  138705    9.340   \n4        Larry    Male 1998-01-24        04:47:00  101004    1.389   \n5       Dennis    Male 1987-04-18        01:35:00  115163   10.125   \n..         ...     ...        ...             ...     ...      ...   \n994     George    Male 2013-06-21        05:47:00   98874    4.479   \n995      Henry     NaN 2014-11-23        06:09:00  132483   16.655   \n996    Phillip    Male 1984-01-31        06:30:00   42392   19.675   \n998      Larry    Male 2013-04-20        04:45:00   60500   11.985   \n999     Albert    Male 2012-05-15        06:24:00  129949   10.169   \n\n     Senior Management                  Team  \n1                 True                   NaN  \n2                False               Finance  \n3                 True               Finance  \n4                 True       Client Services  \n5                False                 Legal  \n..                 ...                   ...  \n994               True             Marketing  \n995              False          Distribution  \n996              False               Finance  \n998              False  Business Development  \n999               True                 Sales  \n\n[923 rows x 8 columns]",
      "text/html": "<div>\n<style scoped>\n    .dataframe tbody tr th:only-of-type {\n        vertical-align: middle;\n    }\n\n    .dataframe tbody tr th {\n        vertical-align: top;\n    }\n\n    .dataframe thead th {\n        text-align: right;\n    }\n</style>\n<table border=\"1\" class=\"dataframe\">\n  <thead>\n    <tr style=\"text-align: right;\">\n      <th></th>\n      <th>First Name</th>\n      <th>Gender</th>\n      <th>Start Date</th>\n      <th>Last Login Time</th>\n      <th>Salary</th>\n      <th>Bonus %</th>\n      <th>Senior Management</th>\n      <th>Team</th>\n    </tr>\n  </thead>\n  <tbody>\n    <tr>\n      <th>1</th>\n      <td>Thomas</td>\n      <td>Male</td>\n      <td>1996-03-31</td>\n      <td>06:53:00</td>\n      <td>61933</td>\n      <td>4.170</td>\n      <td>True</td>\n      <td>NaN</td>\n    </tr>\n    <tr>\n      <th>2</th>\n      <td>Maria</td>\n      <td>Female</td>\n      <td>1993-04-23</td>\n      <td>11:17:00</td>\n      <td>130590</td>\n      <td>11.858</td>\n      <td>False</td>\n      <td>Finance</td>\n    </tr>\n    <tr>\n      <th>3</th>\n      <td>Jerry</td>\n      <td>Male</td>\n      <td>2005-03-04</td>\n      <td>01:00:00</td>\n      <td>138705</td>\n      <td>9.340</td>\n      <td>True</td>\n      <td>Finance</td>\n    </tr>\n    <tr>\n      <th>4</th>\n      <td>Larry</td>\n      <td>Male</td>\n      <td>1998-01-24</td>\n      <td>04:47:00</td>\n      <td>101004</td>\n      <td>1.389</td>\n      <td>True</td>\n      <td>Client Services</td>\n    </tr>\n    <tr>\n      <th>5</th>\n      <td>Dennis</td>\n      <td>Male</td>\n      <td>1987-04-18</td>\n      <td>01:35:00</td>\n      <td>115163</td>\n      <td>10.125</td>\n      <td>False</td>\n      <td>Legal</td>\n    </tr>\n    <tr>\n      <th>...</th>\n      <td>...</td>\n      <td>...</td>\n      <td>...</td>\n      <td>...</td>\n      <td>...</td>\n      <td>...</td>\n      <td>...</td>\n      <td>...</td>\n    </tr>\n    <tr>\n      <th>994</th>\n      <td>George</td>\n      <td>Male</td>\n      <td>2013-06-21</td>\n      <td>05:47:00</td>\n      <td>98874</td>\n      <td>4.479</td>\n      <td>True</td>\n      <td>Marketing</td>\n    </tr>\n    <tr>\n      <th>995</th>\n      <td>Henry</td>\n      <td>NaN</td>\n      <td>2014-11-23</td>\n      <td>06:09:00</td>\n      <td>132483</td>\n      <td>16.655</td>\n      <td>False</td>\n      <td>Distribution</td>\n    </tr>\n    <tr>\n      <th>996</th>\n      <td>Phillip</td>\n      <td>Male</td>\n      <td>1984-01-31</td>\n      <td>06:30:00</td>\n      <td>42392</td>\n      <td>19.675</td>\n      <td>False</td>\n      <td>Finance</td>\n    </tr>\n    <tr>\n      <th>998</th>\n      <td>Larry</td>\n      <td>Male</td>\n      <td>2013-04-20</td>\n      <td>04:45:00</td>\n      <td>60500</td>\n      <td>11.985</td>\n      <td>False</td>\n      <td>Business Development</td>\n    </tr>\n    <tr>\n      <th>999</th>\n      <td>Albert</td>\n      <td>Male</td>\n      <td>2012-05-15</td>\n      <td>06:24:00</td>\n      <td>129949</td>\n      <td>10.169</td>\n      <td>True</td>\n      <td>Sales</td>\n    </tr>\n  </tbody>\n</table>\n<p>923 rows × 8 columns</p>\n</div>"
     },
     "execution_count": 70,
     "metadata": {},
     "output_type": "execute_result"
    }
   ],
   "source": [
    "employees[employees[\"Gender\"]==\"Male\"]\n",
    "employees[employees[\"Team\"]==\"Finance\"]\n",
    "on_finance=employees[\"Team\"]==\"Finance\"\n",
    "employees[on_finance]\n",
    "employees[\"Senior Management\"]==True #it does not change anythig 'cos its already boolean\n",
    "employees[employees[\"Senior Management\"]].head()\n",
    "employees[employees[\"Salary\"]>10000]\n",
    "employees[employees[\"Bonus %\"]<1.5]\n",
    "employees[employees[\"Start Date\"] < \"1985-01-01\"]\n",
    "employees[employees[\"Last Login Time\"]<dt.time(12,0,0)] #12 hours 0 minutes 0 seconds noon"
   ],
   "metadata": {
    "collapsed": false,
    "ExecuteTime": {
     "end_time": "2025-04-14T12:01:56.982510500Z",
     "start_time": "2025-04-14T12:01:56.966804600Z"
    }
   },
   "id": "af73e31e3baaca8f"
  },
  {
   "cell_type": "code",
   "execution_count": 77,
   "outputs": [],
   "source": [
    "#combing conditionios \n",
    "#is female employee who work in Marketing\n",
    "is_female=employees[\"Gender\"]==\"Female\"\n",
    "is_in_marketing=employees[\"Team\"]==\"Marketing\" \n",
    "salary_over_100k=employees[\"Salary\"]>100000"
   ],
   "metadata": {
    "collapsed": false,
    "ExecuteTime": {
     "end_time": "2025-04-14T14:17:26.715870200Z",
     "start_time": "2025-04-14T14:17:26.706306400Z"
    }
   },
   "id": "3f0049799421e59"
  },
  {
   "cell_type": "code",
   "execution_count": 78,
   "outputs": [
    {
     "data": {
      "text/plain": "     First Name  Gender Start Date Last Login Time  Salary  Bonus %  \\\n98         Tina  Female 2016-06-16        07:47:00  100705   16.961   \n140     Shirley  Female 1981-02-28        01:23:00  113850    1.854   \n158       Norma  Female 1999-02-28        08:45:00  114412    8.756   \n305    Margaret  Female 1993-02-06        01:05:00  125220    3.733   \n319  Jacqueline  Female 1981-11-25        03:01:00  145988   18.243   \n379         NaN  Female 2002-09-18        12:39:00  118906    4.537   \n468      Janice  Female 1997-06-28        01:48:00  136032   10.696   \n490      Judith  Female 2007-11-23        01:22:00  117055    7.461   \n531    Virginia  Female 2010-05-02        09:10:00  123649   10.154   \n585     Shirley  Female 1988-04-16        11:09:00  132156    2.754   \n627        Anne  Female 1984-11-21        12:30:00  128305   16.636   \n656        Lisa  Female 1982-02-09        06:44:00  113592   17.108   \n675       Diane  Female 2009-10-30        06:56:00  130577   12.791   \n676       Annie  Female 1992-06-06        10:04:00  138925    9.801   \n811      Judith  Female 1989-09-03        11:16:00  134048    6.818   \n813      Evelyn  Female 2002-02-10        04:44:00  123621   19.767   \n881        Ruby  Female 1980-01-28        11:08:00  142868    6.318   \n991        Rose  Female 2002-08-25        05:12:00  134505   11.051   \n\n     Senior Management       Team  \n98                True  Marketing  \n140              False  Marketing  \n158               True  Marketing  \n305              False  Marketing  \n319              False  Marketing  \n379               True  Marketing  \n468               True  Marketing  \n490              False  Marketing  \n531               True  Marketing  \n585              False  Marketing  \n627              False  Marketing  \n656               True  Marketing  \n675              False  Marketing  \n676               True  Marketing  \n811               True  Marketing  \n813               True  Marketing  \n881              False  Marketing  \n991               True  Marketing  ",
      "text/html": "<div>\n<style scoped>\n    .dataframe tbody tr th:only-of-type {\n        vertical-align: middle;\n    }\n\n    .dataframe tbody tr th {\n        vertical-align: top;\n    }\n\n    .dataframe thead th {\n        text-align: right;\n    }\n</style>\n<table border=\"1\" class=\"dataframe\">\n  <thead>\n    <tr style=\"text-align: right;\">\n      <th></th>\n      <th>First Name</th>\n      <th>Gender</th>\n      <th>Start Date</th>\n      <th>Last Login Time</th>\n      <th>Salary</th>\n      <th>Bonus %</th>\n      <th>Senior Management</th>\n      <th>Team</th>\n    </tr>\n  </thead>\n  <tbody>\n    <tr>\n      <th>98</th>\n      <td>Tina</td>\n      <td>Female</td>\n      <td>2016-06-16</td>\n      <td>07:47:00</td>\n      <td>100705</td>\n      <td>16.961</td>\n      <td>True</td>\n      <td>Marketing</td>\n    </tr>\n    <tr>\n      <th>140</th>\n      <td>Shirley</td>\n      <td>Female</td>\n      <td>1981-02-28</td>\n      <td>01:23:00</td>\n      <td>113850</td>\n      <td>1.854</td>\n      <td>False</td>\n      <td>Marketing</td>\n    </tr>\n    <tr>\n      <th>158</th>\n      <td>Norma</td>\n      <td>Female</td>\n      <td>1999-02-28</td>\n      <td>08:45:00</td>\n      <td>114412</td>\n      <td>8.756</td>\n      <td>True</td>\n      <td>Marketing</td>\n    </tr>\n    <tr>\n      <th>305</th>\n      <td>Margaret</td>\n      <td>Female</td>\n      <td>1993-02-06</td>\n      <td>01:05:00</td>\n      <td>125220</td>\n      <td>3.733</td>\n      <td>False</td>\n      <td>Marketing</td>\n    </tr>\n    <tr>\n      <th>319</th>\n      <td>Jacqueline</td>\n      <td>Female</td>\n      <td>1981-11-25</td>\n      <td>03:01:00</td>\n      <td>145988</td>\n      <td>18.243</td>\n      <td>False</td>\n      <td>Marketing</td>\n    </tr>\n    <tr>\n      <th>379</th>\n      <td>NaN</td>\n      <td>Female</td>\n      <td>2002-09-18</td>\n      <td>12:39:00</td>\n      <td>118906</td>\n      <td>4.537</td>\n      <td>True</td>\n      <td>Marketing</td>\n    </tr>\n    <tr>\n      <th>468</th>\n      <td>Janice</td>\n      <td>Female</td>\n      <td>1997-06-28</td>\n      <td>01:48:00</td>\n      <td>136032</td>\n      <td>10.696</td>\n      <td>True</td>\n      <td>Marketing</td>\n    </tr>\n    <tr>\n      <th>490</th>\n      <td>Judith</td>\n      <td>Female</td>\n      <td>2007-11-23</td>\n      <td>01:22:00</td>\n      <td>117055</td>\n      <td>7.461</td>\n      <td>False</td>\n      <td>Marketing</td>\n    </tr>\n    <tr>\n      <th>531</th>\n      <td>Virginia</td>\n      <td>Female</td>\n      <td>2010-05-02</td>\n      <td>09:10:00</td>\n      <td>123649</td>\n      <td>10.154</td>\n      <td>True</td>\n      <td>Marketing</td>\n    </tr>\n    <tr>\n      <th>585</th>\n      <td>Shirley</td>\n      <td>Female</td>\n      <td>1988-04-16</td>\n      <td>11:09:00</td>\n      <td>132156</td>\n      <td>2.754</td>\n      <td>False</td>\n      <td>Marketing</td>\n    </tr>\n    <tr>\n      <th>627</th>\n      <td>Anne</td>\n      <td>Female</td>\n      <td>1984-11-21</td>\n      <td>12:30:00</td>\n      <td>128305</td>\n      <td>16.636</td>\n      <td>False</td>\n      <td>Marketing</td>\n    </tr>\n    <tr>\n      <th>656</th>\n      <td>Lisa</td>\n      <td>Female</td>\n      <td>1982-02-09</td>\n      <td>06:44:00</td>\n      <td>113592</td>\n      <td>17.108</td>\n      <td>True</td>\n      <td>Marketing</td>\n    </tr>\n    <tr>\n      <th>675</th>\n      <td>Diane</td>\n      <td>Female</td>\n      <td>2009-10-30</td>\n      <td>06:56:00</td>\n      <td>130577</td>\n      <td>12.791</td>\n      <td>False</td>\n      <td>Marketing</td>\n    </tr>\n    <tr>\n      <th>676</th>\n      <td>Annie</td>\n      <td>Female</td>\n      <td>1992-06-06</td>\n      <td>10:04:00</td>\n      <td>138925</td>\n      <td>9.801</td>\n      <td>True</td>\n      <td>Marketing</td>\n    </tr>\n    <tr>\n      <th>811</th>\n      <td>Judith</td>\n      <td>Female</td>\n      <td>1989-09-03</td>\n      <td>11:16:00</td>\n      <td>134048</td>\n      <td>6.818</td>\n      <td>True</td>\n      <td>Marketing</td>\n    </tr>\n    <tr>\n      <th>813</th>\n      <td>Evelyn</td>\n      <td>Female</td>\n      <td>2002-02-10</td>\n      <td>04:44:00</td>\n      <td>123621</td>\n      <td>19.767</td>\n      <td>True</td>\n      <td>Marketing</td>\n    </tr>\n    <tr>\n      <th>881</th>\n      <td>Ruby</td>\n      <td>Female</td>\n      <td>1980-01-28</td>\n      <td>11:08:00</td>\n      <td>142868</td>\n      <td>6.318</td>\n      <td>False</td>\n      <td>Marketing</td>\n    </tr>\n    <tr>\n      <th>991</th>\n      <td>Rose</td>\n      <td>Female</td>\n      <td>2002-08-25</td>\n      <td>05:12:00</td>\n      <td>134505</td>\n      <td>11.051</td>\n      <td>True</td>\n      <td>Marketing</td>\n    </tr>\n  </tbody>\n</table>\n</div>"
     },
     "execution_count": 78,
     "metadata": {},
     "output_type": "execute_result"
    }
   ],
   "source": [
    "employees[is_female & is_in_marketing&salary_over_100k] #filtrowanie"
   ],
   "metadata": {
    "collapsed": false,
    "ExecuteTime": {
     "end_time": "2025-04-14T14:18:25.305055Z",
     "start_time": "2025-04-14T14:18:25.281895300Z"
    }
   },
   "id": "8bdbd90dda799f88"
  },
  {
   "cell_type": "code",
   "execution_count": 76,
   "outputs": [
    {
     "data": {
      "text/plain": "0      False\n1      False\n2      False\n3      False\n4      False\n       ...  \n995    False\n996    False\n997    False\n998    False\n999    False\nLength: 1000, dtype: bool"
     },
     "execution_count": 76,
     "metadata": {},
     "output_type": "execute_result"
    }
   ],
   "source": [
    "is_female & is_in_marketing\n",
    "#True, False -> False"
   ],
   "metadata": {
    "collapsed": false,
    "ExecuteTime": {
     "end_time": "2025-04-14T14:12:18.568027700Z",
     "start_time": "2025-04-14T14:12:18.544963100Z"
    }
   },
   "id": "fba3a03c85ece809"
  },
  {
   "cell_type": "code",
   "execution_count": 81,
   "outputs": [
    {
     "data": {
      "text/plain": "    First Name  Gender Start Date Last Login Time  Salary  Bonus %  \\\n5       Dennis    Male 1987-04-18        01:35:00  115163   10.125   \n6         Ruby  Female 1987-08-17        04:20:00   65476   10.012   \n11       Julie  Female 1997-10-26        03:19:00  102508   12.637   \n13        Gary    Male 2008-01-27        11:40:00  109831    5.831   \n15     Lillian  Female 2016-06-05        06:09:00   59414    1.256   \n..         ...     ...        ...             ...     ...      ...   \n981      James    Male 1993-01-15        05:19:00  148985   19.280   \n985    Stephen     NaN 1983-07-10        08:10:00   85668    1.909   \n989     Justin     NaN 1991-02-10        04:58:00   38344    3.794   \n997    Russell    Male 2013-05-20        12:39:00   96914    1.421   \n999     Albert    Male 2012-05-15        06:24:00  129949   10.169   \n\n     Senior Management     Team  \n5                False    Legal  \n6                 True  Product  \n11                True    Legal  \n13               False    Sales  \n15               False  Product  \n..                 ...      ...  \n981              False    Legal  \n985              False    Legal  \n989              False    Legal  \n997              False  Product  \n999               True    Sales  \n\n[277 rows x 8 columns]",
      "text/html": "<div>\n<style scoped>\n    .dataframe tbody tr th:only-of-type {\n        vertical-align: middle;\n    }\n\n    .dataframe tbody tr th {\n        vertical-align: top;\n    }\n\n    .dataframe thead th {\n        text-align: right;\n    }\n</style>\n<table border=\"1\" class=\"dataframe\">\n  <thead>\n    <tr style=\"text-align: right;\">\n      <th></th>\n      <th>First Name</th>\n      <th>Gender</th>\n      <th>Start Date</th>\n      <th>Last Login Time</th>\n      <th>Salary</th>\n      <th>Bonus %</th>\n      <th>Senior Management</th>\n      <th>Team</th>\n    </tr>\n  </thead>\n  <tbody>\n    <tr>\n      <th>5</th>\n      <td>Dennis</td>\n      <td>Male</td>\n      <td>1987-04-18</td>\n      <td>01:35:00</td>\n      <td>115163</td>\n      <td>10.125</td>\n      <td>False</td>\n      <td>Legal</td>\n    </tr>\n    <tr>\n      <th>6</th>\n      <td>Ruby</td>\n      <td>Female</td>\n      <td>1987-08-17</td>\n      <td>04:20:00</td>\n      <td>65476</td>\n      <td>10.012</td>\n      <td>True</td>\n      <td>Product</td>\n    </tr>\n    <tr>\n      <th>11</th>\n      <td>Julie</td>\n      <td>Female</td>\n      <td>1997-10-26</td>\n      <td>03:19:00</td>\n      <td>102508</td>\n      <td>12.637</td>\n      <td>True</td>\n      <td>Legal</td>\n    </tr>\n    <tr>\n      <th>13</th>\n      <td>Gary</td>\n      <td>Male</td>\n      <td>2008-01-27</td>\n      <td>11:40:00</td>\n      <td>109831</td>\n      <td>5.831</td>\n      <td>False</td>\n      <td>Sales</td>\n    </tr>\n    <tr>\n      <th>15</th>\n      <td>Lillian</td>\n      <td>Female</td>\n      <td>2016-06-05</td>\n      <td>06:09:00</td>\n      <td>59414</td>\n      <td>1.256</td>\n      <td>False</td>\n      <td>Product</td>\n    </tr>\n    <tr>\n      <th>...</th>\n      <td>...</td>\n      <td>...</td>\n      <td>...</td>\n      <td>...</td>\n      <td>...</td>\n      <td>...</td>\n      <td>...</td>\n      <td>...</td>\n    </tr>\n    <tr>\n      <th>981</th>\n      <td>James</td>\n      <td>Male</td>\n      <td>1993-01-15</td>\n      <td>05:19:00</td>\n      <td>148985</td>\n      <td>19.280</td>\n      <td>False</td>\n      <td>Legal</td>\n    </tr>\n    <tr>\n      <th>985</th>\n      <td>Stephen</td>\n      <td>NaN</td>\n      <td>1983-07-10</td>\n      <td>08:10:00</td>\n      <td>85668</td>\n      <td>1.909</td>\n      <td>False</td>\n      <td>Legal</td>\n    </tr>\n    <tr>\n      <th>989</th>\n      <td>Justin</td>\n      <td>NaN</td>\n      <td>1991-02-10</td>\n      <td>04:58:00</td>\n      <td>38344</td>\n      <td>3.794</td>\n      <td>False</td>\n      <td>Legal</td>\n    </tr>\n    <tr>\n      <th>997</th>\n      <td>Russell</td>\n      <td>Male</td>\n      <td>2013-05-20</td>\n      <td>12:39:00</td>\n      <td>96914</td>\n      <td>1.421</td>\n      <td>False</td>\n      <td>Product</td>\n    </tr>\n    <tr>\n      <th>999</th>\n      <td>Albert</td>\n      <td>Male</td>\n      <td>2012-05-15</td>\n      <td>06:24:00</td>\n      <td>129949</td>\n      <td>10.169</td>\n      <td>True</td>\n      <td>Sales</td>\n    </tr>\n  </tbody>\n</table>\n<p>277 rows × 8 columns</p>\n</div>"
     },
     "execution_count": 81,
     "metadata": {},
     "output_type": "execute_result"
    }
   ],
   "source": [
    "target=employees[\"Team\"].isin([\"Legal\",\"Sales\",\"Product\"])\n",
    "employees[target]"
   ],
   "metadata": {
    "collapsed": false,
    "ExecuteTime": {
     "end_time": "2025-04-14T21:04:20.724353600Z",
     "start_time": "2025-04-14T21:04:20.699338400Z"
    }
   },
   "id": "c0d3161ec982f4ac"
  },
  {
   "cell_type": "code",
   "execution_count": 83,
   "outputs": [
    {
     "data": {
      "text/plain": "      First Name  Gender Start Date Last Login Time  Salary  Bonus %  \\\n1         Thomas    Male 1996-03-31        06:53:00   61933    4.170   \n10        Louise  Female 1980-08-12        09:01:00   63241   15.132   \n23           NaN    Male 2012-06-14        04:19:00  125792    5.042   \n32           NaN    Male 1998-08-21        02:27:00  122340    6.417   \n91         James     NaN 2005-01-26        11:00:00  128771    8.309   \n109  Christopher    Male 2000-04-22        10:15:00   37919   11.449   \n139          NaN  Female 1990-10-03        01:08:00  132373   10.527   \n199     Jonathan    Male 2009-07-17        08:15:00  130581   16.736   \n258      Michael    Male 2002-01-24        03:04:00   43586   12.659   \n290       Jeremy    Male 1988-06-14        06:20:00  129460   13.657   \n314        Bobby    Male 1996-03-31        05:40:00  112117    6.338   \n367       Edward    Male 1989-08-04        06:06:00   66067   10.957   \n382          NaN  Female 1996-04-18        03:57:00  107024   12.182   \n434        Joyce  Female 1995-02-07        07:38:00   50701   14.227   \n438        Jason    Male 1998-11-20        02:54:00   69244    6.220   \n445        Chris    Male 2006-12-12        01:57:00   71642    1.496   \n479      Richard    Male 1997-07-04        11:47:00   47647   18.787   \n512        Wanda  Female 1993-04-06        03:11:00   78883   19.695   \n513        Jimmy    Male 2013-11-19        07:29:00   63549   19.624   \n520        Peter    Male 2003-02-22        09:09:00   56580    8.411   \n567          NaN  Female 1980-04-01        08:04:00   48141   12.605   \n573     Kimberly  Female 1981-12-30        04:51:00   81800    5.435   \n580        Harry    Male 1985-01-27        08:18:00   65482   18.089   \n626          NaN  Female 1997-04-13        08:03:00  131755    2.930   \n634         Carl    Male 1987-03-30        05:59:00   75598   19.289   \n635        Randy    Male 2000-09-27        03:04:00   89831   13.047   \n647       Donald    Male 1988-04-06        10:00:00  122920    5.320   \n669       Joseph     NaN 1982-03-28        01:05:00   86564   11.879   \n684        Alice  Female 2016-01-21        05:07:00  117787   10.485   \n706         Todd    Male 1993-07-04        06:53:00  128175   18.473   \n726       Daniel    Male 2016-02-29        04:04:00   77287   13.000   \n753      Antonio    Male 1999-06-06        10:54:00   41928    5.478   \n774          NaN  Female 2000-06-18        07:36:00  106428   10.867   \n781     Lawrence    Male 1995-07-03        10:55:00   46378    9.127   \n794       Nicole  Female 2004-03-01        05:17:00   44021   10.286   \n826          NaN     NaN 1988-08-01        01:35:00   87103    5.665   \n850      Charles    Male 1997-09-03        10:04:00  148291    6.002   \n851        Bobby    Male 1996-08-19        01:16:00  147842   16.158   \n853      Mildred  Female 2007-04-06        10:06:00  139284   11.390   \n855      Phillip     NaN 2003-10-20        11:09:00   89700    2.277   \n864         Ryan    Male 2012-11-16        01:47:00   57292    6.010   \n912          Joe    Male 1998-12-08        10:28:00  126120    1.020   \n951          NaN  Female 2010-09-14        05:19:00  143638    9.662   \n\n     Senior Management Team  \n1                 True  NaN  \n10                True  NaN  \n23                True  NaN  \n32                True  NaN  \n91               False  NaN  \n109              False  NaN  \n139               True  NaN  \n199               True  NaN  \n258              False  NaN  \n290               True  NaN  \n314              False  NaN  \n367               True  NaN  \n382               True  NaN  \n434               True  NaN  \n438               True  NaN  \n445              False  NaN  \n479               True  NaN  \n512              False  NaN  \n513              False  NaN  \n520               True  NaN  \n567               True  NaN  \n573               True  NaN  \n580              False  NaN  \n626               True  NaN  \n634              False  NaN  \n635               True  NaN  \n647              False  NaN  \n669               True  NaN  \n684              False  NaN  \n706               True  NaN  \n726               True  NaN  \n753               True  NaN  \n774               True  NaN  \n781              False  NaN  \n794              False  NaN  \n826               True  NaN  \n850              False  NaN  \n851               True  NaN  \n853               True  NaN  \n855               True  NaN  \n864              False  NaN  \n912              False  NaN  \n951               True  NaN  ",
      "text/html": "<div>\n<style scoped>\n    .dataframe tbody tr th:only-of-type {\n        vertical-align: middle;\n    }\n\n    .dataframe tbody tr th {\n        vertical-align: top;\n    }\n\n    .dataframe thead th {\n        text-align: right;\n    }\n</style>\n<table border=\"1\" class=\"dataframe\">\n  <thead>\n    <tr style=\"text-align: right;\">\n      <th></th>\n      <th>First Name</th>\n      <th>Gender</th>\n      <th>Start Date</th>\n      <th>Last Login Time</th>\n      <th>Salary</th>\n      <th>Bonus %</th>\n      <th>Senior Management</th>\n      <th>Team</th>\n    </tr>\n  </thead>\n  <tbody>\n    <tr>\n      <th>1</th>\n      <td>Thomas</td>\n      <td>Male</td>\n      <td>1996-03-31</td>\n      <td>06:53:00</td>\n      <td>61933</td>\n      <td>4.170</td>\n      <td>True</td>\n      <td>NaN</td>\n    </tr>\n    <tr>\n      <th>10</th>\n      <td>Louise</td>\n      <td>Female</td>\n      <td>1980-08-12</td>\n      <td>09:01:00</td>\n      <td>63241</td>\n      <td>15.132</td>\n      <td>True</td>\n      <td>NaN</td>\n    </tr>\n    <tr>\n      <th>23</th>\n      <td>NaN</td>\n      <td>Male</td>\n      <td>2012-06-14</td>\n      <td>04:19:00</td>\n      <td>125792</td>\n      <td>5.042</td>\n      <td>True</td>\n      <td>NaN</td>\n    </tr>\n    <tr>\n      <th>32</th>\n      <td>NaN</td>\n      <td>Male</td>\n      <td>1998-08-21</td>\n      <td>02:27:00</td>\n      <td>122340</td>\n      <td>6.417</td>\n      <td>True</td>\n      <td>NaN</td>\n    </tr>\n    <tr>\n      <th>91</th>\n      <td>James</td>\n      <td>NaN</td>\n      <td>2005-01-26</td>\n      <td>11:00:00</td>\n      <td>128771</td>\n      <td>8.309</td>\n      <td>False</td>\n      <td>NaN</td>\n    </tr>\n    <tr>\n      <th>109</th>\n      <td>Christopher</td>\n      <td>Male</td>\n      <td>2000-04-22</td>\n      <td>10:15:00</td>\n      <td>37919</td>\n      <td>11.449</td>\n      <td>False</td>\n      <td>NaN</td>\n    </tr>\n    <tr>\n      <th>139</th>\n      <td>NaN</td>\n      <td>Female</td>\n      <td>1990-10-03</td>\n      <td>01:08:00</td>\n      <td>132373</td>\n      <td>10.527</td>\n      <td>True</td>\n      <td>NaN</td>\n    </tr>\n    <tr>\n      <th>199</th>\n      <td>Jonathan</td>\n      <td>Male</td>\n      <td>2009-07-17</td>\n      <td>08:15:00</td>\n      <td>130581</td>\n      <td>16.736</td>\n      <td>True</td>\n      <td>NaN</td>\n    </tr>\n    <tr>\n      <th>258</th>\n      <td>Michael</td>\n      <td>Male</td>\n      <td>2002-01-24</td>\n      <td>03:04:00</td>\n      <td>43586</td>\n      <td>12.659</td>\n      <td>False</td>\n      <td>NaN</td>\n    </tr>\n    <tr>\n      <th>290</th>\n      <td>Jeremy</td>\n      <td>Male</td>\n      <td>1988-06-14</td>\n      <td>06:20:00</td>\n      <td>129460</td>\n      <td>13.657</td>\n      <td>True</td>\n      <td>NaN</td>\n    </tr>\n    <tr>\n      <th>314</th>\n      <td>Bobby</td>\n      <td>Male</td>\n      <td>1996-03-31</td>\n      <td>05:40:00</td>\n      <td>112117</td>\n      <td>6.338</td>\n      <td>False</td>\n      <td>NaN</td>\n    </tr>\n    <tr>\n      <th>367</th>\n      <td>Edward</td>\n      <td>Male</td>\n      <td>1989-08-04</td>\n      <td>06:06:00</td>\n      <td>66067</td>\n      <td>10.957</td>\n      <td>True</td>\n      <td>NaN</td>\n    </tr>\n    <tr>\n      <th>382</th>\n      <td>NaN</td>\n      <td>Female</td>\n      <td>1996-04-18</td>\n      <td>03:57:00</td>\n      <td>107024</td>\n      <td>12.182</td>\n      <td>True</td>\n      <td>NaN</td>\n    </tr>\n    <tr>\n      <th>434</th>\n      <td>Joyce</td>\n      <td>Female</td>\n      <td>1995-02-07</td>\n      <td>07:38:00</td>\n      <td>50701</td>\n      <td>14.227</td>\n      <td>True</td>\n      <td>NaN</td>\n    </tr>\n    <tr>\n      <th>438</th>\n      <td>Jason</td>\n      <td>Male</td>\n      <td>1998-11-20</td>\n      <td>02:54:00</td>\n      <td>69244</td>\n      <td>6.220</td>\n      <td>True</td>\n      <td>NaN</td>\n    </tr>\n    <tr>\n      <th>445</th>\n      <td>Chris</td>\n      <td>Male</td>\n      <td>2006-12-12</td>\n      <td>01:57:00</td>\n      <td>71642</td>\n      <td>1.496</td>\n      <td>False</td>\n      <td>NaN</td>\n    </tr>\n    <tr>\n      <th>479</th>\n      <td>Richard</td>\n      <td>Male</td>\n      <td>1997-07-04</td>\n      <td>11:47:00</td>\n      <td>47647</td>\n      <td>18.787</td>\n      <td>True</td>\n      <td>NaN</td>\n    </tr>\n    <tr>\n      <th>512</th>\n      <td>Wanda</td>\n      <td>Female</td>\n      <td>1993-04-06</td>\n      <td>03:11:00</td>\n      <td>78883</td>\n      <td>19.695</td>\n      <td>False</td>\n      <td>NaN</td>\n    </tr>\n    <tr>\n      <th>513</th>\n      <td>Jimmy</td>\n      <td>Male</td>\n      <td>2013-11-19</td>\n      <td>07:29:00</td>\n      <td>63549</td>\n      <td>19.624</td>\n      <td>False</td>\n      <td>NaN</td>\n    </tr>\n    <tr>\n      <th>520</th>\n      <td>Peter</td>\n      <td>Male</td>\n      <td>2003-02-22</td>\n      <td>09:09:00</td>\n      <td>56580</td>\n      <td>8.411</td>\n      <td>True</td>\n      <td>NaN</td>\n    </tr>\n    <tr>\n      <th>567</th>\n      <td>NaN</td>\n      <td>Female</td>\n      <td>1980-04-01</td>\n      <td>08:04:00</td>\n      <td>48141</td>\n      <td>12.605</td>\n      <td>True</td>\n      <td>NaN</td>\n    </tr>\n    <tr>\n      <th>573</th>\n      <td>Kimberly</td>\n      <td>Female</td>\n      <td>1981-12-30</td>\n      <td>04:51:00</td>\n      <td>81800</td>\n      <td>5.435</td>\n      <td>True</td>\n      <td>NaN</td>\n    </tr>\n    <tr>\n      <th>580</th>\n      <td>Harry</td>\n      <td>Male</td>\n      <td>1985-01-27</td>\n      <td>08:18:00</td>\n      <td>65482</td>\n      <td>18.089</td>\n      <td>False</td>\n      <td>NaN</td>\n    </tr>\n    <tr>\n      <th>626</th>\n      <td>NaN</td>\n      <td>Female</td>\n      <td>1997-04-13</td>\n      <td>08:03:00</td>\n      <td>131755</td>\n      <td>2.930</td>\n      <td>True</td>\n      <td>NaN</td>\n    </tr>\n    <tr>\n      <th>634</th>\n      <td>Carl</td>\n      <td>Male</td>\n      <td>1987-03-30</td>\n      <td>05:59:00</td>\n      <td>75598</td>\n      <td>19.289</td>\n      <td>False</td>\n      <td>NaN</td>\n    </tr>\n    <tr>\n      <th>635</th>\n      <td>Randy</td>\n      <td>Male</td>\n      <td>2000-09-27</td>\n      <td>03:04:00</td>\n      <td>89831</td>\n      <td>13.047</td>\n      <td>True</td>\n      <td>NaN</td>\n    </tr>\n    <tr>\n      <th>647</th>\n      <td>Donald</td>\n      <td>Male</td>\n      <td>1988-04-06</td>\n      <td>10:00:00</td>\n      <td>122920</td>\n      <td>5.320</td>\n      <td>False</td>\n      <td>NaN</td>\n    </tr>\n    <tr>\n      <th>669</th>\n      <td>Joseph</td>\n      <td>NaN</td>\n      <td>1982-03-28</td>\n      <td>01:05:00</td>\n      <td>86564</td>\n      <td>11.879</td>\n      <td>True</td>\n      <td>NaN</td>\n    </tr>\n    <tr>\n      <th>684</th>\n      <td>Alice</td>\n      <td>Female</td>\n      <td>2016-01-21</td>\n      <td>05:07:00</td>\n      <td>117787</td>\n      <td>10.485</td>\n      <td>False</td>\n      <td>NaN</td>\n    </tr>\n    <tr>\n      <th>706</th>\n      <td>Todd</td>\n      <td>Male</td>\n      <td>1993-07-04</td>\n      <td>06:53:00</td>\n      <td>128175</td>\n      <td>18.473</td>\n      <td>True</td>\n      <td>NaN</td>\n    </tr>\n    <tr>\n      <th>726</th>\n      <td>Daniel</td>\n      <td>Male</td>\n      <td>2016-02-29</td>\n      <td>04:04:00</td>\n      <td>77287</td>\n      <td>13.000</td>\n      <td>True</td>\n      <td>NaN</td>\n    </tr>\n    <tr>\n      <th>753</th>\n      <td>Antonio</td>\n      <td>Male</td>\n      <td>1999-06-06</td>\n      <td>10:54:00</td>\n      <td>41928</td>\n      <td>5.478</td>\n      <td>True</td>\n      <td>NaN</td>\n    </tr>\n    <tr>\n      <th>774</th>\n      <td>NaN</td>\n      <td>Female</td>\n      <td>2000-06-18</td>\n      <td>07:36:00</td>\n      <td>106428</td>\n      <td>10.867</td>\n      <td>True</td>\n      <td>NaN</td>\n    </tr>\n    <tr>\n      <th>781</th>\n      <td>Lawrence</td>\n      <td>Male</td>\n      <td>1995-07-03</td>\n      <td>10:55:00</td>\n      <td>46378</td>\n      <td>9.127</td>\n      <td>False</td>\n      <td>NaN</td>\n    </tr>\n    <tr>\n      <th>794</th>\n      <td>Nicole</td>\n      <td>Female</td>\n      <td>2004-03-01</td>\n      <td>05:17:00</td>\n      <td>44021</td>\n      <td>10.286</td>\n      <td>False</td>\n      <td>NaN</td>\n    </tr>\n    <tr>\n      <th>826</th>\n      <td>NaN</td>\n      <td>NaN</td>\n      <td>1988-08-01</td>\n      <td>01:35:00</td>\n      <td>87103</td>\n      <td>5.665</td>\n      <td>True</td>\n      <td>NaN</td>\n    </tr>\n    <tr>\n      <th>850</th>\n      <td>Charles</td>\n      <td>Male</td>\n      <td>1997-09-03</td>\n      <td>10:04:00</td>\n      <td>148291</td>\n      <td>6.002</td>\n      <td>False</td>\n      <td>NaN</td>\n    </tr>\n    <tr>\n      <th>851</th>\n      <td>Bobby</td>\n      <td>Male</td>\n      <td>1996-08-19</td>\n      <td>01:16:00</td>\n      <td>147842</td>\n      <td>16.158</td>\n      <td>True</td>\n      <td>NaN</td>\n    </tr>\n    <tr>\n      <th>853</th>\n      <td>Mildred</td>\n      <td>Female</td>\n      <td>2007-04-06</td>\n      <td>10:06:00</td>\n      <td>139284</td>\n      <td>11.390</td>\n      <td>True</td>\n      <td>NaN</td>\n    </tr>\n    <tr>\n      <th>855</th>\n      <td>Phillip</td>\n      <td>NaN</td>\n      <td>2003-10-20</td>\n      <td>11:09:00</td>\n      <td>89700</td>\n      <td>2.277</td>\n      <td>True</td>\n      <td>NaN</td>\n    </tr>\n    <tr>\n      <th>864</th>\n      <td>Ryan</td>\n      <td>Male</td>\n      <td>2012-11-16</td>\n      <td>01:47:00</td>\n      <td>57292</td>\n      <td>6.010</td>\n      <td>False</td>\n      <td>NaN</td>\n    </tr>\n    <tr>\n      <th>912</th>\n      <td>Joe</td>\n      <td>Male</td>\n      <td>1998-12-08</td>\n      <td>10:28:00</td>\n      <td>126120</td>\n      <td>1.020</td>\n      <td>False</td>\n      <td>NaN</td>\n    </tr>\n    <tr>\n      <th>951</th>\n      <td>NaN</td>\n      <td>Female</td>\n      <td>2010-09-14</td>\n      <td>05:19:00</td>\n      <td>143638</td>\n      <td>9.662</td>\n      <td>True</td>\n      <td>NaN</td>\n    </tr>\n  </tbody>\n</table>\n</div>"
     },
     "execution_count": 83,
     "metadata": {},
     "output_type": "execute_result"
    }
   ],
   "source": [
    "employees[\"Team\"].isnull()\n",
    "employees[employees[\"Team\"].isnull()]\n"
   ],
   "metadata": {
    "collapsed": false,
    "ExecuteTime": {
     "end_time": "2025-04-14T21:19:21.287120Z",
     "start_time": "2025-04-14T21:19:21.268573200Z"
    }
   },
   "id": "7ddcd2d0b4534137"
  },
  {
   "cell_type": "code",
   "execution_count": 90,
   "outputs": [
    {
     "data": {
      "text/plain": "    First Name  Gender Start Date Last Login Time  Salary  Bonus %  \\\n7          NaN  Female 2015-07-20        10:43:00   45906   11.598   \n25         NaN    Male 2012-10-08        01:12:00   37076   18.576   \n39         NaN    Male 2016-01-29        02:33:00  122173    7.797   \n51         NaN     NaN 2011-12-17        08:29:00   41126   14.009   \n62         NaN  Female 2007-06-12        05:25:00   58112   19.414   \n116        NaN    Male 1991-06-22        08:58:00   76189   18.988   \n149        NaN  Female 2014-08-17        02:00:00   86230    8.578   \n157        NaN  Female 2005-07-27        08:32:00   79536   14.443   \n165        NaN  Female 2014-03-23        01:28:00   59148    9.061   \n166        NaN  Female 1991-07-09        06:52:00   42341    7.014   \n174        NaN     NaN 2007-09-18        06:59:00   40297    6.185   \n186        NaN  Female 2005-02-23        09:50:00  149654    1.825   \n220        NaN  Female 1991-06-17        12:49:00   71945    5.560   \n253        NaN     NaN 2003-04-28        03:01:00  113732   10.391   \n257        NaN    Male 1999-11-25        06:16:00   42676   15.517   \n266        NaN  Female 2009-08-05        08:14:00  115145   14.063   \n267        NaN    Male 2005-02-04        01:01:00   40451   16.044   \n269        NaN  Female 1992-08-02        08:35:00  145316   18.517   \n320        NaN  Female 2008-07-08        11:40:00   62960   14.356   \n329        NaN    Male 2010-01-27        02:57:00   87760   14.987   \n352        NaN    Male 2011-10-09        09:29:00   69906    4.844   \n353        NaN    Male 1997-04-22        09:36:00   65078    3.095   \n374        NaN  Female 2006-12-31        11:02:00   81444    3.171   \n379        NaN  Female 2002-09-18        12:39:00  118906    4.537   \n416        NaN    Male 2008-06-29        05:23:00  111043    5.966   \n444        NaN    Male 2016-05-24        09:17:00   76409    7.008   \n454        NaN    Male 1995-02-21        12:26:00  136602   10.429   \n481        NaN  Female 2013-04-27        06:40:00   93847    1.085   \n483        NaN  Female 1992-04-26        08:01:00  115436    3.099   \n504        NaN  Female 2014-06-24        10:05:00   38275   10.494   \n505        NaN    Male 1980-04-20        01:17:00   71520   13.248   \n521        NaN     NaN 1981-09-25        09:59:00   83895   17.971   \n540        NaN  Female 2009-12-02        03:30:00   84746    4.820   \n574        NaN  Female 2009-01-13        01:01:00  118736    7.421   \n599        NaN  Female 1990-10-11        10:57:00   98385   10.925   \n607        NaN    Male 1983-10-13        11:59:00  139754   12.740   \n608        NaN  Female 1993-10-24        05:17:00  116236   17.274   \n628        NaN     NaN 1988-09-02        12:49:00  147309    1.702   \n674        NaN    Male 2012-08-28        07:56:00   88733    1.932   \n685        NaN    Male 1989-10-20        09:37:00   88086   19.387   \n687        NaN    Male 1996-12-27        07:07:00  139959    8.992   \n697        NaN    Male 1990-05-23        02:09:00  136655    9.801   \n709        NaN    Male 1995-04-07        04:32:00   60411   12.048   \n733        NaN    Male 2009-06-17        01:00:00  136681    3.655   \n734        NaN  Female 1994-12-18        08:42:00  138807    1.400   \n773        NaN    Male 1986-10-24        09:23:00   47176   10.736   \n782        NaN    Male 1986-05-06        04:41:00   74104   17.680   \n783        NaN     NaN 1991-04-15        03:39:00  132505   13.592   \n785        NaN  Female 1982-07-24        12:00:00   57811    8.941   \n812        NaN    Male 1994-12-13        10:34:00  141311    5.478   \n821        NaN  Female 1980-12-27        02:27:00   80399   12.254   \n823        NaN    Male 2009-11-12        02:30:00  109411    9.494   \n877        NaN    Male 1980-09-05        07:36:00  114896   13.823   \n890        NaN    Male 2015-11-24        03:11:00  145329    7.100   \n902        NaN    Male 2001-05-23        07:52:00  103877    6.322   \n925        NaN  Female 2000-08-23        04:19:00   95866   19.388   \n946        NaN  Female 1985-09-15        01:50:00  133472   16.941   \n947        NaN    Male 2012-07-30        03:07:00  107351    5.329   \n\n     Senior Management                  Team  \n7                 True               Finance  \n25                True       Client Services  \n39                True       Client Services  \n51                True                 Sales  \n62                True             Marketing  \n116               True                 Legal  \n149               True          Distribution  \n157               True               Product  \n165               True                 Legal  \n166               True                 Sales  \n174               True       Client Services  \n186               True                 Sales  \n220               True             Marketing  \n253               True                 Sales  \n257               True                 Sales  \n266               True          Distribution  \n267               True          Distribution  \n269               True       Human Resources  \n320               True                 Sales  \n329               True           Engineering  \n352               True           Engineering  \n353               True             Marketing  \n374               True          Distribution  \n379               True             Marketing  \n416               True          Distribution  \n444               True          Distribution  \n454               True             Marketing  \n481               True  Business Development  \n483               True       Human Resources  \n504               True          Distribution  \n505               True           Engineering  \n521               True           Engineering  \n540               True               Finance  \n574               True       Client Services  \n599               True       Human Resources  \n607               True                 Sales  \n608               True           Engineering  \n628               True          Distribution  \n674               True       Human Resources  \n685               True               Finance  \n687               True          Distribution  \n697               True          Distribution  \n709               True       Human Resources  \n733               True  Business Development  \n734               True       Human Resources  \n773               True               Finance  \n782               True       Client Services  \n783               True               Product  \n785               True             Marketing  \n812               True               Product  \n821               True          Distribution  \n823               True           Engineering  \n877               True       Client Services  \n890               True               Finance  \n902               True          Distribution  \n925               True                 Sales  \n946               True          Distribution  \n947               True             Marketing  ",
      "text/html": "<div>\n<style scoped>\n    .dataframe tbody tr th:only-of-type {\n        vertical-align: middle;\n    }\n\n    .dataframe tbody tr th {\n        vertical-align: top;\n    }\n\n    .dataframe thead th {\n        text-align: right;\n    }\n</style>\n<table border=\"1\" class=\"dataframe\">\n  <thead>\n    <tr style=\"text-align: right;\">\n      <th></th>\n      <th>First Name</th>\n      <th>Gender</th>\n      <th>Start Date</th>\n      <th>Last Login Time</th>\n      <th>Salary</th>\n      <th>Bonus %</th>\n      <th>Senior Management</th>\n      <th>Team</th>\n    </tr>\n  </thead>\n  <tbody>\n    <tr>\n      <th>7</th>\n      <td>NaN</td>\n      <td>Female</td>\n      <td>2015-07-20</td>\n      <td>10:43:00</td>\n      <td>45906</td>\n      <td>11.598</td>\n      <td>True</td>\n      <td>Finance</td>\n    </tr>\n    <tr>\n      <th>25</th>\n      <td>NaN</td>\n      <td>Male</td>\n      <td>2012-10-08</td>\n      <td>01:12:00</td>\n      <td>37076</td>\n      <td>18.576</td>\n      <td>True</td>\n      <td>Client Services</td>\n    </tr>\n    <tr>\n      <th>39</th>\n      <td>NaN</td>\n      <td>Male</td>\n      <td>2016-01-29</td>\n      <td>02:33:00</td>\n      <td>122173</td>\n      <td>7.797</td>\n      <td>True</td>\n      <td>Client Services</td>\n    </tr>\n    <tr>\n      <th>51</th>\n      <td>NaN</td>\n      <td>NaN</td>\n      <td>2011-12-17</td>\n      <td>08:29:00</td>\n      <td>41126</td>\n      <td>14.009</td>\n      <td>True</td>\n      <td>Sales</td>\n    </tr>\n    <tr>\n      <th>62</th>\n      <td>NaN</td>\n      <td>Female</td>\n      <td>2007-06-12</td>\n      <td>05:25:00</td>\n      <td>58112</td>\n      <td>19.414</td>\n      <td>True</td>\n      <td>Marketing</td>\n    </tr>\n    <tr>\n      <th>116</th>\n      <td>NaN</td>\n      <td>Male</td>\n      <td>1991-06-22</td>\n      <td>08:58:00</td>\n      <td>76189</td>\n      <td>18.988</td>\n      <td>True</td>\n      <td>Legal</td>\n    </tr>\n    <tr>\n      <th>149</th>\n      <td>NaN</td>\n      <td>Female</td>\n      <td>2014-08-17</td>\n      <td>02:00:00</td>\n      <td>86230</td>\n      <td>8.578</td>\n      <td>True</td>\n      <td>Distribution</td>\n    </tr>\n    <tr>\n      <th>157</th>\n      <td>NaN</td>\n      <td>Female</td>\n      <td>2005-07-27</td>\n      <td>08:32:00</td>\n      <td>79536</td>\n      <td>14.443</td>\n      <td>True</td>\n      <td>Product</td>\n    </tr>\n    <tr>\n      <th>165</th>\n      <td>NaN</td>\n      <td>Female</td>\n      <td>2014-03-23</td>\n      <td>01:28:00</td>\n      <td>59148</td>\n      <td>9.061</td>\n      <td>True</td>\n      <td>Legal</td>\n    </tr>\n    <tr>\n      <th>166</th>\n      <td>NaN</td>\n      <td>Female</td>\n      <td>1991-07-09</td>\n      <td>06:52:00</td>\n      <td>42341</td>\n      <td>7.014</td>\n      <td>True</td>\n      <td>Sales</td>\n    </tr>\n    <tr>\n      <th>174</th>\n      <td>NaN</td>\n      <td>NaN</td>\n      <td>2007-09-18</td>\n      <td>06:59:00</td>\n      <td>40297</td>\n      <td>6.185</td>\n      <td>True</td>\n      <td>Client Services</td>\n    </tr>\n    <tr>\n      <th>186</th>\n      <td>NaN</td>\n      <td>Female</td>\n      <td>2005-02-23</td>\n      <td>09:50:00</td>\n      <td>149654</td>\n      <td>1.825</td>\n      <td>True</td>\n      <td>Sales</td>\n    </tr>\n    <tr>\n      <th>220</th>\n      <td>NaN</td>\n      <td>Female</td>\n      <td>1991-06-17</td>\n      <td>12:49:00</td>\n      <td>71945</td>\n      <td>5.560</td>\n      <td>True</td>\n      <td>Marketing</td>\n    </tr>\n    <tr>\n      <th>253</th>\n      <td>NaN</td>\n      <td>NaN</td>\n      <td>2003-04-28</td>\n      <td>03:01:00</td>\n      <td>113732</td>\n      <td>10.391</td>\n      <td>True</td>\n      <td>Sales</td>\n    </tr>\n    <tr>\n      <th>257</th>\n      <td>NaN</td>\n      <td>Male</td>\n      <td>1999-11-25</td>\n      <td>06:16:00</td>\n      <td>42676</td>\n      <td>15.517</td>\n      <td>True</td>\n      <td>Sales</td>\n    </tr>\n    <tr>\n      <th>266</th>\n      <td>NaN</td>\n      <td>Female</td>\n      <td>2009-08-05</td>\n      <td>08:14:00</td>\n      <td>115145</td>\n      <td>14.063</td>\n      <td>True</td>\n      <td>Distribution</td>\n    </tr>\n    <tr>\n      <th>267</th>\n      <td>NaN</td>\n      <td>Male</td>\n      <td>2005-02-04</td>\n      <td>01:01:00</td>\n      <td>40451</td>\n      <td>16.044</td>\n      <td>True</td>\n      <td>Distribution</td>\n    </tr>\n    <tr>\n      <th>269</th>\n      <td>NaN</td>\n      <td>Female</td>\n      <td>1992-08-02</td>\n      <td>08:35:00</td>\n      <td>145316</td>\n      <td>18.517</td>\n      <td>True</td>\n      <td>Human Resources</td>\n    </tr>\n    <tr>\n      <th>320</th>\n      <td>NaN</td>\n      <td>Female</td>\n      <td>2008-07-08</td>\n      <td>11:40:00</td>\n      <td>62960</td>\n      <td>14.356</td>\n      <td>True</td>\n      <td>Sales</td>\n    </tr>\n    <tr>\n      <th>329</th>\n      <td>NaN</td>\n      <td>Male</td>\n      <td>2010-01-27</td>\n      <td>02:57:00</td>\n      <td>87760</td>\n      <td>14.987</td>\n      <td>True</td>\n      <td>Engineering</td>\n    </tr>\n    <tr>\n      <th>352</th>\n      <td>NaN</td>\n      <td>Male</td>\n      <td>2011-10-09</td>\n      <td>09:29:00</td>\n      <td>69906</td>\n      <td>4.844</td>\n      <td>True</td>\n      <td>Engineering</td>\n    </tr>\n    <tr>\n      <th>353</th>\n      <td>NaN</td>\n      <td>Male</td>\n      <td>1997-04-22</td>\n      <td>09:36:00</td>\n      <td>65078</td>\n      <td>3.095</td>\n      <td>True</td>\n      <td>Marketing</td>\n    </tr>\n    <tr>\n      <th>374</th>\n      <td>NaN</td>\n      <td>Female</td>\n      <td>2006-12-31</td>\n      <td>11:02:00</td>\n      <td>81444</td>\n      <td>3.171</td>\n      <td>True</td>\n      <td>Distribution</td>\n    </tr>\n    <tr>\n      <th>379</th>\n      <td>NaN</td>\n      <td>Female</td>\n      <td>2002-09-18</td>\n      <td>12:39:00</td>\n      <td>118906</td>\n      <td>4.537</td>\n      <td>True</td>\n      <td>Marketing</td>\n    </tr>\n    <tr>\n      <th>416</th>\n      <td>NaN</td>\n      <td>Male</td>\n      <td>2008-06-29</td>\n      <td>05:23:00</td>\n      <td>111043</td>\n      <td>5.966</td>\n      <td>True</td>\n      <td>Distribution</td>\n    </tr>\n    <tr>\n      <th>444</th>\n      <td>NaN</td>\n      <td>Male</td>\n      <td>2016-05-24</td>\n      <td>09:17:00</td>\n      <td>76409</td>\n      <td>7.008</td>\n      <td>True</td>\n      <td>Distribution</td>\n    </tr>\n    <tr>\n      <th>454</th>\n      <td>NaN</td>\n      <td>Male</td>\n      <td>1995-02-21</td>\n      <td>12:26:00</td>\n      <td>136602</td>\n      <td>10.429</td>\n      <td>True</td>\n      <td>Marketing</td>\n    </tr>\n    <tr>\n      <th>481</th>\n      <td>NaN</td>\n      <td>Female</td>\n      <td>2013-04-27</td>\n      <td>06:40:00</td>\n      <td>93847</td>\n      <td>1.085</td>\n      <td>True</td>\n      <td>Business Development</td>\n    </tr>\n    <tr>\n      <th>483</th>\n      <td>NaN</td>\n      <td>Female</td>\n      <td>1992-04-26</td>\n      <td>08:01:00</td>\n      <td>115436</td>\n      <td>3.099</td>\n      <td>True</td>\n      <td>Human Resources</td>\n    </tr>\n    <tr>\n      <th>504</th>\n      <td>NaN</td>\n      <td>Female</td>\n      <td>2014-06-24</td>\n      <td>10:05:00</td>\n      <td>38275</td>\n      <td>10.494</td>\n      <td>True</td>\n      <td>Distribution</td>\n    </tr>\n    <tr>\n      <th>505</th>\n      <td>NaN</td>\n      <td>Male</td>\n      <td>1980-04-20</td>\n      <td>01:17:00</td>\n      <td>71520</td>\n      <td>13.248</td>\n      <td>True</td>\n      <td>Engineering</td>\n    </tr>\n    <tr>\n      <th>521</th>\n      <td>NaN</td>\n      <td>NaN</td>\n      <td>1981-09-25</td>\n      <td>09:59:00</td>\n      <td>83895</td>\n      <td>17.971</td>\n      <td>True</td>\n      <td>Engineering</td>\n    </tr>\n    <tr>\n      <th>540</th>\n      <td>NaN</td>\n      <td>Female</td>\n      <td>2009-12-02</td>\n      <td>03:30:00</td>\n      <td>84746</td>\n      <td>4.820</td>\n      <td>True</td>\n      <td>Finance</td>\n    </tr>\n    <tr>\n      <th>574</th>\n      <td>NaN</td>\n      <td>Female</td>\n      <td>2009-01-13</td>\n      <td>01:01:00</td>\n      <td>118736</td>\n      <td>7.421</td>\n      <td>True</td>\n      <td>Client Services</td>\n    </tr>\n    <tr>\n      <th>599</th>\n      <td>NaN</td>\n      <td>Female</td>\n      <td>1990-10-11</td>\n      <td>10:57:00</td>\n      <td>98385</td>\n      <td>10.925</td>\n      <td>True</td>\n      <td>Human Resources</td>\n    </tr>\n    <tr>\n      <th>607</th>\n      <td>NaN</td>\n      <td>Male</td>\n      <td>1983-10-13</td>\n      <td>11:59:00</td>\n      <td>139754</td>\n      <td>12.740</td>\n      <td>True</td>\n      <td>Sales</td>\n    </tr>\n    <tr>\n      <th>608</th>\n      <td>NaN</td>\n      <td>Female</td>\n      <td>1993-10-24</td>\n      <td>05:17:00</td>\n      <td>116236</td>\n      <td>17.274</td>\n      <td>True</td>\n      <td>Engineering</td>\n    </tr>\n    <tr>\n      <th>628</th>\n      <td>NaN</td>\n      <td>NaN</td>\n      <td>1988-09-02</td>\n      <td>12:49:00</td>\n      <td>147309</td>\n      <td>1.702</td>\n      <td>True</td>\n      <td>Distribution</td>\n    </tr>\n    <tr>\n      <th>674</th>\n      <td>NaN</td>\n      <td>Male</td>\n      <td>2012-08-28</td>\n      <td>07:56:00</td>\n      <td>88733</td>\n      <td>1.932</td>\n      <td>True</td>\n      <td>Human Resources</td>\n    </tr>\n    <tr>\n      <th>685</th>\n      <td>NaN</td>\n      <td>Male</td>\n      <td>1989-10-20</td>\n      <td>09:37:00</td>\n      <td>88086</td>\n      <td>19.387</td>\n      <td>True</td>\n      <td>Finance</td>\n    </tr>\n    <tr>\n      <th>687</th>\n      <td>NaN</td>\n      <td>Male</td>\n      <td>1996-12-27</td>\n      <td>07:07:00</td>\n      <td>139959</td>\n      <td>8.992</td>\n      <td>True</td>\n      <td>Distribution</td>\n    </tr>\n    <tr>\n      <th>697</th>\n      <td>NaN</td>\n      <td>Male</td>\n      <td>1990-05-23</td>\n      <td>02:09:00</td>\n      <td>136655</td>\n      <td>9.801</td>\n      <td>True</td>\n      <td>Distribution</td>\n    </tr>\n    <tr>\n      <th>709</th>\n      <td>NaN</td>\n      <td>Male</td>\n      <td>1995-04-07</td>\n      <td>04:32:00</td>\n      <td>60411</td>\n      <td>12.048</td>\n      <td>True</td>\n      <td>Human Resources</td>\n    </tr>\n    <tr>\n      <th>733</th>\n      <td>NaN</td>\n      <td>Male</td>\n      <td>2009-06-17</td>\n      <td>01:00:00</td>\n      <td>136681</td>\n      <td>3.655</td>\n      <td>True</td>\n      <td>Business Development</td>\n    </tr>\n    <tr>\n      <th>734</th>\n      <td>NaN</td>\n      <td>Female</td>\n      <td>1994-12-18</td>\n      <td>08:42:00</td>\n      <td>138807</td>\n      <td>1.400</td>\n      <td>True</td>\n      <td>Human Resources</td>\n    </tr>\n    <tr>\n      <th>773</th>\n      <td>NaN</td>\n      <td>Male</td>\n      <td>1986-10-24</td>\n      <td>09:23:00</td>\n      <td>47176</td>\n      <td>10.736</td>\n      <td>True</td>\n      <td>Finance</td>\n    </tr>\n    <tr>\n      <th>782</th>\n      <td>NaN</td>\n      <td>Male</td>\n      <td>1986-05-06</td>\n      <td>04:41:00</td>\n      <td>74104</td>\n      <td>17.680</td>\n      <td>True</td>\n      <td>Client Services</td>\n    </tr>\n    <tr>\n      <th>783</th>\n      <td>NaN</td>\n      <td>NaN</td>\n      <td>1991-04-15</td>\n      <td>03:39:00</td>\n      <td>132505</td>\n      <td>13.592</td>\n      <td>True</td>\n      <td>Product</td>\n    </tr>\n    <tr>\n      <th>785</th>\n      <td>NaN</td>\n      <td>Female</td>\n      <td>1982-07-24</td>\n      <td>12:00:00</td>\n      <td>57811</td>\n      <td>8.941</td>\n      <td>True</td>\n      <td>Marketing</td>\n    </tr>\n    <tr>\n      <th>812</th>\n      <td>NaN</td>\n      <td>Male</td>\n      <td>1994-12-13</td>\n      <td>10:34:00</td>\n      <td>141311</td>\n      <td>5.478</td>\n      <td>True</td>\n      <td>Product</td>\n    </tr>\n    <tr>\n      <th>821</th>\n      <td>NaN</td>\n      <td>Female</td>\n      <td>1980-12-27</td>\n      <td>02:27:00</td>\n      <td>80399</td>\n      <td>12.254</td>\n      <td>True</td>\n      <td>Distribution</td>\n    </tr>\n    <tr>\n      <th>823</th>\n      <td>NaN</td>\n      <td>Male</td>\n      <td>2009-11-12</td>\n      <td>02:30:00</td>\n      <td>109411</td>\n      <td>9.494</td>\n      <td>True</td>\n      <td>Engineering</td>\n    </tr>\n    <tr>\n      <th>877</th>\n      <td>NaN</td>\n      <td>Male</td>\n      <td>1980-09-05</td>\n      <td>07:36:00</td>\n      <td>114896</td>\n      <td>13.823</td>\n      <td>True</td>\n      <td>Client Services</td>\n    </tr>\n    <tr>\n      <th>890</th>\n      <td>NaN</td>\n      <td>Male</td>\n      <td>2015-11-24</td>\n      <td>03:11:00</td>\n      <td>145329</td>\n      <td>7.100</td>\n      <td>True</td>\n      <td>Finance</td>\n    </tr>\n    <tr>\n      <th>902</th>\n      <td>NaN</td>\n      <td>Male</td>\n      <td>2001-05-23</td>\n      <td>07:52:00</td>\n      <td>103877</td>\n      <td>6.322</td>\n      <td>True</td>\n      <td>Distribution</td>\n    </tr>\n    <tr>\n      <th>925</th>\n      <td>NaN</td>\n      <td>Female</td>\n      <td>2000-08-23</td>\n      <td>04:19:00</td>\n      <td>95866</td>\n      <td>19.388</td>\n      <td>True</td>\n      <td>Sales</td>\n    </tr>\n    <tr>\n      <th>946</th>\n      <td>NaN</td>\n      <td>Female</td>\n      <td>1985-09-15</td>\n      <td>01:50:00</td>\n      <td>133472</td>\n      <td>16.941</td>\n      <td>True</td>\n      <td>Distribution</td>\n    </tr>\n    <tr>\n      <th>947</th>\n      <td>NaN</td>\n      <td>Male</td>\n      <td>2012-07-30</td>\n      <td>03:07:00</td>\n      <td>107351</td>\n      <td>5.329</td>\n      <td>True</td>\n      <td>Marketing</td>\n    </tr>\n  </tbody>\n</table>\n</div>"
     },
     "execution_count": 90,
     "metadata": {},
     "output_type": "execute_result"
    }
   ],
   "source": [
    "employees[\"First Name\"].isnull()\n",
    "employees[\"Team\"].notnull()\n",
    "employees[employees[\"First Name\"].isnull() & employees[\"Team\"].notnull()]"
   ],
   "metadata": {
    "collapsed": false,
    "ExecuteTime": {
     "end_time": "2025-04-14T21:22:12.587186700Z",
     "start_time": "2025-04-14T21:22:12.569272800Z"
    }
   },
   "id": "fa98d6a74a0b3cba"
  },
  {
   "cell_type": "code",
   "execution_count": 92,
   "outputs": [
    {
     "data": {
      "text/plain": "    First Name  Gender Start Date Last Login Time  Salary  Bonus %  \\\n1       Thomas    Male 1996-03-31        06:53:00   61933    4.170   \n20        Lois     NaN 1995-04-22        07:18:00   64714    4.934   \n40     Michael    Male 2008-10-10        11:25:00   99283    2.665   \n49       Chris     NaN 1980-01-24        12:13:00  113590    3.055   \n60       Paula     NaN 2005-11-23        02:01:00   48866    4.271   \n..         ...     ...        ...             ...     ...      ...   \n943      Wayne    Male 2006-09-08        11:09:00   67471    2.728   \n961    Antonio     NaN 1989-06-18        09:37:00  103050    3.050   \n976     Denise  Female 1992-10-19        05:42:00  137954    4.195   \n989     Justin     NaN 1991-02-10        04:58:00   38344    3.794   \n994     George    Male 2013-06-21        05:47:00   98874    4.479   \n\n     Senior Management          Team  \n1                 True           NaN  \n20                True         Legal  \n40                True  Distribution  \n49               False         Sales  \n60               False  Distribution  \n..                 ...           ...  \n943              False   Engineering  \n961              False         Legal  \n976               True         Legal  \n989              False         Legal  \n994               True     Marketing  \n\n[169 rows x 8 columns]",
      "text/html": "<div>\n<style scoped>\n    .dataframe tbody tr th:only-of-type {\n        vertical-align: middle;\n    }\n\n    .dataframe tbody tr th {\n        vertical-align: top;\n    }\n\n    .dataframe thead th {\n        text-align: right;\n    }\n</style>\n<table border=\"1\" class=\"dataframe\">\n  <thead>\n    <tr style=\"text-align: right;\">\n      <th></th>\n      <th>First Name</th>\n      <th>Gender</th>\n      <th>Start Date</th>\n      <th>Last Login Time</th>\n      <th>Salary</th>\n      <th>Bonus %</th>\n      <th>Senior Management</th>\n      <th>Team</th>\n    </tr>\n  </thead>\n  <tbody>\n    <tr>\n      <th>1</th>\n      <td>Thomas</td>\n      <td>Male</td>\n      <td>1996-03-31</td>\n      <td>06:53:00</td>\n      <td>61933</td>\n      <td>4.170</td>\n      <td>True</td>\n      <td>NaN</td>\n    </tr>\n    <tr>\n      <th>20</th>\n      <td>Lois</td>\n      <td>NaN</td>\n      <td>1995-04-22</td>\n      <td>07:18:00</td>\n      <td>64714</td>\n      <td>4.934</td>\n      <td>True</td>\n      <td>Legal</td>\n    </tr>\n    <tr>\n      <th>40</th>\n      <td>Michael</td>\n      <td>Male</td>\n      <td>2008-10-10</td>\n      <td>11:25:00</td>\n      <td>99283</td>\n      <td>2.665</td>\n      <td>True</td>\n      <td>Distribution</td>\n    </tr>\n    <tr>\n      <th>49</th>\n      <td>Chris</td>\n      <td>NaN</td>\n      <td>1980-01-24</td>\n      <td>12:13:00</td>\n      <td>113590</td>\n      <td>3.055</td>\n      <td>False</td>\n      <td>Sales</td>\n    </tr>\n    <tr>\n      <th>60</th>\n      <td>Paula</td>\n      <td>NaN</td>\n      <td>2005-11-23</td>\n      <td>02:01:00</td>\n      <td>48866</td>\n      <td>4.271</td>\n      <td>False</td>\n      <td>Distribution</td>\n    </tr>\n    <tr>\n      <th>...</th>\n      <td>...</td>\n      <td>...</td>\n      <td>...</td>\n      <td>...</td>\n      <td>...</td>\n      <td>...</td>\n      <td>...</td>\n      <td>...</td>\n    </tr>\n    <tr>\n      <th>943</th>\n      <td>Wayne</td>\n      <td>Male</td>\n      <td>2006-09-08</td>\n      <td>11:09:00</td>\n      <td>67471</td>\n      <td>2.728</td>\n      <td>False</td>\n      <td>Engineering</td>\n    </tr>\n    <tr>\n      <th>961</th>\n      <td>Antonio</td>\n      <td>NaN</td>\n      <td>1989-06-18</td>\n      <td>09:37:00</td>\n      <td>103050</td>\n      <td>3.050</td>\n      <td>False</td>\n      <td>Legal</td>\n    </tr>\n    <tr>\n      <th>976</th>\n      <td>Denise</td>\n      <td>Female</td>\n      <td>1992-10-19</td>\n      <td>05:42:00</td>\n      <td>137954</td>\n      <td>4.195</td>\n      <td>True</td>\n      <td>Legal</td>\n    </tr>\n    <tr>\n      <th>989</th>\n      <td>Justin</td>\n      <td>NaN</td>\n      <td>1991-02-10</td>\n      <td>04:58:00</td>\n      <td>38344</td>\n      <td>3.794</td>\n      <td>False</td>\n      <td>Legal</td>\n    </tr>\n    <tr>\n      <th>994</th>\n      <td>George</td>\n      <td>Male</td>\n      <td>2013-06-21</td>\n      <td>05:47:00</td>\n      <td>98874</td>\n      <td>4.479</td>\n      <td>True</td>\n      <td>Marketing</td>\n    </tr>\n  </tbody>\n</table>\n<p>169 rows × 8 columns</p>\n</div>"
     },
     "execution_count": 92,
     "metadata": {},
     "output_type": "execute_result"
    }
   ],
   "source": [
    "employees[employees[\"Bonus %\"].between(2,5)]"
   ],
   "metadata": {
    "collapsed": false,
    "ExecuteTime": {
     "end_time": "2025-04-14T21:26:45.760354600Z",
     "start_time": "2025-04-14T21:26:45.744419700Z"
    }
   },
   "id": "66eb7f001c6e370d"
  },
  {
   "cell_type": "code",
   "execution_count": null,
   "outputs": [],
   "source": [
    "import datetime as dt"
   ],
   "metadata": {
    "collapsed": false
   },
   "id": "7387ad5989b8230"
  },
  {
   "cell_type": "code",
   "execution_count": 94,
   "outputs": [
    {
     "data": {
      "text/plain": "    First Name  Gender Start Date Last Login Time  Salary  Bonus %  \\\n2        Maria  Female 1993-04-23        11:17:00  130590   11.858   \n7          NaN  Female 2015-07-20        10:43:00   45906   11.598   \n10      Louise  Female 1980-08-12        09:01:00   63241   15.132   \n13        Gary    Male 2008-01-27        11:40:00  109831    5.831   \n18       Diana  Female 1981-10-23        10:27:00  132940   19.082   \n..         ...     ...        ...             ...     ...      ...   \n977      Sarah  Female 1995-12-04        09:16:00  124566    5.949   \n982       Rose  Female 1982-04-06        10:43:00   91411    8.639   \n983       John    Male 1982-12-23        10:35:00  146907   11.738   \n988      Alice  Female 2004-10-05        09:34:00   47638   11.209   \n992    Anthony    Male 2011-10-16        08:35:00  112769   11.625   \n\n     Senior Management             Team  \n2                False          Finance  \n7                 True          Finance  \n10                True              NaN  \n13               False            Sales  \n18               False  Client Services  \n..                 ...              ...  \n977              False          Product  \n982               True  Human Resources  \n983              False      Engineering  \n988              False  Human Resources  \n992               True          Finance  \n\n[274 rows x 8 columns]",
      "text/html": "<div>\n<style scoped>\n    .dataframe tbody tr th:only-of-type {\n        vertical-align: middle;\n    }\n\n    .dataframe tbody tr th {\n        vertical-align: top;\n    }\n\n    .dataframe thead th {\n        text-align: right;\n    }\n</style>\n<table border=\"1\" class=\"dataframe\">\n  <thead>\n    <tr style=\"text-align: right;\">\n      <th></th>\n      <th>First Name</th>\n      <th>Gender</th>\n      <th>Start Date</th>\n      <th>Last Login Time</th>\n      <th>Salary</th>\n      <th>Bonus %</th>\n      <th>Senior Management</th>\n      <th>Team</th>\n    </tr>\n  </thead>\n  <tbody>\n    <tr>\n      <th>2</th>\n      <td>Maria</td>\n      <td>Female</td>\n      <td>1993-04-23</td>\n      <td>11:17:00</td>\n      <td>130590</td>\n      <td>11.858</td>\n      <td>False</td>\n      <td>Finance</td>\n    </tr>\n    <tr>\n      <th>7</th>\n      <td>NaN</td>\n      <td>Female</td>\n      <td>2015-07-20</td>\n      <td>10:43:00</td>\n      <td>45906</td>\n      <td>11.598</td>\n      <td>True</td>\n      <td>Finance</td>\n    </tr>\n    <tr>\n      <th>10</th>\n      <td>Louise</td>\n      <td>Female</td>\n      <td>1980-08-12</td>\n      <td>09:01:00</td>\n      <td>63241</td>\n      <td>15.132</td>\n      <td>True</td>\n      <td>NaN</td>\n    </tr>\n    <tr>\n      <th>13</th>\n      <td>Gary</td>\n      <td>Male</td>\n      <td>2008-01-27</td>\n      <td>11:40:00</td>\n      <td>109831</td>\n      <td>5.831</td>\n      <td>False</td>\n      <td>Sales</td>\n    </tr>\n    <tr>\n      <th>18</th>\n      <td>Diana</td>\n      <td>Female</td>\n      <td>1981-10-23</td>\n      <td>10:27:00</td>\n      <td>132940</td>\n      <td>19.082</td>\n      <td>False</td>\n      <td>Client Services</td>\n    </tr>\n    <tr>\n      <th>...</th>\n      <td>...</td>\n      <td>...</td>\n      <td>...</td>\n      <td>...</td>\n      <td>...</td>\n      <td>...</td>\n      <td>...</td>\n      <td>...</td>\n    </tr>\n    <tr>\n      <th>977</th>\n      <td>Sarah</td>\n      <td>Female</td>\n      <td>1995-12-04</td>\n      <td>09:16:00</td>\n      <td>124566</td>\n      <td>5.949</td>\n      <td>False</td>\n      <td>Product</td>\n    </tr>\n    <tr>\n      <th>982</th>\n      <td>Rose</td>\n      <td>Female</td>\n      <td>1982-04-06</td>\n      <td>10:43:00</td>\n      <td>91411</td>\n      <td>8.639</td>\n      <td>True</td>\n      <td>Human Resources</td>\n    </tr>\n    <tr>\n      <th>983</th>\n      <td>John</td>\n      <td>Male</td>\n      <td>1982-12-23</td>\n      <td>10:35:00</td>\n      <td>146907</td>\n      <td>11.738</td>\n      <td>False</td>\n      <td>Engineering</td>\n    </tr>\n    <tr>\n      <th>988</th>\n      <td>Alice</td>\n      <td>Female</td>\n      <td>2004-10-05</td>\n      <td>09:34:00</td>\n      <td>47638</td>\n      <td>11.209</td>\n      <td>False</td>\n      <td>Human Resources</td>\n    </tr>\n    <tr>\n      <th>992</th>\n      <td>Anthony</td>\n      <td>Male</td>\n      <td>2011-10-16</td>\n      <td>08:35:00</td>\n      <td>112769</td>\n      <td>11.625</td>\n      <td>True</td>\n      <td>Finance</td>\n    </tr>\n  </tbody>\n</table>\n<p>274 rows × 8 columns</p>\n</div>"
     },
     "execution_count": 94,
     "metadata": {},
     "output_type": "execute_result"
    }
   ],
   "source": [
    "employees[employees[\"Last Login Time\"].between(dt.time(8,30), dt.time(12,0))] #between 8:30 and noon 12\n"
   ],
   "metadata": {
    "collapsed": false,
    "ExecuteTime": {
     "end_time": "2025-04-14T21:30:20.853210500Z",
     "start_time": "2025-04-14T21:30:20.817516600Z"
    }
   },
   "id": "7ec33004cf6aab3d"
  },
  {
   "cell_type": "code",
   "execution_count": 16,
   "outputs": [
    {
     "data": {
      "text/plain": "    First Name  Gender  Start Date Last Login Time  Salary  Bonus %  \\\n0      Douglas    Male    8/6/1993        12:42 PM   97308    6.945   \n1       Thomas    Male   3/31/1996         6:53 AM   61933    4.170   \n2        Maria  Female   4/23/1993        11:17 AM  130590   11.858   \n3        Jerry    Male    3/4/2005         1:00 PM  138705    9.340   \n4        Larry    Male   1/24/1998         4:47 PM  101004    1.389   \n..         ...     ...         ...             ...     ...      ...   \n959     Albert    Male   9/19/1992         2:35 AM   45094    5.850   \n960    Stephen    Male  10/29/1989        11:34 PM   93997   18.093   \n970      Alice  Female    9/3/1988         8:54 PM   63571   15.397   \n973    Russell    Male   5/10/2013        11:08 PM  137359   11.105   \n982       Rose  Female    4/6/1982        10:43 AM   91411    8.639   \n\n    Senior Management                  Team  \n0                True             Marketing  \n1                True                   NaN  \n2               False               Finance  \n3                True               Finance  \n4                True       Client Services  \n..                ...                   ...  \n959              True  Business Development  \n960              True  Business Development  \n970              True               Product  \n973             False  Business Development  \n982              True       Human Resources  \n\n[799 rows x 8 columns]",
      "text/html": "<div>\n<style scoped>\n    .dataframe tbody tr th:only-of-type {\n        vertical-align: middle;\n    }\n\n    .dataframe tbody tr th {\n        vertical-align: top;\n    }\n\n    .dataframe thead th {\n        text-align: right;\n    }\n</style>\n<table border=\"1\" class=\"dataframe\">\n  <thead>\n    <tr style=\"text-align: right;\">\n      <th></th>\n      <th>First Name</th>\n      <th>Gender</th>\n      <th>Start Date</th>\n      <th>Last Login Time</th>\n      <th>Salary</th>\n      <th>Bonus %</th>\n      <th>Senior Management</th>\n      <th>Team</th>\n    </tr>\n  </thead>\n  <tbody>\n    <tr>\n      <th>0</th>\n      <td>Douglas</td>\n      <td>Male</td>\n      <td>8/6/1993</td>\n      <td>12:42 PM</td>\n      <td>97308</td>\n      <td>6.945</td>\n      <td>True</td>\n      <td>Marketing</td>\n    </tr>\n    <tr>\n      <th>1</th>\n      <td>Thomas</td>\n      <td>Male</td>\n      <td>3/31/1996</td>\n      <td>6:53 AM</td>\n      <td>61933</td>\n      <td>4.170</td>\n      <td>True</td>\n      <td>NaN</td>\n    </tr>\n    <tr>\n      <th>2</th>\n      <td>Maria</td>\n      <td>Female</td>\n      <td>4/23/1993</td>\n      <td>11:17 AM</td>\n      <td>130590</td>\n      <td>11.858</td>\n      <td>False</td>\n      <td>Finance</td>\n    </tr>\n    <tr>\n      <th>3</th>\n      <td>Jerry</td>\n      <td>Male</td>\n      <td>3/4/2005</td>\n      <td>1:00 PM</td>\n      <td>138705</td>\n      <td>9.340</td>\n      <td>True</td>\n      <td>Finance</td>\n    </tr>\n    <tr>\n      <th>4</th>\n      <td>Larry</td>\n      <td>Male</td>\n      <td>1/24/1998</td>\n      <td>4:47 PM</td>\n      <td>101004</td>\n      <td>1.389</td>\n      <td>True</td>\n      <td>Client Services</td>\n    </tr>\n    <tr>\n      <th>...</th>\n      <td>...</td>\n      <td>...</td>\n      <td>...</td>\n      <td>...</td>\n      <td>...</td>\n      <td>...</td>\n      <td>...</td>\n      <td>...</td>\n    </tr>\n    <tr>\n      <th>959</th>\n      <td>Albert</td>\n      <td>Male</td>\n      <td>9/19/1992</td>\n      <td>2:35 AM</td>\n      <td>45094</td>\n      <td>5.850</td>\n      <td>True</td>\n      <td>Business Development</td>\n    </tr>\n    <tr>\n      <th>960</th>\n      <td>Stephen</td>\n      <td>Male</td>\n      <td>10/29/1989</td>\n      <td>11:34 PM</td>\n      <td>93997</td>\n      <td>18.093</td>\n      <td>True</td>\n      <td>Business Development</td>\n    </tr>\n    <tr>\n      <th>970</th>\n      <td>Alice</td>\n      <td>Female</td>\n      <td>9/3/1988</td>\n      <td>8:54 PM</td>\n      <td>63571</td>\n      <td>15.397</td>\n      <td>True</td>\n      <td>Product</td>\n    </tr>\n    <tr>\n      <th>973</th>\n      <td>Russell</td>\n      <td>Male</td>\n      <td>5/10/2013</td>\n      <td>11:08 PM</td>\n      <td>137359</td>\n      <td>11.105</td>\n      <td>False</td>\n      <td>Business Development</td>\n    </tr>\n    <tr>\n      <th>982</th>\n      <td>Rose</td>\n      <td>Female</td>\n      <td>4/6/1982</td>\n      <td>10:43 AM</td>\n      <td>91411</td>\n      <td>8.639</td>\n      <td>True</td>\n      <td>Human Resources</td>\n    </tr>\n  </tbody>\n</table>\n<p>799 rows × 8 columns</p>\n</div>"
     },
     "execution_count": 16,
     "metadata": {},
     "output_type": "execute_result"
    }
   ],
   "source": [
    "#duplicated values\n",
    "employees[employees[\"First Name\"].duplicated()]\n",
    "employees[employees[\"First Name\"].duplicated(\"first\")]\n",
    "employees[employees[\"First Name\"].duplicated(\"last\")] #zaczyna sprawdzać od końca\n",
    "#wyswietla duplikaty\n",
    "\n"
   ],
   "metadata": {
    "collapsed": false,
    "ExecuteTime": {
     "end_time": "2025-04-15T07:01:09.831872300Z",
     "start_time": "2025-04-15T07:01:09.821409200Z"
    }
   },
   "id": "b81d16e7339a8467"
  },
  {
   "cell_type": "code",
   "execution_count": 15,
   "outputs": [
    {
     "data": {
      "text/plain": "    First Name  Gender  Start Date Last Login Time  Salary  Bonus %  \\\n0      Douglas    Male    8/6/1993        12:42 PM   97308    6.945   \n1       Thomas    Male   3/31/1996         6:53 AM   61933    4.170   \n2        Maria  Female   4/23/1993        11:17 AM  130590   11.858   \n3        Jerry    Male    3/4/2005         1:00 PM  138705    9.340   \n4        Larry    Male   1/24/1998         4:47 PM  101004    1.389   \n..         ...     ...         ...             ...     ...      ...   \n995      Henry     NaN  11/23/2014         6:09 AM  132483   16.655   \n996    Phillip    Male   1/31/1984         6:30 AM   42392   19.675   \n997    Russell    Male   5/20/2013        12:39 PM   96914    1.421   \n998      Larry    Male   4/20/2013         4:45 PM   60500   11.985   \n999     Albert    Male   5/15/2012         6:24 PM  129949   10.169   \n\n    Senior Management                  Team  \n0                True             Marketing  \n1                True                   NaN  \n2               False               Finance  \n3                True               Finance  \n4                True       Client Services  \n..                ...                   ...  \n995             False          Distribution  \n996             False               Finance  \n997             False               Product  \n998             False  Business Development  \n999              True                 Sales  \n\n[991 rows x 8 columns]",
      "text/html": "<div>\n<style scoped>\n    .dataframe tbody tr th:only-of-type {\n        vertical-align: middle;\n    }\n\n    .dataframe tbody tr th {\n        vertical-align: top;\n    }\n\n    .dataframe thead th {\n        text-align: right;\n    }\n</style>\n<table border=\"1\" class=\"dataframe\">\n  <thead>\n    <tr style=\"text-align: right;\">\n      <th></th>\n      <th>First Name</th>\n      <th>Gender</th>\n      <th>Start Date</th>\n      <th>Last Login Time</th>\n      <th>Salary</th>\n      <th>Bonus %</th>\n      <th>Senior Management</th>\n      <th>Team</th>\n    </tr>\n  </thead>\n  <tbody>\n    <tr>\n      <th>0</th>\n      <td>Douglas</td>\n      <td>Male</td>\n      <td>8/6/1993</td>\n      <td>12:42 PM</td>\n      <td>97308</td>\n      <td>6.945</td>\n      <td>True</td>\n      <td>Marketing</td>\n    </tr>\n    <tr>\n      <th>1</th>\n      <td>Thomas</td>\n      <td>Male</td>\n      <td>3/31/1996</td>\n      <td>6:53 AM</td>\n      <td>61933</td>\n      <td>4.170</td>\n      <td>True</td>\n      <td>NaN</td>\n    </tr>\n    <tr>\n      <th>2</th>\n      <td>Maria</td>\n      <td>Female</td>\n      <td>4/23/1993</td>\n      <td>11:17 AM</td>\n      <td>130590</td>\n      <td>11.858</td>\n      <td>False</td>\n      <td>Finance</td>\n    </tr>\n    <tr>\n      <th>3</th>\n      <td>Jerry</td>\n      <td>Male</td>\n      <td>3/4/2005</td>\n      <td>1:00 PM</td>\n      <td>138705</td>\n      <td>9.340</td>\n      <td>True</td>\n      <td>Finance</td>\n    </tr>\n    <tr>\n      <th>4</th>\n      <td>Larry</td>\n      <td>Male</td>\n      <td>1/24/1998</td>\n      <td>4:47 PM</td>\n      <td>101004</td>\n      <td>1.389</td>\n      <td>True</td>\n      <td>Client Services</td>\n    </tr>\n    <tr>\n      <th>...</th>\n      <td>...</td>\n      <td>...</td>\n      <td>...</td>\n      <td>...</td>\n      <td>...</td>\n      <td>...</td>\n      <td>...</td>\n      <td>...</td>\n    </tr>\n    <tr>\n      <th>995</th>\n      <td>Henry</td>\n      <td>NaN</td>\n      <td>11/23/2014</td>\n      <td>6:09 AM</td>\n      <td>132483</td>\n      <td>16.655</td>\n      <td>False</td>\n      <td>Distribution</td>\n    </tr>\n    <tr>\n      <th>996</th>\n      <td>Phillip</td>\n      <td>Male</td>\n      <td>1/31/1984</td>\n      <td>6:30 AM</td>\n      <td>42392</td>\n      <td>19.675</td>\n      <td>False</td>\n      <td>Finance</td>\n    </tr>\n    <tr>\n      <th>997</th>\n      <td>Russell</td>\n      <td>Male</td>\n      <td>5/20/2013</td>\n      <td>12:39 PM</td>\n      <td>96914</td>\n      <td>1.421</td>\n      <td>False</td>\n      <td>Product</td>\n    </tr>\n    <tr>\n      <th>998</th>\n      <td>Larry</td>\n      <td>Male</td>\n      <td>4/20/2013</td>\n      <td>4:45 PM</td>\n      <td>60500</td>\n      <td>11.985</td>\n      <td>False</td>\n      <td>Business Development</td>\n    </tr>\n    <tr>\n      <th>999</th>\n      <td>Albert</td>\n      <td>Male</td>\n      <td>5/15/2012</td>\n      <td>6:24 PM</td>\n      <td>129949</td>\n      <td>10.169</td>\n      <td>True</td>\n      <td>Sales</td>\n    </tr>\n  </tbody>\n</table>\n<p>991 rows × 8 columns</p>\n</div>"
     },
     "execution_count": 15,
     "metadata": {},
     "output_type": "execute_result"
    }
   ],
   "source": [
    "employees[employees[\"First Name\"].duplicated(keep=False)] #all values occured 2,3,4 times are marked as duplicates\n",
    "#wyswietla dupliaktry razem z pierwszymi\n"
   ],
   "metadata": {
    "collapsed": false,
    "ExecuteTime": {
     "end_time": "2025-04-15T07:01:01.920451400Z",
     "start_time": "2025-04-15T07:01:01.905188600Z"
    }
   },
   "id": "f3f568bf183721fd"
  },
  {
   "cell_type": "code",
   "execution_count": 17,
   "outputs": [
    {
     "data": {
      "text/plain": "    First Name  Gender  Start Date Last Login Time  Salary  Bonus %  \\\n5       Dennis    Male   4/18/1987         1:35 AM  115163   10.125   \n8       Angela  Female  11/22/2005         6:29 AM   95570   18.523   \n33        Jean  Female  12/18/1993         9:07 AM  119082   16.180   \n190      Carol  Female   3/19/1996         3:39 AM   57783    9.129   \n291      Tammy  Female  11/11/1984        10:30 AM  132839   17.463   \n495     Eugene    Male   5/24/1984        10:54 AM   81077    2.117   \n688      Brian    Male    4/7/2007        10:47 PM   93901   17.821   \n832      Keith    Male   2/12/2003         3:02 PM  120672   19.467   \n887      David    Male   12/5/2009         8:48 AM   92242   15.407   \n\n    Senior Management                  Team  \n5               False                 Legal  \n8                True           Engineering  \n33              False  Business Development  \n190             False               Finance  \n291              True       Client Services  \n495             False                 Sales  \n688              True                 Legal  \n832             False                 Legal  \n887             False                 Legal  ",
      "text/html": "<div>\n<style scoped>\n    .dataframe tbody tr th:only-of-type {\n        vertical-align: middle;\n    }\n\n    .dataframe tbody tr th {\n        vertical-align: top;\n    }\n\n    .dataframe thead th {\n        text-align: right;\n    }\n</style>\n<table border=\"1\" class=\"dataframe\">\n  <thead>\n    <tr style=\"text-align: right;\">\n      <th></th>\n      <th>First Name</th>\n      <th>Gender</th>\n      <th>Start Date</th>\n      <th>Last Login Time</th>\n      <th>Salary</th>\n      <th>Bonus %</th>\n      <th>Senior Management</th>\n      <th>Team</th>\n    </tr>\n  </thead>\n  <tbody>\n    <tr>\n      <th>5</th>\n      <td>Dennis</td>\n      <td>Male</td>\n      <td>4/18/1987</td>\n      <td>1:35 AM</td>\n      <td>115163</td>\n      <td>10.125</td>\n      <td>False</td>\n      <td>Legal</td>\n    </tr>\n    <tr>\n      <th>8</th>\n      <td>Angela</td>\n      <td>Female</td>\n      <td>11/22/2005</td>\n      <td>6:29 AM</td>\n      <td>95570</td>\n      <td>18.523</td>\n      <td>True</td>\n      <td>Engineering</td>\n    </tr>\n    <tr>\n      <th>33</th>\n      <td>Jean</td>\n      <td>Female</td>\n      <td>12/18/1993</td>\n      <td>9:07 AM</td>\n      <td>119082</td>\n      <td>16.180</td>\n      <td>False</td>\n      <td>Business Development</td>\n    </tr>\n    <tr>\n      <th>190</th>\n      <td>Carol</td>\n      <td>Female</td>\n      <td>3/19/1996</td>\n      <td>3:39 AM</td>\n      <td>57783</td>\n      <td>9.129</td>\n      <td>False</td>\n      <td>Finance</td>\n    </tr>\n    <tr>\n      <th>291</th>\n      <td>Tammy</td>\n      <td>Female</td>\n      <td>11/11/1984</td>\n      <td>10:30 AM</td>\n      <td>132839</td>\n      <td>17.463</td>\n      <td>True</td>\n      <td>Client Services</td>\n    </tr>\n    <tr>\n      <th>495</th>\n      <td>Eugene</td>\n      <td>Male</td>\n      <td>5/24/1984</td>\n      <td>10:54 AM</td>\n      <td>81077</td>\n      <td>2.117</td>\n      <td>False</td>\n      <td>Sales</td>\n    </tr>\n    <tr>\n      <th>688</th>\n      <td>Brian</td>\n      <td>Male</td>\n      <td>4/7/2007</td>\n      <td>10:47 PM</td>\n      <td>93901</td>\n      <td>17.821</td>\n      <td>True</td>\n      <td>Legal</td>\n    </tr>\n    <tr>\n      <th>832</th>\n      <td>Keith</td>\n      <td>Male</td>\n      <td>2/12/2003</td>\n      <td>3:02 PM</td>\n      <td>120672</td>\n      <td>19.467</td>\n      <td>False</td>\n      <td>Legal</td>\n    </tr>\n    <tr>\n      <th>887</th>\n      <td>David</td>\n      <td>Male</td>\n      <td>12/5/2009</td>\n      <td>8:48 AM</td>\n      <td>92242</td>\n      <td>15.407</td>\n      <td>False</td>\n      <td>Legal</td>\n    </tr>\n  </tbody>\n</table>\n</div>"
     },
     "execution_count": 17,
     "metadata": {},
     "output_type": "execute_result"
    }
   ],
   "source": [
    "employees[\"First Name\"].duplicated(keep=False) #false are the rows we want to keep, false are unique names\n",
    "employees[~employees[\"First Name\"].duplicated(keep=False)] #inverted, only values that are unique \n",
    "#wyswietla tabele bez dupliaktow"
   ],
   "metadata": {
    "collapsed": false,
    "ExecuteTime": {
     "end_time": "2025-04-15T07:02:52.979575400Z",
     "start_time": "2025-04-15T07:02:52.958583700Z"
    }
   },
   "id": "4efc3722567661d8"
  },
  {
   "cell_type": "code",
   "execution_count": 18,
   "outputs": [
    {
     "data": {
      "text/plain": "   First Name  Gender  Start Date Last Login Time  Salary  Bonus %  \\\n0     Douglas    Male    8/6/1993        12:42 PM   97308    6.945   \n1      Thomas    Male   3/31/1996         6:53 AM   61933    4.170   \n2       Maria  Female   4/23/1993        11:17 AM  130590   11.858   \n4       Larry    Male   1/24/1998         4:47 PM  101004    1.389   \n5      Dennis    Male   4/18/1987         1:35 AM  115163   10.125   \n6        Ruby  Female   8/17/1987         4:20 PM   65476   10.012   \n8      Angela  Female  11/22/2005         6:29 AM   95570   18.523   \n9     Frances  Female    8/8/2002         6:51 AM  139852    7.524   \n12    Brandon    Male   12/1/1980         1:08 AM  112807   17.492   \n13       Gary    Male   1/27/2008        11:40 PM  109831    5.831   \n40    Michael    Male  10/10/2008        11:25 AM   99283    2.665   \n\n   Senior Management                  Team  \n0               True             Marketing  \n1               True                   NaN  \n2              False               Finance  \n4               True       Client Services  \n5              False                 Legal  \n6               True               Product  \n8               True           Engineering  \n9               True  Business Development  \n12              True       Human Resources  \n13             False                 Sales  \n40              True          Distribution  ",
      "text/html": "<div>\n<style scoped>\n    .dataframe tbody tr th:only-of-type {\n        vertical-align: middle;\n    }\n\n    .dataframe tbody tr th {\n        vertical-align: top;\n    }\n\n    .dataframe thead th {\n        text-align: right;\n    }\n</style>\n<table border=\"1\" class=\"dataframe\">\n  <thead>\n    <tr style=\"text-align: right;\">\n      <th></th>\n      <th>First Name</th>\n      <th>Gender</th>\n      <th>Start Date</th>\n      <th>Last Login Time</th>\n      <th>Salary</th>\n      <th>Bonus %</th>\n      <th>Senior Management</th>\n      <th>Team</th>\n    </tr>\n  </thead>\n  <tbody>\n    <tr>\n      <th>0</th>\n      <td>Douglas</td>\n      <td>Male</td>\n      <td>8/6/1993</td>\n      <td>12:42 PM</td>\n      <td>97308</td>\n      <td>6.945</td>\n      <td>True</td>\n      <td>Marketing</td>\n    </tr>\n    <tr>\n      <th>1</th>\n      <td>Thomas</td>\n      <td>Male</td>\n      <td>3/31/1996</td>\n      <td>6:53 AM</td>\n      <td>61933</td>\n      <td>4.170</td>\n      <td>True</td>\n      <td>NaN</td>\n    </tr>\n    <tr>\n      <th>2</th>\n      <td>Maria</td>\n      <td>Female</td>\n      <td>4/23/1993</td>\n      <td>11:17 AM</td>\n      <td>130590</td>\n      <td>11.858</td>\n      <td>False</td>\n      <td>Finance</td>\n    </tr>\n    <tr>\n      <th>4</th>\n      <td>Larry</td>\n      <td>Male</td>\n      <td>1/24/1998</td>\n      <td>4:47 PM</td>\n      <td>101004</td>\n      <td>1.389</td>\n      <td>True</td>\n      <td>Client Services</td>\n    </tr>\n    <tr>\n      <th>5</th>\n      <td>Dennis</td>\n      <td>Male</td>\n      <td>4/18/1987</td>\n      <td>1:35 AM</td>\n      <td>115163</td>\n      <td>10.125</td>\n      <td>False</td>\n      <td>Legal</td>\n    </tr>\n    <tr>\n      <th>6</th>\n      <td>Ruby</td>\n      <td>Female</td>\n      <td>8/17/1987</td>\n      <td>4:20 PM</td>\n      <td>65476</td>\n      <td>10.012</td>\n      <td>True</td>\n      <td>Product</td>\n    </tr>\n    <tr>\n      <th>8</th>\n      <td>Angela</td>\n      <td>Female</td>\n      <td>11/22/2005</td>\n      <td>6:29 AM</td>\n      <td>95570</td>\n      <td>18.523</td>\n      <td>True</td>\n      <td>Engineering</td>\n    </tr>\n    <tr>\n      <th>9</th>\n      <td>Frances</td>\n      <td>Female</td>\n      <td>8/8/2002</td>\n      <td>6:51 AM</td>\n      <td>139852</td>\n      <td>7.524</td>\n      <td>True</td>\n      <td>Business Development</td>\n    </tr>\n    <tr>\n      <th>12</th>\n      <td>Brandon</td>\n      <td>Male</td>\n      <td>12/1/1980</td>\n      <td>1:08 AM</td>\n      <td>112807</td>\n      <td>17.492</td>\n      <td>True</td>\n      <td>Human Resources</td>\n    </tr>\n    <tr>\n      <th>13</th>\n      <td>Gary</td>\n      <td>Male</td>\n      <td>1/27/2008</td>\n      <td>11:40 PM</td>\n      <td>109831</td>\n      <td>5.831</td>\n      <td>False</td>\n      <td>Sales</td>\n    </tr>\n    <tr>\n      <th>40</th>\n      <td>Michael</td>\n      <td>Male</td>\n      <td>10/10/2008</td>\n      <td>11:25 AM</td>\n      <td>99283</td>\n      <td>2.665</td>\n      <td>True</td>\n      <td>Distribution</td>\n    </tr>\n  </tbody>\n</table>\n</div>"
     },
     "execution_count": 18,
     "metadata": {},
     "output_type": "execute_result"
    }
   ],
   "source": [
    "employees.drop_duplicates() #porownuje cale wiersze do siebie\n",
    "employees.drop_duplicates(\"Team\") #drop rows that have same value in Team column"
   ],
   "metadata": {
    "collapsed": false,
    "ExecuteTime": {
     "end_time": "2025-04-15T07:05:01.587501400Z",
     "start_time": "2025-04-15T07:05:01.570912200Z"
    }
   },
   "id": "7d2428cb25ad3a7f"
  },
  {
   "cell_type": "code",
   "execution_count": 21,
   "outputs": [
    {
     "data": {
      "text/plain": "    First Name  Gender  Start Date Last Login Time  Salary  Bonus %  \\\n5       Dennis    Male   4/18/1987         1:35 AM  115163   10.125   \n8       Angela  Female  11/22/2005         6:29 AM   95570   18.523   \n33        Jean  Female  12/18/1993         9:07 AM  119082   16.180   \n190      Carol  Female   3/19/1996         3:39 AM   57783    9.129   \n291      Tammy  Female  11/11/1984        10:30 AM  132839   17.463   \n495     Eugene    Male   5/24/1984        10:54 AM   81077    2.117   \n688      Brian    Male    4/7/2007        10:47 PM   93901   17.821   \n832      Keith    Male   2/12/2003         3:02 PM  120672   19.467   \n887      David    Male   12/5/2009         8:48 AM   92242   15.407   \n\n    Senior Management                  Team  \n5               False                 Legal  \n8                True           Engineering  \n33              False  Business Development  \n190             False               Finance  \n291              True       Client Services  \n495             False                 Sales  \n688              True                 Legal  \n832             False                 Legal  \n887             False                 Legal  ",
      "text/html": "<div>\n<style scoped>\n    .dataframe tbody tr th:only-of-type {\n        vertical-align: middle;\n    }\n\n    .dataframe tbody tr th {\n        vertical-align: top;\n    }\n\n    .dataframe thead th {\n        text-align: right;\n    }\n</style>\n<table border=\"1\" class=\"dataframe\">\n  <thead>\n    <tr style=\"text-align: right;\">\n      <th></th>\n      <th>First Name</th>\n      <th>Gender</th>\n      <th>Start Date</th>\n      <th>Last Login Time</th>\n      <th>Salary</th>\n      <th>Bonus %</th>\n      <th>Senior Management</th>\n      <th>Team</th>\n    </tr>\n  </thead>\n  <tbody>\n    <tr>\n      <th>5</th>\n      <td>Dennis</td>\n      <td>Male</td>\n      <td>4/18/1987</td>\n      <td>1:35 AM</td>\n      <td>115163</td>\n      <td>10.125</td>\n      <td>False</td>\n      <td>Legal</td>\n    </tr>\n    <tr>\n      <th>8</th>\n      <td>Angela</td>\n      <td>Female</td>\n      <td>11/22/2005</td>\n      <td>6:29 AM</td>\n      <td>95570</td>\n      <td>18.523</td>\n      <td>True</td>\n      <td>Engineering</td>\n    </tr>\n    <tr>\n      <th>33</th>\n      <td>Jean</td>\n      <td>Female</td>\n      <td>12/18/1993</td>\n      <td>9:07 AM</td>\n      <td>119082</td>\n      <td>16.180</td>\n      <td>False</td>\n      <td>Business Development</td>\n    </tr>\n    <tr>\n      <th>190</th>\n      <td>Carol</td>\n      <td>Female</td>\n      <td>3/19/1996</td>\n      <td>3:39 AM</td>\n      <td>57783</td>\n      <td>9.129</td>\n      <td>False</td>\n      <td>Finance</td>\n    </tr>\n    <tr>\n      <th>291</th>\n      <td>Tammy</td>\n      <td>Female</td>\n      <td>11/11/1984</td>\n      <td>10:30 AM</td>\n      <td>132839</td>\n      <td>17.463</td>\n      <td>True</td>\n      <td>Client Services</td>\n    </tr>\n    <tr>\n      <th>495</th>\n      <td>Eugene</td>\n      <td>Male</td>\n      <td>5/24/1984</td>\n      <td>10:54 AM</td>\n      <td>81077</td>\n      <td>2.117</td>\n      <td>False</td>\n      <td>Sales</td>\n    </tr>\n    <tr>\n      <th>688</th>\n      <td>Brian</td>\n      <td>Male</td>\n      <td>4/7/2007</td>\n      <td>10:47 PM</td>\n      <td>93901</td>\n      <td>17.821</td>\n      <td>True</td>\n      <td>Legal</td>\n    </tr>\n    <tr>\n      <th>832</th>\n      <td>Keith</td>\n      <td>Male</td>\n      <td>2/12/2003</td>\n      <td>3:02 PM</td>\n      <td>120672</td>\n      <td>19.467</td>\n      <td>False</td>\n      <td>Legal</td>\n    </tr>\n    <tr>\n      <th>887</th>\n      <td>David</td>\n      <td>Male</td>\n      <td>12/5/2009</td>\n      <td>8:48 AM</td>\n      <td>92242</td>\n      <td>15.407</td>\n      <td>False</td>\n      <td>Legal</td>\n    </tr>\n  </tbody>\n</table>\n</div>"
     },
     "execution_count": 21,
     "metadata": {},
     "output_type": "execute_result"
    }
   ],
   "source": [
    "employees.drop_duplicates(\"Team\", keep=\"first\")\n",
    "employees.drop_duplicates(\"Team\", keep=\"last\")\n",
    "employees.drop_duplicates(\"Team\", keep=False) #wyswietla wartosci ktore ani razu się nie powtorzyly, jako ze to dzialy wiec kazdy ma powtarzaajce sie\n",
    "\n",
    "employees.drop_duplicates(\"First Name\", keep=False)\n"
   ],
   "metadata": {
    "collapsed": false,
    "ExecuteTime": {
     "end_time": "2025-04-15T07:09:33.373628900Z",
     "start_time": "2025-04-15T07:09:33.364031700Z"
    }
   },
   "id": "a00fe0f05f223411"
  },
  {
   "cell_type": "code",
   "execution_count": 25,
   "outputs": [
    {
     "data": {
      "text/plain": "    First Name  Gender  Start Date Last Login Time  Salary  Bonus %  \\\n733        NaN    Male   6/17/2009         1:00 PM  136681    3.655   \n971    Patrick    Male  12/30/2002         2:01 AM   75423    5.368   \n998      Larry    Male   4/20/2013         4:45 PM   60500   11.985   \n877        NaN    Male    9/5/1980         7:36 AM  114896   13.823   \n965  Catherine  Female   9/25/1989         1:31 AM   68164   18.393   \n990      Robin  Female   7/24/1987         1:35 PM  100765   10.982   \n946        NaN  Female   9/15/1985         1:50 AM  133472   16.941   \n995      Henry     NaN  11/23/2014         6:09 AM  132483   16.655   \n945     Gerald     NaN   4/15/1989        12:44 PM   93712   17.426   \n984      Maria  Female  10/15/2011         4:53 PM   43455   13.040   \n823        NaN    Male  11/12/2009         2:30 PM  109411    9.494   \n993       Tina  Female   5/15/1997         3:53 PM   56450   19.040   \n996    Phillip    Male   1/31/1984         6:30 AM   42392   19.675   \n890        NaN    Male  11/24/2015         3:11 AM  145329    7.100   \n992    Anthony    Male  10/16/2011         8:35 AM  112769   11.625   \n982       Rose  Female    4/6/1982        10:43 AM   91411    8.639   \n988      Alice  Female   10/5/2004         9:34 AM   47638   11.209   \n734        NaN  Female  12/18/1994         8:42 PM  138807    1.400   \n989     Justin     NaN   2/10/1991         4:58 PM   38344    3.794   \n165        NaN  Female   3/23/2014         1:28 PM   59148    9.061   \n976     Denise  Female  10/19/1992         5:42 AM  137954    4.195   \n947        NaN    Male   7/30/2012         3:07 PM  107351    5.329   \n994     George    Male   6/21/2013         5:47 PM   98874    4.479   \n986      Donna  Female  11/26/1982         7:04 AM   82871   17.999   \n979     Ernest    Male   7/20/2013         6:41 AM  142935   13.198   \n812        NaN    Male  12/13/1994        10:34 AM  141311    5.478   \n997    Russell    Male   5/20/2013        12:39 PM   96914    1.421   \n975      Susan  Female    4/7/1995        10:05 PM   92436   12.467   \n925        NaN  Female   8/23/2000         4:19 PM   95866   19.388   \n999     Albert    Male   5/15/2012         6:24 PM  129949   10.169   \n855    Phillip     NaN  10/20/2003        11:09 AM   89700    2.277   \n912        Joe    Male   12/8/1998        10:28 AM  126120    1.020   \n951        NaN  Female   9/14/2010         5:19 AM  143638    9.662   \n\n    Senior Management                  Team  \n733               NaN  Business Development  \n971              True  Business Development  \n998             False  Business Development  \n877               NaN       Client Services  \n965             False       Client Services  \n990              True       Client Services  \n946               NaN          Distribution  \n995             False          Distribution  \n945              True          Distribution  \n984             False           Engineering  \n823               NaN           Engineering  \n993              True           Engineering  \n996             False               Finance  \n890               NaN               Finance  \n992              True               Finance  \n982              True       Human Resources  \n988             False       Human Resources  \n734               NaN       Human Resources  \n989             False                 Legal  \n165               NaN                 Legal  \n976              True                 Legal  \n947               NaN             Marketing  \n994              True             Marketing  \n986             False             Marketing  \n979              True               Product  \n812               NaN               Product  \n997             False               Product  \n975             False                 Sales  \n925               NaN                 Sales  \n999              True                 Sales  \n855              True                   NaN  \n912             False                   NaN  \n951               NaN                   NaN  ",
      "text/html": "<div>\n<style scoped>\n    .dataframe tbody tr th:only-of-type {\n        vertical-align: middle;\n    }\n\n    .dataframe tbody tr th {\n        vertical-align: top;\n    }\n\n    .dataframe thead th {\n        text-align: right;\n    }\n</style>\n<table border=\"1\" class=\"dataframe\">\n  <thead>\n    <tr style=\"text-align: right;\">\n      <th></th>\n      <th>First Name</th>\n      <th>Gender</th>\n      <th>Start Date</th>\n      <th>Last Login Time</th>\n      <th>Salary</th>\n      <th>Bonus %</th>\n      <th>Senior Management</th>\n      <th>Team</th>\n    </tr>\n  </thead>\n  <tbody>\n    <tr>\n      <th>733</th>\n      <td>NaN</td>\n      <td>Male</td>\n      <td>6/17/2009</td>\n      <td>1:00 PM</td>\n      <td>136681</td>\n      <td>3.655</td>\n      <td>NaN</td>\n      <td>Business Development</td>\n    </tr>\n    <tr>\n      <th>971</th>\n      <td>Patrick</td>\n      <td>Male</td>\n      <td>12/30/2002</td>\n      <td>2:01 AM</td>\n      <td>75423</td>\n      <td>5.368</td>\n      <td>True</td>\n      <td>Business Development</td>\n    </tr>\n    <tr>\n      <th>998</th>\n      <td>Larry</td>\n      <td>Male</td>\n      <td>4/20/2013</td>\n      <td>4:45 PM</td>\n      <td>60500</td>\n      <td>11.985</td>\n      <td>False</td>\n      <td>Business Development</td>\n    </tr>\n    <tr>\n      <th>877</th>\n      <td>NaN</td>\n      <td>Male</td>\n      <td>9/5/1980</td>\n      <td>7:36 AM</td>\n      <td>114896</td>\n      <td>13.823</td>\n      <td>NaN</td>\n      <td>Client Services</td>\n    </tr>\n    <tr>\n      <th>965</th>\n      <td>Catherine</td>\n      <td>Female</td>\n      <td>9/25/1989</td>\n      <td>1:31 AM</td>\n      <td>68164</td>\n      <td>18.393</td>\n      <td>False</td>\n      <td>Client Services</td>\n    </tr>\n    <tr>\n      <th>990</th>\n      <td>Robin</td>\n      <td>Female</td>\n      <td>7/24/1987</td>\n      <td>1:35 PM</td>\n      <td>100765</td>\n      <td>10.982</td>\n      <td>True</td>\n      <td>Client Services</td>\n    </tr>\n    <tr>\n      <th>946</th>\n      <td>NaN</td>\n      <td>Female</td>\n      <td>9/15/1985</td>\n      <td>1:50 AM</td>\n      <td>133472</td>\n      <td>16.941</td>\n      <td>NaN</td>\n      <td>Distribution</td>\n    </tr>\n    <tr>\n      <th>995</th>\n      <td>Henry</td>\n      <td>NaN</td>\n      <td>11/23/2014</td>\n      <td>6:09 AM</td>\n      <td>132483</td>\n      <td>16.655</td>\n      <td>False</td>\n      <td>Distribution</td>\n    </tr>\n    <tr>\n      <th>945</th>\n      <td>Gerald</td>\n      <td>NaN</td>\n      <td>4/15/1989</td>\n      <td>12:44 PM</td>\n      <td>93712</td>\n      <td>17.426</td>\n      <td>True</td>\n      <td>Distribution</td>\n    </tr>\n    <tr>\n      <th>984</th>\n      <td>Maria</td>\n      <td>Female</td>\n      <td>10/15/2011</td>\n      <td>4:53 PM</td>\n      <td>43455</td>\n      <td>13.040</td>\n      <td>False</td>\n      <td>Engineering</td>\n    </tr>\n    <tr>\n      <th>823</th>\n      <td>NaN</td>\n      <td>Male</td>\n      <td>11/12/2009</td>\n      <td>2:30 PM</td>\n      <td>109411</td>\n      <td>9.494</td>\n      <td>NaN</td>\n      <td>Engineering</td>\n    </tr>\n    <tr>\n      <th>993</th>\n      <td>Tina</td>\n      <td>Female</td>\n      <td>5/15/1997</td>\n      <td>3:53 PM</td>\n      <td>56450</td>\n      <td>19.040</td>\n      <td>True</td>\n      <td>Engineering</td>\n    </tr>\n    <tr>\n      <th>996</th>\n      <td>Phillip</td>\n      <td>Male</td>\n      <td>1/31/1984</td>\n      <td>6:30 AM</td>\n      <td>42392</td>\n      <td>19.675</td>\n      <td>False</td>\n      <td>Finance</td>\n    </tr>\n    <tr>\n      <th>890</th>\n      <td>NaN</td>\n      <td>Male</td>\n      <td>11/24/2015</td>\n      <td>3:11 AM</td>\n      <td>145329</td>\n      <td>7.100</td>\n      <td>NaN</td>\n      <td>Finance</td>\n    </tr>\n    <tr>\n      <th>992</th>\n      <td>Anthony</td>\n      <td>Male</td>\n      <td>10/16/2011</td>\n      <td>8:35 AM</td>\n      <td>112769</td>\n      <td>11.625</td>\n      <td>True</td>\n      <td>Finance</td>\n    </tr>\n    <tr>\n      <th>982</th>\n      <td>Rose</td>\n      <td>Female</td>\n      <td>4/6/1982</td>\n      <td>10:43 AM</td>\n      <td>91411</td>\n      <td>8.639</td>\n      <td>True</td>\n      <td>Human Resources</td>\n    </tr>\n    <tr>\n      <th>988</th>\n      <td>Alice</td>\n      <td>Female</td>\n      <td>10/5/2004</td>\n      <td>9:34 AM</td>\n      <td>47638</td>\n      <td>11.209</td>\n      <td>False</td>\n      <td>Human Resources</td>\n    </tr>\n    <tr>\n      <th>734</th>\n      <td>NaN</td>\n      <td>Female</td>\n      <td>12/18/1994</td>\n      <td>8:42 PM</td>\n      <td>138807</td>\n      <td>1.400</td>\n      <td>NaN</td>\n      <td>Human Resources</td>\n    </tr>\n    <tr>\n      <th>989</th>\n      <td>Justin</td>\n      <td>NaN</td>\n      <td>2/10/1991</td>\n      <td>4:58 PM</td>\n      <td>38344</td>\n      <td>3.794</td>\n      <td>False</td>\n      <td>Legal</td>\n    </tr>\n    <tr>\n      <th>165</th>\n      <td>NaN</td>\n      <td>Female</td>\n      <td>3/23/2014</td>\n      <td>1:28 PM</td>\n      <td>59148</td>\n      <td>9.061</td>\n      <td>NaN</td>\n      <td>Legal</td>\n    </tr>\n    <tr>\n      <th>976</th>\n      <td>Denise</td>\n      <td>Female</td>\n      <td>10/19/1992</td>\n      <td>5:42 AM</td>\n      <td>137954</td>\n      <td>4.195</td>\n      <td>True</td>\n      <td>Legal</td>\n    </tr>\n    <tr>\n      <th>947</th>\n      <td>NaN</td>\n      <td>Male</td>\n      <td>7/30/2012</td>\n      <td>3:07 PM</td>\n      <td>107351</td>\n      <td>5.329</td>\n      <td>NaN</td>\n      <td>Marketing</td>\n    </tr>\n    <tr>\n      <th>994</th>\n      <td>George</td>\n      <td>Male</td>\n      <td>6/21/2013</td>\n      <td>5:47 PM</td>\n      <td>98874</td>\n      <td>4.479</td>\n      <td>True</td>\n      <td>Marketing</td>\n    </tr>\n    <tr>\n      <th>986</th>\n      <td>Donna</td>\n      <td>Female</td>\n      <td>11/26/1982</td>\n      <td>7:04 AM</td>\n      <td>82871</td>\n      <td>17.999</td>\n      <td>False</td>\n      <td>Marketing</td>\n    </tr>\n    <tr>\n      <th>979</th>\n      <td>Ernest</td>\n      <td>Male</td>\n      <td>7/20/2013</td>\n      <td>6:41 AM</td>\n      <td>142935</td>\n      <td>13.198</td>\n      <td>True</td>\n      <td>Product</td>\n    </tr>\n    <tr>\n      <th>812</th>\n      <td>NaN</td>\n      <td>Male</td>\n      <td>12/13/1994</td>\n      <td>10:34 AM</td>\n      <td>141311</td>\n      <td>5.478</td>\n      <td>NaN</td>\n      <td>Product</td>\n    </tr>\n    <tr>\n      <th>997</th>\n      <td>Russell</td>\n      <td>Male</td>\n      <td>5/20/2013</td>\n      <td>12:39 PM</td>\n      <td>96914</td>\n      <td>1.421</td>\n      <td>False</td>\n      <td>Product</td>\n    </tr>\n    <tr>\n      <th>975</th>\n      <td>Susan</td>\n      <td>Female</td>\n      <td>4/7/1995</td>\n      <td>10:05 PM</td>\n      <td>92436</td>\n      <td>12.467</td>\n      <td>False</td>\n      <td>Sales</td>\n    </tr>\n    <tr>\n      <th>925</th>\n      <td>NaN</td>\n      <td>Female</td>\n      <td>8/23/2000</td>\n      <td>4:19 PM</td>\n      <td>95866</td>\n      <td>19.388</td>\n      <td>NaN</td>\n      <td>Sales</td>\n    </tr>\n    <tr>\n      <th>999</th>\n      <td>Albert</td>\n      <td>Male</td>\n      <td>5/15/2012</td>\n      <td>6:24 PM</td>\n      <td>129949</td>\n      <td>10.169</td>\n      <td>True</td>\n      <td>Sales</td>\n    </tr>\n    <tr>\n      <th>855</th>\n      <td>Phillip</td>\n      <td>NaN</td>\n      <td>10/20/2003</td>\n      <td>11:09 AM</td>\n      <td>89700</td>\n      <td>2.277</td>\n      <td>True</td>\n      <td>NaN</td>\n    </tr>\n    <tr>\n      <th>912</th>\n      <td>Joe</td>\n      <td>Male</td>\n      <td>12/8/1998</td>\n      <td>10:28 AM</td>\n      <td>126120</td>\n      <td>1.020</td>\n      <td>False</td>\n      <td>NaN</td>\n    </tr>\n    <tr>\n      <th>951</th>\n      <td>NaN</td>\n      <td>Female</td>\n      <td>9/14/2010</td>\n      <td>5:19 AM</td>\n      <td>143638</td>\n      <td>9.662</td>\n      <td>NaN</td>\n      <td>NaN</td>\n    </tr>\n  </tbody>\n</table>\n</div>"
     },
     "execution_count": 25,
     "metadata": {},
     "output_type": "execute_result"
    }
   ],
   "source": [
    "employees.drop_duplicates([\"Senior Management\",\"Team\"]).sort_values(\"Team\") #both senior mngm and team must be the same to be discarded\n",
    "employees.drop_duplicates([\"Senior Management\",\"Team\"], keep=\"last\").sort_values(\"Team\")"
   ],
   "metadata": {
    "collapsed": false,
    "ExecuteTime": {
     "end_time": "2025-04-15T07:16:13.678050400Z",
     "start_time": "2025-04-15T07:16:13.662012100Z"
    }
   },
   "id": "89e6501cd2a0f17c"
  },
  {
   "cell_type": "code",
   "execution_count": 28,
   "outputs": [
    {
     "data": {
      "text/plain": "numpy.ndarray"
     },
     "execution_count": 28,
     "metadata": {},
     "output_type": "execute_result"
    }
   ],
   "source": [
    "employees[\"Gender\"].unique()\n",
    "type(employees[\"Gender\"].unique())"
   ],
   "metadata": {
    "collapsed": false,
    "ExecuteTime": {
     "end_time": "2025-04-15T07:18:49.000516Z",
     "start_time": "2025-04-15T07:18:48.996198900Z"
    }
   },
   "id": "3012c0d02db84c1f"
  },
  {
   "cell_type": "code",
   "execution_count": 30,
   "outputs": [
    {
     "data": {
      "text/plain": "numpy.ndarray"
     },
     "execution_count": 30,
     "metadata": {},
     "output_type": "execute_result"
    }
   ],
   "source": [
    "employees[\"Team\"].unique()\n",
    "type(employees[\"Team\"].unique())"
   ],
   "metadata": {
    "collapsed": false,
    "ExecuteTime": {
     "end_time": "2025-04-15T07:19:27.417872900Z",
     "start_time": "2025-04-15T07:19:27.403928500Z"
    }
   },
   "id": "790741dc1dc74e19"
  },
  {
   "cell_type": "code",
   "execution_count": 31,
   "outputs": [
    {
     "data": {
      "text/plain": "10"
     },
     "execution_count": 31,
     "metadata": {},
     "output_type": "execute_result"
    }
   ],
   "source": [
    "employees[\"Team\"].nunique() #counts all unique rows\n"
   ],
   "metadata": {
    "collapsed": false,
    "ExecuteTime": {
     "end_time": "2025-04-15T07:19:37.270387Z",
     "start_time": "2025-04-15T07:19:37.244377200Z"
    }
   },
   "id": "187dfabb4ffc7df3"
  },
  {
   "cell_type": "code",
   "execution_count": 35,
   "outputs": [
    {
     "data": {
      "text/plain": "11"
     },
     "execution_count": 35,
     "metadata": {},
     "output_type": "execute_result"
    }
   ],
   "source": [
    "employees[\"Team\"].nunique(dropna=True) #10\n",
    "employees[\"Team\"].nunique(dropna=False) #11\n"
   ],
   "metadata": {
    "collapsed": false,
    "ExecuteTime": {
     "end_time": "2025-04-15T07:21:16.826910100Z",
     "start_time": "2025-04-15T07:21:16.810848Z"
    }
   },
   "id": "45277084b5b01512"
  },
  {
   "cell_type": "code",
   "execution_count": 36,
   "outputs": [
    {
     "data": {
      "text/plain": "First Name           200\nGender                 2\nStart Date           972\nLast Login Time      720\nSalary               995\nBonus %              971\nSenior Management      2\nTeam                  10\ndtype: int64"
     },
     "execution_count": 36,
     "metadata": {},
     "output_type": "execute_result"
    }
   ],
   "source": [
    "employees.nunique()"
   ],
   "metadata": {
    "collapsed": false,
    "ExecuteTime": {
     "end_time": "2025-04-15T07:21:42.995208700Z",
     "start_time": "2025-04-15T07:21:42.978373700Z"
    }
   },
   "id": "4eabbe84b82bde50"
  },
  {
   "cell_type": "code",
   "execution_count": null,
   "outputs": [],
   "source": [],
   "metadata": {
    "collapsed": false
   },
   "id": "d7b59e1ec341d131"
  }
 ],
 "metadata": {
  "kernelspec": {
   "display_name": "Python 3",
   "language": "python",
   "name": "python3"
  },
  "language_info": {
   "codemirror_mode": {
    "name": "ipython",
    "version": 2
   },
   "file_extension": ".py",
   "mimetype": "text/x-python",
   "name": "python",
   "nbconvert_exporter": "python",
   "pygments_lexer": "ipython2",
   "version": "2.7.6"
  }
 },
 "nbformat": 4,
 "nbformat_minor": 5
}
