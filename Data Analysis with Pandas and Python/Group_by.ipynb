{
 "cells": [
  {
   "cell_type": "code",
   "execution_count": 4,
   "id": "initial_id",
   "metadata": {
    "collapsed": true,
    "ExecuteTime": {
     "end_time": "2025-04-15T07:36:12.636883800Z",
     "start_time": "2025-04-15T07:36:12.281894800Z"
    }
   },
   "outputs": [],
   "source": [
    "import pandas as pd"
   ]
  },
  {
   "cell_type": "code",
   "execution_count": 6,
   "outputs": [],
   "source": [
    "fortune=pd.read_csv(r\"C:\\Dawid\\Szkola\\studia\\ostatni_rozdzial\\Github\\python\\Data Analysis with Pandas and Python\\pandas\\pandas\\Incomplete\\fortune1000.csv\")"
   ],
   "metadata": {
    "collapsed": false,
    "ExecuteTime": {
     "end_time": "2025-04-15T07:36:25.314067800Z",
     "start_time": "2025-04-15T07:36:25.304810500Z"
    }
   },
   "id": "d74ea0a4c8b94065"
  },
  {
   "cell_type": "code",
   "execution_count": 7,
   "outputs": [
    {
     "data": {
      "text/plain": "   Rank             Company       Sector  \\\n0     1             Walmart    Retailing   \n1     2         Exxon Mobil       Energy   \n2     3               Apple   Technology   \n3     4  Berkshire Hathaway   Financials   \n4     5            McKesson  Health Care   \n\n                                   Industry  Revenue  Profits  Employees  \n0                     General Merchandisers   482130    14694    2300000  \n1                        Petroleum Refining   246204    16150      75600  \n2               Computers, Office Equipment   233715    53394     110000  \n3  Insurance: Property and Casualty (Stock)   210821    24083     331000  \n4                  Wholesalers: Health Care   181241     1476      70400  ",
      "text/html": "<div>\n<style scoped>\n    .dataframe tbody tr th:only-of-type {\n        vertical-align: middle;\n    }\n\n    .dataframe tbody tr th {\n        vertical-align: top;\n    }\n\n    .dataframe thead th {\n        text-align: right;\n    }\n</style>\n<table border=\"1\" class=\"dataframe\">\n  <thead>\n    <tr style=\"text-align: right;\">\n      <th></th>\n      <th>Rank</th>\n      <th>Company</th>\n      <th>Sector</th>\n      <th>Industry</th>\n      <th>Revenue</th>\n      <th>Profits</th>\n      <th>Employees</th>\n    </tr>\n  </thead>\n  <tbody>\n    <tr>\n      <th>0</th>\n      <td>1</td>\n      <td>Walmart</td>\n      <td>Retailing</td>\n      <td>General Merchandisers</td>\n      <td>482130</td>\n      <td>14694</td>\n      <td>2300000</td>\n    </tr>\n    <tr>\n      <th>1</th>\n      <td>2</td>\n      <td>Exxon Mobil</td>\n      <td>Energy</td>\n      <td>Petroleum Refining</td>\n      <td>246204</td>\n      <td>16150</td>\n      <td>75600</td>\n    </tr>\n    <tr>\n      <th>2</th>\n      <td>3</td>\n      <td>Apple</td>\n      <td>Technology</td>\n      <td>Computers, Office Equipment</td>\n      <td>233715</td>\n      <td>53394</td>\n      <td>110000</td>\n    </tr>\n    <tr>\n      <th>3</th>\n      <td>4</td>\n      <td>Berkshire Hathaway</td>\n      <td>Financials</td>\n      <td>Insurance: Property and Casualty (Stock)</td>\n      <td>210821</td>\n      <td>24083</td>\n      <td>331000</td>\n    </tr>\n    <tr>\n      <th>4</th>\n      <td>5</td>\n      <td>McKesson</td>\n      <td>Health Care</td>\n      <td>Wholesalers: Health Care</td>\n      <td>181241</td>\n      <td>1476</td>\n      <td>70400</td>\n    </tr>\n  </tbody>\n</table>\n</div>"
     },
     "execution_count": 7,
     "metadata": {},
     "output_type": "execute_result"
    }
   ],
   "source": [
    "fortune.head()"
   ],
   "metadata": {
    "collapsed": false,
    "ExecuteTime": {
     "end_time": "2025-04-15T07:36:38.699350400Z",
     "start_time": "2025-04-15T07:36:38.685895600Z"
    }
   },
   "id": "c4bb39f2267af433"
  },
  {
   "cell_type": "code",
   "execution_count": 11,
   "outputs": [
    {
     "data": {
      "text/plain": "np.int64(1465076)"
     },
     "execution_count": 11,
     "metadata": {},
     "output_type": "execute_result"
    }
   ],
   "source": [
    "#sums of revenues of each sectors\n",
    "fortune[fortune[\"Sector\"]==\"Retailing\"].sum()\n",
    "fortune[fortune[\"Sector\"] == \"Retailing\"][\"Revenue\"].sum()\n"
   ],
   "metadata": {
    "collapsed": false,
    "ExecuteTime": {
     "end_time": "2025-04-15T07:48:00.766703600Z",
     "start_time": "2025-04-15T07:48:00.756275600Z"
    }
   },
   "id": "417f5ca4c83710d5"
  },
  {
   "cell_type": "code",
   "execution_count": 12,
   "outputs": [
    {
     "data": {
      "text/plain": "<pandas.core.groupby.generic.DataFrameGroupBy object at 0x000001F5F5F6CE30>"
     },
     "execution_count": 12,
     "metadata": {},
     "output_type": "execute_result"
    }
   ],
   "source": [
    "fortune.groupby([\"Sector\"]) #object groupby , collections of DF and each DF(retail,energy, tech etc) contains data about each sector"
   ],
   "metadata": {
    "collapsed": false,
    "ExecuteTime": {
     "end_time": "2025-04-15T07:50:13.313765200Z",
     "start_time": "2025-04-15T07:50:13.302287400Z"
    }
   },
   "id": "ad45912ff8ac46ce"
  },
  {
   "cell_type": "code",
   "execution_count": 13,
   "outputs": [
    {
     "data": {
      "text/plain": "<pandas.core.groupby.generic.DataFrameGroupBy object at 0x000001F5F5F728D0>"
     },
     "execution_count": 13,
     "metadata": {},
     "output_type": "execute_result"
    }
   ],
   "source": [
    "sectors=fortune.groupby([\"Sector\"])\n",
    "sectors"
   ],
   "metadata": {
    "collapsed": false,
    "ExecuteTime": {
     "end_time": "2025-04-15T07:57:11.248271Z",
     "start_time": "2025-04-15T07:57:11.241657100Z"
    }
   },
   "id": "337180a84025d6fa"
  },
  {
   "cell_type": "code",
   "execution_count": 14,
   "outputs": [
    {
     "data": {
      "text/plain": "21"
     },
     "execution_count": 14,
     "metadata": {},
     "output_type": "execute_result"
    }
   ],
   "source": [
    "len(sectors) #21 unique sectors"
   ],
   "metadata": {
    "collapsed": false,
    "ExecuteTime": {
     "end_time": "2025-04-15T07:57:23.334716400Z",
     "start_time": "2025-04-15T07:57:23.324230900Z"
    }
   },
   "id": "c36059be5aa0c18b"
  },
  {
   "cell_type": "code",
   "execution_count": 15,
   "outputs": [
    {
     "data": {
      "text/plain": "Sector\nAerospace & Defense              20\nApparel                          15\nBusiness Services                51\nChemicals                        30\nEnergy                          122\nEngineering & Construction       26\nFinancials                      139\nFood and Drug Stores             15\nFood, Beverages & Tobacco        43\nHealth Care                      75\nHotels, Resturants & Leisure     25\nHousehold Products               28\nIndustrials                      46\nMaterials                        43\nMedia                            25\nMotor Vehicles & Parts           24\nRetailing                        80\nTechnology                      102\nTelecommunications               15\nTransportation                   36\nWholesalers                      40\ndtype: int64"
     },
     "execution_count": 15,
     "metadata": {},
     "output_type": "execute_result"
    }
   ],
   "source": [
    "sectors.size()"
   ],
   "metadata": {
    "collapsed": false,
    "ExecuteTime": {
     "end_time": "2025-04-15T07:58:07.571065800Z",
     "start_time": "2025-04-15T07:58:07.556413800Z"
    }
   },
   "id": "f00b2d80bd4beb70"
  },
  {
   "cell_type": "code",
   "execution_count": 16,
   "outputs": [
    {
     "data": {
      "text/plain": "                              Rank                 Company  \\\nSector                                                       \nAerospace & Defense             24                  Boeing   \nApparel                         91                    Nike   \nBusiness Services              144           ManpowerGroup   \nChemicals                       56            Dow Chemical   \nEnergy                           2             Exxon Mobil   \nEngineering & Construction     155                   Fluor   \nFinancials                       4      Berkshire Hathaway   \nFood and Drug Stores             7              CVS Health   \nFood, Beverages & Tobacco       41  Archer Daniels Midland   \nHealth Care                      5                McKesson   \nHotels, Resturants & Leisure   109              McDonald’s   \nHousehold Products              34        Procter & Gamble   \nIndustrials                     11        General Electric   \nMaterials                      126                   Alcoa   \nMedia                           53                  Disney   \nMotor Vehicles & Parts           8          General Motors   \nRetailing                        1                 Walmart   \nTechnology                       3                   Apple   \nTelecommunications              10                    AT&T   \nTransportation                  48                     UPS   \nWholesalers                     57                   Sysco   \n\n                                                              Industry  \\\nSector                                                                   \nAerospace & Defense                              Aerospace and Defense   \nApparel                                                        Apparel   \nBusiness Services                                       Temporary Help   \nChemicals                                                    Chemicals   \nEnergy                                              Petroleum Refining   \nEngineering & Construction                   Engineering, Construction   \nFinancials                    Insurance: Property and Casualty (Stock)   \nFood and Drug Stores                              Food and Drug Stores   \nFood, Beverages & Tobacco                              Food Production   \nHealth Care                                   Wholesalers: Health Care   \nHotels, Resturants & Leisure                             Food Services   \nHousehold Products                     Household and Personal Products   \nIndustrials                                       Industrial Machinery   \nMaterials                                                       Metals   \nMedia                                                    Entertainment   \nMotor Vehicles & Parts                        Motor Vehicles and Parts   \nRetailing                                        General Merchandisers   \nTechnology                                 Computers, Office Equipment   \nTelecommunications                                  Telecommunications   \nTransportation                     Mail, Package, and Freight Delivery   \nWholesalers                              Wholesalers: Food and Grocery   \n\n                              Revenue  Profits  Employees  \nSector                                                     \nAerospace & Defense             96114     5176     161400  \nApparel                         30601     3273      62600  \nBusiness Services               19330      419      27000  \nChemicals                       48778     7685      49495  \nEnergy                         246204    16150      75600  \nEngineering & Construction      18114      413      38758  \nFinancials                     210821    24083     331000  \nFood and Drug Stores           153290     5237     199000  \nFood, Beverages & Tobacco       67702     1849      32300  \nHealth Care                    181241     1476      70400  \nHotels, Resturants & Leisure    25413     4529     420000  \nHousehold Products              78756     7036     110000  \nIndustrials                    140389    -6126     333000  \nMaterials                       22534     -322      60000  \nMedia                           52465     8382     185000  \nMotor Vehicles & Parts         152356     9687     215000  \nRetailing                      482130    14694    2300000  \nTechnology                     233715    53394     110000  \nTelecommunications             146801    13345     281450  \nTransportation                  58363     4844     341240  \nWholesalers                     48681      687      51700  ",
      "text/html": "<div>\n<style scoped>\n    .dataframe tbody tr th:only-of-type {\n        vertical-align: middle;\n    }\n\n    .dataframe tbody tr th {\n        vertical-align: top;\n    }\n\n    .dataframe thead th {\n        text-align: right;\n    }\n</style>\n<table border=\"1\" class=\"dataframe\">\n  <thead>\n    <tr style=\"text-align: right;\">\n      <th></th>\n      <th>Rank</th>\n      <th>Company</th>\n      <th>Industry</th>\n      <th>Revenue</th>\n      <th>Profits</th>\n      <th>Employees</th>\n    </tr>\n    <tr>\n      <th>Sector</th>\n      <th></th>\n      <th></th>\n      <th></th>\n      <th></th>\n      <th></th>\n      <th></th>\n    </tr>\n  </thead>\n  <tbody>\n    <tr>\n      <th>Aerospace &amp; Defense</th>\n      <td>24</td>\n      <td>Boeing</td>\n      <td>Aerospace and Defense</td>\n      <td>96114</td>\n      <td>5176</td>\n      <td>161400</td>\n    </tr>\n    <tr>\n      <th>Apparel</th>\n      <td>91</td>\n      <td>Nike</td>\n      <td>Apparel</td>\n      <td>30601</td>\n      <td>3273</td>\n      <td>62600</td>\n    </tr>\n    <tr>\n      <th>Business Services</th>\n      <td>144</td>\n      <td>ManpowerGroup</td>\n      <td>Temporary Help</td>\n      <td>19330</td>\n      <td>419</td>\n      <td>27000</td>\n    </tr>\n    <tr>\n      <th>Chemicals</th>\n      <td>56</td>\n      <td>Dow Chemical</td>\n      <td>Chemicals</td>\n      <td>48778</td>\n      <td>7685</td>\n      <td>49495</td>\n    </tr>\n    <tr>\n      <th>Energy</th>\n      <td>2</td>\n      <td>Exxon Mobil</td>\n      <td>Petroleum Refining</td>\n      <td>246204</td>\n      <td>16150</td>\n      <td>75600</td>\n    </tr>\n    <tr>\n      <th>Engineering &amp; Construction</th>\n      <td>155</td>\n      <td>Fluor</td>\n      <td>Engineering, Construction</td>\n      <td>18114</td>\n      <td>413</td>\n      <td>38758</td>\n    </tr>\n    <tr>\n      <th>Financials</th>\n      <td>4</td>\n      <td>Berkshire Hathaway</td>\n      <td>Insurance: Property and Casualty (Stock)</td>\n      <td>210821</td>\n      <td>24083</td>\n      <td>331000</td>\n    </tr>\n    <tr>\n      <th>Food and Drug Stores</th>\n      <td>7</td>\n      <td>CVS Health</td>\n      <td>Food and Drug Stores</td>\n      <td>153290</td>\n      <td>5237</td>\n      <td>199000</td>\n    </tr>\n    <tr>\n      <th>Food, Beverages &amp; Tobacco</th>\n      <td>41</td>\n      <td>Archer Daniels Midland</td>\n      <td>Food Production</td>\n      <td>67702</td>\n      <td>1849</td>\n      <td>32300</td>\n    </tr>\n    <tr>\n      <th>Health Care</th>\n      <td>5</td>\n      <td>McKesson</td>\n      <td>Wholesalers: Health Care</td>\n      <td>181241</td>\n      <td>1476</td>\n      <td>70400</td>\n    </tr>\n    <tr>\n      <th>Hotels, Resturants &amp; Leisure</th>\n      <td>109</td>\n      <td>McDonald’s</td>\n      <td>Food Services</td>\n      <td>25413</td>\n      <td>4529</td>\n      <td>420000</td>\n    </tr>\n    <tr>\n      <th>Household Products</th>\n      <td>34</td>\n      <td>Procter &amp; Gamble</td>\n      <td>Household and Personal Products</td>\n      <td>78756</td>\n      <td>7036</td>\n      <td>110000</td>\n    </tr>\n    <tr>\n      <th>Industrials</th>\n      <td>11</td>\n      <td>General Electric</td>\n      <td>Industrial Machinery</td>\n      <td>140389</td>\n      <td>-6126</td>\n      <td>333000</td>\n    </tr>\n    <tr>\n      <th>Materials</th>\n      <td>126</td>\n      <td>Alcoa</td>\n      <td>Metals</td>\n      <td>22534</td>\n      <td>-322</td>\n      <td>60000</td>\n    </tr>\n    <tr>\n      <th>Media</th>\n      <td>53</td>\n      <td>Disney</td>\n      <td>Entertainment</td>\n      <td>52465</td>\n      <td>8382</td>\n      <td>185000</td>\n    </tr>\n    <tr>\n      <th>Motor Vehicles &amp; Parts</th>\n      <td>8</td>\n      <td>General Motors</td>\n      <td>Motor Vehicles and Parts</td>\n      <td>152356</td>\n      <td>9687</td>\n      <td>215000</td>\n    </tr>\n    <tr>\n      <th>Retailing</th>\n      <td>1</td>\n      <td>Walmart</td>\n      <td>General Merchandisers</td>\n      <td>482130</td>\n      <td>14694</td>\n      <td>2300000</td>\n    </tr>\n    <tr>\n      <th>Technology</th>\n      <td>3</td>\n      <td>Apple</td>\n      <td>Computers, Office Equipment</td>\n      <td>233715</td>\n      <td>53394</td>\n      <td>110000</td>\n    </tr>\n    <tr>\n      <th>Telecommunications</th>\n      <td>10</td>\n      <td>AT&amp;T</td>\n      <td>Telecommunications</td>\n      <td>146801</td>\n      <td>13345</td>\n      <td>281450</td>\n    </tr>\n    <tr>\n      <th>Transportation</th>\n      <td>48</td>\n      <td>UPS</td>\n      <td>Mail, Package, and Freight Delivery</td>\n      <td>58363</td>\n      <td>4844</td>\n      <td>341240</td>\n    </tr>\n    <tr>\n      <th>Wholesalers</th>\n      <td>57</td>\n      <td>Sysco</td>\n      <td>Wholesalers: Food and Grocery</td>\n      <td>48681</td>\n      <td>687</td>\n      <td>51700</td>\n    </tr>\n  </tbody>\n</table>\n</div>"
     },
     "execution_count": 16,
     "metadata": {},
     "output_type": "execute_result"
    }
   ],
   "source": [
    "sectors.first() #wybiera pierwsze wiersze z każdej kategorii"
   ],
   "metadata": {
    "collapsed": false,
    "ExecuteTime": {
     "end_time": "2025-04-15T07:58:44.329124800Z",
     "start_time": "2025-04-15T07:58:44.312744Z"
    }
   },
   "id": "b51f33a668d05228"
  },
  {
   "cell_type": "code",
   "execution_count": 18,
   "outputs": [
    {
     "name": "stderr",
     "output_type": "stream",
     "text": [
      "C:\\Users\\deber\\AppData\\Local\\Temp\\ipykernel_13128\\1052779234.py:1: FutureWarning: When grouping with a length-1 list-like, you will need to pass a length-1 tuple to get_group in a future version of pandas. Pass `(name,)` instead of `name` to silence this warning.\n",
      "  sectors.get_group(\"Energy\")\n"
     ]
    },
    {
     "data": {
      "text/plain": "     Rank                    Company  Sector                      Industry  \\\n1       2                Exxon Mobil  Energy            Petroleum Refining   \n13     14                    Chevron  Energy            Petroleum Refining   \n29     30                Phillips 66  Energy            Petroleum Refining   \n31     32              Valero Energy  Energy            Petroleum Refining   \n41     42         Marathon Petroleum  Energy            Petroleum Refining   \n..    ...                        ...     ...                           ...   \n980   981                 WPX Energy  Energy  Mining, Crude-Oil Production   \n982   983   Adams Resources & Energy  Energy            Petroleum Refining   \n994   995                  EP Energy  Energy  Mining, Crude-Oil Production   \n996   997  Portland General Electric  Energy   Utilities: Gas and Electric   \n997   997  Portland General Electric  Energy   Utilities: Gas and Electric   \n\n     Revenue  Profits  Employees  \n1     246204    16150      75600  \n13    131118     4587      61500  \n29     87169     4227      14000  \n31     81824     3990      10103  \n41     64566     2852      45440  \n..       ...      ...        ...  \n980     1958    -1727       1040  \n982     1944       -1        809  \n994     1908    -3748        665  \n996     1898      172       2646  \n997     1898      172       2646  \n\n[122 rows x 7 columns]",
      "text/html": "<div>\n<style scoped>\n    .dataframe tbody tr th:only-of-type {\n        vertical-align: middle;\n    }\n\n    .dataframe tbody tr th {\n        vertical-align: top;\n    }\n\n    .dataframe thead th {\n        text-align: right;\n    }\n</style>\n<table border=\"1\" class=\"dataframe\">\n  <thead>\n    <tr style=\"text-align: right;\">\n      <th></th>\n      <th>Rank</th>\n      <th>Company</th>\n      <th>Sector</th>\n      <th>Industry</th>\n      <th>Revenue</th>\n      <th>Profits</th>\n      <th>Employees</th>\n    </tr>\n  </thead>\n  <tbody>\n    <tr>\n      <th>1</th>\n      <td>2</td>\n      <td>Exxon Mobil</td>\n      <td>Energy</td>\n      <td>Petroleum Refining</td>\n      <td>246204</td>\n      <td>16150</td>\n      <td>75600</td>\n    </tr>\n    <tr>\n      <th>13</th>\n      <td>14</td>\n      <td>Chevron</td>\n      <td>Energy</td>\n      <td>Petroleum Refining</td>\n      <td>131118</td>\n      <td>4587</td>\n      <td>61500</td>\n    </tr>\n    <tr>\n      <th>29</th>\n      <td>30</td>\n      <td>Phillips 66</td>\n      <td>Energy</td>\n      <td>Petroleum Refining</td>\n      <td>87169</td>\n      <td>4227</td>\n      <td>14000</td>\n    </tr>\n    <tr>\n      <th>31</th>\n      <td>32</td>\n      <td>Valero Energy</td>\n      <td>Energy</td>\n      <td>Petroleum Refining</td>\n      <td>81824</td>\n      <td>3990</td>\n      <td>10103</td>\n    </tr>\n    <tr>\n      <th>41</th>\n      <td>42</td>\n      <td>Marathon Petroleum</td>\n      <td>Energy</td>\n      <td>Petroleum Refining</td>\n      <td>64566</td>\n      <td>2852</td>\n      <td>45440</td>\n    </tr>\n    <tr>\n      <th>...</th>\n      <td>...</td>\n      <td>...</td>\n      <td>...</td>\n      <td>...</td>\n      <td>...</td>\n      <td>...</td>\n      <td>...</td>\n    </tr>\n    <tr>\n      <th>980</th>\n      <td>981</td>\n      <td>WPX Energy</td>\n      <td>Energy</td>\n      <td>Mining, Crude-Oil Production</td>\n      <td>1958</td>\n      <td>-1727</td>\n      <td>1040</td>\n    </tr>\n    <tr>\n      <th>982</th>\n      <td>983</td>\n      <td>Adams Resources &amp; Energy</td>\n      <td>Energy</td>\n      <td>Petroleum Refining</td>\n      <td>1944</td>\n      <td>-1</td>\n      <td>809</td>\n    </tr>\n    <tr>\n      <th>994</th>\n      <td>995</td>\n      <td>EP Energy</td>\n      <td>Energy</td>\n      <td>Mining, Crude-Oil Production</td>\n      <td>1908</td>\n      <td>-3748</td>\n      <td>665</td>\n    </tr>\n    <tr>\n      <th>996</th>\n      <td>997</td>\n      <td>Portland General Electric</td>\n      <td>Energy</td>\n      <td>Utilities: Gas and Electric</td>\n      <td>1898</td>\n      <td>172</td>\n      <td>2646</td>\n    </tr>\n    <tr>\n      <th>997</th>\n      <td>997</td>\n      <td>Portland General Electric</td>\n      <td>Energy</td>\n      <td>Utilities: Gas and Electric</td>\n      <td>1898</td>\n      <td>172</td>\n      <td>2646</td>\n    </tr>\n  </tbody>\n</table>\n<p>122 rows × 7 columns</p>\n</div>"
     },
     "execution_count": 18,
     "metadata": {},
     "output_type": "execute_result"
    }
   ],
   "source": [
    "sectors.get_group(\"Energy\") #all values from particular column"
   ],
   "metadata": {
    "collapsed": false,
    "ExecuteTime": {
     "end_time": "2025-04-15T08:00:59.929084Z",
     "start_time": "2025-04-15T08:00:59.914686400Z"
    }
   },
   "id": "a147f2cdaa7e03b8"
  },
  {
   "cell_type": "code",
   "execution_count": 19,
   "outputs": [
    {
     "name": "stderr",
     "output_type": "stream",
     "text": [
      "C:\\Users\\deber\\AppData\\Local\\Temp\\ipykernel_13128\\952515833.py:1: FutureWarning: When grouping with a length-1 list-like, you will need to pass a length-1 tuple to get_group in a future version of pandas. Pass `(name,)` instead of `name` to silence this warning.\n",
      "  sectors.get_group([\"Energy\",\"Technology\"])\n"
     ]
    },
    {
     "ename": "TypeError",
     "evalue": "unhashable type: 'list'",
     "output_type": "error",
     "traceback": [
      "\u001B[31m---------------------------------------------------------------------------\u001B[39m",
      "\u001B[31mTypeError\u001B[39m                                 Traceback (most recent call last)",
      "\u001B[36mCell\u001B[39m\u001B[36m \u001B[39m\u001B[32mIn[19]\u001B[39m\u001B[32m, line 1\u001B[39m\n\u001B[32m----> \u001B[39m\u001B[32m1\u001B[39m \u001B[43msectors\u001B[49m\u001B[43m.\u001B[49m\u001B[43mget_group\u001B[49m\u001B[43m(\u001B[49m\u001B[43m[\u001B[49m\u001B[33;43m\"\u001B[39;49m\u001B[33;43mEnergy\u001B[39;49m\u001B[33;43m\"\u001B[39;49m\u001B[43m,\u001B[49m\u001B[33;43m\"\u001B[39;49m\u001B[33;43mTechnology\u001B[39;49m\u001B[33;43m\"\u001B[39;49m\u001B[43m]\u001B[49m\u001B[43m)\u001B[49m\n",
      "\u001B[36mFile \u001B[39m\u001B[32mC:\\Dawid\\Szkola\\studia\\ostatni_rozdzial\\Github\\python\\Data Analysis with Pandas and Python\\venv\\Lib\\site-packages\\pandas\\core\\groupby\\groupby.py:1112\u001B[39m, in \u001B[36mBaseGroupBy.get_group\u001B[39m\u001B[34m(self, name, obj)\u001B[39m\n\u001B[32m   1102\u001B[39m     \u001B[38;5;28;01melif\u001B[39;00m \u001B[38;5;129;01mnot\u001B[39;00m \u001B[38;5;28misinstance\u001B[39m(name, \u001B[38;5;28mtuple\u001B[39m):\n\u001B[32m   1103\u001B[39m         warnings.warn(\n\u001B[32m   1104\u001B[39m             \u001B[33m\"\u001B[39m\u001B[33mWhen grouping with a length-1 list-like, \u001B[39m\u001B[33m\"\u001B[39m\n\u001B[32m   1105\u001B[39m             \u001B[33m\"\u001B[39m\u001B[33myou will need to pass a length-1 tuple to get_group in a future \u001B[39m\u001B[33m\"\u001B[39m\n\u001B[32m   (...)\u001B[39m\u001B[32m   1109\u001B[39m             stacklevel=find_stack_level(),\n\u001B[32m   1110\u001B[39m         )\n\u001B[32m-> \u001B[39m\u001B[32m1112\u001B[39m inds = \u001B[38;5;28;43mself\u001B[39;49m\u001B[43m.\u001B[49m\u001B[43m_get_index\u001B[49m\u001B[43m(\u001B[49m\u001B[43mname\u001B[49m\u001B[43m)\u001B[49m\n\u001B[32m   1113\u001B[39m \u001B[38;5;28;01mif\u001B[39;00m \u001B[38;5;129;01mnot\u001B[39;00m \u001B[38;5;28mlen\u001B[39m(inds):\n\u001B[32m   1114\u001B[39m     \u001B[38;5;28;01mraise\u001B[39;00m \u001B[38;5;167;01mKeyError\u001B[39;00m(name)\n",
      "\u001B[36mFile \u001B[39m\u001B[32mC:\\Dawid\\Szkola\\studia\\ostatni_rozdzial\\Github\\python\\Data Analysis with Pandas and Python\\venv\\Lib\\site-packages\\pandas\\core\\groupby\\groupby.py:964\u001B[39m, in \u001B[36mBaseGroupBy._get_index\u001B[39m\u001B[34m(self, name)\u001B[39m\n\u001B[32m    959\u001B[39m \u001B[38;5;129m@final\u001B[39m\n\u001B[32m    960\u001B[39m \u001B[38;5;28;01mdef\u001B[39;00m\u001B[38;5;250m \u001B[39m\u001B[34m_get_index\u001B[39m(\u001B[38;5;28mself\u001B[39m, name):\n\u001B[32m    961\u001B[39m \u001B[38;5;250m    \u001B[39m\u001B[33;03m\"\"\"\u001B[39;00m\n\u001B[32m    962\u001B[39m \u001B[33;03m    Safe get index, translate keys for datelike to underlying repr.\u001B[39;00m\n\u001B[32m    963\u001B[39m \u001B[33;03m    \"\"\"\u001B[39;00m\n\u001B[32m--> \u001B[39m\u001B[32m964\u001B[39m     \u001B[38;5;28;01mreturn\u001B[39;00m \u001B[38;5;28;43mself\u001B[39;49m\u001B[43m.\u001B[49m\u001B[43m_get_indices\u001B[49m\u001B[43m(\u001B[49m\u001B[43m[\u001B[49m\u001B[43mname\u001B[49m\u001B[43m]\u001B[49m\u001B[43m)\u001B[49m[\u001B[32m0\u001B[39m]\n",
      "\u001B[36mFile \u001B[39m\u001B[32mC:\\Dawid\\Szkola\\studia\\ostatni_rozdzial\\Github\\python\\Data Analysis with Pandas and Python\\venv\\Lib\\site-packages\\pandas\\core\\groupby\\groupby.py:957\u001B[39m, in \u001B[36mBaseGroupBy._get_indices\u001B[39m\u001B[34m(self, names)\u001B[39m\n\u001B[32m    954\u001B[39m     converter = get_converter(index_sample)\n\u001B[32m    955\u001B[39m     names = (converter(name) \u001B[38;5;28;01mfor\u001B[39;00m name \u001B[38;5;129;01min\u001B[39;00m names)\n\u001B[32m--> \u001B[39m\u001B[32m957\u001B[39m \u001B[38;5;28;01mreturn\u001B[39;00m [\u001B[38;5;28;43mself\u001B[39;49m\u001B[43m.\u001B[49m\u001B[43mindices\u001B[49m\u001B[43m.\u001B[49m\u001B[43mget\u001B[49m\u001B[43m(\u001B[49m\u001B[43mname\u001B[49m\u001B[43m,\u001B[49m\u001B[43m \u001B[49m\u001B[43m[\u001B[49m\u001B[43m]\u001B[49m\u001B[43m)\u001B[49m \u001B[38;5;28;01mfor\u001B[39;00m name \u001B[38;5;129;01min\u001B[39;00m names]\n",
      "\u001B[31mTypeError\u001B[39m: unhashable type: 'list'"
     ]
    }
   ],
   "source": [
    "sectors.get_group([\"Energy\",\"Technology\"])"
   ],
   "metadata": {
    "collapsed": false,
    "ExecuteTime": {
     "end_time": "2025-04-15T08:02:02.756075500Z",
     "start_time": "2025-04-15T08:02:02.684538300Z"
    }
   },
   "id": "5c9139332994f952"
  },
  {
   "cell_type": "code",
   "execution_count": 21,
   "outputs": [
    {
     "data": {
      "text/plain": "<pandas.core.groupby.generic.SeriesGroupBy object at 0x000001F5F66F16A0>"
     },
     "execution_count": 21,
     "metadata": {},
     "output_type": "execute_result"
    }
   ],
   "source": [
    "sectors[\"Revenue\"]"
   ],
   "metadata": {
    "collapsed": false,
    "ExecuteTime": {
     "end_time": "2025-04-15T08:03:08.136764300Z",
     "start_time": "2025-04-15T08:03:08.132827Z"
    }
   },
   "id": "f2bd0da960b5dc4f"
  },
  {
   "cell_type": "code",
   "execution_count": 22,
   "outputs": [
    {
     "data": {
      "text/plain": "Sector\nAerospace & Defense              357940\nApparel                           95968\nBusiness Services                272195\nChemicals                        243897\nEnergy                          1517809\nEngineering & Construction       153983\nFinancials                      2217159\nFood and Drug Stores             483769\nFood, Beverages & Tobacco        555967\nHealth Care                     1614707\nHotels, Resturants & Leisure     169546\nHousehold Products               234737\nIndustrials                      497581\nMaterials                        259145\nMedia                            220764\nMotor Vehicles & Parts           482540\nRetailing                       1465076\nTechnology                      1377600\nTelecommunications               461834\nTransportation                   408508\nWholesalers                      444800\nName: Revenue, dtype: int64"
     },
     "execution_count": 22,
     "metadata": {},
     "output_type": "execute_result"
    }
   ],
   "source": [
    "sectors[\"Revenue\"].sum()"
   ],
   "metadata": {
    "collapsed": false,
    "ExecuteTime": {
     "end_time": "2025-04-15T08:03:21.226805300Z",
     "start_time": "2025-04-15T08:03:21.145392200Z"
    }
   },
   "id": "e0e904db077ebb51"
  },
  {
   "cell_type": "code",
   "execution_count": 24,
   "outputs": [
    {
     "data": {
      "text/plain": "np.int64(95968)"
     },
     "execution_count": 24,
     "metadata": {},
     "output_type": "execute_result"
    }
   ],
   "source": [
    "fortune[fortune[\"Sector\"]==\"Apparel\"][\"Revenue\"].sum() #inefficient method for scalable measures"
   ],
   "metadata": {
    "collapsed": false,
    "ExecuteTime": {
     "end_time": "2025-04-15T08:04:58.728557800Z",
     "start_time": "2025-04-15T08:04:58.712366600Z"
    }
   },
   "id": "dd7fda57230a5f25"
  },
  {
   "cell_type": "code",
   "execution_count": 28,
   "outputs": [
    {
     "data": {
      "text/plain": "Sector\nAerospace & Defense             48402.850000\nApparel                         23093.133333\nBusiness Services               26687.254902\nChemicals                       15455.033333\nEnergy                           9745.303279\nEngineering & Construction      15642.615385\nFinancials                      24172.287770\nFood and Drug Stores            93026.533333\nFood, Beverages & Tobacco       28177.488372\nHealth Care                     35710.520000\nHotels, Resturants & Leisure    99369.800000\nHousehold Products              23072.785714\nIndustrials                     33591.934783\nMaterials                       14840.069767\nMedia                           22012.560000\nMotor Vehicles & Parts          45106.666667\nRetailing                       77845.362500\nTechnology                      35087.735294\nTelecommunications              55497.866667\nTransportation                  42688.694444\nWholesalers                     13139.925000\nName: Employees, dtype: float64"
     },
     "execution_count": 28,
     "metadata": {},
     "output_type": "execute_result"
    }
   ],
   "source": [
    "sectors[\"Profits\"].max() #maksymalna wartość dla danej grupy\n",
    "sectors[\"Profits\"].min() \n",
    "sectors[\"Employees\"].mean() \n",
    "\n"
   ],
   "metadata": {
    "collapsed": false,
    "ExecuteTime": {
     "end_time": "2025-04-15T08:07:48.648696100Z",
     "start_time": "2025-04-15T08:07:48.633294400Z"
    }
   },
   "id": "ca1bf3c4bd44f7ae"
  },
  {
   "cell_type": "code",
   "execution_count": 29,
   "outputs": [
    {
     "data": {
      "text/plain": "                              Revenue  Profits\nSector                                        \nAerospace & Defense            357940    28742\nApparel                         95968     8236\nBusiness Services              272195    28227\nChemicals                      243897    22628\nEnergy                        1517809   -73447\nEngineering & Construction     153983     5304\nFinancials                    2217159   260209\nFood and Drug Stores           483769    16759\nFood, Beverages & Tobacco      555967    51417\nHealth Care                   1614707   106114\nHotels, Resturants & Leisure   169546    20697\nHousehold Products             234737    14428\nIndustrials                    497581    20764\nMaterials                      259145     4428\nMedia                          220764    24347\nMotor Vehicles & Parts         482540    25898\nRetailing                     1465076    47830\nTechnology                    1377600   180473\nTelecommunications             461834    48637\nTransportation                 408508    44169\nWholesalers                    444800     8233",
      "text/html": "<div>\n<style scoped>\n    .dataframe tbody tr th:only-of-type {\n        vertical-align: middle;\n    }\n\n    .dataframe tbody tr th {\n        vertical-align: top;\n    }\n\n    .dataframe thead th {\n        text-align: right;\n    }\n</style>\n<table border=\"1\" class=\"dataframe\">\n  <thead>\n    <tr style=\"text-align: right;\">\n      <th></th>\n      <th>Revenue</th>\n      <th>Profits</th>\n    </tr>\n    <tr>\n      <th>Sector</th>\n      <th></th>\n      <th></th>\n    </tr>\n  </thead>\n  <tbody>\n    <tr>\n      <th>Aerospace &amp; Defense</th>\n      <td>357940</td>\n      <td>28742</td>\n    </tr>\n    <tr>\n      <th>Apparel</th>\n      <td>95968</td>\n      <td>8236</td>\n    </tr>\n    <tr>\n      <th>Business Services</th>\n      <td>272195</td>\n      <td>28227</td>\n    </tr>\n    <tr>\n      <th>Chemicals</th>\n      <td>243897</td>\n      <td>22628</td>\n    </tr>\n    <tr>\n      <th>Energy</th>\n      <td>1517809</td>\n      <td>-73447</td>\n    </tr>\n    <tr>\n      <th>Engineering &amp; Construction</th>\n      <td>153983</td>\n      <td>5304</td>\n    </tr>\n    <tr>\n      <th>Financials</th>\n      <td>2217159</td>\n      <td>260209</td>\n    </tr>\n    <tr>\n      <th>Food and Drug Stores</th>\n      <td>483769</td>\n      <td>16759</td>\n    </tr>\n    <tr>\n      <th>Food, Beverages &amp; Tobacco</th>\n      <td>555967</td>\n      <td>51417</td>\n    </tr>\n    <tr>\n      <th>Health Care</th>\n      <td>1614707</td>\n      <td>106114</td>\n    </tr>\n    <tr>\n      <th>Hotels, Resturants &amp; Leisure</th>\n      <td>169546</td>\n      <td>20697</td>\n    </tr>\n    <tr>\n      <th>Household Products</th>\n      <td>234737</td>\n      <td>14428</td>\n    </tr>\n    <tr>\n      <th>Industrials</th>\n      <td>497581</td>\n      <td>20764</td>\n    </tr>\n    <tr>\n      <th>Materials</th>\n      <td>259145</td>\n      <td>4428</td>\n    </tr>\n    <tr>\n      <th>Media</th>\n      <td>220764</td>\n      <td>24347</td>\n    </tr>\n    <tr>\n      <th>Motor Vehicles &amp; Parts</th>\n      <td>482540</td>\n      <td>25898</td>\n    </tr>\n    <tr>\n      <th>Retailing</th>\n      <td>1465076</td>\n      <td>47830</td>\n    </tr>\n    <tr>\n      <th>Technology</th>\n      <td>1377600</td>\n      <td>180473</td>\n    </tr>\n    <tr>\n      <th>Telecommunications</th>\n      <td>461834</td>\n      <td>48637</td>\n    </tr>\n    <tr>\n      <th>Transportation</th>\n      <td>408508</td>\n      <td>44169</td>\n    </tr>\n    <tr>\n      <th>Wholesalers</th>\n      <td>444800</td>\n      <td>8233</td>\n    </tr>\n  </tbody>\n</table>\n</div>"
     },
     "execution_count": 29,
     "metadata": {},
     "output_type": "execute_result"
    }
   ],
   "source": [
    "sectors[[\"Revenue\", \"Profits\"]].sum() "
   ],
   "metadata": {
    "collapsed": false,
    "ExecuteTime": {
     "end_time": "2025-04-15T08:09:03.717900900Z",
     "start_time": "2025-04-15T08:09:03.697661900Z"
    }
   },
   "id": "2b3644f727a5752e"
  },
  {
   "cell_type": "code",
   "execution_count": 30,
   "outputs": [
    {
     "data": {
      "text/plain": "   Rank             Company       Sector  \\\n0     1             Walmart    Retailing   \n1     2         Exxon Mobil       Energy   \n2     3               Apple   Technology   \n3     4  Berkshire Hathaway   Financials   \n4     5            McKesson  Health Care   \n\n                                   Industry  Revenue  Profits  Employees  \n0                     General Merchandisers   482130    14694    2300000  \n1                        Petroleum Refining   246204    16150      75600  \n2               Computers, Office Equipment   233715    53394     110000  \n3  Insurance: Property and Casualty (Stock)   210821    24083     331000  \n4                  Wholesalers: Health Care   181241     1476      70400  ",
      "text/html": "<div>\n<style scoped>\n    .dataframe tbody tr th:only-of-type {\n        vertical-align: middle;\n    }\n\n    .dataframe tbody tr th {\n        vertical-align: top;\n    }\n\n    .dataframe thead th {\n        text-align: right;\n    }\n</style>\n<table border=\"1\" class=\"dataframe\">\n  <thead>\n    <tr style=\"text-align: right;\">\n      <th></th>\n      <th>Rank</th>\n      <th>Company</th>\n      <th>Sector</th>\n      <th>Industry</th>\n      <th>Revenue</th>\n      <th>Profits</th>\n      <th>Employees</th>\n    </tr>\n  </thead>\n  <tbody>\n    <tr>\n      <th>0</th>\n      <td>1</td>\n      <td>Walmart</td>\n      <td>Retailing</td>\n      <td>General Merchandisers</td>\n      <td>482130</td>\n      <td>14694</td>\n      <td>2300000</td>\n    </tr>\n    <tr>\n      <th>1</th>\n      <td>2</td>\n      <td>Exxon Mobil</td>\n      <td>Energy</td>\n      <td>Petroleum Refining</td>\n      <td>246204</td>\n      <td>16150</td>\n      <td>75600</td>\n    </tr>\n    <tr>\n      <th>2</th>\n      <td>3</td>\n      <td>Apple</td>\n      <td>Technology</td>\n      <td>Computers, Office Equipment</td>\n      <td>233715</td>\n      <td>53394</td>\n      <td>110000</td>\n    </tr>\n    <tr>\n      <th>3</th>\n      <td>4</td>\n      <td>Berkshire Hathaway</td>\n      <td>Financials</td>\n      <td>Insurance: Property and Casualty (Stock)</td>\n      <td>210821</td>\n      <td>24083</td>\n      <td>331000</td>\n    </tr>\n    <tr>\n      <th>4</th>\n      <td>5</td>\n      <td>McKesson</td>\n      <td>Health Care</td>\n      <td>Wholesalers: Health Care</td>\n      <td>181241</td>\n      <td>1476</td>\n      <td>70400</td>\n    </tr>\n  </tbody>\n</table>\n</div>"
     },
     "execution_count": 30,
     "metadata": {},
     "output_type": "execute_result"
    }
   ],
   "source": [
    "sectors_combination=fortune.groupby([\"Sector\",\"Industry\"])\n",
    "fortune.head()"
   ],
   "metadata": {
    "collapsed": false,
    "ExecuteTime": {
     "end_time": "2025-04-15T08:11:11.993406300Z",
     "start_time": "2025-04-15T08:11:11.861452300Z"
    }
   },
   "id": "a8dbf2d4fb45e3f9"
  },
  {
   "cell_type": "code",
   "execution_count": 32,
   "outputs": [
    {
     "data": {
      "text/plain": "Sector               Industry                                     \nAerospace & Defense  Aerospace and Defense                            20\nApparel              Apparel                                          15\nBusiness Services    Advertising, marketing                            2\n                     Diversified Outsourcing Services                 14\n                     Education                                         3\n                                                                      ..\nTransportation       Trucking, Truck Leasing                           9\nWholesalers          Miscellaneous                                     1\n                     Wholesalers: Diversified                         25\n                     Wholesalers: Electronics and Office Equipment     8\n                     Wholesalers: Food and Grocery                     6\nLength: 79, dtype: int64"
     },
     "execution_count": 32,
     "metadata": {},
     "output_type": "execute_result"
    }
   ],
   "source": [
    "sectors_combination.size()"
   ],
   "metadata": {
    "collapsed": false,
    "ExecuteTime": {
     "end_time": "2025-04-15T08:11:52.373354200Z",
     "start_time": "2025-04-15T08:11:52.360284700Z"
    }
   },
   "id": "f0fdb4b406487af8"
  },
  {
   "cell_type": "code",
   "execution_count": 33,
   "outputs": [
    {
     "data": {
      "text/plain": "Sector               Industry                                     \nAerospace & Defense  Aerospace and Defense                            357940\nApparel              Apparel                                           95968\nBusiness Services    Advertising, marketing                            22748\n                     Diversified Outsourcing Services                  64829\n                     Education                                          7485\n                                                                       ...  \nTransportation       Trucking, Truck Leasing                           35950\nWholesalers          Miscellaneous                                      8982\n                     Wholesalers: Diversified                         176138\n                     Wholesalers: Electronics and Office Equipment    147906\n                     Wholesalers: Food and Grocery                    111774\nName: Revenue, Length: 79, dtype: int64"
     },
     "execution_count": 33,
     "metadata": {},
     "output_type": "execute_result"
    }
   ],
   "source": [
    "sectors_combination[\"Revenue\"].sum()"
   ],
   "metadata": {
    "collapsed": false,
    "ExecuteTime": {
     "end_time": "2025-04-15T08:13:12.691787300Z",
     "start_time": "2025-04-15T08:13:12.680135200Z"
    }
   },
   "id": "a853b62a287c42ea"
  },
  {
   "cell_type": "code",
   "execution_count": 37,
   "outputs": [
    {
     "data": {
      "text/plain": "Sector                      Industry                        \nAerospace & Defense         Aerospace and Defense                968057\nApparel                     Apparel                              346397\nBusiness Services           Advertising, marketing               124100\n                            Diversified Outsourcing Services     708330\n                            Education                             46755\n                            Financial Data Services              264926\n                            Miscellaneous                         37720\n                            Temporary Help                        60020\n                            Waste Management                     119199\nChemicals                   Chemicals                            463651\nEnergy                      Energy                                70072\n                            Mining, Crude-Oil Production         149110\n                            Miscellaneous                          6700\n                            Oil and Gas Equipment, Services      225795\n                            Petroleum Refining                   244880\n                            Pipelines                             72141\n                            Utilities: Gas and Electric          420229\nEngineering & Construction  Engineering, Construction            368104\n                            Homebuilders                          38604\nFinancials                  Commercial Banks                    1539024\nName: Employees, dtype: int64"
     },
     "execution_count": 37,
     "metadata": {},
     "output_type": "execute_result"
    }
   ],
   "source": [
    "sectors_combination[\"Employees\"].sum().head(20)"
   ],
   "metadata": {
    "collapsed": false,
    "ExecuteTime": {
     "end_time": "2025-04-15T08:15:51.957459800Z",
     "start_time": "2025-04-15T08:15:51.947682500Z"
    }
   },
   "id": "c9a1faf714f8b2ea"
  },
  {
   "cell_type": "code",
   "execution_count": 40,
   "outputs": [
    {
     "data": {
      "text/plain": "                              Revenue  Profits     Employees\nSector                                                      \nAerospace & Defense            357940     7608  48402.850000\nApparel                         95968     3273  23093.133333\nBusiness Services              272195     6328  26687.254902\nChemicals                      243897     7685  15455.033333\nEnergy                        1517809    16150   9745.303279\nEngineering & Construction     153983      803  15642.615385\nFinancials                    2217159    24442  24172.287770\nFood and Drug Stores           483769     5237  93026.533333\nFood, Beverages & Tobacco      555967     7351  28177.488372\nHealth Care                   1614707    18108  35710.520000\nHotels, Resturants & Leisure   169546     5920  99369.800000\nHousehold Products             234737     7036  23072.785714\nIndustrials                    497581     4833  33591.934783\nMaterials                      259145      991  14840.069767\nMedia                          220764     8382  22012.560000\nMotor Vehicles & Parts         482540     9687  45106.666667\nRetailing                     1465076    14694  77845.362500\nTechnology                    1377600    53394  35087.735294\nTelecommunications             461834    17879  55497.866667\nTransportation                 408508     7610  42688.694444\nWholesalers                    444800     1472  13139.925000",
      "text/html": "<div>\n<style scoped>\n    .dataframe tbody tr th:only-of-type {\n        vertical-align: middle;\n    }\n\n    .dataframe tbody tr th {\n        vertical-align: top;\n    }\n\n    .dataframe thead th {\n        text-align: right;\n    }\n</style>\n<table border=\"1\" class=\"dataframe\">\n  <thead>\n    <tr style=\"text-align: right;\">\n      <th></th>\n      <th>Revenue</th>\n      <th>Profits</th>\n      <th>Employees</th>\n    </tr>\n    <tr>\n      <th>Sector</th>\n      <th></th>\n      <th></th>\n      <th></th>\n    </tr>\n  </thead>\n  <tbody>\n    <tr>\n      <th>Aerospace &amp; Defense</th>\n      <td>357940</td>\n      <td>7608</td>\n      <td>48402.850000</td>\n    </tr>\n    <tr>\n      <th>Apparel</th>\n      <td>95968</td>\n      <td>3273</td>\n      <td>23093.133333</td>\n    </tr>\n    <tr>\n      <th>Business Services</th>\n      <td>272195</td>\n      <td>6328</td>\n      <td>26687.254902</td>\n    </tr>\n    <tr>\n      <th>Chemicals</th>\n      <td>243897</td>\n      <td>7685</td>\n      <td>15455.033333</td>\n    </tr>\n    <tr>\n      <th>Energy</th>\n      <td>1517809</td>\n      <td>16150</td>\n      <td>9745.303279</td>\n    </tr>\n    <tr>\n      <th>Engineering &amp; Construction</th>\n      <td>153983</td>\n      <td>803</td>\n      <td>15642.615385</td>\n    </tr>\n    <tr>\n      <th>Financials</th>\n      <td>2217159</td>\n      <td>24442</td>\n      <td>24172.287770</td>\n    </tr>\n    <tr>\n      <th>Food and Drug Stores</th>\n      <td>483769</td>\n      <td>5237</td>\n      <td>93026.533333</td>\n    </tr>\n    <tr>\n      <th>Food, Beverages &amp; Tobacco</th>\n      <td>555967</td>\n      <td>7351</td>\n      <td>28177.488372</td>\n    </tr>\n    <tr>\n      <th>Health Care</th>\n      <td>1614707</td>\n      <td>18108</td>\n      <td>35710.520000</td>\n    </tr>\n    <tr>\n      <th>Hotels, Resturants &amp; Leisure</th>\n      <td>169546</td>\n      <td>5920</td>\n      <td>99369.800000</td>\n    </tr>\n    <tr>\n      <th>Household Products</th>\n      <td>234737</td>\n      <td>7036</td>\n      <td>23072.785714</td>\n    </tr>\n    <tr>\n      <th>Industrials</th>\n      <td>497581</td>\n      <td>4833</td>\n      <td>33591.934783</td>\n    </tr>\n    <tr>\n      <th>Materials</th>\n      <td>259145</td>\n      <td>991</td>\n      <td>14840.069767</td>\n    </tr>\n    <tr>\n      <th>Media</th>\n      <td>220764</td>\n      <td>8382</td>\n      <td>22012.560000</td>\n    </tr>\n    <tr>\n      <th>Motor Vehicles &amp; Parts</th>\n      <td>482540</td>\n      <td>9687</td>\n      <td>45106.666667</td>\n    </tr>\n    <tr>\n      <th>Retailing</th>\n      <td>1465076</td>\n      <td>14694</td>\n      <td>77845.362500</td>\n    </tr>\n    <tr>\n      <th>Technology</th>\n      <td>1377600</td>\n      <td>53394</td>\n      <td>35087.735294</td>\n    </tr>\n    <tr>\n      <th>Telecommunications</th>\n      <td>461834</td>\n      <td>17879</td>\n      <td>55497.866667</td>\n    </tr>\n    <tr>\n      <th>Transportation</th>\n      <td>408508</td>\n      <td>7610</td>\n      <td>42688.694444</td>\n    </tr>\n    <tr>\n      <th>Wholesalers</th>\n      <td>444800</td>\n      <td>1472</td>\n      <td>13139.925000</td>\n    </tr>\n  </tbody>\n</table>\n</div>"
     },
     "execution_count": 40,
     "metadata": {},
     "output_type": "execute_result"
    }
   ],
   "source": [
    "sectors.agg({\"Revenue\":\"sum\",\"Profits\":\"max\",\"Employees\":\"mean\"}) #dict key: column, value: operation\n",
    "#the advantage is multiple operations"
   ],
   "metadata": {
    "collapsed": false,
    "ExecuteTime": {
     "end_time": "2025-04-15T08:18:33.675609500Z",
     "start_time": "2025-04-15T08:18:33.654524700Z"
    }
   },
   "id": "492e3299bd0a2fed"
  },
  {
   "cell_type": "code",
   "execution_count": 43,
   "outputs": [
    {
     "data": {
      "text/plain": "     Rank     Company                        Sector               Industry  \\\n0       1     Walmart                     Retailing  General Merchandisers   \n217   218  Yum Brands  Hotels, Resturants & Leisure          Food Services   \n\n     Revenue  Profits  Employees  \n0     482130    14694    2300000  \n217    13105     1293     505000  ",
      "text/html": "<div>\n<style scoped>\n    .dataframe tbody tr th:only-of-type {\n        vertical-align: middle;\n    }\n\n    .dataframe tbody tr th {\n        vertical-align: top;\n    }\n\n    .dataframe thead th {\n        text-align: right;\n    }\n</style>\n<table border=\"1\" class=\"dataframe\">\n  <thead>\n    <tr style=\"text-align: right;\">\n      <th></th>\n      <th>Rank</th>\n      <th>Company</th>\n      <th>Sector</th>\n      <th>Industry</th>\n      <th>Revenue</th>\n      <th>Profits</th>\n      <th>Employees</th>\n    </tr>\n  </thead>\n  <tbody>\n    <tr>\n      <th>0</th>\n      <td>1</td>\n      <td>Walmart</td>\n      <td>Retailing</td>\n      <td>General Merchandisers</td>\n      <td>482130</td>\n      <td>14694</td>\n      <td>2300000</td>\n    </tr>\n    <tr>\n      <th>217</th>\n      <td>218</td>\n      <td>Yum Brands</td>\n      <td>Hotels, Resturants &amp; Leisure</td>\n      <td>Food Services</td>\n      <td>13105</td>\n      <td>1293</td>\n      <td>505000</td>\n    </tr>\n  </tbody>\n</table>\n</div>"
     },
     "execution_count": 43,
     "metadata": {},
     "output_type": "execute_result"
    }
   ],
   "source": [
    "#apply invokes its arguement(some function) for each DF row\n",
    "#will invoke functions for each group\n",
    "\n",
    "#i want to find two companies in each sector with the most employees\n",
    "fortune.nlargest(2,\"Employees\") #2 larget values in emplioyees\n"
   ],
   "metadata": {
    "collapsed": false,
    "ExecuteTime": {
     "end_time": "2025-04-15T08:25:29.007257100Z",
     "start_time": "2025-04-15T08:25:28.987806Z"
    }
   },
   "id": "f5ca09d87598275"
  },
  {
   "cell_type": "code",
   "execution_count": 46,
   "outputs": [
    {
     "name": "stderr",
     "output_type": "stream",
     "text": [
      "C:\\Users\\deber\\AppData\\Local\\Temp\\ipykernel_13128\\3338076655.py:6: DeprecationWarning: DataFrameGroupBy.apply operated on the grouping columns. This behavior is deprecated, and in a future version of pandas the grouping columns will be excluded from the operation. Either pass `include_groups=False` to exclude the groupings or explicitly select the grouping columns after groupby to silence this warning.\n",
      "  sectors.apply(top_2_companies_by_employees)\n"
     ]
    },
    {
     "data": {
      "text/plain": "                                  Rank                   Company  \\\nSector                                                             \nAerospace & Defense          44     45       United Technologies   \n                             23     24                    Boeing   \nApparel                      447   448               Hanesbrands   \n                             230   231                        VF   \nBusiness Services            198   199                   Aramark   \n                             743   744                 Convergys   \nChemicals                    100   101                    DuPont   \n                             55     56              Dow Chemical   \nEnergy                       1       2               Exxon Mobil   \n                             116   117               Halliburton   \nEngineering & Construction   155   156                     AECOM   \n                             234   235  Jacobs Engineering Group   \nFinancials                   3       4        Berkshire Hathaway   \n                             26     27               Wells Fargo   \nFood and Drug Stores         16     17                    Kroger   \n                             18     19  Walgreens Boots Alliance   \nFood, Beverages & Tobacco    43     44                   PepsiCo   \n                             61     62                 Coca-Cola   \nHealth Care                  62     63              HCA Holdings   \n                             5       6        UnitedHealth Group   \nHotels, Resturants & Leisure 217   218                Yum Brands   \n                             108   109                McDonald’s   \nHousehold Products           33     34          Procter & Gamble   \n                             255   256    Stanley Black & Decker   \nIndustrials                  10     11          General Electric   \n                             74     75   Honeywell International   \nMaterials                    125   126                     Alcoa   \n                             126   127       International Paper   \nMedia                        52     53                    Disney   \n                             254   255     R.R. Donnelley & Sons   \nMotor Vehicles & Parts       7       8            General Motors   \n                             8       9                Ford Motor   \nRetailing                    0       1                   Walmart   \n                             27     28                Home Depot   \nTechnology                   30     31                       IBM   \n                             19     20                        HP   \nTelecommunications           9      10                      AT&T   \n                             12     13                   Verizon   \nTransportation               47     48                       UPS   \n                             57     58                     FedEx   \nWholesalers                  211   212                    Synnex   \n                             56     57                     Sysco   \n\n                                                        Sector  \\\nSector                                                           \nAerospace & Defense          44            Aerospace & Defense   \n                             23            Aerospace & Defense   \nApparel                      447                       Apparel   \n                             230                       Apparel   \nBusiness Services            198             Business Services   \n                             743             Business Services   \nChemicals                    100                     Chemicals   \n                             55                      Chemicals   \nEnergy                       1                          Energy   \n                             116                        Energy   \nEngineering & Construction   155    Engineering & Construction   \n                             234    Engineering & Construction   \nFinancials                   3                      Financials   \n                             26                     Financials   \nFood and Drug Stores         16           Food and Drug Stores   \n                             18           Food and Drug Stores   \nFood, Beverages & Tobacco    43      Food, Beverages & Tobacco   \n                             61      Food, Beverages & Tobacco   \nHealth Care                  62                    Health Care   \n                             5                     Health Care   \nHotels, Resturants & Leisure 217  Hotels, Resturants & Leisure   \n                             108  Hotels, Resturants & Leisure   \nHousehold Products           33             Household Products   \n                             255            Household Products   \nIndustrials                  10                    Industrials   \n                             74                    Industrials   \nMaterials                    125                     Materials   \n                             126                     Materials   \nMedia                        52                          Media   \n                             254                         Media   \nMotor Vehicles & Parts       7          Motor Vehicles & Parts   \n                             8          Motor Vehicles & Parts   \nRetailing                    0                       Retailing   \n                             27                      Retailing   \nTechnology                   30                     Technology   \n                             19                     Technology   \nTelecommunications           9              Telecommunications   \n                             12             Telecommunications   \nTransportation               47                 Transportation   \n                             57                 Transportation   \nWholesalers                  211                   Wholesalers   \n                             56                    Wholesalers   \n\n                                                                       Industry  \\\nSector                                                                            \nAerospace & Defense          44                           Aerospace and Defense   \n                             23                           Aerospace and Defense   \nApparel                      447                                        Apparel   \n                             230                                        Apparel   \nBusiness Services            198               Diversified Outsourcing Services   \n                             743               Diversified Outsourcing Services   \nChemicals                    100                                      Chemicals   \n                             55                                       Chemicals   \nEnergy                       1                               Petroleum Refining   \n                             116                Oil and Gas Equipment, Services   \nEngineering & Construction   155                      Engineering, Construction   \n                             234                      Engineering, Construction   \nFinancials                   3         Insurance: Property and Casualty (Stock)   \n                             26                                Commercial Banks   \nFood and Drug Stores         16                            Food and Drug Stores   \n                             18                            Food and Drug Stores   \nFood, Beverages & Tobacco    43                          Food Consumer Products   \n                             61                                       Beverages   \nHealth Care                  62                 Health Care: Medical Facilities   \n                             5          Health Care: Insurance and Managed Care   \nHotels, Resturants & Leisure 217                                  Food Services   \n                             108                                  Food Services   \nHousehold Products           33                 Household and Personal Products   \n                             255                    Home Equipment, Furnishings   \nIndustrials                  10                            Industrial Machinery   \n                             74                  Electronics, Electrical Equip.   \nMaterials                    125                                         Metals   \n                             126                          Packaging, Containers   \nMedia                        52                                   Entertainment   \n                             254                           Publishing, Printing   \nMotor Vehicles & Parts       7                         Motor Vehicles and Parts   \n                             8                         Motor Vehicles and Parts   \nRetailing                    0                            General Merchandisers   \n                             27                      Specialty Retailers: Other   \nTechnology                   30                 Information Technology Services   \n                             19                     Computers, Office Equipment   \nTelecommunications           9                               Telecommunications   \n                             12                              Telecommunications   \nTransportation               47             Mail, Package, and Freight Delivery   \n                             57             Mail, Package, and Freight Delivery   \nWholesalers                  211  Wholesalers: Electronics and Office Equipment   \n                             56                   Wholesalers: Food and Grocery   \n\n                                  Revenue  Profits  Employees  \nSector                                                         \nAerospace & Defense          44     61047     7608     197200  \n                             23     96114     5176     161400  \nApparel                      447     5732      429      65300  \n                             230    12377     1232      64000  \nBusiness Services            198    14329      236     216500  \n                             743     2951      169     130000  \nChemicals                    100    27940     1953      52000  \n                             55     48778     7685      49495  \nEnergy                       1     246204    16150      75600  \n                             116    23633     -671      65000  \nEngineering & Construction   155    17990     -155      92000  \n                             234    12115      303      56950  \nFinancials                   3     210821    24083     331000  \n                             26     90033    22894     264700  \nFood and Drug Stores         16    109830     2039     431000  \n                             18    103444     4220     302500  \nFood, Beverages & Tobacco    43     63056     5452     263000  \n                             61     44294     7351     123200  \nHealth Care                  62     43591     2129     203500  \n                             5     157107     5813     200000  \nHotels, Resturants & Leisure 217    13105     1293     505000  \n                             108    25413     4529     420000  \nHousehold Products           33     78756     7036     110000  \n                             255    11211      884      51250  \nIndustrials                  10    140389    -6126     333000  \n                             74     38581     4768     129000  \nMaterials                    125    22534     -322      60000  \n                             126    22365      938      56000  \nMedia                        52     52465     8382     185000  \n                             254    11257      151      68400  \nMotor Vehicles & Parts       7     152356     9687     215000  \n                             8     149558     7373     199000  \nRetailing                    0     482130    14694    2300000  \n                             27     88519     7009     385000  \nTechnology                   30     82461    13190     411798  \n                             19    103355     4554     287000  \nTelecommunications           9     146801    13345     281450  \n                             12    131620    17879     177700  \nTransportation               47     58363     4844     341240  \n                             57     47453     1050     323035  \nWholesalers                  211    13338      209      78500  \n                             56     48681      687      51700  ",
      "text/html": "<div>\n<style scoped>\n    .dataframe tbody tr th:only-of-type {\n        vertical-align: middle;\n    }\n\n    .dataframe tbody tr th {\n        vertical-align: top;\n    }\n\n    .dataframe thead th {\n        text-align: right;\n    }\n</style>\n<table border=\"1\" class=\"dataframe\">\n  <thead>\n    <tr style=\"text-align: right;\">\n      <th></th>\n      <th></th>\n      <th>Rank</th>\n      <th>Company</th>\n      <th>Sector</th>\n      <th>Industry</th>\n      <th>Revenue</th>\n      <th>Profits</th>\n      <th>Employees</th>\n    </tr>\n    <tr>\n      <th>Sector</th>\n      <th></th>\n      <th></th>\n      <th></th>\n      <th></th>\n      <th></th>\n      <th></th>\n      <th></th>\n      <th></th>\n    </tr>\n  </thead>\n  <tbody>\n    <tr>\n      <th rowspan=\"2\" valign=\"top\">Aerospace &amp; Defense</th>\n      <th>44</th>\n      <td>45</td>\n      <td>United Technologies</td>\n      <td>Aerospace &amp; Defense</td>\n      <td>Aerospace and Defense</td>\n      <td>61047</td>\n      <td>7608</td>\n      <td>197200</td>\n    </tr>\n    <tr>\n      <th>23</th>\n      <td>24</td>\n      <td>Boeing</td>\n      <td>Aerospace &amp; Defense</td>\n      <td>Aerospace and Defense</td>\n      <td>96114</td>\n      <td>5176</td>\n      <td>161400</td>\n    </tr>\n    <tr>\n      <th rowspan=\"2\" valign=\"top\">Apparel</th>\n      <th>447</th>\n      <td>448</td>\n      <td>Hanesbrands</td>\n      <td>Apparel</td>\n      <td>Apparel</td>\n      <td>5732</td>\n      <td>429</td>\n      <td>65300</td>\n    </tr>\n    <tr>\n      <th>230</th>\n      <td>231</td>\n      <td>VF</td>\n      <td>Apparel</td>\n      <td>Apparel</td>\n      <td>12377</td>\n      <td>1232</td>\n      <td>64000</td>\n    </tr>\n    <tr>\n      <th rowspan=\"2\" valign=\"top\">Business Services</th>\n      <th>198</th>\n      <td>199</td>\n      <td>Aramark</td>\n      <td>Business Services</td>\n      <td>Diversified Outsourcing Services</td>\n      <td>14329</td>\n      <td>236</td>\n      <td>216500</td>\n    </tr>\n    <tr>\n      <th>743</th>\n      <td>744</td>\n      <td>Convergys</td>\n      <td>Business Services</td>\n      <td>Diversified Outsourcing Services</td>\n      <td>2951</td>\n      <td>169</td>\n      <td>130000</td>\n    </tr>\n    <tr>\n      <th rowspan=\"2\" valign=\"top\">Chemicals</th>\n      <th>100</th>\n      <td>101</td>\n      <td>DuPont</td>\n      <td>Chemicals</td>\n      <td>Chemicals</td>\n      <td>27940</td>\n      <td>1953</td>\n      <td>52000</td>\n    </tr>\n    <tr>\n      <th>55</th>\n      <td>56</td>\n      <td>Dow Chemical</td>\n      <td>Chemicals</td>\n      <td>Chemicals</td>\n      <td>48778</td>\n      <td>7685</td>\n      <td>49495</td>\n    </tr>\n    <tr>\n      <th rowspan=\"2\" valign=\"top\">Energy</th>\n      <th>1</th>\n      <td>2</td>\n      <td>Exxon Mobil</td>\n      <td>Energy</td>\n      <td>Petroleum Refining</td>\n      <td>246204</td>\n      <td>16150</td>\n      <td>75600</td>\n    </tr>\n    <tr>\n      <th>116</th>\n      <td>117</td>\n      <td>Halliburton</td>\n      <td>Energy</td>\n      <td>Oil and Gas Equipment, Services</td>\n      <td>23633</td>\n      <td>-671</td>\n      <td>65000</td>\n    </tr>\n    <tr>\n      <th rowspan=\"2\" valign=\"top\">Engineering &amp; Construction</th>\n      <th>155</th>\n      <td>156</td>\n      <td>AECOM</td>\n      <td>Engineering &amp; Construction</td>\n      <td>Engineering, Construction</td>\n      <td>17990</td>\n      <td>-155</td>\n      <td>92000</td>\n    </tr>\n    <tr>\n      <th>234</th>\n      <td>235</td>\n      <td>Jacobs Engineering Group</td>\n      <td>Engineering &amp; Construction</td>\n      <td>Engineering, Construction</td>\n      <td>12115</td>\n      <td>303</td>\n      <td>56950</td>\n    </tr>\n    <tr>\n      <th rowspan=\"2\" valign=\"top\">Financials</th>\n      <th>3</th>\n      <td>4</td>\n      <td>Berkshire Hathaway</td>\n      <td>Financials</td>\n      <td>Insurance: Property and Casualty (Stock)</td>\n      <td>210821</td>\n      <td>24083</td>\n      <td>331000</td>\n    </tr>\n    <tr>\n      <th>26</th>\n      <td>27</td>\n      <td>Wells Fargo</td>\n      <td>Financials</td>\n      <td>Commercial Banks</td>\n      <td>90033</td>\n      <td>22894</td>\n      <td>264700</td>\n    </tr>\n    <tr>\n      <th rowspan=\"2\" valign=\"top\">Food and Drug Stores</th>\n      <th>16</th>\n      <td>17</td>\n      <td>Kroger</td>\n      <td>Food and Drug Stores</td>\n      <td>Food and Drug Stores</td>\n      <td>109830</td>\n      <td>2039</td>\n      <td>431000</td>\n    </tr>\n    <tr>\n      <th>18</th>\n      <td>19</td>\n      <td>Walgreens Boots Alliance</td>\n      <td>Food and Drug Stores</td>\n      <td>Food and Drug Stores</td>\n      <td>103444</td>\n      <td>4220</td>\n      <td>302500</td>\n    </tr>\n    <tr>\n      <th rowspan=\"2\" valign=\"top\">Food, Beverages &amp; Tobacco</th>\n      <th>43</th>\n      <td>44</td>\n      <td>PepsiCo</td>\n      <td>Food, Beverages &amp; Tobacco</td>\n      <td>Food Consumer Products</td>\n      <td>63056</td>\n      <td>5452</td>\n      <td>263000</td>\n    </tr>\n    <tr>\n      <th>61</th>\n      <td>62</td>\n      <td>Coca-Cola</td>\n      <td>Food, Beverages &amp; Tobacco</td>\n      <td>Beverages</td>\n      <td>44294</td>\n      <td>7351</td>\n      <td>123200</td>\n    </tr>\n    <tr>\n      <th rowspan=\"2\" valign=\"top\">Health Care</th>\n      <th>62</th>\n      <td>63</td>\n      <td>HCA Holdings</td>\n      <td>Health Care</td>\n      <td>Health Care: Medical Facilities</td>\n      <td>43591</td>\n      <td>2129</td>\n      <td>203500</td>\n    </tr>\n    <tr>\n      <th>5</th>\n      <td>6</td>\n      <td>UnitedHealth Group</td>\n      <td>Health Care</td>\n      <td>Health Care: Insurance and Managed Care</td>\n      <td>157107</td>\n      <td>5813</td>\n      <td>200000</td>\n    </tr>\n    <tr>\n      <th rowspan=\"2\" valign=\"top\">Hotels, Resturants &amp; Leisure</th>\n      <th>217</th>\n      <td>218</td>\n      <td>Yum Brands</td>\n      <td>Hotels, Resturants &amp; Leisure</td>\n      <td>Food Services</td>\n      <td>13105</td>\n      <td>1293</td>\n      <td>505000</td>\n    </tr>\n    <tr>\n      <th>108</th>\n      <td>109</td>\n      <td>McDonald’s</td>\n      <td>Hotels, Resturants &amp; Leisure</td>\n      <td>Food Services</td>\n      <td>25413</td>\n      <td>4529</td>\n      <td>420000</td>\n    </tr>\n    <tr>\n      <th rowspan=\"2\" valign=\"top\">Household Products</th>\n      <th>33</th>\n      <td>34</td>\n      <td>Procter &amp; Gamble</td>\n      <td>Household Products</td>\n      <td>Household and Personal Products</td>\n      <td>78756</td>\n      <td>7036</td>\n      <td>110000</td>\n    </tr>\n    <tr>\n      <th>255</th>\n      <td>256</td>\n      <td>Stanley Black &amp; Decker</td>\n      <td>Household Products</td>\n      <td>Home Equipment, Furnishings</td>\n      <td>11211</td>\n      <td>884</td>\n      <td>51250</td>\n    </tr>\n    <tr>\n      <th rowspan=\"2\" valign=\"top\">Industrials</th>\n      <th>10</th>\n      <td>11</td>\n      <td>General Electric</td>\n      <td>Industrials</td>\n      <td>Industrial Machinery</td>\n      <td>140389</td>\n      <td>-6126</td>\n      <td>333000</td>\n    </tr>\n    <tr>\n      <th>74</th>\n      <td>75</td>\n      <td>Honeywell International</td>\n      <td>Industrials</td>\n      <td>Electronics, Electrical Equip.</td>\n      <td>38581</td>\n      <td>4768</td>\n      <td>129000</td>\n    </tr>\n    <tr>\n      <th rowspan=\"2\" valign=\"top\">Materials</th>\n      <th>125</th>\n      <td>126</td>\n      <td>Alcoa</td>\n      <td>Materials</td>\n      <td>Metals</td>\n      <td>22534</td>\n      <td>-322</td>\n      <td>60000</td>\n    </tr>\n    <tr>\n      <th>126</th>\n      <td>127</td>\n      <td>International Paper</td>\n      <td>Materials</td>\n      <td>Packaging, Containers</td>\n      <td>22365</td>\n      <td>938</td>\n      <td>56000</td>\n    </tr>\n    <tr>\n      <th rowspan=\"2\" valign=\"top\">Media</th>\n      <th>52</th>\n      <td>53</td>\n      <td>Disney</td>\n      <td>Media</td>\n      <td>Entertainment</td>\n      <td>52465</td>\n      <td>8382</td>\n      <td>185000</td>\n    </tr>\n    <tr>\n      <th>254</th>\n      <td>255</td>\n      <td>R.R. Donnelley &amp; Sons</td>\n      <td>Media</td>\n      <td>Publishing, Printing</td>\n      <td>11257</td>\n      <td>151</td>\n      <td>68400</td>\n    </tr>\n    <tr>\n      <th rowspan=\"2\" valign=\"top\">Motor Vehicles &amp; Parts</th>\n      <th>7</th>\n      <td>8</td>\n      <td>General Motors</td>\n      <td>Motor Vehicles &amp; Parts</td>\n      <td>Motor Vehicles and Parts</td>\n      <td>152356</td>\n      <td>9687</td>\n      <td>215000</td>\n    </tr>\n    <tr>\n      <th>8</th>\n      <td>9</td>\n      <td>Ford Motor</td>\n      <td>Motor Vehicles &amp; Parts</td>\n      <td>Motor Vehicles and Parts</td>\n      <td>149558</td>\n      <td>7373</td>\n      <td>199000</td>\n    </tr>\n    <tr>\n      <th rowspan=\"2\" valign=\"top\">Retailing</th>\n      <th>0</th>\n      <td>1</td>\n      <td>Walmart</td>\n      <td>Retailing</td>\n      <td>General Merchandisers</td>\n      <td>482130</td>\n      <td>14694</td>\n      <td>2300000</td>\n    </tr>\n    <tr>\n      <th>27</th>\n      <td>28</td>\n      <td>Home Depot</td>\n      <td>Retailing</td>\n      <td>Specialty Retailers: Other</td>\n      <td>88519</td>\n      <td>7009</td>\n      <td>385000</td>\n    </tr>\n    <tr>\n      <th rowspan=\"2\" valign=\"top\">Technology</th>\n      <th>30</th>\n      <td>31</td>\n      <td>IBM</td>\n      <td>Technology</td>\n      <td>Information Technology Services</td>\n      <td>82461</td>\n      <td>13190</td>\n      <td>411798</td>\n    </tr>\n    <tr>\n      <th>19</th>\n      <td>20</td>\n      <td>HP</td>\n      <td>Technology</td>\n      <td>Computers, Office Equipment</td>\n      <td>103355</td>\n      <td>4554</td>\n      <td>287000</td>\n    </tr>\n    <tr>\n      <th rowspan=\"2\" valign=\"top\">Telecommunications</th>\n      <th>9</th>\n      <td>10</td>\n      <td>AT&amp;T</td>\n      <td>Telecommunications</td>\n      <td>Telecommunications</td>\n      <td>146801</td>\n      <td>13345</td>\n      <td>281450</td>\n    </tr>\n    <tr>\n      <th>12</th>\n      <td>13</td>\n      <td>Verizon</td>\n      <td>Telecommunications</td>\n      <td>Telecommunications</td>\n      <td>131620</td>\n      <td>17879</td>\n      <td>177700</td>\n    </tr>\n    <tr>\n      <th rowspan=\"2\" valign=\"top\">Transportation</th>\n      <th>47</th>\n      <td>48</td>\n      <td>UPS</td>\n      <td>Transportation</td>\n      <td>Mail, Package, and Freight Delivery</td>\n      <td>58363</td>\n      <td>4844</td>\n      <td>341240</td>\n    </tr>\n    <tr>\n      <th>57</th>\n      <td>58</td>\n      <td>FedEx</td>\n      <td>Transportation</td>\n      <td>Mail, Package, and Freight Delivery</td>\n      <td>47453</td>\n      <td>1050</td>\n      <td>323035</td>\n    </tr>\n    <tr>\n      <th rowspan=\"2\" valign=\"top\">Wholesalers</th>\n      <th>211</th>\n      <td>212</td>\n      <td>Synnex</td>\n      <td>Wholesalers</td>\n      <td>Wholesalers: Electronics and Office Equipment</td>\n      <td>13338</td>\n      <td>209</td>\n      <td>78500</td>\n    </tr>\n    <tr>\n      <th>56</th>\n      <td>57</td>\n      <td>Sysco</td>\n      <td>Wholesalers</td>\n      <td>Wholesalers: Food and Grocery</td>\n      <td>48681</td>\n      <td>687</td>\n      <td>51700</td>\n    </tr>\n  </tbody>\n</table>\n</div>"
     },
     "execution_count": 46,
     "metadata": {},
     "output_type": "execute_result"
    }
   ],
   "source": [
    "#or...\n",
    "def top_2_companies_by_employees(sector): #f. apply przekaze cala jedna grupe do tej funkcji\n",
    "    #sector is each sector in sequence\n",
    "    return sector.nlargest(2,\"Employees\")\n",
    "#apply will invoke function once for each group\n",
    "sectors.apply(top_2_companies_by_employees)"
   ],
   "metadata": {
    "collapsed": false,
    "ExecuteTime": {
     "end_time": "2025-04-15T08:31:23.325104400Z",
     "start_time": "2025-04-15T08:31:23.285782800Z"
    }
   },
   "id": "9455dad850a67919"
  }
 ],
 "metadata": {
  "kernelspec": {
   "display_name": "Python 3",
   "language": "python",
   "name": "python3"
  },
  "language_info": {
   "codemirror_mode": {
    "name": "ipython",
    "version": 2
   },
   "file_extension": ".py",
   "mimetype": "text/x-python",
   "name": "python",
   "nbconvert_exporter": "python",
   "pygments_lexer": "ipython2",
   "version": "2.7.6"
  }
 },
 "nbformat": 4,
 "nbformat_minor": 5
}
